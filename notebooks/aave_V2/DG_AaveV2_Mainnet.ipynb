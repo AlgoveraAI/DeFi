{
  "cells": [
    {
      "cell_type": "markdown",
      "metadata": {
        "id": "FkXIgogoFLUV"
      },
      "source": [
        "# Aave Subgraphs\n",
        "https://github.com/aave/protocol-subgraphs"
      ]
    },
    {
      "cell_type": "markdown",
      "metadata": {
        "id": "ZKAwY38TFcZ7"
      },
      "source": [
        "# Imports"
      ]
    },
    {
      "cell_type": "code",
      "execution_count": 1,
      "metadata": {
        "colab": {
          "base_uri": "https://localhost:8080/"
        },
        "id": "vwp81UQ9YKS6",
        "outputId": "d4b788d1-da25-4af8-e464-0d80fe5c12b6"
      },
      "outputs": [
        {
          "output_type": "stream",
          "name": "stdout",
          "text": [
            "Mounted at /content/drive\n"
          ]
        }
      ],
      "source": [
        "from google.colab import drive\n",
        "drive.mount('/content/drive')"
      ]
    },
    {
      "cell_type": "code",
      "execution_count": 2,
      "metadata": {
        "id": "FzWyM0uvYWBq"
      },
      "outputs": [],
      "source": [
        "from pathlib import Path\n",
        "\n",
        "path = Path('/content/drive/MyDrive/colab_notebooks/algovera/defi')"
      ]
    },
    {
      "cell_type": "code",
      "execution_count": 3,
      "metadata": {
        "id": "UlEH62oCYZfd"
      },
      "outputs": [],
      "source": [
        "import json\n",
        "\n",
        "with open(path/\"DataGathering/creds.json\") as f:\n",
        "\n",
        "\n",
        "    creds = json.loads(f.read())[\"ethkey\"]"
      ]
    },
    {
      "cell_type": "markdown",
      "metadata": {
        "id": "elyfsk03FR3g"
      },
      "source": [
        "# API Calls"
      ]
    },
    {
      "cell_type": "code",
      "execution_count": 4,
      "metadata": {
        "id": "H6f_4NkYZLfT"
      },
      "outputs": [],
      "source": [
        "import json\n",
        "from datetime import datetime, timedelta, timezone\n",
        "from tqdm import tqdm\n",
        "import pandas as pd\n",
        "import requests\n",
        "from requests.adapters import HTTPAdapter\n",
        "from urllib3.util.retry import Retry\n",
        "\n",
        "\n",
        "# Turn timestamp into block number\n",
        "def get_block(s: requests.Session, timestamp: int) -> str:\n",
        "    ETHERSCAN_KEY = ''\n",
        "    ETHERSCAN_KEY_API_URL = f'https://api.etherscan.io/api?module=block&action=getblocknobytime&timestamp={timestamp}&closest=before&apikey={creds}'\n",
        "\n",
        "    block_response = s.request('GET', ETHERSCAN_KEY_API_URL)\n",
        "    block = block_response.json()['result']\n",
        "\n",
        "    return block\n",
        "\n",
        "#https://api.thegraph.com/subgraphs/name/aave/protocol-v2\n",
        "#https://api.thegraph.com/subgraphs/name/aave/aave-v2-matic\n",
        "\n",
        "\n",
        "\n",
        "def aave_scraper(dt):\n",
        "\n",
        "    aaveV2_api_url = 'https://api.thegraph.com/subgraphs/name/aave/protocol-v2'\n",
        "\n",
        "    retries = Retry(total=5, backoff_factor=2, status_forcelist=[429, 502, 503, 504])\n",
        "    s = requests.Session()\n",
        "    s.mount('https://', HTTPAdapter(max_retries=retries))\n",
        "    headers = {'Content-Type': 'application/json', 'Accept': 'application/json'}\n",
        "\n",
        "\n",
        "    block = get_block(s, int(dt))\n",
        "    body_AAVE = {\n",
        "        \"query\": \"{ reserves (first: 100,block: {number: %s})  { id symbol aEmissionPerSecond decimals totalATokenSupply price {priceInEth}\"\n",
        "                    \" vEmissionPerSecond pool {id} totalCurrentVariableDebt utilizationRate totalLiquidity liquidityRate variableBorrowRate availableLiquidity}}\" % block}\n",
        "    aave_json_file = json.dumps(body_AAVE)\n",
        "    response = s.request('POST', aaveV2_api_url, headers=headers, data=aave_json_file)\n",
        "\n",
        "    return response\n"
      ]
    },
    {
      "cell_type": "markdown",
      "metadata": {
        "id": "sm0PMQalFUYD"
      },
      "source": [
        "# Time Range"
      ]
    },
    {
      "cell_type": "code",
      "source": [
        "t = int(datetime.timestamp(datetime.now()));t"
      ],
      "metadata": {
        "colab": {
          "base_uri": "https://localhost:8080/"
        },
        "id": "aoc0xt9eKHP5",
        "outputId": "6f967504-6ade-4c5b-cfd0-522505cf5cbb"
      },
      "execution_count": 21,
      "outputs": [
        {
          "output_type": "execute_result",
          "data": {
            "text/plain": [
              "1655885309"
            ]
          },
          "metadata": {},
          "execution_count": 21
        }
      ]
    },
    {
      "cell_type": "code",
      "execution_count": 7,
      "metadata": {
        "id": "xhH_1e71buYL"
      },
      "outputs": [],
      "source": [
        "import pandas as pd\n",
        "\n",
        "date = datetime.fromtimestamp(1652207400, tz=timezone.utc)\n",
        "end_date = datetime.fromtimestamp(t, tz=timezone.utc)\n",
        "\n",
        "dates = pd.date_range(date,end_date,freq=\"30T\")\n",
        "\n",
        "timestamps = [pd.Timestamp(d).timestamp() for d in dates]"
      ]
    },
    {
      "cell_type": "code",
      "source": [
        "len(timestamps)"
      ],
      "metadata": {
        "colab": {
          "base_uri": "https://localhost:8080/"
        },
        "id": "v-3-ErJ1KoDL",
        "outputId": "59b50f8a-ffb8-4292-ef84-25e95a3ea1fa"
      },
      "execution_count": 8,
      "outputs": [
        {
          "output_type": "execute_result",
          "data": {
            "text/plain": [
              "2041"
            ]
          },
          "metadata": {},
          "execution_count": 8
        }
      ]
    },
    {
      "cell_type": "markdown",
      "metadata": {
        "id": "COpxjQztFXwq"
      },
      "source": [
        "# Main Loop"
      ]
    },
    {
      "cell_type": "code",
      "execution_count": 14,
      "metadata": {
        "id": "zkw3l8h0ZoX3"
      },
      "outputs": [],
      "source": [
        "coins_id = {'TUSD': 'true-usd', 'DAI': 'dai', 'USDC': 'usd-coin', 'USDT': 'tether', 'WETH': 'weth'}\n",
        "\n",
        "def fetch_data(timestamps):\n",
        "    for d in tqdm(timestamps):\n",
        "\n",
        "        data = list()\n",
        "        kickout = list()\n",
        "\n",
        "        response = aave_scraper(d)\n",
        "\n",
        "        try:\n",
        "\n",
        "            for token in response.json()['data']['reserves']:\n",
        "\n",
        "                    data.append(token)\n",
        "\n",
        "\n",
        "            df = pd.DataFrame(data)\n",
        "            \n",
        "            df[\"timestamp\"] = int(d)\n",
        "\n",
        "            df.to_csv(path/f\"DataGathering/aaveV2/aave_mainnet_May-June22/{int(d)}_aave.csv\",index=False)\n",
        "\n",
        "        except KeyError:\n",
        "            kickout.append(d)\n",
        "\n",
        "    return kickout\n"
      ]
    },
    {
      "cell_type": "code",
      "source": [
        "kickout = [True]\n",
        "i = 0\n",
        "while kickout:\n",
        "\n",
        "    if not kickout:\n",
        "        kickout = fetch_data(kickout)\n",
        "    else:\n",
        "        kickout = fetch_data(timestamps)\n",
        "\n",
        "    print(len(kickout))\n",
        "    i+=1"
      ],
      "metadata": {
        "colab": {
          "base_uri": "https://localhost:8080/"
        },
        "id": "NO2dAbUkK_jF",
        "outputId": "24bbecd4-9dcc-4667-e546-50bd64af1cb0"
      },
      "execution_count": 16,
      "outputs": [
        {
          "output_type": "stream",
          "name": "stderr",
          "text": [
            "100%|██████████| 2041/2041 [20:52<00:00,  1.63it/s]"
          ]
        },
        {
          "output_type": "stream",
          "name": "stdout",
          "text": [
            "0\n"
          ]
        },
        {
          "output_type": "stream",
          "name": "stderr",
          "text": [
            "\n"
          ]
        }
      ]
    },
    {
      "cell_type": "code",
      "source": [
        "t"
      ],
      "metadata": {
        "colab": {
          "base_uri": "https://localhost:8080/"
        },
        "id": "zHp67IKJc_4Q",
        "outputId": "dc509343-c401-4447-f02c-bad45d7e8999"
      },
      "execution_count": 18,
      "outputs": [
        {
          "output_type": "execute_result",
          "data": {
            "text/plain": [
              "1655880441.461917"
            ]
          },
          "metadata": {},
          "execution_count": 18
        }
      ]
    },
    {
      "cell_type": "code",
      "source": [
        "1655879400-1655885309"
      ],
      "metadata": {
        "colab": {
          "base_uri": "https://localhost:8080/"
        },
        "id": "ZidrRwnzSp7I",
        "outputId": "5ddbe771-50df-4f23-86b5-1d63c605015c"
      },
      "execution_count": 23,
      "outputs": [
        {
          "output_type": "execute_result",
          "data": {
            "text/plain": [
              "-5909"
            ]
          },
          "metadata": {},
          "execution_count": 23
        }
      ]
    },
    {
      "cell_type": "code",
      "source": [
        ""
      ],
      "metadata": {
        "id": "sU7eCK0wc8JZ"
      },
      "execution_count": null,
      "outputs": []
    }
  ],
  "metadata": {
    "colab": {
      "background_execution": "on",
      "collapsed_sections": [],
      "machine_shape": "hm",
      "name": "DG_AaveV2_Mainnet.ipynb",
      "provenance": []
    },
    "kernelspec": {
      "display_name": "Python 3",
      "name": "python3"
    },
    "language_info": {
      "name": "python"
    }
  },
  "nbformat": 4,
  "nbformat_minor": 0
}