{
  "cells": [
    {
      "cell_type": "markdown",
      "metadata": {
        "id": "7RP6VC7XO4w_"
      },
      "source": [
        "In this notebook,\n",
        "- convert to daily data\n",
        "- Use VG's strategy - to predict lowest borrow rate for a given time\n",
        "- Start with basic models "
      ]
    },
    {
      "cell_type": "markdown",
      "metadata": {
        "id": "hEutfQT2C0Dm"
      },
      "source": [
        "# Install Libraries and imports"
      ]
    },
    {
      "cell_type": "code",
      "execution_count": 37,
      "metadata": {
        "id": "UQB1u844B1O3"
      },
      "outputs": [],
      "source": [
        "!pip install fastai -Uqq\n",
        "!pip install -Uqq fastbook kaggle waterfallcharts treeinterpreter dtreeviz -Uqq"
      ]
    },
    {
      "cell_type": "code",
      "execution_count": 38,
      "metadata": {
        "id": "F7CG5XgSC3_l"
      },
      "outputs": [],
      "source": [
        "from fastai.tabular.all import *\n",
        "import seaborn as sns\n",
        "from tqdm import tqdm\n",
        "from sklearn.metrics import r2_score\n",
        "from torch.utils.data import Dataset\n",
        "from dtreeviz.trees import *\n",
        "\n",
        "from sklearn.preprocessing import StandardScaler, LabelEncoder\n",
        "from sklearn.metrics import ConfusionMatrixDisplay,confusion_matrix\n",
        "from sklearn.ensemble import AdaBoostClassifier, GradientBoostingClassifier, RandomForestClassifier\n",
        "from sklearn.model_selection import train_test_split"
      ]
    },
    {
      "cell_type": "code",
      "source": [
        "RANDOM_STATE = 42"
      ],
      "metadata": {
        "id": "yBtp7W_hnc6X"
      },
      "execution_count": 39,
      "outputs": []
    },
    {
      "cell_type": "markdown",
      "metadata": {
        "id": "re2UnGQiC6PF"
      },
      "source": [
        "# Google Drive"
      ]
    },
    {
      "cell_type": "code",
      "execution_count": 40,
      "metadata": {
        "colab": {
          "base_uri": "https://localhost:8080/"
        },
        "id": "KAuBPc_hC4-B",
        "outputId": "273428fb-db15-4c7f-b563-46945c719b86"
      },
      "outputs": [
        {
          "output_type": "stream",
          "name": "stdout",
          "text": [
            "Drive already mounted at /content/drive; to attempt to forcibly remount, call drive.mount(\"/content/drive\", force_remount=True).\n"
          ]
        }
      ],
      "source": [
        "from google.colab import drive\n",
        "drive.mount('/content/drive')"
      ]
    },
    {
      "cell_type": "code",
      "execution_count": 41,
      "metadata": {
        "id": "UENKSyqgC-Jb"
      },
      "outputs": [],
      "source": [
        "path = Path('/content/drive/MyDrive/colab_notebooks/algovera/defi')"
      ]
    },
    {
      "cell_type": "markdown",
      "metadata": {
        "id": "hfHYyEpOC9HT"
      },
      "source": [
        "# Preparing the data"
      ]
    },
    {
      "cell_type": "code",
      "execution_count": 42,
      "metadata": {
        "colab": {
          "base_uri": "https://localhost:8080/"
        },
        "id": "5lZIJkbIC7p6",
        "outputId": "88d832de-78f5-47e8-8ec4-ab4db06108ef"
      },
      "outputs": [
        {
          "output_type": "execute_result",
          "data": {
            "text/plain": [
              "array(['DAI', 'USDC', 'USDT', 'ETH'], dtype=object)"
            ]
          },
          "metadata": {},
          "execution_count": 42
        }
      ],
      "source": [
        "df = pd.read_csv(path/'compound.csv')\n",
        "df[\"Date\"] = pd.to_datetime(df[\"Timestamp\"], unit='s', origin='unix')\n",
        "\n",
        "tokens = df[\"Token\"].unique()\n",
        "tokens"
      ]
    },
    {
      "cell_type": "code",
      "execution_count": 43,
      "metadata": {
        "id": "GR_C0qhjDIZg"
      },
      "outputs": [],
      "source": [
        "df = df.drop_duplicates(['Timestamp', 'Token'])\n",
        "counts = pd.DataFrame(df['Timestamp'].value_counts()).reset_index()\n",
        "counts.columns = ['Timestamp', 'Counts']\n",
        "df = df.merge(counts, on='Timestamp')"
      ]
    },
    {
      "cell_type": "code",
      "execution_count": 44,
      "metadata": {
        "id": "S-zRVOK7DRDv"
      },
      "outputs": [],
      "source": [
        "df = df[df['Counts'] == 4].reset_index(drop=True).drop('Counts', axis=1)"
      ]
    },
    {
      "cell_type": "code",
      "source": [
        "df[\"Date\"].min(),df[\"Date\"].max()"
      ],
      "metadata": {
        "colab": {
          "base_uri": "https://localhost:8080/"
        },
        "id": "JR9PVcuqCJ-E",
        "outputId": "f9a59e6b-6b98-482c-aadb-83a7f1a6fe65"
      },
      "execution_count": 55,
      "outputs": [
        {
          "output_type": "execute_result",
          "data": {
            "text/plain": [
              "(Timestamp('2021-01-01 03:30:00'), Timestamp('2021-12-14 18:30:00'))"
            ]
          },
          "metadata": {},
          "execution_count": 55
        }
      ]
    },
    {
      "cell_type": "code",
      "execution_count": 45,
      "metadata": {
        "id": "OH3FaWIjDSF1"
      },
      "outputs": [],
      "source": [
        "df1 = pd.DataFrame()\n",
        "for tok in tokens:\n",
        "    df_tok = df[df['Token']==tok]\n",
        "    df_tok = df_tok.drop(['Token', 'Date'], axis=1)\n",
        "\n",
        "    col_names = []\n",
        "    for col in df_tok.columns:\n",
        "        if col == 'Timestamp':\n",
        "            col_names.append(f'{col}')\n",
        "        else:\n",
        "            col_names.append(f'{tok}_{col}')\n",
        "        \n",
        "    df_tok.columns = col_names\n",
        "    #df_tok = df_tok.set_index('Timestamp', drop=True)\n",
        "    \n",
        "    if df1.empty:\n",
        "        df1 = df_tok\n",
        "    else:\n",
        "        df1 = pd.merge(df1, df_tok, on='Timestamp')"
      ]
    },
    {
      "cell_type": "code",
      "execution_count": 46,
      "metadata": {
        "id": "ZcisokmCDTTc"
      },
      "outputs": [],
      "source": [
        "df1.sort_values('Timestamp', inplace=True)\n",
        "df1[\"Date\"] = pd.to_datetime(df1[\"Timestamp\"], unit='s', origin='unix')"
      ]
    },
    {
      "cell_type": "code",
      "execution_count": 47,
      "metadata": {
        "colab": {
          "base_uri": "https://localhost:8080/",
          "height": 461
        },
        "id": "uK1Ro3v4DrqK",
        "outputId": "574f9c3a-80d3-4232-eeca-78348241f3fa"
      },
      "outputs": [
        {
          "output_type": "execute_result",
          "data": {
            "text/plain": [
              "    Timestamp  DAI_Borrowing Rate  DAI_Deposit Rate  DAI_Borrow Volume  \\\n",
              "0  1609471800            0.073195          0.050982       1.069964e+09   \n",
              "1  1609473600            0.073101          0.050912       1.069961e+09   \n",
              "2  1609475400            0.073061          0.050882       1.069972e+09   \n",
              "3  1609477200            0.073436          0.051161       1.070496e+09   \n",
              "4  1609479000            0.067829          0.047015       1.070566e+09   \n",
              "\n",
              "   DAI_Supply Volume  USDC_Borrowing Rate  USDC_Deposit Rate  \\\n",
              "0       6.196481e+10             0.087046           0.066993   \n",
              "1       6.197050e+10             0.087053           0.066998   \n",
              "2       6.197354e+10             0.087058           0.067003   \n",
              "3       6.197966e+10             0.086921           0.066889   \n",
              "4       6.234580e+10             0.086312           0.066383   \n",
              "\n",
              "   USDC_Borrow Volume  USDC_Supply Volume  USDT_Borrowing Rate  \\\n",
              "0        7.285430e+08        4.063042e+10             0.099588   \n",
              "1        7.285469e+08        4.063019e+10             0.094890   \n",
              "2        7.285528e+08        4.063019e+10             0.085767   \n",
              "3        7.285713e+08        4.063660e+10             0.072946   \n",
              "4        7.285755e+08        4.066162e+10             0.057764   \n",
              "\n",
              "   USDT_Deposit Rate  USDT_Borrow Volume  USDT_Supply Volume  \\\n",
              "0           0.077548        6.430536e+07        3.696225e+09   \n",
              "1           0.073569        6.407877e+07        3.700299e+09   \n",
              "2           0.065933        6.399418e+07        3.729213e+09   \n",
              "3           0.055500        6.317162e+07        3.730028e+09   \n",
              "4           0.043239        6.256095e+07        3.752927e+09   \n",
              "\n",
              "   ETH_Borrowing Rate  ETH_Deposit Rate  ETH_Borrow Volume  ETH_Supply Volume  \\\n",
              "0            0.022952          0.000489       30553.654354       5.663257e+07   \n",
              "1            0.022952          0.000489       30553.703955       5.663353e+07   \n",
              "2            0.022951          0.000489       30553.830472       5.664534e+07   \n",
              "3            0.022952          0.000489       30553.786270       5.663860e+07   \n",
              "4            0.022952          0.000489       30553.841412       5.663440e+07   \n",
              "\n",
              "                 Date  \n",
              "0 2021-01-01 03:30:00  \n",
              "1 2021-01-01 04:00:00  \n",
              "2 2021-01-01 04:30:00  \n",
              "3 2021-01-01 05:00:00  \n",
              "4 2021-01-01 05:30:00  "
            ],
            "text/html": [
              "\n",
              "  <div id=\"df-c189a8be-ce95-4597-99a0-1b2b5cd1241a\">\n",
              "    <div class=\"colab-df-container\">\n",
              "      <div>\n",
              "<style scoped>\n",
              "    .dataframe tbody tr th:only-of-type {\n",
              "        vertical-align: middle;\n",
              "    }\n",
              "\n",
              "    .dataframe tbody tr th {\n",
              "        vertical-align: top;\n",
              "    }\n",
              "\n",
              "    .dataframe thead th {\n",
              "        text-align: right;\n",
              "    }\n",
              "</style>\n",
              "<table border=\"1\" class=\"dataframe\">\n",
              "  <thead>\n",
              "    <tr style=\"text-align: right;\">\n",
              "      <th></th>\n",
              "      <th>Timestamp</th>\n",
              "      <th>DAI_Borrowing Rate</th>\n",
              "      <th>DAI_Deposit Rate</th>\n",
              "      <th>DAI_Borrow Volume</th>\n",
              "      <th>DAI_Supply Volume</th>\n",
              "      <th>USDC_Borrowing Rate</th>\n",
              "      <th>USDC_Deposit Rate</th>\n",
              "      <th>USDC_Borrow Volume</th>\n",
              "      <th>USDC_Supply Volume</th>\n",
              "      <th>USDT_Borrowing Rate</th>\n",
              "      <th>USDT_Deposit Rate</th>\n",
              "      <th>USDT_Borrow Volume</th>\n",
              "      <th>USDT_Supply Volume</th>\n",
              "      <th>ETH_Borrowing Rate</th>\n",
              "      <th>ETH_Deposit Rate</th>\n",
              "      <th>ETH_Borrow Volume</th>\n",
              "      <th>ETH_Supply Volume</th>\n",
              "      <th>Date</th>\n",
              "    </tr>\n",
              "  </thead>\n",
              "  <tbody>\n",
              "    <tr>\n",
              "      <th>0</th>\n",
              "      <td>1609471800</td>\n",
              "      <td>0.073195</td>\n",
              "      <td>0.050982</td>\n",
              "      <td>1.069964e+09</td>\n",
              "      <td>6.196481e+10</td>\n",
              "      <td>0.087046</td>\n",
              "      <td>0.066993</td>\n",
              "      <td>7.285430e+08</td>\n",
              "      <td>4.063042e+10</td>\n",
              "      <td>0.099588</td>\n",
              "      <td>0.077548</td>\n",
              "      <td>6.430536e+07</td>\n",
              "      <td>3.696225e+09</td>\n",
              "      <td>0.022952</td>\n",
              "      <td>0.000489</td>\n",
              "      <td>30553.654354</td>\n",
              "      <td>5.663257e+07</td>\n",
              "      <td>2021-01-01 03:30:00</td>\n",
              "    </tr>\n",
              "    <tr>\n",
              "      <th>1</th>\n",
              "      <td>1609473600</td>\n",
              "      <td>0.073101</td>\n",
              "      <td>0.050912</td>\n",
              "      <td>1.069961e+09</td>\n",
              "      <td>6.197050e+10</td>\n",
              "      <td>0.087053</td>\n",
              "      <td>0.066998</td>\n",
              "      <td>7.285469e+08</td>\n",
              "      <td>4.063019e+10</td>\n",
              "      <td>0.094890</td>\n",
              "      <td>0.073569</td>\n",
              "      <td>6.407877e+07</td>\n",
              "      <td>3.700299e+09</td>\n",
              "      <td>0.022952</td>\n",
              "      <td>0.000489</td>\n",
              "      <td>30553.703955</td>\n",
              "      <td>5.663353e+07</td>\n",
              "      <td>2021-01-01 04:00:00</td>\n",
              "    </tr>\n",
              "    <tr>\n",
              "      <th>2</th>\n",
              "      <td>1609475400</td>\n",
              "      <td>0.073061</td>\n",
              "      <td>0.050882</td>\n",
              "      <td>1.069972e+09</td>\n",
              "      <td>6.197354e+10</td>\n",
              "      <td>0.087058</td>\n",
              "      <td>0.067003</td>\n",
              "      <td>7.285528e+08</td>\n",
              "      <td>4.063019e+10</td>\n",
              "      <td>0.085767</td>\n",
              "      <td>0.065933</td>\n",
              "      <td>6.399418e+07</td>\n",
              "      <td>3.729213e+09</td>\n",
              "      <td>0.022951</td>\n",
              "      <td>0.000489</td>\n",
              "      <td>30553.830472</td>\n",
              "      <td>5.664534e+07</td>\n",
              "      <td>2021-01-01 04:30:00</td>\n",
              "    </tr>\n",
              "    <tr>\n",
              "      <th>3</th>\n",
              "      <td>1609477200</td>\n",
              "      <td>0.073436</td>\n",
              "      <td>0.051161</td>\n",
              "      <td>1.070496e+09</td>\n",
              "      <td>6.197966e+10</td>\n",
              "      <td>0.086921</td>\n",
              "      <td>0.066889</td>\n",
              "      <td>7.285713e+08</td>\n",
              "      <td>4.063660e+10</td>\n",
              "      <td>0.072946</td>\n",
              "      <td>0.055500</td>\n",
              "      <td>6.317162e+07</td>\n",
              "      <td>3.730028e+09</td>\n",
              "      <td>0.022952</td>\n",
              "      <td>0.000489</td>\n",
              "      <td>30553.786270</td>\n",
              "      <td>5.663860e+07</td>\n",
              "      <td>2021-01-01 05:00:00</td>\n",
              "    </tr>\n",
              "    <tr>\n",
              "      <th>4</th>\n",
              "      <td>1609479000</td>\n",
              "      <td>0.067829</td>\n",
              "      <td>0.047015</td>\n",
              "      <td>1.070566e+09</td>\n",
              "      <td>6.234580e+10</td>\n",
              "      <td>0.086312</td>\n",
              "      <td>0.066383</td>\n",
              "      <td>7.285755e+08</td>\n",
              "      <td>4.066162e+10</td>\n",
              "      <td>0.057764</td>\n",
              "      <td>0.043239</td>\n",
              "      <td>6.256095e+07</td>\n",
              "      <td>3.752927e+09</td>\n",
              "      <td>0.022952</td>\n",
              "      <td>0.000489</td>\n",
              "      <td>30553.841412</td>\n",
              "      <td>5.663440e+07</td>\n",
              "      <td>2021-01-01 05:30:00</td>\n",
              "    </tr>\n",
              "  </tbody>\n",
              "</table>\n",
              "</div>\n",
              "      <button class=\"colab-df-convert\" onclick=\"convertToInteractive('df-c189a8be-ce95-4597-99a0-1b2b5cd1241a')\"\n",
              "              title=\"Convert this dataframe to an interactive table.\"\n",
              "              style=\"display:none;\">\n",
              "        \n",
              "  <svg xmlns=\"http://www.w3.org/2000/svg\" height=\"24px\"viewBox=\"0 0 24 24\"\n",
              "       width=\"24px\">\n",
              "    <path d=\"M0 0h24v24H0V0z\" fill=\"none\"/>\n",
              "    <path d=\"M18.56 5.44l.94 2.06.94-2.06 2.06-.94-2.06-.94-.94-2.06-.94 2.06-2.06.94zm-11 1L8.5 8.5l.94-2.06 2.06-.94-2.06-.94L8.5 2.5l-.94 2.06-2.06.94zm10 10l.94 2.06.94-2.06 2.06-.94-2.06-.94-.94-2.06-.94 2.06-2.06.94z\"/><path d=\"M17.41 7.96l-1.37-1.37c-.4-.4-.92-.59-1.43-.59-.52 0-1.04.2-1.43.59L10.3 9.45l-7.72 7.72c-.78.78-.78 2.05 0 2.83L4 21.41c.39.39.9.59 1.41.59.51 0 1.02-.2 1.41-.59l7.78-7.78 2.81-2.81c.8-.78.8-2.07 0-2.86zM5.41 20L4 18.59l7.72-7.72 1.47 1.35L5.41 20z\"/>\n",
              "  </svg>\n",
              "      </button>\n",
              "      \n",
              "  <style>\n",
              "    .colab-df-container {\n",
              "      display:flex;\n",
              "      flex-wrap:wrap;\n",
              "      gap: 12px;\n",
              "    }\n",
              "\n",
              "    .colab-df-convert {\n",
              "      background-color: #E8F0FE;\n",
              "      border: none;\n",
              "      border-radius: 50%;\n",
              "      cursor: pointer;\n",
              "      display: none;\n",
              "      fill: #1967D2;\n",
              "      height: 32px;\n",
              "      padding: 0 0 0 0;\n",
              "      width: 32px;\n",
              "    }\n",
              "\n",
              "    .colab-df-convert:hover {\n",
              "      background-color: #E2EBFA;\n",
              "      box-shadow: 0px 1px 2px rgba(60, 64, 67, 0.3), 0px 1px 3px 1px rgba(60, 64, 67, 0.15);\n",
              "      fill: #174EA6;\n",
              "    }\n",
              "\n",
              "    [theme=dark] .colab-df-convert {\n",
              "      background-color: #3B4455;\n",
              "      fill: #D2E3FC;\n",
              "    }\n",
              "\n",
              "    [theme=dark] .colab-df-convert:hover {\n",
              "      background-color: #434B5C;\n",
              "      box-shadow: 0px 1px 3px 1px rgba(0, 0, 0, 0.15);\n",
              "      filter: drop-shadow(0px 1px 2px rgba(0, 0, 0, 0.3));\n",
              "      fill: #FFFFFF;\n",
              "    }\n",
              "  </style>\n",
              "\n",
              "      <script>\n",
              "        const buttonEl =\n",
              "          document.querySelector('#df-c189a8be-ce95-4597-99a0-1b2b5cd1241a button.colab-df-convert');\n",
              "        buttonEl.style.display =\n",
              "          google.colab.kernel.accessAllowed ? 'block' : 'none';\n",
              "\n",
              "        async function convertToInteractive(key) {\n",
              "          const element = document.querySelector('#df-c189a8be-ce95-4597-99a0-1b2b5cd1241a');\n",
              "          const dataTable =\n",
              "            await google.colab.kernel.invokeFunction('convertToInteractive',\n",
              "                                                     [key], {});\n",
              "          if (!dataTable) return;\n",
              "\n",
              "          const docLinkHtml = 'Like what you see? Visit the ' +\n",
              "            '<a target=\"_blank\" href=https://colab.research.google.com/notebooks/data_table.ipynb>data table notebook</a>'\n",
              "            + ' to learn more about interactive tables.';\n",
              "          element.innerHTML = '';\n",
              "          dataTable['output_type'] = 'display_data';\n",
              "          await google.colab.output.renderOutput(dataTable, element);\n",
              "          const docLink = document.createElement('div');\n",
              "          docLink.innerHTML = docLinkHtml;\n",
              "          element.appendChild(docLink);\n",
              "        }\n",
              "      </script>\n",
              "    </div>\n",
              "  </div>\n",
              "  "
            ]
          },
          "metadata": {},
          "execution_count": 47
        }
      ],
      "source": [
        "df1.head()"
      ]
    },
    {
      "cell_type": "code",
      "source": [
        "# resample to daily data - here using the mean value \n",
        "df1 = df1.resample('D', on='Date').mean().reset_index()"
      ],
      "metadata": {
        "id": "DT6EKuOQbtBu"
      },
      "execution_count": 48,
      "outputs": []
    },
    {
      "cell_type": "code",
      "source": [
        "df1.head(5)"
      ],
      "metadata": {
        "colab": {
          "base_uri": "https://localhost:8080/",
          "height": 374
        },
        "id": "olUB9EClb1ue",
        "outputId": "c46aa70e-678b-4534-f810-089e1dc71d6d"
      },
      "execution_count": 49,
      "outputs": [
        {
          "output_type": "execute_result",
          "data": {
            "text/plain": [
              "        Date     Timestamp  DAI_Borrowing Rate  DAI_Deposit Rate  \\\n",
              "0 2021-01-01  1.609508e+09            0.067015          0.046416   \n",
              "1 2021-01-02  1.609589e+09            0.065503          0.045303   \n",
              "2 2021-01-03  1.609675e+09            0.082682          0.058162   \n",
              "3 2021-01-04  1.609761e+09            0.083715          0.058879   \n",
              "4 2021-01-05  1.609847e+09            0.081061          0.056868   \n",
              "\n",
              "   DAI_Borrow Volume  DAI_Supply Volume  USDC_Borrowing Rate  \\\n",
              "0       1.069840e+09       6.235339e+10             0.067119   \n",
              "1       1.065628e+09       6.219795e+10             0.069537   \n",
              "2       1.008454e+09       5.784234e+10             0.077396   \n",
              "3       9.983436e+08       5.717052e+10             0.080040   \n",
              "4       9.989683e+08       5.734897e+10             0.070036   \n",
              "\n",
              "   USDC_Deposit Rate  USDC_Borrow Volume  USDC_Supply Volume  \\\n",
              "0           0.050751        7.287942e+08        4.148543e+10   \n",
              "1           0.052642        7.325264e+08        4.158170e+10   \n",
              "2           0.059038        7.383219e+08        4.156605e+10   \n",
              "3           0.061212        7.588534e+08        4.259876e+10   \n",
              "4           0.053091        7.487804e+08        4.245228e+10   \n",
              "\n",
              "   USDT_Borrowing Rate  USDT_Deposit Rate  USDT_Borrow Volume  \\\n",
              "0             0.041173           0.026994        6.347122e+07   \n",
              "1             0.034604           0.021670        7.173786e+07   \n",
              "2             0.064975           0.049139        7.490249e+07   \n",
              "3             0.078345           0.059959        7.566239e+07   \n",
              "4             0.088893           0.068642        7.785167e+07   \n",
              "\n",
              "   USDT_Supply Volume  ETH_Borrowing Rate  ETH_Deposit Rate  \\\n",
              "0        4.691459e+09            0.022941          0.000487   \n",
              "1        5.154309e+09            0.023000          0.000499   \n",
              "2        4.573581e+09            0.022966          0.000492   \n",
              "3        4.441844e+09            0.022258          0.000355   \n",
              "4        4.520668e+09            0.023610          0.000626   \n",
              "\n",
              "   ETH_Borrow Volume  ETH_Supply Volume  \n",
              "0       30523.713818       5.679480e+07  \n",
              "1       31171.739844       5.677785e+07  \n",
              "2       30862.373557       5.691729e+07  \n",
              "3       22981.846369       5.698653e+07  \n",
              "4       37120.356644       5.562969e+07  "
            ],
            "text/html": [
              "\n",
              "  <div id=\"df-8a0448f0-e393-49f7-b51d-88a8581b8429\">\n",
              "    <div class=\"colab-df-container\">\n",
              "      <div>\n",
              "<style scoped>\n",
              "    .dataframe tbody tr th:only-of-type {\n",
              "        vertical-align: middle;\n",
              "    }\n",
              "\n",
              "    .dataframe tbody tr th {\n",
              "        vertical-align: top;\n",
              "    }\n",
              "\n",
              "    .dataframe thead th {\n",
              "        text-align: right;\n",
              "    }\n",
              "</style>\n",
              "<table border=\"1\" class=\"dataframe\">\n",
              "  <thead>\n",
              "    <tr style=\"text-align: right;\">\n",
              "      <th></th>\n",
              "      <th>Date</th>\n",
              "      <th>Timestamp</th>\n",
              "      <th>DAI_Borrowing Rate</th>\n",
              "      <th>DAI_Deposit Rate</th>\n",
              "      <th>DAI_Borrow Volume</th>\n",
              "      <th>DAI_Supply Volume</th>\n",
              "      <th>USDC_Borrowing Rate</th>\n",
              "      <th>USDC_Deposit Rate</th>\n",
              "      <th>USDC_Borrow Volume</th>\n",
              "      <th>USDC_Supply Volume</th>\n",
              "      <th>USDT_Borrowing Rate</th>\n",
              "      <th>USDT_Deposit Rate</th>\n",
              "      <th>USDT_Borrow Volume</th>\n",
              "      <th>USDT_Supply Volume</th>\n",
              "      <th>ETH_Borrowing Rate</th>\n",
              "      <th>ETH_Deposit Rate</th>\n",
              "      <th>ETH_Borrow Volume</th>\n",
              "      <th>ETH_Supply Volume</th>\n",
              "    </tr>\n",
              "  </thead>\n",
              "  <tbody>\n",
              "    <tr>\n",
              "      <th>0</th>\n",
              "      <td>2021-01-01</td>\n",
              "      <td>1.609508e+09</td>\n",
              "      <td>0.067015</td>\n",
              "      <td>0.046416</td>\n",
              "      <td>1.069840e+09</td>\n",
              "      <td>6.235339e+10</td>\n",
              "      <td>0.067119</td>\n",
              "      <td>0.050751</td>\n",
              "      <td>7.287942e+08</td>\n",
              "      <td>4.148543e+10</td>\n",
              "      <td>0.041173</td>\n",
              "      <td>0.026994</td>\n",
              "      <td>6.347122e+07</td>\n",
              "      <td>4.691459e+09</td>\n",
              "      <td>0.022941</td>\n",
              "      <td>0.000487</td>\n",
              "      <td>30523.713818</td>\n",
              "      <td>5.679480e+07</td>\n",
              "    </tr>\n",
              "    <tr>\n",
              "      <th>1</th>\n",
              "      <td>2021-01-02</td>\n",
              "      <td>1.609589e+09</td>\n",
              "      <td>0.065503</td>\n",
              "      <td>0.045303</td>\n",
              "      <td>1.065628e+09</td>\n",
              "      <td>6.219795e+10</td>\n",
              "      <td>0.069537</td>\n",
              "      <td>0.052642</td>\n",
              "      <td>7.325264e+08</td>\n",
              "      <td>4.158170e+10</td>\n",
              "      <td>0.034604</td>\n",
              "      <td>0.021670</td>\n",
              "      <td>7.173786e+07</td>\n",
              "      <td>5.154309e+09</td>\n",
              "      <td>0.023000</td>\n",
              "      <td>0.000499</td>\n",
              "      <td>31171.739844</td>\n",
              "      <td>5.677785e+07</td>\n",
              "    </tr>\n",
              "    <tr>\n",
              "      <th>2</th>\n",
              "      <td>2021-01-03</td>\n",
              "      <td>1.609675e+09</td>\n",
              "      <td>0.082682</td>\n",
              "      <td>0.058162</td>\n",
              "      <td>1.008454e+09</td>\n",
              "      <td>5.784234e+10</td>\n",
              "      <td>0.077396</td>\n",
              "      <td>0.059038</td>\n",
              "      <td>7.383219e+08</td>\n",
              "      <td>4.156605e+10</td>\n",
              "      <td>0.064975</td>\n",
              "      <td>0.049139</td>\n",
              "      <td>7.490249e+07</td>\n",
              "      <td>4.573581e+09</td>\n",
              "      <td>0.022966</td>\n",
              "      <td>0.000492</td>\n",
              "      <td>30862.373557</td>\n",
              "      <td>5.691729e+07</td>\n",
              "    </tr>\n",
              "    <tr>\n",
              "      <th>3</th>\n",
              "      <td>2021-01-04</td>\n",
              "      <td>1.609761e+09</td>\n",
              "      <td>0.083715</td>\n",
              "      <td>0.058879</td>\n",
              "      <td>9.983436e+08</td>\n",
              "      <td>5.717052e+10</td>\n",
              "      <td>0.080040</td>\n",
              "      <td>0.061212</td>\n",
              "      <td>7.588534e+08</td>\n",
              "      <td>4.259876e+10</td>\n",
              "      <td>0.078345</td>\n",
              "      <td>0.059959</td>\n",
              "      <td>7.566239e+07</td>\n",
              "      <td>4.441844e+09</td>\n",
              "      <td>0.022258</td>\n",
              "      <td>0.000355</td>\n",
              "      <td>22981.846369</td>\n",
              "      <td>5.698653e+07</td>\n",
              "    </tr>\n",
              "    <tr>\n",
              "      <th>4</th>\n",
              "      <td>2021-01-05</td>\n",
              "      <td>1.609847e+09</td>\n",
              "      <td>0.081061</td>\n",
              "      <td>0.056868</td>\n",
              "      <td>9.989683e+08</td>\n",
              "      <td>5.734897e+10</td>\n",
              "      <td>0.070036</td>\n",
              "      <td>0.053091</td>\n",
              "      <td>7.487804e+08</td>\n",
              "      <td>4.245228e+10</td>\n",
              "      <td>0.088893</td>\n",
              "      <td>0.068642</td>\n",
              "      <td>7.785167e+07</td>\n",
              "      <td>4.520668e+09</td>\n",
              "      <td>0.023610</td>\n",
              "      <td>0.000626</td>\n",
              "      <td>37120.356644</td>\n",
              "      <td>5.562969e+07</td>\n",
              "    </tr>\n",
              "  </tbody>\n",
              "</table>\n",
              "</div>\n",
              "      <button class=\"colab-df-convert\" onclick=\"convertToInteractive('df-8a0448f0-e393-49f7-b51d-88a8581b8429')\"\n",
              "              title=\"Convert this dataframe to an interactive table.\"\n",
              "              style=\"display:none;\">\n",
              "        \n",
              "  <svg xmlns=\"http://www.w3.org/2000/svg\" height=\"24px\"viewBox=\"0 0 24 24\"\n",
              "       width=\"24px\">\n",
              "    <path d=\"M0 0h24v24H0V0z\" fill=\"none\"/>\n",
              "    <path d=\"M18.56 5.44l.94 2.06.94-2.06 2.06-.94-2.06-.94-.94-2.06-.94 2.06-2.06.94zm-11 1L8.5 8.5l.94-2.06 2.06-.94-2.06-.94L8.5 2.5l-.94 2.06-2.06.94zm10 10l.94 2.06.94-2.06 2.06-.94-2.06-.94-.94-2.06-.94 2.06-2.06.94z\"/><path d=\"M17.41 7.96l-1.37-1.37c-.4-.4-.92-.59-1.43-.59-.52 0-1.04.2-1.43.59L10.3 9.45l-7.72 7.72c-.78.78-.78 2.05 0 2.83L4 21.41c.39.39.9.59 1.41.59.51 0 1.02-.2 1.41-.59l7.78-7.78 2.81-2.81c.8-.78.8-2.07 0-2.86zM5.41 20L4 18.59l7.72-7.72 1.47 1.35L5.41 20z\"/>\n",
              "  </svg>\n",
              "      </button>\n",
              "      \n",
              "  <style>\n",
              "    .colab-df-container {\n",
              "      display:flex;\n",
              "      flex-wrap:wrap;\n",
              "      gap: 12px;\n",
              "    }\n",
              "\n",
              "    .colab-df-convert {\n",
              "      background-color: #E8F0FE;\n",
              "      border: none;\n",
              "      border-radius: 50%;\n",
              "      cursor: pointer;\n",
              "      display: none;\n",
              "      fill: #1967D2;\n",
              "      height: 32px;\n",
              "      padding: 0 0 0 0;\n",
              "      width: 32px;\n",
              "    }\n",
              "\n",
              "    .colab-df-convert:hover {\n",
              "      background-color: #E2EBFA;\n",
              "      box-shadow: 0px 1px 2px rgba(60, 64, 67, 0.3), 0px 1px 3px 1px rgba(60, 64, 67, 0.15);\n",
              "      fill: #174EA6;\n",
              "    }\n",
              "\n",
              "    [theme=dark] .colab-df-convert {\n",
              "      background-color: #3B4455;\n",
              "      fill: #D2E3FC;\n",
              "    }\n",
              "\n",
              "    [theme=dark] .colab-df-convert:hover {\n",
              "      background-color: #434B5C;\n",
              "      box-shadow: 0px 1px 3px 1px rgba(0, 0, 0, 0.15);\n",
              "      filter: drop-shadow(0px 1px 2px rgba(0, 0, 0, 0.3));\n",
              "      fill: #FFFFFF;\n",
              "    }\n",
              "  </style>\n",
              "\n",
              "      <script>\n",
              "        const buttonEl =\n",
              "          document.querySelector('#df-8a0448f0-e393-49f7-b51d-88a8581b8429 button.colab-df-convert');\n",
              "        buttonEl.style.display =\n",
              "          google.colab.kernel.accessAllowed ? 'block' : 'none';\n",
              "\n",
              "        async function convertToInteractive(key) {\n",
              "          const element = document.querySelector('#df-8a0448f0-e393-49f7-b51d-88a8581b8429');\n",
              "          const dataTable =\n",
              "            await google.colab.kernel.invokeFunction('convertToInteractive',\n",
              "                                                     [key], {});\n",
              "          if (!dataTable) return;\n",
              "\n",
              "          const docLinkHtml = 'Like what you see? Visit the ' +\n",
              "            '<a target=\"_blank\" href=https://colab.research.google.com/notebooks/data_table.ipynb>data table notebook</a>'\n",
              "            + ' to learn more about interactive tables.';\n",
              "          element.innerHTML = '';\n",
              "          dataTable['output_type'] = 'display_data';\n",
              "          await google.colab.output.renderOutput(dataTable, element);\n",
              "          const docLink = document.createElement('div');\n",
              "          docLink.innerHTML = docLinkHtml;\n",
              "          element.appendChild(docLink);\n",
              "        }\n",
              "      </script>\n",
              "    </div>\n",
              "  </div>\n",
              "  "
            ]
          },
          "metadata": {},
          "execution_count": 49
        }
      ]
    },
    {
      "cell_type": "code",
      "source": [
        "df1 = df1.iloc[:, :]"
      ],
      "metadata": {
        "id": "xiKV87eulSX_"
      },
      "execution_count": 50,
      "outputs": []
    },
    {
      "cell_type": "code",
      "source": [
        "# check if there r missing dates\n",
        "daydiff = (df1['Date'].shift(-1) - df1['Date']).apply(lambda x: x.days)"
      ],
      "metadata": {
        "id": "ZNORnCvEkn-P"
      },
      "execution_count": 51,
      "outputs": []
    },
    {
      "cell_type": "code",
      "source": [
        "daydiff.value_counts()"
      ],
      "metadata": {
        "colab": {
          "base_uri": "https://localhost:8080/"
        },
        "id": "F41W51OQma7l",
        "outputId": "a1ba5d3b-2b24-4782-d713-78af60da21b2"
      },
      "execution_count": 52,
      "outputs": [
        {
          "output_type": "execute_result",
          "data": {
            "text/plain": [
              "1.0    347\n",
              "Name: Date, dtype: int64"
            ]
          },
          "metadata": {},
          "execution_count": 52
        }
      ]
    },
    {
      "cell_type": "markdown",
      "source": [
        "# Understanding the data"
      ],
      "metadata": {
        "id": "-gI0kd0tcoJm"
      }
    },
    {
      "cell_type": "code",
      "source": [
        "from statsmodels.graphics.tsaplots import plot_acf, plot_pacf\n",
        "fig, ax = plt.subplots(1,1,figsize=(20,15))\n",
        "plot_acf(df1['DAI_Borrowing Rate'], ax=ax, lags=50)\n",
        "print()"
      ],
      "metadata": {
        "colab": {
          "base_uri": "https://localhost:8080/",
          "height": 897
        },
        "id": "HgMogacqcqY5",
        "outputId": "205918da-0c38-44f7-9b03-8d2a1e95ee1e"
      },
      "execution_count": 53,
      "outputs": [
        {
          "output_type": "stream",
          "name": "stdout",
          "text": [
            "\n"
          ]
        },
        {
          "output_type": "display_data",
          "data": {
            "text/plain": [
              "<Figure size 1440x1080 with 1 Axes>"
            ],
            "image/png": "[encoded data removed]"
          },
          "metadata": {
            "needs_background": "light"
          }
        }
      ]
    },
    {
      "cell_type": "code",
      "source": [
        "fig, ax = plt.subplots(1,1,figsize=(20,15))\n",
        "plot_acf(df1['USDC_Borrowing Rate'], ax=ax, lags=50)\n",
        "print()"
      ],
      "metadata": {
        "colab": {
          "base_uri": "https://localhost:8080/",
          "height": 897
        },
        "id": "yh8YrDiXcvuV",
        "outputId": "41096294-1a2b-4b2a-8fca-f2176ca4e87f"
      },
      "execution_count": null,
      "outputs": [
        {
          "output_type": "stream",
          "name": "stdout",
          "text": [
            "\n"
          ]
        },
        {
          "output_type": "display_data",
          "data": {
            "text/plain": [
              "<Figure size 1440x1080 with 1 Axes>"
            ],
            "image/png": "[encoded data removed]"
          },
          "metadata": {
            "needs_background": "light"
          }
        }
      ]
    },
    {
      "cell_type": "code",
      "source": [
        "fig, ax = plt.subplots(1,1,figsize=(20,15))\n",
        "plot_acf(df1['USDT_Borrowing Rate'], ax=ax, lags=50)\n",
        "print()"
      ],
      "metadata": {
        "colab": {
          "base_uri": "https://localhost:8080/",
          "height": 897
        },
        "id": "pi7Us6vLc5Ke",
        "outputId": "d738fcc8-0a0a-4c66-d504-a63c74c0cff8"
      },
      "execution_count": null,
      "outputs": [
        {
          "output_type": "stream",
          "name": "stdout",
          "text": [
            "\n"
          ]
        },
        {
          "output_type": "display_data",
          "data": {
            "text/plain": [
              "<Figure size 1440x1080 with 1 Axes>"
            ],
            "image/png": "[encoded data removed]"
          },
          "metadata": {
            "needs_background": "light"
          }
        }
      ]
    },
    {
      "cell_type": "markdown",
      "source": [
        "# Prepare df "
      ],
      "metadata": {
        "id": "-LH1TpOYmuXO"
      }
    },
    {
      "cell_type": "code",
      "source": [
        "def get_synth_sample(x,y):\n",
        "\n",
        "    from imblearn.combine import SMOTETomek,SMOTEENN\n",
        "    X_resampled, y_resampled = SMOTETomek().fit_resample(x, y)\n",
        "\n",
        "    synthetic_samples = y.shape[0] - y_resampled.shape[0]\n",
        "\n",
        "    synthetic_indices = y[synthetic_samples:]\n",
        "\n",
        "    return X_resampled,y_resampled\n",
        "\n",
        "\n",
        "\n",
        "def get_tabpandas_multi(\n",
        "    df:pd.DataFrame, # Dataframe of the raw data \n",
        "    n_timepoint:int, # Number of previous timepoints to be used as features   \n",
        "    target_window:int, # Number of timepoints in the future to predict \n",
        "    stratify_sample:bool=False, #Make test train split stratified by class\n",
        "    filter_cols:list=None,\n",
        "    inference:bool=False, # Flag True for inference\n",
        "    synth_sample:bool=False\n",
        "):\n",
        "\n",
        "    df = df.reset_index(drop=True)\n",
        "    feature_cols = ['DAI_Borrowing Rate', 'DAI_Deposit Rate', 'DAI_Borrow Volume', 'DAI_Supply Volume', \n",
        "                    'USDC_Borrowing Rate', 'USDC_Deposit Rate', 'USDC_Borrow Volume', 'USDC_Supply Volume', \n",
        "                    'USDT_Borrowing Rate', 'USDT_Deposit Rate', 'USDT_Borrow Volume', 'USDT_Supply Volume',\n",
        "                    'ETH_Borrowing Rate', 'ETH_Deposit Rate', 'ETH_Borrow Volume', 'ETH_Supply Volume'\n",
        "                    ]\n",
        "\n",
        "    target_columns = ['DAI_Borrowing Rate', 'USDC_Borrowing Rate', 'USDT_Borrowing Rate']\n",
        "    target = 'Target'\n",
        "\n",
        "    cols_names = []\n",
        "    for j in range(n_timepoint):\n",
        "        for col in feature_cols:\n",
        "            cols_names.append(f'{col}_t-{n_timepoint -j-1}')\n",
        "    cols_names += [target]\n",
        "\n",
        "    pairs = []\n",
        "    for i, row in tqdm(df.iterrows()):\n",
        "        if i < (len(df)-target_window-n_timepoint-1):\n",
        "            features = df.loc[i:i+n_timepoint-1, feature_cols].values\n",
        "            features = [item for sublist in features for item in sublist]\n",
        "\n",
        "            val =  df.loc[i+n_timepoint: i+n_timepoint-1+target_window, target_columns].mean().idxmin()\n",
        "\n",
        "            features += [val]\n",
        "\n",
        "            pairs.append(features)\n",
        "\n",
        "    df = pd.DataFrame(pairs, columns=cols_names).dropna().reset_index(drop=True)\n",
        "\n",
        "    \n",
        "    if not inference:\n",
        "        if filter_cols:\n",
        "            x = df.iloc[:,filter_cols]\n",
        "            y = df.iloc[:, -1]\n",
        "        else:\n",
        "            x = df.iloc[:, :-1]\n",
        "            y = df.iloc[:, -1]\n",
        "\n",
        "        if synth_sample:\n",
        "            x,y = get_synth_sample(x,y)\n",
        "\n",
        "        if stratify_sample:\n",
        "            x_train, x_test, y_train, y_test = train_test_split(x, y, test_size=0.2, \n",
        "                                                                random_state=RANDOM_STATE,\n",
        "                                                                shuffle=True,stratify=y)\n",
        "        else:\n",
        "            x_train, x_test, y_train, y_test = train_test_split(x, y, test_size=0.2, \n",
        "                                                    random_state=RANDOM_STATE,\n",
        "                                                    shuffle=True)\n",
        "\n",
        "\n",
        "        ss = StandardScaler()\n",
        "        x_train = ss.fit_transform(x_train)\n",
        "        x_test = ss.transform(x_test)\n",
        "\n",
        "        le = LabelEncoder()\n",
        "        y_train = le.fit_transform(y_train)\n",
        "        y_test = le.transform(y_test)\n",
        "\n",
        "        return df,x_train, x_test, y_train, y_test, ss, le #synthetic_indices\n",
        "\n",
        "    if inference:\n",
        "        return df\n",
        "\n",
        "\n",
        "def plot_confusion_matrix(\n",
        "    preds,\n",
        "    targs,\n",
        "    title\n",
        "):\n",
        "    cm = confusion_matrix(targs, preds, normalize=None)\n",
        "    df_cm = pd.DataFrame(cm, \n",
        "                         columns=['DAI', 'USDC', 'USDT'], \n",
        "                         index=['DAI', 'USDC', 'USDT'])\n",
        "    \n",
        "    ax = sns.heatmap(df_cm, \n",
        "            annot=True, \n",
        "            annot_kws={\"size\": 16},\n",
        "            cmap=\"Blues\",\n",
        "            ).set_title(title)\n",
        "            \n",
        "    plt.show()"
      ],
      "metadata": {
        "id": "CDcZspPmmuvO"
      },
      "execution_count": null,
      "outputs": []
    },
    {
      "cell_type": "code",
      "source": [
        "df, x_train, x_test, y_train, y_test, ss, le  = get_tabpandas_multi(df1, 5, 7)"
      ],
      "metadata": {
        "colab": {
          "base_uri": "https://localhost:8080/"
        },
        "id": "1jQS9L4cvvvu",
        "outputId": "9455f03e-343a-4037-b9f6-4cfed1db0d36"
      },
      "execution_count": null,
      "outputs": [
        {
          "output_type": "stream",
          "name": "stderr",
          "text": [
            "348it [00:00, 514.02it/s]\n"
          ]
        }
      ]
    },
    {
      "cell_type": "code",
      "source": [
        "clf = RandomForestClassifier(n_estimators=90, random_state=RANDOM_STATE)\n",
        "clf.fit(x_train, y_train)\n",
        "\n",
        "train_preds = clf.predict(x_train)\n",
        "preds = clf.predict(x_test)\n",
        "\n",
        "plot_confusion_matrix(y_train, train_preds,\"Train Results\"),plot_confusion_matrix(y_test, preds,\"Test Results\")"
      ],
      "metadata": {
        "colab": {
          "base_uri": "https://localhost:8080/",
          "height": 563
        },
        "id": "N9oYwyULvpp-",
        "outputId": "c15273c3-1e14-46ed-996c-439223e1b7ef"
      },
      "execution_count": null,
      "outputs": [
        {
          "output_type": "display_data",
          "data": {
            "text/plain": [
              "<Figure size 432x288 with 2 Axes>"
            ],
            "image/png": "[encoded data removed]"
          },
          "metadata": {
            "needs_background": "light"
          }
        },
        {
          "output_type": "display_data",
          "data": {
            "text/plain": [
              "<Figure size 432x288 with 2 Axes>"
            ],
            "image/png": "[encoded data removed]"
          },
          "metadata": {
            "needs_background": "light"
          }
        },
        {
          "output_type": "execute_result",
          "data": {
            "text/plain": [
              "(None, None)"
            ]
          },
          "metadata": {},
          "execution_count": 22
        }
      ]
    },
    {
      "cell_type": "code",
      "source": [
        "from sklearn.manifold import TSNE\n",
        "def tsne_plot(x,y,title):\n",
        "\n",
        "\n",
        "\n",
        "    n_components = np.unique(y_test).shape[0]\n",
        "\n",
        "    tsne_result = TSNE(n_components=n_components, learning_rate='auto',\n",
        "                init='random').fit_transform(x_train)\n",
        "\n",
        "    tsne_result_df = pd.DataFrame({'tsne_1': tsne_result[:,0], 'tsne_2': tsne_result[:,1],'tsne_3': tsne_result[:,2], 'label': y_train})\n",
        "    fig, ax = plt.subplots(1)\n",
        "    sns.scatterplot(x='tsne_1', y='tsne_2', hue='label', data=tsne_result_df, ax=ax,s=120)\n",
        "    lim = (tsne_result.min()-5, tsne_result.max()+5)\n",
        "    ax.set_xlim(lim)\n",
        "    ax.set_ylim(lim)\n",
        "    ax.set_aspect('equal')\n",
        "    _ = ax.legend(bbox_to_anchor=(1.05, 1), loc=2, borderaxespad=0.0)\n",
        "\n",
        "    ax.set_title(title)"
      ],
      "metadata": {
        "id": "IIWUKJeXLUwT"
      },
      "execution_count": null,
      "outputs": []
    },
    {
      "cell_type": "markdown",
      "source": [
        "## TSNE \n",
        "This shows how much overlap there is between classes with the feature space"
      ],
      "metadata": {
        "id": "YRp5DnxwSfmA"
      }
    },
    {
      "cell_type": "code",
      "source": [
        "df, x_train, x_test, y_train, y_test, ss, le  = get_tabpandas_multi(df1, 5, 7,stratify_sample=False)\n",
        "\n",
        "tsne_plot(x_train,y_train,\"Unmodified\")\n",
        "\n",
        "df, x_train, x_test, y_train, y_test, ss, le  = get_tabpandas_multi(df1, 5, 7,stratify_sample=True)\n",
        "tsne_plot(x_train,y_train,\"Stratified\")\n",
        "\n",
        "df, x_train, x_test, y_train, y_test, ss, le  = get_tabpandas_multi(df1, 5, 7,synth_sample=True)\n",
        "tsne_plot(x_train,y_train,\"Synthetic Sample\")\n",
        "\n",
        "\n"
      ],
      "metadata": {
        "colab": {
          "base_uri": "https://localhost:8080/",
          "height": 906
        },
        "id": "QLUK5GAAnteV",
        "outputId": "e0c8c301-9de4-475a-ffac-434c134947cb"
      },
      "execution_count": null,
      "outputs": [
        {
          "output_type": "stream",
          "name": "stderr",
          "text": [
            "348it [00:00, 573.67it/s]\n",
            "348it [00:00, 593.29it/s]\n",
            "348it [00:00, 587.23it/s]\n"
          ]
        },
        {
          "output_type": "display_data",
          "data": {
            "text/plain": [
              "<Figure size 432x288 with 1 Axes>"
            ],
            "image/png": "[encoded data removed]"
          },
          "metadata": {
            "needs_background": "light"
          }
        },
        {
          "output_type": "display_data",
          "data": {
            "text/plain": [
              "<Figure size 432x288 with 1 Axes>"
            ],
            "image/png": "[encoded data removed]"
          },
          "metadata": {
            "needs_background": "light"
          }
        },
        {
          "output_type": "display_data",
          "data": {
            "text/plain": [
              "<Figure size 432x288 with 1 Axes>"
            ],
            "image/png": "[encoded data removed]"
          },
          "metadata": {
            "needs_background": "light"
          }
        }
      ]
    },
    {
      "cell_type": "code",
      "source": [
        "np.unique(y_train,return_counts=True),np.unique(y_test,return_counts=True)"
      ],
      "metadata": {
        "colab": {
          "base_uri": "https://localhost:8080/"
        },
        "id": "qF-5_UKHoIwM",
        "outputId": "34419469-54e3-43d4-fe66-031b21e03e5e"
      },
      "execution_count": null,
      "outputs": [
        {
          "output_type": "execute_result",
          "data": {
            "text/plain": [
              "((array([0, 1, 2]), array([116, 125, 123])),\n",
              " (array([0, 1, 2]), array([35, 25, 31])))"
            ]
          },
          "metadata": {},
          "execution_count": 25
        }
      ]
    },
    {
      "cell_type": "markdown",
      "source": [
        "# Basic Model"
      ],
      "metadata": {
        "id": "tRFNIKUsdDgg"
      }
    },
    {
      "cell_type": "markdown",
      "source": [
        "## Decision Tree & Random Forest"
      ],
      "metadata": {
        "id": "rDR9CfUVpse2"
      }
    },
    {
      "cell_type": "code",
      "source": [
        "from sklearn.tree import DecisionTreeClassifier\n",
        "from sklearn.metrics import confusion_matrix,f1_score,precision_score,recall_score\n",
        "import seaborn as sns\n",
        "from sklearn.ensemble import RandomForestClassifier\n",
        "from sklearn.ensemble import AdaBoostClassifier, GradientBoostingClassifier\n",
        "from pandas.core.common import random_state\n",
        "from sklearn.model_selection import GridSearchCV\n",
        "\n",
        "classifier_params = {\n",
        "                    \"DecisionTreeClassifier\":{\"random_state\":[RANDOM_STATE]},\n",
        "                     \n",
        "                    \"RandomForestClassifier\":{\"n_estimators\":range(10,250, 10),\n",
        "                                              \"random_state\":[RANDOM_STATE],\n",
        "                                            \"min_samples_leaf\":[1,3,6,9,12],\n",
        "                                            \"max_depth\":[3,6,9,12]\n",
        "                                            },\n",
        "                     \n",
        "                    \"AdaBoostClassifier\":{\"n_estimators\":range(30,250, 10),\n",
        "                                          \"random_state\":[RANDOM_STATE]},\n",
        "                     \n",
        "                    \"GradientBoostingClassifier\":{\"n_estimators\":range(30,250, 10), \n",
        "                                                    \"learning_rate\":[0.05,0.1,0.5],\n",
        "                                                  \"random_state\":[RANDOM_STATE]\n",
        "                                                    }\n",
        "                        }"
      ],
      "metadata": {
        "id": "CrA7QMqOc7Mu"
      },
      "execution_count": null,
      "outputs": []
    },
    {
      "cell_type": "code",
      "source": [
        "def rf_feat_importance(m, df):\n",
        "    return pd.DataFrame({'cols':df.columns, 'imp':m.feature_importances_}\n",
        "                       ).sort_values('imp', ascending=False)\n",
        "\n",
        "df, x_train, x_test, y_train, y_test, ss, le  = get_tabpandas_multi(df1, 5, 7,stratify_sample=False)\n",
        "\n",
        "clf = RandomForestClassifier(n_estimators=90,random_state=42)\n",
        "clf = clf.fit(x_train, y_train)\n",
        "preds = clf.predict(x_test)\n",
        "\n",
        "fi = rf_feat_importance(clf, pd.DataFrame(x_test))\n",
        "\n",
        "top20features = list(fi[:20].cols)\n",
        "\n",
        "top20features\n",
        "\n",
        "df, x_train, x_test, y_train, y_test, ss, le  = get_tabpandas_multi(df1, 5, 7,stratify_sample=False,filter_cols=top20features)\n",
        "\n",
        "clf = RandomForestClassifier(n_estimators=150,random_state=42)\n",
        "clf = clf.fit(x_train, y_train)\n",
        "\n",
        "train_preds = clf.predict(x_train)\n",
        "test_preds = clf.predict(x_test)\n",
        "plot_confusion_matrix(y_train, train_preds,\"Train\"),plot_confusion_matrix(y_test, test_preds,\"Test\")"
      ],
      "metadata": {
        "colab": {
          "base_uri": "https://localhost:8080/",
          "height": 597
        },
        "id": "M9_m4T6ozvvI",
        "outputId": "99ea0839-10e4-4691-a759-bb7c90641642"
      },
      "execution_count": null,
      "outputs": [
        {
          "output_type": "stream",
          "name": "stderr",
          "text": [
            "348it [00:00, 575.74it/s]\n",
            "348it [00:00, 586.41it/s]\n"
          ]
        },
        {
          "output_type": "display_data",
          "data": {
            "text/plain": [
              "<Figure size 432x288 with 2 Axes>"
            ],
            "image/png": "[encoded data removed]"
          },
          "metadata": {
            "needs_background": "light"
          }
        },
        {
          "output_type": "display_data",
          "data": {
            "text/plain": [
              "<Figure size 432x288 with 2 Axes>"
            ],
            "image/png": "[encoded data removed]"
          },
          "metadata": {
            "needs_background": "light"
          }
        },
        {
          "output_type": "execute_result",
          "data": {
            "text/plain": [
              "(None, None)"
            ]
          },
          "metadata": {},
          "execution_count": 27
        }
      ]
    },
    {
      "cell_type": "code",
      "source": [
        "# Interesting that Eth features didn't help\n",
        "\n",
        "df.iloc[:,top20features]"
      ],
      "metadata": {
        "colab": {
          "base_uri": "https://localhost:8080/",
          "height": 505
        },
        "id": "__VVJJUASAfB",
        "outputId": "437b7e3a-8efa-4f4f-b549-071b0f1a71c1"
      },
      "execution_count": null,
      "outputs": [
        {
          "output_type": "execute_result",
          "data": {
            "text/plain": [
              "     USDC_Borrowing Rate_t-0  USDC_Deposit Rate_t-0  USDC_Borrowing Rate_t-2  \\\n",
              "0                   0.070036               0.053091                 0.077396   \n",
              "1                   0.110526               0.087139                 0.080040   \n",
              "2                   0.127409               0.102040                 0.070036   \n",
              "3                   0.087366               0.067369                 0.110526   \n",
              "4                   0.092513               0.071859                 0.127409   \n",
              "..                       ...                    ...                      ...   \n",
              "330                 0.044364               0.031036                 0.042472   \n",
              "331                 0.044275               0.030913                 0.044118   \n",
              "332                 0.043953               0.030467                 0.044364   \n",
              "333                 0.043900               0.030395                 0.044275   \n",
              "334                 0.043760               0.030202                 0.043953   \n",
              "\n",
              "     USDC_Deposit Rate_t-1  USDC_Deposit Rate_t-3  USDC_Borrowing Rate_t-3  \\\n",
              "0                 0.061212               0.052642                 0.069537   \n",
              "1                 0.053091               0.059038                 0.077396   \n",
              "2                 0.087139               0.061212                 0.080040   \n",
              "3                 0.102040               0.053091                 0.070036   \n",
              "4                 0.067369               0.087139                 0.110526   \n",
              "..                     ...                    ...                      ...   \n",
              "330               0.030697               0.028216                 0.042287   \n",
              "331               0.031036               0.028467                 0.042472   \n",
              "332               0.030913               0.030697                 0.044118   \n",
              "333               0.030467               0.031036                 0.044364   \n",
              "334               0.030395               0.030913                 0.044275   \n",
              "\n",
              "     USDC_Borrowing Rate_t-1  USDC_Deposit Rate_t-4  ETH_Borrow Volume_t-4  \\\n",
              "0                   0.080040               0.050751           30523.713818   \n",
              "1                   0.070036               0.052642           31171.739844   \n",
              "2                   0.110526               0.059038           30862.373557   \n",
              "3                   0.127409               0.061212           22981.846369   \n",
              "4                   0.087366               0.053091           37120.356644   \n",
              "..                       ...                    ...                    ...   \n",
              "330                 0.044118               0.028577           60553.996319   \n",
              "331                 0.044364               0.028216           61032.327536   \n",
              "332                 0.044275               0.028467           60285.052829   \n",
              "333                 0.043953               0.030697           59616.345457   \n",
              "334                 0.043900               0.031036           57067.815710   \n",
              "\n",
              "     USDC_Borrowing Rate_t-4  USDT_Borrow Volume_t-3  ETH_Supply Volume_t-4  \\\n",
              "0                   0.067119            7.173786e+07           5.679480e+07   \n",
              "1                   0.069537            7.490249e+07           5.677785e+07   \n",
              "2                   0.077396            7.566239e+07           5.691729e+07   \n",
              "3                   0.080040            7.785167e+07           5.698653e+07   \n",
              "4                   0.070036            7.696892e+07           5.562969e+07   \n",
              "..                       ...                     ...                    ...   \n",
              "330                 0.042559            6.399823e+08           8.269262e+07   \n",
              "331                 0.042287            6.130931e+08           8.307905e+07   \n",
              "332                 0.042472            6.196764e+08           8.261565e+07   \n",
              "333                 0.044118            6.348740e+08           8.074401e+07   \n",
              "334                 0.044364            6.384149e+08           7.982389e+07   \n",
              "\n",
              "     USDC_Borrow Volume_t-4  USDT_Borrow Volume_t-1  USDC_Borrow Volume_t-3  \\\n",
              "0              7.287942e+08            7.566239e+07            7.325264e+08   \n",
              "1              7.325264e+08            7.785167e+07            7.383219e+08   \n",
              "2              7.383219e+08            7.696892e+07            7.588534e+08   \n",
              "3              7.588534e+08            7.648442e+07            7.487804e+08   \n",
              "4              7.487804e+08            8.260347e+07            6.906806e+08   \n",
              "..                      ...                     ...                     ...   \n",
              "330            2.948586e+09            6.196764e+08            2.913370e+09   \n",
              "331            2.913370e+09            6.348740e+08            2.872074e+09   \n",
              "332            2.872074e+09            6.384149e+08            2.865786e+09   \n",
              "333            2.865786e+09            6.445227e+08            2.865278e+09   \n",
              "334            2.865278e+09            6.460413e+08            2.873105e+09   \n",
              "\n",
              "     ETH_Supply Volume_t-2  USDC_Deposit Rate_t-2  DAI_Supply Volume_t-3  \\\n",
              "0             5.691729e+07               0.059038           6.219795e+10   \n",
              "1             5.698653e+07               0.061212           5.784234e+10   \n",
              "2             5.562969e+07               0.053091           5.717052e+10   \n",
              "3             5.562405e+07               0.087139           5.734897e+10   \n",
              "4             5.611820e+07               0.102040           5.650245e+10   \n",
              "..                     ...                    ...                    ...   \n",
              "330           8.261565e+07               0.028467           2.042344e+11   \n",
              "331           8.074401e+07               0.030697           2.140390e+11   \n",
              "332           7.982389e+07               0.031036           2.194000e+11   \n",
              "333           7.995869e+07               0.030913           2.195882e+11   \n",
              "334           7.961991e+07               0.030467           2.196139e+11   \n",
              "\n",
              "     USDT_Deposit Rate_t-3  USDC_Borrow Volume_t-2  \n",
              "0                 0.021670            7.383219e+08  \n",
              "1                 0.049139            7.588534e+08  \n",
              "2                 0.059959            7.487804e+08  \n",
              "3                 0.068642            6.906806e+08  \n",
              "4                 0.100615            6.367178e+08  \n",
              "..                     ...                     ...  \n",
              "330               0.044757            2.872074e+09  \n",
              "331               0.032100            2.865786e+09  \n",
              "332               0.032156            2.865278e+09  \n",
              "333               0.045275            2.873105e+09  \n",
              "334               0.051050            2.886114e+09  \n",
              "\n",
              "[335 rows x 20 columns]"
            ],
            "text/html": [
              "\n",
              "  <div id=\"df-b730f72b-ca55-4bce-9658-dce1f2c094c9\">\n",
              "    <div class=\"colab-df-container\">\n",
              "      <div>\n",
              "<style scoped>\n",
              "    .dataframe tbody tr th:only-of-type {\n",
              "        vertical-align: middle;\n",
              "    }\n",
              "\n",
              "    .dataframe tbody tr th {\n",
              "        vertical-align: top;\n",
              "    }\n",
              "\n",
              "    .dataframe thead th {\n",
              "        text-align: right;\n",
              "    }\n",
              "</style>\n",
              "<table border=\"1\" class=\"dataframe\">\n",
              "  <thead>\n",
              "    <tr style=\"text-align: right;\">\n",
              "      <th></th>\n",
              "      <th>USDC_Borrowing Rate_t-0</th>\n",
              "      <th>USDC_Deposit Rate_t-0</th>\n",
              "      <th>USDC_Borrowing Rate_t-2</th>\n",
              "      <th>USDC_Deposit Rate_t-1</th>\n",
              "      <th>USDC_Deposit Rate_t-3</th>\n",
              "      <th>USDC_Borrowing Rate_t-3</th>\n",
              "      <th>USDC_Borrowing Rate_t-1</th>\n",
              "      <th>USDC_Deposit Rate_t-4</th>\n",
              "      <th>ETH_Borrow Volume_t-4</th>\n",
              "      <th>USDC_Borrowing Rate_t-4</th>\n",
              "      <th>USDT_Borrow Volume_t-3</th>\n",
              "      <th>ETH_Supply Volume_t-4</th>\n",
              "      <th>USDC_Borrow Volume_t-4</th>\n",
              "      <th>USDT_Borrow Volume_t-1</th>\n",
              "      <th>USDC_Borrow Volume_t-3</th>\n",
              "      <th>ETH_Supply Volume_t-2</th>\n",
              "      <th>USDC_Deposit Rate_t-2</th>\n",
              "      <th>DAI_Supply Volume_t-3</th>\n",
              "      <th>USDT_Deposit Rate_t-3</th>\n",
              "      <th>USDC_Borrow Volume_t-2</th>\n",
              "    </tr>\n",
              "  </thead>\n",
              "  <tbody>\n",
              "    <tr>\n",
              "      <th>0</th>\n",
              "      <td>0.070036</td>\n",
              "      <td>0.053091</td>\n",
              "      <td>0.077396</td>\n",
              "      <td>0.061212</td>\n",
              "      <td>0.052642</td>\n",
              "      <td>0.069537</td>\n",
              "      <td>0.080040</td>\n",
              "      <td>0.050751</td>\n",
              "      <td>30523.713818</td>\n",
              "      <td>0.067119</td>\n",
              "      <td>7.173786e+07</td>\n",
              "      <td>5.679480e+07</td>\n",
              "      <td>7.287942e+08</td>\n",
              "      <td>7.566239e+07</td>\n",
              "      <td>7.325264e+08</td>\n",
              "      <td>5.691729e+07</td>\n",
              "      <td>0.059038</td>\n",
              "      <td>6.219795e+10</td>\n",
              "      <td>0.021670</td>\n",
              "      <td>7.383219e+08</td>\n",
              "    </tr>\n",
              "    <tr>\n",
              "      <th>1</th>\n",
              "      <td>0.110526</td>\n",
              "      <td>0.087139</td>\n",
              "      <td>0.080040</td>\n",
              "      <td>0.053091</td>\n",
              "      <td>0.059038</td>\n",
              "      <td>0.077396</td>\n",
              "      <td>0.070036</td>\n",
              "      <td>0.052642</td>\n",
              "      <td>31171.739844</td>\n",
              "      <td>0.069537</td>\n",
              "      <td>7.490249e+07</td>\n",
              "      <td>5.677785e+07</td>\n",
              "      <td>7.325264e+08</td>\n",
              "      <td>7.785167e+07</td>\n",
              "      <td>7.383219e+08</td>\n",
              "      <td>5.698653e+07</td>\n",
              "      <td>0.061212</td>\n",
              "      <td>5.784234e+10</td>\n",
              "      <td>0.049139</td>\n",
              "      <td>7.588534e+08</td>\n",
              "    </tr>\n",
              "    <tr>\n",
              "      <th>2</th>\n",
              "      <td>0.127409</td>\n",
              "      <td>0.102040</td>\n",
              "      <td>0.070036</td>\n",
              "      <td>0.087139</td>\n",
              "      <td>0.061212</td>\n",
              "      <td>0.080040</td>\n",
              "      <td>0.110526</td>\n",
              "      <td>0.059038</td>\n",
              "      <td>30862.373557</td>\n",
              "      <td>0.077396</td>\n",
              "      <td>7.566239e+07</td>\n",
              "      <td>5.691729e+07</td>\n",
              "      <td>7.383219e+08</td>\n",
              "      <td>7.696892e+07</td>\n",
              "      <td>7.588534e+08</td>\n",
              "      <td>5.562969e+07</td>\n",
              "      <td>0.053091</td>\n",
              "      <td>5.717052e+10</td>\n",
              "      <td>0.059959</td>\n",
              "      <td>7.487804e+08</td>\n",
              "    </tr>\n",
              "    <tr>\n",
              "      <th>3</th>\n",
              "      <td>0.087366</td>\n",
              "      <td>0.067369</td>\n",
              "      <td>0.110526</td>\n",
              "      <td>0.102040</td>\n",
              "      <td>0.053091</td>\n",
              "      <td>0.070036</td>\n",
              "      <td>0.127409</td>\n",
              "      <td>0.061212</td>\n",
              "      <td>22981.846369</td>\n",
              "      <td>0.080040</td>\n",
              "      <td>7.785167e+07</td>\n",
              "      <td>5.698653e+07</td>\n",
              "      <td>7.588534e+08</td>\n",
              "      <td>7.648442e+07</td>\n",
              "      <td>7.487804e+08</td>\n",
              "      <td>5.562405e+07</td>\n",
              "      <td>0.087139</td>\n",
              "      <td>5.734897e+10</td>\n",
              "      <td>0.068642</td>\n",
              "      <td>6.906806e+08</td>\n",
              "    </tr>\n",
              "    <tr>\n",
              "      <th>4</th>\n",
              "      <td>0.092513</td>\n",
              "      <td>0.071859</td>\n",
              "      <td>0.127409</td>\n",
              "      <td>0.067369</td>\n",
              "      <td>0.087139</td>\n",
              "      <td>0.110526</td>\n",
              "      <td>0.087366</td>\n",
              "      <td>0.053091</td>\n",
              "      <td>37120.356644</td>\n",
              "      <td>0.070036</td>\n",
              "      <td>7.696892e+07</td>\n",
              "      <td>5.562969e+07</td>\n",
              "      <td>7.487804e+08</td>\n",
              "      <td>8.260347e+07</td>\n",
              "      <td>6.906806e+08</td>\n",
              "      <td>5.611820e+07</td>\n",
              "      <td>0.102040</td>\n",
              "      <td>5.650245e+10</td>\n",
              "      <td>0.100615</td>\n",
              "      <td>6.367178e+08</td>\n",
              "    </tr>\n",
              "    <tr>\n",
              "      <th>...</th>\n",
              "      <td>...</td>\n",
              "      <td>...</td>\n",
              "      <td>...</td>\n",
              "      <td>...</td>\n",
              "      <td>...</td>\n",
              "      <td>...</td>\n",
              "      <td>...</td>\n",
              "      <td>...</td>\n",
              "      <td>...</td>\n",
              "      <td>...</td>\n",
              "      <td>...</td>\n",
              "      <td>...</td>\n",
              "      <td>...</td>\n",
              "      <td>...</td>\n",
              "      <td>...</td>\n",
              "      <td>...</td>\n",
              "      <td>...</td>\n",
              "      <td>...</td>\n",
              "      <td>...</td>\n",
              "      <td>...</td>\n",
              "    </tr>\n",
              "    <tr>\n",
              "      <th>330</th>\n",
              "      <td>0.044364</td>\n",
              "      <td>0.031036</td>\n",
              "      <td>0.042472</td>\n",
              "      <td>0.030697</td>\n",
              "      <td>0.028216</td>\n",
              "      <td>0.042287</td>\n",
              "      <td>0.044118</td>\n",
              "      <td>0.028577</td>\n",
              "      <td>60553.996319</td>\n",
              "      <td>0.042559</td>\n",
              "      <td>6.399823e+08</td>\n",
              "      <td>8.269262e+07</td>\n",
              "      <td>2.948586e+09</td>\n",
              "      <td>6.196764e+08</td>\n",
              "      <td>2.913370e+09</td>\n",
              "      <td>8.261565e+07</td>\n",
              "      <td>0.028467</td>\n",
              "      <td>2.042344e+11</td>\n",
              "      <td>0.044757</td>\n",
              "      <td>2.872074e+09</td>\n",
              "    </tr>\n",
              "    <tr>\n",
              "      <th>331</th>\n",
              "      <td>0.044275</td>\n",
              "      <td>0.030913</td>\n",
              "      <td>0.044118</td>\n",
              "      <td>0.031036</td>\n",
              "      <td>0.028467</td>\n",
              "      <td>0.042472</td>\n",
              "      <td>0.044364</td>\n",
              "      <td>0.028216</td>\n",
              "      <td>61032.327536</td>\n",
              "      <td>0.042287</td>\n",
              "      <td>6.130931e+08</td>\n",
              "      <td>8.307905e+07</td>\n",
              "      <td>2.913370e+09</td>\n",
              "      <td>6.348740e+08</td>\n",
              "      <td>2.872074e+09</td>\n",
              "      <td>8.074401e+07</td>\n",
              "      <td>0.030697</td>\n",
              "      <td>2.140390e+11</td>\n",
              "      <td>0.032100</td>\n",
              "      <td>2.865786e+09</td>\n",
              "    </tr>\n",
              "    <tr>\n",
              "      <th>332</th>\n",
              "      <td>0.043953</td>\n",
              "      <td>0.030467</td>\n",
              "      <td>0.044364</td>\n",
              "      <td>0.030913</td>\n",
              "      <td>0.030697</td>\n",
              "      <td>0.044118</td>\n",
              "      <td>0.044275</td>\n",
              "      <td>0.028467</td>\n",
              "      <td>60285.052829</td>\n",
              "      <td>0.042472</td>\n",
              "      <td>6.196764e+08</td>\n",
              "      <td>8.261565e+07</td>\n",
              "      <td>2.872074e+09</td>\n",
              "      <td>6.384149e+08</td>\n",
              "      <td>2.865786e+09</td>\n",
              "      <td>7.982389e+07</td>\n",
              "      <td>0.031036</td>\n",
              "      <td>2.194000e+11</td>\n",
              "      <td>0.032156</td>\n",
              "      <td>2.865278e+09</td>\n",
              "    </tr>\n",
              "    <tr>\n",
              "      <th>333</th>\n",
              "      <td>0.043900</td>\n",
              "      <td>0.030395</td>\n",
              "      <td>0.044275</td>\n",
              "      <td>0.030467</td>\n",
              "      <td>0.031036</td>\n",
              "      <td>0.044364</td>\n",
              "      <td>0.043953</td>\n",
              "      <td>0.030697</td>\n",
              "      <td>59616.345457</td>\n",
              "      <td>0.044118</td>\n",
              "      <td>6.348740e+08</td>\n",
              "      <td>8.074401e+07</td>\n",
              "      <td>2.865786e+09</td>\n",
              "      <td>6.445227e+08</td>\n",
              "      <td>2.865278e+09</td>\n",
              "      <td>7.995869e+07</td>\n",
              "      <td>0.030913</td>\n",
              "      <td>2.195882e+11</td>\n",
              "      <td>0.045275</td>\n",
              "      <td>2.873105e+09</td>\n",
              "    </tr>\n",
              "    <tr>\n",
              "      <th>334</th>\n",
              "      <td>0.043760</td>\n",
              "      <td>0.030202</td>\n",
              "      <td>0.043953</td>\n",
              "      <td>0.030395</td>\n",
              "      <td>0.030913</td>\n",
              "      <td>0.044275</td>\n",
              "      <td>0.043900</td>\n",
              "      <td>0.031036</td>\n",
              "      <td>57067.815710</td>\n",
              "      <td>0.044364</td>\n",
              "      <td>6.384149e+08</td>\n",
              "      <td>7.982389e+07</td>\n",
              "      <td>2.865278e+09</td>\n",
              "      <td>6.460413e+08</td>\n",
              "      <td>2.873105e+09</td>\n",
              "      <td>7.961991e+07</td>\n",
              "      <td>0.030467</td>\n",
              "      <td>2.196139e+11</td>\n",
              "      <td>0.051050</td>\n",
              "      <td>2.886114e+09</td>\n",
              "    </tr>\n",
              "  </tbody>\n",
              "</table>\n",
              "<p>335 rows × 20 columns</p>\n",
              "</div>\n",
              "      <button class=\"colab-df-convert\" onclick=\"convertToInteractive('df-b730f72b-ca55-4bce-9658-dce1f2c094c9')\"\n",
              "              title=\"Convert this dataframe to an interactive table.\"\n",
              "              style=\"display:none;\">\n",
              "        \n",
              "  <svg xmlns=\"http://www.w3.org/2000/svg\" height=\"24px\"viewBox=\"0 0 24 24\"\n",
              "       width=\"24px\">\n",
              "    <path d=\"M0 0h24v24H0V0z\" fill=\"none\"/>\n",
              "    <path d=\"M18.56 5.44l.94 2.06.94-2.06 2.06-.94-2.06-.94-.94-2.06-.94 2.06-2.06.94zm-11 1L8.5 8.5l.94-2.06 2.06-.94-2.06-.94L8.5 2.5l-.94 2.06-2.06.94zm10 10l.94 2.06.94-2.06 2.06-.94-2.06-.94-.94-2.06-.94 2.06-2.06.94z\"/><path d=\"M17.41 7.96l-1.37-1.37c-.4-.4-.92-.59-1.43-.59-.52 0-1.04.2-1.43.59L10.3 9.45l-7.72 7.72c-.78.78-.78 2.05 0 2.83L4 21.41c.39.39.9.59 1.41.59.51 0 1.02-.2 1.41-.59l7.78-7.78 2.81-2.81c.8-.78.8-2.07 0-2.86zM5.41 20L4 18.59l7.72-7.72 1.47 1.35L5.41 20z\"/>\n",
              "  </svg>\n",
              "      </button>\n",
              "      \n",
              "  <style>\n",
              "    .colab-df-container {\n",
              "      display:flex;\n",
              "      flex-wrap:wrap;\n",
              "      gap: 12px;\n",
              "    }\n",
              "\n",
              "    .colab-df-convert {\n",
              "      background-color: #E8F0FE;\n",
              "      border: none;\n",
              "      border-radius: 50%;\n",
              "      cursor: pointer;\n",
              "      display: none;\n",
              "      fill: #1967D2;\n",
              "      height: 32px;\n",
              "      padding: 0 0 0 0;\n",
              "      width: 32px;\n",
              "    }\n",
              "\n",
              "    .colab-df-convert:hover {\n",
              "      background-color: #E2EBFA;\n",
              "      box-shadow: 0px 1px 2px rgba(60, 64, 67, 0.3), 0px 1px 3px 1px rgba(60, 64, 67, 0.15);\n",
              "      fill: #174EA6;\n",
              "    }\n",
              "\n",
              "    [theme=dark] .colab-df-convert {\n",
              "      background-color: #3B4455;\n",
              "      fill: #D2E3FC;\n",
              "    }\n",
              "\n",
              "    [theme=dark] .colab-df-convert:hover {\n",
              "      background-color: #434B5C;\n",
              "      box-shadow: 0px 1px 3px 1px rgba(0, 0, 0, 0.15);\n",
              "      filter: drop-shadow(0px 1px 2px rgba(0, 0, 0, 0.3));\n",
              "      fill: #FFFFFF;\n",
              "    }\n",
              "  </style>\n",
              "\n",
              "      <script>\n",
              "        const buttonEl =\n",
              "          document.querySelector('#df-b730f72b-ca55-4bce-9658-dce1f2c094c9 button.colab-df-convert');\n",
              "        buttonEl.style.display =\n",
              "          google.colab.kernel.accessAllowed ? 'block' : 'none';\n",
              "\n",
              "        async function convertToInteractive(key) {\n",
              "          const element = document.querySelector('#df-b730f72b-ca55-4bce-9658-dce1f2c094c9');\n",
              "          const dataTable =\n",
              "            await google.colab.kernel.invokeFunction('convertToInteractive',\n",
              "                                                     [key], {});\n",
              "          if (!dataTable) return;\n",
              "\n",
              "          const docLinkHtml = 'Like what you see? Visit the ' +\n",
              "            '<a target=\"_blank\" href=https://colab.research.google.com/notebooks/data_table.ipynb>data table notebook</a>'\n",
              "            + ' to learn more about interactive tables.';\n",
              "          element.innerHTML = '';\n",
              "          dataTable['output_type'] = 'display_data';\n",
              "          await google.colab.output.renderOutput(dataTable, element);\n",
              "          const docLink = document.createElement('div');\n",
              "          docLink.innerHTML = docLinkHtml;\n",
              "          element.appendChild(docLink);\n",
              "        }\n",
              "      </script>\n",
              "    </div>\n",
              "  </div>\n",
              "  "
            ]
          },
          "metadata": {},
          "execution_count": 28
        }
      ]
    },
    {
      "cell_type": "code",
      "source": [
        "#Notice that the Synth and reduced feature complexity has more seperation,\n",
        "#still skeptical about the high score given there isn't clear seperation\n",
        "#between the clases\n",
        "\n",
        "df, x_train, x_test, y_train, y_test, ss, le  = get_tabpandas_multi(df1, 5, 7,stratify_sample=False,filter_cols=top20features)\n",
        "tsne_plot(x_train,y_train,\"Unmodified\")\n",
        "df, x_train, x_test, y_train, y_test, ss, le  = get_tabpandas_multi(df1, 5, 7,stratify_sample=True,filter_cols=top20features)\n",
        "tsne_plot(x_train,y_train,\"Stratified\")\n",
        "df, x_train, x_test, y_train, y_test, ss, le  = get_tabpandas_multi(df1, 5, 7,synth_sample=True,filter_cols=top20features)\n",
        "tsne_plot(x_train,y_train,\"Synthetic Sample\")"
      ],
      "metadata": {
        "colab": {
          "base_uri": "https://localhost:8080/",
          "height": 906
        },
        "id": "itD7qPJqQ4ea",
        "outputId": "5f9597bc-964b-4975-a62e-9ca15b1a9447"
      },
      "execution_count": null,
      "outputs": [
        {
          "output_type": "stream",
          "name": "stderr",
          "text": [
            "348it [00:00, 495.87it/s]\n",
            "348it [00:00, 588.07it/s]\n",
            "348it [00:00, 582.62it/s]\n"
          ]
        },
        {
          "output_type": "display_data",
          "data": {
            "text/plain": [
              "<Figure size 432x288 with 1 Axes>"
            ],
            "image/png": "[encoded data removed]"
          },
          "metadata": {
            "needs_background": "light"
          }
        },
        {
          "output_type": "display_data",
          "data": {
            "text/plain": [
              "<Figure size 432x288 with 1 Axes>"
            ],
            "image/png": "[encoded data removed]"
          },
          "metadata": {
            "needs_background": "light"
          }
        },
        {
          "output_type": "display_data",
          "data": {
            "text/plain": [
              "<Figure size 432x288 with 1 Axes>"
            ],
            "image/png": "[encoded data removed]"
          },
          "metadata": {
            "needs_background": "light"
          }
        }
      ]
    },
    {
      "cell_type": "markdown",
      "source": [
        "# Grid CV search to find best HP for each model below"
      ],
      "metadata": {
        "id": "J9PolZFdTFtw"
      }
    },
    {
      "cell_type": "code",
      "source": [
        "models = [DecisionTreeClassifier(),RandomForestClassifier(),AdaBoostClassifier(),GradientBoostingClassifier()]\n",
        "\n",
        "df_results = pd.DataFrame()\n",
        "\n",
        "stratify = [None,True,True,False,False]\n",
        "fc = [None,None,top20features,top20features,top20features]\n",
        "synth = [False,False,False,True,True]\n",
        "\n",
        "for stratify,fc,synth in zip(stratify,fc,synth):\n",
        "    for ntp in [5]:\n",
        "\n",
        "        for tw in [7,14,21]:\n",
        "\n",
        "            print(\"Section\",ntp,tw)\n",
        "\n",
        "            df, x_train, x_test, y_train, y_test, ss, le  = get_tabpandas_multi(df1,ntp, tw,stratify_sample=stratify,filter_cols=fc,synth_sample=synth)\n",
        "                            \n",
        "            for model in models:\n",
        "                model_name = type(model).__name__\n",
        "                clf = GridSearchCV(\n",
        "                        estimator=model,\n",
        "                        param_grid=classifier_params[type(model).__name__],\n",
        "                        cv=3,\n",
        "                        scoring=\"recall_micro\",\n",
        "                        return_train_score=True\n",
        "                )\n",
        "                \n",
        "                clf_train = clf.fit(x_train, y_train)\n",
        "                train_preds = clf.predict(x_train)\n",
        "                test_preds = clf.predict(x_test)\n",
        "                # plot_confusion_matrix(y_train, train_preds),plot_confusion_matrix(y_test, test_preds)\n",
        "\n",
        "            \n",
        "\n",
        "\n",
        "                df_model = pd.DataFrame(clf.cv_results_)\n",
        "                df_model[\"Model\"] = model_name\n",
        "                df_model[\"ntp_tw\"] = \"-\".join([str(ntp),str(tw)])\n",
        "                df_model[\"dataset\"] = str([stratify,fc,synth])\n",
        "                \n",
        "                df_results = pd.concat([df_results,df_model])\n",
        "\n",
        "df_results.to_csv(\"model_results.csv\")"
      ],
      "metadata": {
        "id": "YebQDvkYqGK8",
        "colab": {
          "base_uri": "https://localhost:8080/"
        },
        "outputId": "f9a611aa-203c-4853-e5f7-591e599efb45"
      },
      "execution_count": null,
      "outputs": [
        {
          "output_type": "stream",
          "name": "stdout",
          "text": [
            "Section 5 7\n"
          ]
        },
        {
          "output_type": "stream",
          "name": "stderr",
          "text": [
            "348it [00:00, 581.48it/s]\n"
          ]
        },
        {
          "output_type": "stream",
          "name": "stdout",
          "text": [
            "Section 5 14\n"
          ]
        },
        {
          "output_type": "stream",
          "name": "stderr",
          "text": [
            "348it [00:00, 599.15it/s]\n"
          ]
        },
        {
          "output_type": "stream",
          "name": "stdout",
          "text": [
            "Section 5 21\n"
          ]
        },
        {
          "output_type": "stream",
          "name": "stderr",
          "text": [
            "348it [00:00, 612.40it/s]\n"
          ]
        },
        {
          "output_type": "stream",
          "name": "stdout",
          "text": [
            "Section 5 7\n"
          ]
        },
        {
          "output_type": "stream",
          "name": "stderr",
          "text": [
            "348it [00:00, 587.19it/s]\n"
          ]
        },
        {
          "output_type": "stream",
          "name": "stdout",
          "text": [
            "Section 5 14\n"
          ]
        },
        {
          "output_type": "stream",
          "name": "stderr",
          "text": [
            "348it [00:00, 609.30it/s]\n"
          ]
        },
        {
          "output_type": "stream",
          "name": "stdout",
          "text": [
            "Section 5 21\n"
          ]
        },
        {
          "output_type": "stream",
          "name": "stderr",
          "text": [
            "348it [00:00, 629.22it/s]\n"
          ]
        },
        {
          "output_type": "stream",
          "name": "stdout",
          "text": [
            "Section 5 7\n"
          ]
        },
        {
          "output_type": "stream",
          "name": "stderr",
          "text": [
            "348it [00:00, 598.11it/s]\n"
          ]
        },
        {
          "output_type": "stream",
          "name": "stdout",
          "text": [
            "Section 5 14\n"
          ]
        },
        {
          "output_type": "stream",
          "name": "stderr",
          "text": [
            "348it [00:00, 618.45it/s]\n"
          ]
        },
        {
          "output_type": "stream",
          "name": "stdout",
          "text": [
            "Section 5 21\n"
          ]
        },
        {
          "output_type": "stream",
          "name": "stderr",
          "text": [
            "348it [00:00, 621.92it/s]\n"
          ]
        },
        {
          "output_type": "stream",
          "name": "stdout",
          "text": [
            "Section 5 7\n"
          ]
        },
        {
          "output_type": "stream",
          "name": "stderr",
          "text": [
            "348it [00:00, 606.61it/s]\n"
          ]
        },
        {
          "output_type": "stream",
          "name": "stdout",
          "text": [
            "Section 5 14\n"
          ]
        },
        {
          "output_type": "stream",
          "name": "stderr",
          "text": [
            "348it [00:00, 601.73it/s]\n"
          ]
        },
        {
          "output_type": "stream",
          "name": "stdout",
          "text": [
            "Section 5 21\n"
          ]
        },
        {
          "output_type": "stream",
          "name": "stderr",
          "text": [
            "348it [00:00, 621.12it/s]\n"
          ]
        },
        {
          "output_type": "stream",
          "name": "stdout",
          "text": [
            "Section 5 7\n"
          ]
        },
        {
          "output_type": "stream",
          "name": "stderr",
          "text": [
            "348it [00:00, 597.55it/s]\n"
          ]
        },
        {
          "output_type": "stream",
          "name": "stdout",
          "text": [
            "Section 5 14\n"
          ]
        },
        {
          "output_type": "stream",
          "name": "stderr",
          "text": [
            "348it [00:00, 613.79it/s]\n"
          ]
        },
        {
          "output_type": "stream",
          "name": "stdout",
          "text": [
            "Section 5 21\n"
          ]
        },
        {
          "output_type": "stream",
          "name": "stderr",
          "text": [
            "348it [00:00, 624.79it/s]\n"
          ]
        }
      ]
    },
    {
      "cell_type": "markdown",
      "source": [
        "## Metrics"
      ],
      "metadata": {
        "id": "YZgUrJv3TLGv"
      }
    },
    {
      "cell_type": "markdown",
      "source": [
        "## All"
      ],
      "metadata": {
        "id": "odF6u1PLaHrY"
      }
    },
    {
      "cell_type": "code",
      "source": [
        "df_results[\"train_test\"] = df_results[\"mean_train_score\"] - df_results[\"mean_test_score\"]\n",
        "df_results = df_results.rename(columns={\"ntp-tw\":\"ntp_tw\"})"
      ],
      "metadata": {
        "id": "sGzZ3YqUBBdg"
      },
      "execution_count": null,
      "outputs": []
    },
    {
      "cell_type": "markdown",
      "source": [
        "## NTP-TW 5-7"
      ],
      "metadata": {
        "id": "ndejhWRzaIqk"
      }
    },
    {
      "cell_type": "code",
      "source": [
        "(df_results[[\"Model\",\"mean_train_score\",\"mean_test_score\",\"params\",\"train_test\",\"ntp_tw\",\"dataset\"]]\n",
        " .query('ntp_tw == \"5-7\"')\n",
        " .sort_values([\"train_test\",\"mean_test_score\"],ascending=True)\n",
        " ).head(15)"
      ],
      "metadata": {
        "id": "fBw9HrPDX_pi",
        "colab": {
          "base_uri": "https://localhost:8080/",
          "height": 807
        },
        "outputId": "ba105272-b85f-4c7c-af89-4c265ebb3ebf"
      },
      "execution_count": null,
      "outputs": [
        {
          "output_type": "execute_result",
          "data": {
            "text/plain": [
              "                      Model  mean_train_score  mean_test_score  \\\n",
              "105  RandomForestClassifier          0.776883         0.734082   \n",
              "103  RandomForestClassifier          0.770571         0.727763   \n",
              "96   RandomForestClassifier          0.778001         0.735123   \n",
              "0        AdaBoostClassifier          0.766786         0.720058   \n",
              "28   RandomForestClassifier          0.798506         0.750187   \n",
              "106  RandomForestClassifier          0.773723         0.724588   \n",
              "104  RandomForestClassifier          0.773723         0.721444   \n",
              "102  RandomForestClassifier          0.770578         0.718299   \n",
              "217  RandomForestClassifier          0.785429         0.731502   \n",
              "337  RandomForestClassifier          0.785429         0.731502   \n",
              "457  RandomForestClassifier          0.785429         0.731502   \n",
              "2    RandomForestClassifier          0.800379         0.746442   \n",
              "97   RandomForestClassifier          0.774256         0.720266   \n",
              "97   RandomForestClassifier          0.725765         0.671619   \n",
              "101  RandomForestClassifier          0.773731         0.718299   \n",
              "\n",
              "                                                                                params  \\\n",
              "105  {'max_depth': 3, 'min_samples_leaf': 12, 'n_estimators': 100, 'random_state': 42}   \n",
              "103   {'max_depth': 3, 'min_samples_leaf': 12, 'n_estimators': 80, 'random_state': 42}   \n",
              "96    {'max_depth': 3, 'min_samples_leaf': 12, 'n_estimators': 10, 'random_state': 42}   \n",
              "0                                             {'n_estimators': 30, 'random_state': 42}   \n",
              "28     {'max_depth': 3, 'min_samples_leaf': 3, 'n_estimators': 50, 'random_state': 42}   \n",
              "106  {'max_depth': 3, 'min_samples_leaf': 12, 'n_estimators': 110, 'random_state': 42}   \n",
              "104   {'max_depth': 3, 'min_samples_leaf': 12, 'n_estimators': 90, 'random_state': 42}   \n",
              "102   {'max_depth': 3, 'min_samples_leaf': 12, 'n_estimators': 70, 'random_state': 42}   \n",
              "217   {'max_depth': 6, 'min_samples_leaf': 12, 'n_estimators': 20, 'random_state': 42}   \n",
              "337   {'max_depth': 9, 'min_samples_leaf': 12, 'n_estimators': 20, 'random_state': 42}   \n",
              "457  {'max_depth': 12, 'min_samples_leaf': 12, 'n_estimators': 20, 'random_state': 42}   \n",
              "2      {'max_depth': 3, 'min_samples_leaf': 1, 'n_estimators': 30, 'random_state': 42}   \n",
              "97    {'max_depth': 3, 'min_samples_leaf': 12, 'n_estimators': 20, 'random_state': 42}   \n",
              "97    {'max_depth': 3, 'min_samples_leaf': 12, 'n_estimators': 20, 'random_state': 42}   \n",
              "101   {'max_depth': 3, 'min_samples_leaf': 12, 'n_estimators': 60, 'random_state': 42}   \n",
              "\n",
              "     train_test ntp_tw  \\\n",
              "105    0.042801    5-7   \n",
              "103    0.042808    5-7   \n",
              "96     0.042878    5-7   \n",
              "0      0.046728    5-7   \n",
              "28     0.048319    5-7   \n",
              "106    0.049135    5-7   \n",
              "104    0.052279    5-7   \n",
              "102    0.052280    5-7   \n",
              "217    0.053927    5-7   \n",
              "337    0.053927    5-7   \n",
              "457    0.053927    5-7   \n",
              "2      0.053937    5-7   \n",
              "97     0.053989    5-7   \n",
              "97     0.054146    5-7   \n",
              "101    0.055432    5-7   \n",
              "\n",
              "                                                                                          dataset  \n",
              "105  [False, [68, 69, 36, 53, 21, 20, 52, 5, 14, 4, 26, 15, 6, 58, 22, 47, 37, 19, 25, 38], True]  \n",
              "103  [False, [68, 69, 36, 53, 21, 20, 52, 5, 14, 4, 26, 15, 6, 58, 22, 47, 37, 19, 25, 38], True]  \n",
              "96                                                                            [None, None, False]  \n",
              "0                                                                             [None, None, False]  \n",
              "28   [True, [68, 69, 36, 53, 21, 20, 52, 5, 14, 4, 26, 15, 6, 58, 22, 47, 37, 19, 25, 38], False]  \n",
              "106  [False, [68, 69, 36, 53, 21, 20, 52, 5, 14, 4, 26, 15, 6, 58, 22, 47, 37, 19, 25, 38], True]  \n",
              "104  [False, [68, 69, 36, 53, 21, 20, 52, 5, 14, 4, 26, 15, 6, 58, 22, 47, 37, 19, 25, 38], True]  \n",
              "102  [False, [68, 69, 36, 53, 21, 20, 52, 5, 14, 4, 26, 15, 6, 58, 22, 47, 37, 19, 25, 38], True]  \n",
              "217                                                                           [None, None, False]  \n",
              "337                                                                           [None, None, False]  \n",
              "457                                                                           [None, None, False]  \n",
              "2    [True, [68, 69, 36, 53, 21, 20, 52, 5, 14, 4, 26, 15, 6, 58, 22, 47, 37, 19, 25, 38], False]  \n",
              "97                                                                            [None, None, False]  \n",
              "97   [True, [68, 69, 36, 53, 21, 20, 52, 5, 14, 4, 26, 15, 6, 58, 22, 47, 37, 19, 25, 38], False]  \n",
              "101  [False, [68, 69, 36, 53, 21, 20, 52, 5, 14, 4, 26, 15, 6, 58, 22, 47, 37, 19, 25, 38], True]  "
            ],
            "text/html": [
              "\n",
              "  <div id=\"df-502f8ced-1e1a-4bc5-8820-645e802f6825\">\n",
              "    <div class=\"colab-df-container\">\n",
              "      <div>\n",
              "<style scoped>\n",
              "    .dataframe tbody tr th:only-of-type {\n",
              "        vertical-align: middle;\n",
              "    }\n",
              "\n",
              "    .dataframe tbody tr th {\n",
              "        vertical-align: top;\n",
              "    }\n",
              "\n",
              "    .dataframe thead th {\n",
              "        text-align: right;\n",
              "    }\n",
              "</style>\n",
              "<table border=\"1\" class=\"dataframe\">\n",
              "  <thead>\n",
              "    <tr style=\"text-align: right;\">\n",
              "      <th></th>\n",
              "      <th>Model</th>\n",
              "      <th>mean_train_score</th>\n",
              "      <th>mean_test_score</th>\n",
              "      <th>params</th>\n",
              "      <th>train_test</th>\n",
              "      <th>ntp_tw</th>\n",
              "      <th>dataset</th>\n",
              "    </tr>\n",
              "  </thead>\n",
              "  <tbody>\n",
              "    <tr>\n",
              "      <th>105</th>\n",
              "      <td>RandomForestClassifier</td>\n",
              "      <td>0.776883</td>\n",
              "      <td>0.734082</td>\n",
              "      <td>{'max_depth': 3, 'min_samples_leaf': 12, 'n_estimators': 100, 'random_state': 42}</td>\n",
              "      <td>0.042801</td>\n",
              "      <td>5-7</td>\n",
              "      <td>[False, [68, 69, 36, 53, 21, 20, 52, 5, 14, 4, 26, 15, 6, 58, 22, 47, 37, 19, 25, 38], True]</td>\n",
              "    </tr>\n",
              "    <tr>\n",
              "      <th>103</th>\n",
              "      <td>RandomForestClassifier</td>\n",
              "      <td>0.770571</td>\n",
              "      <td>0.727763</td>\n",
              "      <td>{'max_depth': 3, 'min_samples_leaf': 12, 'n_estimators': 80, 'random_state': 42}</td>\n",
              "      <td>0.042808</td>\n",
              "      <td>5-7</td>\n",
              "      <td>[False, [68, 69, 36, 53, 21, 20, 52, 5, 14, 4, 26, 15, 6, 58, 22, 47, 37, 19, 25, 38], True]</td>\n",
              "    </tr>\n",
              "    <tr>\n",
              "      <th>96</th>\n",
              "      <td>RandomForestClassifier</td>\n",
              "      <td>0.778001</td>\n",
              "      <td>0.735123</td>\n",
              "      <td>{'max_depth': 3, 'min_samples_leaf': 12, 'n_estimators': 10, 'random_state': 42}</td>\n",
              "      <td>0.042878</td>\n",
              "      <td>5-7</td>\n",
              "      <td>[None, None, False]</td>\n",
              "    </tr>\n",
              "    <tr>\n",
              "      <th>0</th>\n",
              "      <td>AdaBoostClassifier</td>\n",
              "      <td>0.766786</td>\n",
              "      <td>0.720058</td>\n",
              "      <td>{'n_estimators': 30, 'random_state': 42}</td>\n",
              "      <td>0.046728</td>\n",
              "      <td>5-7</td>\n",
              "      <td>[None, None, False]</td>\n",
              "    </tr>\n",
              "    <tr>\n",
              "      <th>28</th>\n",
              "      <td>RandomForestClassifier</td>\n",
              "      <td>0.798506</td>\n",
              "      <td>0.750187</td>\n",
              "      <td>{'max_depth': 3, 'min_samples_leaf': 3, 'n_estimators': 50, 'random_state': 42}</td>\n",
              "      <td>0.048319</td>\n",
              "      <td>5-7</td>\n",
              "      <td>[True, [68, 69, 36, 53, 21, 20, 52, 5, 14, 4, 26, 15, 6, 58, 22, 47, 37, 19, 25, 38], False]</td>\n",
              "    </tr>\n",
              "    <tr>\n",
              "      <th>106</th>\n",
              "      <td>RandomForestClassifier</td>\n",
              "      <td>0.773723</td>\n",
              "      <td>0.724588</td>\n",
              "      <td>{'max_depth': 3, 'min_samples_leaf': 12, 'n_estimators': 110, 'random_state': 42}</td>\n",
              "      <td>0.049135</td>\n",
              "      <td>5-7</td>\n",
              "      <td>[False, [68, 69, 36, 53, 21, 20, 52, 5, 14, 4, 26, 15, 6, 58, 22, 47, 37, 19, 25, 38], True]</td>\n",
              "    </tr>\n",
              "    <tr>\n",
              "      <th>104</th>\n",
              "      <td>RandomForestClassifier</td>\n",
              "      <td>0.773723</td>\n",
              "      <td>0.721444</td>\n",
              "      <td>{'max_depth': 3, 'min_samples_leaf': 12, 'n_estimators': 90, 'random_state': 42}</td>\n",
              "      <td>0.052279</td>\n",
              "      <td>5-7</td>\n",
              "      <td>[False, [68, 69, 36, 53, 21, 20, 52, 5, 14, 4, 26, 15, 6, 58, 22, 47, 37, 19, 25, 38], True]</td>\n",
              "    </tr>\n",
              "    <tr>\n",
              "      <th>102</th>\n",
              "      <td>RandomForestClassifier</td>\n",
              "      <td>0.770578</td>\n",
              "      <td>0.718299</td>\n",
              "      <td>{'max_depth': 3, 'min_samples_leaf': 12, 'n_estimators': 70, 'random_state': 42}</td>\n",
              "      <td>0.052280</td>\n",
              "      <td>5-7</td>\n",
              "      <td>[False, [68, 69, 36, 53, 21, 20, 52, 5, 14, 4, 26, 15, 6, 58, 22, 47, 37, 19, 25, 38], True]</td>\n",
              "    </tr>\n",
              "    <tr>\n",
              "      <th>217</th>\n",
              "      <td>RandomForestClassifier</td>\n",
              "      <td>0.785429</td>\n",
              "      <td>0.731502</td>\n",
              "      <td>{'max_depth': 6, 'min_samples_leaf': 12, 'n_estimators': 20, 'random_state': 42}</td>\n",
              "      <td>0.053927</td>\n",
              "      <td>5-7</td>\n",
              "      <td>[None, None, False]</td>\n",
              "    </tr>\n",
              "    <tr>\n",
              "      <th>337</th>\n",
              "      <td>RandomForestClassifier</td>\n",
              "      <td>0.785429</td>\n",
              "      <td>0.731502</td>\n",
              "      <td>{'max_depth': 9, 'min_samples_leaf': 12, 'n_estimators': 20, 'random_state': 42}</td>\n",
              "      <td>0.053927</td>\n",
              "      <td>5-7</td>\n",
              "      <td>[None, None, False]</td>\n",
              "    </tr>\n",
              "    <tr>\n",
              "      <th>457</th>\n",
              "      <td>RandomForestClassifier</td>\n",
              "      <td>0.785429</td>\n",
              "      <td>0.731502</td>\n",
              "      <td>{'max_depth': 12, 'min_samples_leaf': 12, 'n_estimators': 20, 'random_state': 42}</td>\n",
              "      <td>0.053927</td>\n",
              "      <td>5-7</td>\n",
              "      <td>[None, None, False]</td>\n",
              "    </tr>\n",
              "    <tr>\n",
              "      <th>2</th>\n",
              "      <td>RandomForestClassifier</td>\n",
              "      <td>0.800379</td>\n",
              "      <td>0.746442</td>\n",
              "      <td>{'max_depth': 3, 'min_samples_leaf': 1, 'n_estimators': 30, 'random_state': 42}</td>\n",
              "      <td>0.053937</td>\n",
              "      <td>5-7</td>\n",
              "      <td>[True, [68, 69, 36, 53, 21, 20, 52, 5, 14, 4, 26, 15, 6, 58, 22, 47, 37, 19, 25, 38], False]</td>\n",
              "    </tr>\n",
              "    <tr>\n",
              "      <th>97</th>\n",
              "      <td>RandomForestClassifier</td>\n",
              "      <td>0.774256</td>\n",
              "      <td>0.720266</td>\n",
              "      <td>{'max_depth': 3, 'min_samples_leaf': 12, 'n_estimators': 20, 'random_state': 42}</td>\n",
              "      <td>0.053989</td>\n",
              "      <td>5-7</td>\n",
              "      <td>[None, None, False]</td>\n",
              "    </tr>\n",
              "    <tr>\n",
              "      <th>97</th>\n",
              "      <td>RandomForestClassifier</td>\n",
              "      <td>0.725765</td>\n",
              "      <td>0.671619</td>\n",
              "      <td>{'max_depth': 3, 'min_samples_leaf': 12, 'n_estimators': 20, 'random_state': 42}</td>\n",
              "      <td>0.054146</td>\n",
              "      <td>5-7</td>\n",
              "      <td>[True, [68, 69, 36, 53, 21, 20, 52, 5, 14, 4, 26, 15, 6, 58, 22, 47, 37, 19, 25, 38], False]</td>\n",
              "    </tr>\n",
              "    <tr>\n",
              "      <th>101</th>\n",
              "      <td>RandomForestClassifier</td>\n",
              "      <td>0.773731</td>\n",
              "      <td>0.718299</td>\n",
              "      <td>{'max_depth': 3, 'min_samples_leaf': 12, 'n_estimators': 60, 'random_state': 42}</td>\n",
              "      <td>0.055432</td>\n",
              "      <td>5-7</td>\n",
              "      <td>[False, [68, 69, 36, 53, 21, 20, 52, 5, 14, 4, 26, 15, 6, 58, 22, 47, 37, 19, 25, 38], True]</td>\n",
              "    </tr>\n",
              "  </tbody>\n",
              "</table>\n",
              "</div>\n",
              "      <button class=\"colab-df-convert\" onclick=\"convertToInteractive('df-502f8ced-1e1a-4bc5-8820-645e802f6825')\"\n",
              "              title=\"Convert this dataframe to an interactive table.\"\n",
              "              style=\"display:none;\">\n",
              "        \n",
              "  <svg xmlns=\"http://www.w3.org/2000/svg\" height=\"24px\"viewBox=\"0 0 24 24\"\n",
              "       width=\"24px\">\n",
              "    <path d=\"M0 0h24v24H0V0z\" fill=\"none\"/>\n",
              "    <path d=\"M18.56 5.44l.94 2.06.94-2.06 2.06-.94-2.06-.94-.94-2.06-.94 2.06-2.06.94zm-11 1L8.5 8.5l.94-2.06 2.06-.94-2.06-.94L8.5 2.5l-.94 2.06-2.06.94zm10 10l.94 2.06.94-2.06 2.06-.94-2.06-.94-.94-2.06-.94 2.06-2.06.94z\"/><path d=\"M17.41 7.96l-1.37-1.37c-.4-.4-.92-.59-1.43-.59-.52 0-1.04.2-1.43.59L10.3 9.45l-7.72 7.72c-.78.78-.78 2.05 0 2.83L4 21.41c.39.39.9.59 1.41.59.51 0 1.02-.2 1.41-.59l7.78-7.78 2.81-2.81c.8-.78.8-2.07 0-2.86zM5.41 20L4 18.59l7.72-7.72 1.47 1.35L5.41 20z\"/>\n",
              "  </svg>\n",
              "      </button>\n",
              "      \n",
              "  <style>\n",
              "    .colab-df-container {\n",
              "      display:flex;\n",
              "      flex-wrap:wrap;\n",
              "      gap: 12px;\n",
              "    }\n",
              "\n",
              "    .colab-df-convert {\n",
              "      background-color: #E8F0FE;\n",
              "      border: none;\n",
              "      border-radius: 50%;\n",
              "      cursor: pointer;\n",
              "      display: none;\n",
              "      fill: #1967D2;\n",
              "      height: 32px;\n",
              "      padding: 0 0 0 0;\n",
              "      width: 32px;\n",
              "    }\n",
              "\n",
              "    .colab-df-convert:hover {\n",
              "      background-color: #E2EBFA;\n",
              "      box-shadow: 0px 1px 2px rgba(60, 64, 67, 0.3), 0px 1px 3px 1px rgba(60, 64, 67, 0.15);\n",
              "      fill: #174EA6;\n",
              "    }\n",
              "\n",
              "    [theme=dark] .colab-df-convert {\n",
              "      background-color: #3B4455;\n",
              "      fill: #D2E3FC;\n",
              "    }\n",
              "\n",
              "    [theme=dark] .colab-df-convert:hover {\n",
              "      background-color: #434B5C;\n",
              "      box-shadow: 0px 1px 3px 1px rgba(0, 0, 0, 0.15);\n",
              "      filter: drop-shadow(0px 1px 2px rgba(0, 0, 0, 0.3));\n",
              "      fill: #FFFFFF;\n",
              "    }\n",
              "  </style>\n",
              "\n",
              "      <script>\n",
              "        const buttonEl =\n",
              "          document.querySelector('#df-502f8ced-1e1a-4bc5-8820-645e802f6825 button.colab-df-convert');\n",
              "        buttonEl.style.display =\n",
              "          google.colab.kernel.accessAllowed ? 'block' : 'none';\n",
              "\n",
              "        async function convertToInteractive(key) {\n",
              "          const element = document.querySelector('#df-502f8ced-1e1a-4bc5-8820-645e802f6825');\n",
              "          const dataTable =\n",
              "            await google.colab.kernel.invokeFunction('convertToInteractive',\n",
              "                                                     [key], {});\n",
              "          if (!dataTable) return;\n",
              "\n",
              "          const docLinkHtml = 'Like what you see? Visit the ' +\n",
              "            '<a target=\"_blank\" href=https://colab.research.google.com/notebooks/data_table.ipynb>data table notebook</a>'\n",
              "            + ' to learn more about interactive tables.';\n",
              "          element.innerHTML = '';\n",
              "          dataTable['output_type'] = 'display_data';\n",
              "          await google.colab.output.renderOutput(dataTable, element);\n",
              "          const docLink = document.createElement('div');\n",
              "          docLink.innerHTML = docLinkHtml;\n",
              "          element.appendChild(docLink);\n",
              "        }\n",
              "      </script>\n",
              "    </div>\n",
              "  </div>\n",
              "  "
            ]
          },
          "metadata": {},
          "execution_count": 32
        }
      ]
    },
    {
      "cell_type": "markdown",
      "source": [
        "## NTP-TW 5-14"
      ],
      "metadata": {
        "id": "U3cxpsoNaMGQ"
      }
    },
    {
      "cell_type": "code",
      "source": [
        "(df_results[[\"Model\",\"mean_train_score\",\"mean_test_score\",\"params\",\"train_test\",\"ntp_tw\",\"dataset\"]]\n",
        " .query('ntp_tw == \"5-14\"')\n",
        " .sort_values([\"train_test\",\"mean_test_score\"],ascending=True)\n",
        " ).head(15)"
      ],
      "metadata": {
        "id": "COUd12aaZqli",
        "colab": {
          "base_uri": "https://localhost:8080/",
          "height": 824
        },
        "outputId": "41d711d2-3205-4d52-e695-08e98e12e05e"
      },
      "execution_count": null,
      "outputs": [
        {
          "output_type": "execute_result",
          "data": {
            "text/plain": [
              "                      Model  mean_train_score  mean_test_score  \\\n",
              "49   RandomForestClassifier          0.841587         0.828326   \n",
              "25   RandomForestClassifier          0.860701         0.835989   \n",
              "49   RandomForestClassifier          0.818686         0.790056   \n",
              "24   RandomForestClassifier          0.843525         0.813088   \n",
              "191  RandomForestClassifier          0.900722         0.870254   \n",
              "311  RandomForestClassifier          0.900722         0.870254   \n",
              "431  RandomForestClassifier          0.900722         0.870254   \n",
              "188  RandomForestClassifier          0.900733         0.870254   \n",
              "308  RandomForestClassifier          0.902638         0.870254   \n",
              "428  RandomForestClassifier          0.902638         0.870254   \n",
              "187  RandomForestClassifier          0.898818         0.866423   \n",
              "307  RandomForestClassifier          0.898818         0.866423   \n",
              "427  RandomForestClassifier          0.898818         0.866423   \n",
              "177  RandomForestClassifier          0.902649         0.870211   \n",
              "1    RandomForestClassifier          0.870192         0.835989   \n",
              "\n",
              "                                                                                params  \\\n",
              "49     {'max_depth': 3, 'min_samples_leaf': 6, 'n_estimators': 20, 'random_state': 42}   \n",
              "25     {'max_depth': 3, 'min_samples_leaf': 3, 'n_estimators': 20, 'random_state': 42}   \n",
              "49     {'max_depth': 3, 'min_samples_leaf': 6, 'n_estimators': 20, 'random_state': 42}   \n",
              "24     {'max_depth': 3, 'min_samples_leaf': 3, 'n_estimators': 10, 'random_state': 42}   \n",
              "191   {'max_depth': 6, 'min_samples_leaf': 6, 'n_estimators': 240, 'random_state': 42}   \n",
              "311   {'max_depth': 9, 'min_samples_leaf': 6, 'n_estimators': 240, 'random_state': 42}   \n",
              "431  {'max_depth': 12, 'min_samples_leaf': 6, 'n_estimators': 240, 'random_state': 42}   \n",
              "188   {'max_depth': 6, 'min_samples_leaf': 6, 'n_estimators': 210, 'random_state': 42}   \n",
              "308   {'max_depth': 9, 'min_samples_leaf': 6, 'n_estimators': 210, 'random_state': 42}   \n",
              "428  {'max_depth': 12, 'min_samples_leaf': 6, 'n_estimators': 210, 'random_state': 42}   \n",
              "187   {'max_depth': 6, 'min_samples_leaf': 6, 'n_estimators': 200, 'random_state': 42}   \n",
              "307   {'max_depth': 9, 'min_samples_leaf': 6, 'n_estimators': 200, 'random_state': 42}   \n",
              "427  {'max_depth': 12, 'min_samples_leaf': 6, 'n_estimators': 200, 'random_state': 42}   \n",
              "177   {'max_depth': 6, 'min_samples_leaf': 6, 'n_estimators': 100, 'random_state': 42}   \n",
              "1      {'max_depth': 3, 'min_samples_leaf': 1, 'n_estimators': 20, 'random_state': 42}   \n",
              "\n",
              "     train_test ntp_tw  \\\n",
              "49     0.013261   5-14   \n",
              "25     0.024711   5-14   \n",
              "49     0.028631   5-14   \n",
              "24     0.030437   5-14   \n",
              "191    0.030468   5-14   \n",
              "311    0.030468   5-14   \n",
              "431    0.030468   5-14   \n",
              "188    0.030479   5-14   \n",
              "308    0.032384   5-14   \n",
              "428    0.032384   5-14   \n",
              "187    0.032395   5-14   \n",
              "307    0.032395   5-14   \n",
              "427    0.032395   5-14   \n",
              "177    0.032438   5-14   \n",
              "1      0.034202   5-14   \n",
              "\n",
              "                                                                                          dataset  \n",
              "49                                                                            [None, None, False]  \n",
              "25                                                                            [None, None, False]  \n",
              "49   [True, [68, 69, 36, 53, 21, 20, 52, 5, 14, 4, 26, 15, 6, 58, 22, 47, 37, 19, 25, 38], False]  \n",
              "24                                                                            [None, None, False]  \n",
              "191  [True, [68, 69, 36, 53, 21, 20, 52, 5, 14, 4, 26, 15, 6, 58, 22, 47, 37, 19, 25, 38], False]  \n",
              "311  [True, [68, 69, 36, 53, 21, 20, 52, 5, 14, 4, 26, 15, 6, 58, 22, 47, 37, 19, 25, 38], False]  \n",
              "431  [True, [68, 69, 36, 53, 21, 20, 52, 5, 14, 4, 26, 15, 6, 58, 22, 47, 37, 19, 25, 38], False]  \n",
              "188  [True, [68, 69, 36, 53, 21, 20, 52, 5, 14, 4, 26, 15, 6, 58, 22, 47, 37, 19, 25, 38], False]  \n",
              "308  [True, [68, 69, 36, 53, 21, 20, 52, 5, 14, 4, 26, 15, 6, 58, 22, 47, 37, 19, 25, 38], False]  \n",
              "428  [True, [68, 69, 36, 53, 21, 20, 52, 5, 14, 4, 26, 15, 6, 58, 22, 47, 37, 19, 25, 38], False]  \n",
              "187  [True, [68, 69, 36, 53, 21, 20, 52, 5, 14, 4, 26, 15, 6, 58, 22, 47, 37, 19, 25, 38], False]  \n",
              "307  [True, [68, 69, 36, 53, 21, 20, 52, 5, 14, 4, 26, 15, 6, 58, 22, 47, 37, 19, 25, 38], False]  \n",
              "427  [True, [68, 69, 36, 53, 21, 20, 52, 5, 14, 4, 26, 15, 6, 58, 22, 47, 37, 19, 25, 38], False]  \n",
              "177  [True, [68, 69, 36, 53, 21, 20, 52, 5, 14, 4, 26, 15, 6, 58, 22, 47, 37, 19, 25, 38], False]  \n",
              "1                                                                             [None, None, False]  "
            ],
            "text/html": [
              "\n",
              "  <div id=\"df-ac938a12-36dc-44ac-8dff-f160c6f51e7c\">\n",
              "    <div class=\"colab-df-container\">\n",
              "      <div>\n",
              "<style scoped>\n",
              "    .dataframe tbody tr th:only-of-type {\n",
              "        vertical-align: middle;\n",
              "    }\n",
              "\n",
              "    .dataframe tbody tr th {\n",
              "        vertical-align: top;\n",
              "    }\n",
              "\n",
              "    .dataframe thead th {\n",
              "        text-align: right;\n",
              "    }\n",
              "</style>\n",
              "<table border=\"1\" class=\"dataframe\">\n",
              "  <thead>\n",
              "    <tr style=\"text-align: right;\">\n",
              "      <th></th>\n",
              "      <th>Model</th>\n",
              "      <th>mean_train_score</th>\n",
              "      <th>mean_test_score</th>\n",
              "      <th>params</th>\n",
              "      <th>train_test</th>\n",
              "      <th>ntp_tw</th>\n",
              "      <th>dataset</th>\n",
              "    </tr>\n",
              "  </thead>\n",
              "  <tbody>\n",
              "    <tr>\n",
              "      <th>49</th>\n",
              "      <td>RandomForestClassifier</td>\n",
              "      <td>0.841587</td>\n",
              "      <td>0.828326</td>\n",
              "      <td>{'max_depth': 3, 'min_samples_leaf': 6, 'n_estimators': 20, 'random_state': 42}</td>\n",
              "      <td>0.013261</td>\n",
              "      <td>5-14</td>\n",
              "      <td>[None, None, False]</td>\n",
              "    </tr>\n",
              "    <tr>\n",
              "      <th>25</th>\n",
              "      <td>RandomForestClassifier</td>\n",
              "      <td>0.860701</td>\n",
              "      <td>0.835989</td>\n",
              "      <td>{'max_depth': 3, 'min_samples_leaf': 3, 'n_estimators': 20, 'random_state': 42}</td>\n",
              "      <td>0.024711</td>\n",
              "      <td>5-14</td>\n",
              "      <td>[None, None, False]</td>\n",
              "    </tr>\n",
              "    <tr>\n",
              "      <th>49</th>\n",
              "      <td>RandomForestClassifier</td>\n",
              "      <td>0.818686</td>\n",
              "      <td>0.790056</td>\n",
              "      <td>{'max_depth': 3, 'min_samples_leaf': 6, 'n_estimators': 20, 'random_state': 42}</td>\n",
              "      <td>0.028631</td>\n",
              "      <td>5-14</td>\n",
              "      <td>[True, [68, 69, 36, 53, 21, 20, 52, 5, 14, 4, 26, 15, 6, 58, 22, 47, 37, 19, 25, 38], False]</td>\n",
              "    </tr>\n",
              "    <tr>\n",
              "      <th>24</th>\n",
              "      <td>RandomForestClassifier</td>\n",
              "      <td>0.843525</td>\n",
              "      <td>0.813088</td>\n",
              "      <td>{'max_depth': 3, 'min_samples_leaf': 3, 'n_estimators': 10, 'random_state': 42}</td>\n",
              "      <td>0.030437</td>\n",
              "      <td>5-14</td>\n",
              "      <td>[None, None, False]</td>\n",
              "    </tr>\n",
              "    <tr>\n",
              "      <th>191</th>\n",
              "      <td>RandomForestClassifier</td>\n",
              "      <td>0.900722</td>\n",
              "      <td>0.870254</td>\n",
              "      <td>{'max_depth': 6, 'min_samples_leaf': 6, 'n_estimators': 240, 'random_state': 42}</td>\n",
              "      <td>0.030468</td>\n",
              "      <td>5-14</td>\n",
              "      <td>[True, [68, 69, 36, 53, 21, 20, 52, 5, 14, 4, 26, 15, 6, 58, 22, 47, 37, 19, 25, 38], False]</td>\n",
              "    </tr>\n",
              "    <tr>\n",
              "      <th>311</th>\n",
              "      <td>RandomForestClassifier</td>\n",
              "      <td>0.900722</td>\n",
              "      <td>0.870254</td>\n",
              "      <td>{'max_depth': 9, 'min_samples_leaf': 6, 'n_estimators': 240, 'random_state': 42}</td>\n",
              "      <td>0.030468</td>\n",
              "      <td>5-14</td>\n",
              "      <td>[True, [68, 69, 36, 53, 21, 20, 52, 5, 14, 4, 26, 15, 6, 58, 22, 47, 37, 19, 25, 38], False]</td>\n",
              "    </tr>\n",
              "    <tr>\n",
              "      <th>431</th>\n",
              "      <td>RandomForestClassifier</td>\n",
              "      <td>0.900722</td>\n",
              "      <td>0.870254</td>\n",
              "      <td>{'max_depth': 12, 'min_samples_leaf': 6, 'n_estimators': 240, 'random_state': 42}</td>\n",
              "      <td>0.030468</td>\n",
              "      <td>5-14</td>\n",
              "      <td>[True, [68, 69, 36, 53, 21, 20, 52, 5, 14, 4, 26, 15, 6, 58, 22, 47, 37, 19, 25, 38], False]</td>\n",
              "    </tr>\n",
              "    <tr>\n",
              "      <th>188</th>\n",
              "      <td>RandomForestClassifier</td>\n",
              "      <td>0.900733</td>\n",
              "      <td>0.870254</td>\n",
              "      <td>{'max_depth': 6, 'min_samples_leaf': 6, 'n_estimators': 210, 'random_state': 42}</td>\n",
              "      <td>0.030479</td>\n",
              "      <td>5-14</td>\n",
              "      <td>[True, [68, 69, 36, 53, 21, 20, 52, 5, 14, 4, 26, 15, 6, 58, 22, 47, 37, 19, 25, 38], False]</td>\n",
              "    </tr>\n",
              "    <tr>\n",
              "      <th>308</th>\n",
              "      <td>RandomForestClassifier</td>\n",
              "      <td>0.902638</td>\n",
              "      <td>0.870254</td>\n",
              "      <td>{'max_depth': 9, 'min_samples_leaf': 6, 'n_estimators': 210, 'random_state': 42}</td>\n",
              "      <td>0.032384</td>\n",
              "      <td>5-14</td>\n",
              "      <td>[True, [68, 69, 36, 53, 21, 20, 52, 5, 14, 4, 26, 15, 6, 58, 22, 47, 37, 19, 25, 38], False]</td>\n",
              "    </tr>\n",
              "    <tr>\n",
              "      <th>428</th>\n",
              "      <td>RandomForestClassifier</td>\n",
              "      <td>0.902638</td>\n",
              "      <td>0.870254</td>\n",
              "      <td>{'max_depth': 12, 'min_samples_leaf': 6, 'n_estimators': 210, 'random_state': 42}</td>\n",
              "      <td>0.032384</td>\n",
              "      <td>5-14</td>\n",
              "      <td>[True, [68, 69, 36, 53, 21, 20, 52, 5, 14, 4, 26, 15, 6, 58, 22, 47, 37, 19, 25, 38], False]</td>\n",
              "    </tr>\n",
              "    <tr>\n",
              "      <th>187</th>\n",
              "      <td>RandomForestClassifier</td>\n",
              "      <td>0.898818</td>\n",
              "      <td>0.866423</td>\n",
              "      <td>{'max_depth': 6, 'min_samples_leaf': 6, 'n_estimators': 200, 'random_state': 42}</td>\n",
              "      <td>0.032395</td>\n",
              "      <td>5-14</td>\n",
              "      <td>[True, [68, 69, 36, 53, 21, 20, 52, 5, 14, 4, 26, 15, 6, 58, 22, 47, 37, 19, 25, 38], False]</td>\n",
              "    </tr>\n",
              "    <tr>\n",
              "      <th>307</th>\n",
              "      <td>RandomForestClassifier</td>\n",
              "      <td>0.898818</td>\n",
              "      <td>0.866423</td>\n",
              "      <td>{'max_depth': 9, 'min_samples_leaf': 6, 'n_estimators': 200, 'random_state': 42}</td>\n",
              "      <td>0.032395</td>\n",
              "      <td>5-14</td>\n",
              "      <td>[True, [68, 69, 36, 53, 21, 20, 52, 5, 14, 4, 26, 15, 6, 58, 22, 47, 37, 19, 25, 38], False]</td>\n",
              "    </tr>\n",
              "    <tr>\n",
              "      <th>427</th>\n",
              "      <td>RandomForestClassifier</td>\n",
              "      <td>0.898818</td>\n",
              "      <td>0.866423</td>\n",
              "      <td>{'max_depth': 12, 'min_samples_leaf': 6, 'n_estimators': 200, 'random_state': 42}</td>\n",
              "      <td>0.032395</td>\n",
              "      <td>5-14</td>\n",
              "      <td>[True, [68, 69, 36, 53, 21, 20, 52, 5, 14, 4, 26, 15, 6, 58, 22, 47, 37, 19, 25, 38], False]</td>\n",
              "    </tr>\n",
              "    <tr>\n",
              "      <th>177</th>\n",
              "      <td>RandomForestClassifier</td>\n",
              "      <td>0.902649</td>\n",
              "      <td>0.870211</td>\n",
              "      <td>{'max_depth': 6, 'min_samples_leaf': 6, 'n_estimators': 100, 'random_state': 42}</td>\n",
              "      <td>0.032438</td>\n",
              "      <td>5-14</td>\n",
              "      <td>[True, [68, 69, 36, 53, 21, 20, 52, 5, 14, 4, 26, 15, 6, 58, 22, 47, 37, 19, 25, 38], False]</td>\n",
              "    </tr>\n",
              "    <tr>\n",
              "      <th>1</th>\n",
              "      <td>RandomForestClassifier</td>\n",
              "      <td>0.870192</td>\n",
              "      <td>0.835989</td>\n",
              "      <td>{'max_depth': 3, 'min_samples_leaf': 1, 'n_estimators': 20, 'random_state': 42}</td>\n",
              "      <td>0.034202</td>\n",
              "      <td>5-14</td>\n",
              "      <td>[None, None, False]</td>\n",
              "    </tr>\n",
              "  </tbody>\n",
              "</table>\n",
              "</div>\n",
              "      <button class=\"colab-df-convert\" onclick=\"convertToInteractive('df-ac938a12-36dc-44ac-8dff-f160c6f51e7c')\"\n",
              "              title=\"Convert this dataframe to an interactive table.\"\n",
              "              style=\"display:none;\">\n",
              "        \n",
              "  <svg xmlns=\"http://www.w3.org/2000/svg\" height=\"24px\"viewBox=\"0 0 24 24\"\n",
              "       width=\"24px\">\n",
              "    <path d=\"M0 0h24v24H0V0z\" fill=\"none\"/>\n",
              "    <path d=\"M18.56 5.44l.94 2.06.94-2.06 2.06-.94-2.06-.94-.94-2.06-.94 2.06-2.06.94zm-11 1L8.5 8.5l.94-2.06 2.06-.94-2.06-.94L8.5 2.5l-.94 2.06-2.06.94zm10 10l.94 2.06.94-2.06 2.06-.94-2.06-.94-.94-2.06-.94 2.06-2.06.94z\"/><path d=\"M17.41 7.96l-1.37-1.37c-.4-.4-.92-.59-1.43-.59-.52 0-1.04.2-1.43.59L10.3 9.45l-7.72 7.72c-.78.78-.78 2.05 0 2.83L4 21.41c.39.39.9.59 1.41.59.51 0 1.02-.2 1.41-.59l7.78-7.78 2.81-2.81c.8-.78.8-2.07 0-2.86zM5.41 20L4 18.59l7.72-7.72 1.47 1.35L5.41 20z\"/>\n",
              "  </svg>\n",
              "      </button>\n",
              "      \n",
              "  <style>\n",
              "    .colab-df-container {\n",
              "      display:flex;\n",
              "      flex-wrap:wrap;\n",
              "      gap: 12px;\n",
              "    }\n",
              "\n",
              "    .colab-df-convert {\n",
              "      background-color: #E8F0FE;\n",
              "      border: none;\n",
              "      border-radius: 50%;\n",
              "      cursor: pointer;\n",
              "      display: none;\n",
              "      fill: #1967D2;\n",
              "      height: 32px;\n",
              "      padding: 0 0 0 0;\n",
              "      width: 32px;\n",
              "    }\n",
              "\n",
              "    .colab-df-convert:hover {\n",
              "      background-color: #E2EBFA;\n",
              "      box-shadow: 0px 1px 2px rgba(60, 64, 67, 0.3), 0px 1px 3px 1px rgba(60, 64, 67, 0.15);\n",
              "      fill: #174EA6;\n",
              "    }\n",
              "\n",
              "    [theme=dark] .colab-df-convert {\n",
              "      background-color: #3B4455;\n",
              "      fill: #D2E3FC;\n",
              "    }\n",
              "\n",
              "    [theme=dark] .colab-df-convert:hover {\n",
              "      background-color: #434B5C;\n",
              "      box-shadow: 0px 1px 3px 1px rgba(0, 0, 0, 0.15);\n",
              "      filter: drop-shadow(0px 1px 2px rgba(0, 0, 0, 0.3));\n",
              "      fill: #FFFFFF;\n",
              "    }\n",
              "  </style>\n",
              "\n",
              "      <script>\n",
              "        const buttonEl =\n",
              "          document.querySelector('#df-ac938a12-36dc-44ac-8dff-f160c6f51e7c button.colab-df-convert');\n",
              "        buttonEl.style.display =\n",
              "          google.colab.kernel.accessAllowed ? 'block' : 'none';\n",
              "\n",
              "        async function convertToInteractive(key) {\n",
              "          const element = document.querySelector('#df-ac938a12-36dc-44ac-8dff-f160c6f51e7c');\n",
              "          const dataTable =\n",
              "            await google.colab.kernel.invokeFunction('convertToInteractive',\n",
              "                                                     [key], {});\n",
              "          if (!dataTable) return;\n",
              "\n",
              "          const docLinkHtml = 'Like what you see? Visit the ' +\n",
              "            '<a target=\"_blank\" href=https://colab.research.google.com/notebooks/data_table.ipynb>data table notebook</a>'\n",
              "            + ' to learn more about interactive tables.';\n",
              "          element.innerHTML = '';\n",
              "          dataTable['output_type'] = 'display_data';\n",
              "          await google.colab.output.renderOutput(dataTable, element);\n",
              "          const docLink = document.createElement('div');\n",
              "          docLink.innerHTML = docLinkHtml;\n",
              "          element.appendChild(docLink);\n",
              "        }\n",
              "      </script>\n",
              "    </div>\n",
              "  </div>\n",
              "  "
            ]
          },
          "metadata": {},
          "execution_count": 33
        }
      ]
    },
    {
      "cell_type": "markdown",
      "source": [
        "## NTP-TW 5-21"
      ],
      "metadata": {
        "id": "3UW9xo9SaOrS"
      }
    },
    {
      "cell_type": "code",
      "source": [
        "(df_results[[\"Model\",\"mean_train_score\",\"mean_test_score\",\"params\",\"train_test\",\"ntp_tw\",\"dataset\"]]\n",
        " .query('ntp_tw == \"5-21\"')\n",
        " .sort_values([\"train_test\",\"mean_test_score\"],ascending=True)\n",
        " ).head(15)"
      ],
      "metadata": {
        "id": "fKGzdN_qZsin",
        "colab": {
          "base_uri": "https://localhost:8080/",
          "height": 824
        },
        "outputId": "dbaf49b2-0d54-4f1f-c5aa-bad9b91c8cb4"
      },
      "execution_count": null,
      "outputs": [
        {
          "output_type": "execute_result",
          "data": {
            "text/plain": [
              "                      Model  mean_train_score  mean_test_score  \\\n",
              "24   RandomForestClassifier          0.891743         0.890387   \n",
              "88   RandomForestClassifier          0.875679         0.871720   \n",
              "81   RandomForestClassifier          0.877017         0.871720   \n",
              "82   RandomForestClassifier          0.877017         0.871720   \n",
              "83   RandomForestClassifier          0.877017         0.871720   \n",
              "84   RandomForestClassifier          0.877017         0.871720   \n",
              "86   RandomForestClassifier          0.877017         0.871720   \n",
              "87   RandomForestClassifier          0.877017         0.871720   \n",
              "89   RandomForestClassifier          0.877017         0.871720   \n",
              "97   RandomForestClassifier          0.871585         0.866120   \n",
              "104  RandomForestClassifier          0.871585         0.866120   \n",
              "103  RandomForestClassifier          0.873001         0.866387   \n",
              "104  RandomForestClassifier          0.873001         0.866387   \n",
              "105  RandomForestClassifier          0.873001         0.866387   \n",
              "79   RandomForestClassifier          0.875679         0.869054   \n",
              "\n",
              "                                                                                params  \\\n",
              "24     {'max_depth': 3, 'min_samples_leaf': 3, 'n_estimators': 10, 'random_state': 42}   \n",
              "88    {'max_depth': 3, 'min_samples_leaf': 9, 'n_estimators': 170, 'random_state': 42}   \n",
              "81    {'max_depth': 3, 'min_samples_leaf': 9, 'n_estimators': 100, 'random_state': 42}   \n",
              "82    {'max_depth': 3, 'min_samples_leaf': 9, 'n_estimators': 110, 'random_state': 42}   \n",
              "83    {'max_depth': 3, 'min_samples_leaf': 9, 'n_estimators': 120, 'random_state': 42}   \n",
              "84    {'max_depth': 3, 'min_samples_leaf': 9, 'n_estimators': 130, 'random_state': 42}   \n",
              "86    {'max_depth': 3, 'min_samples_leaf': 9, 'n_estimators': 150, 'random_state': 42}   \n",
              "87    {'max_depth': 3, 'min_samples_leaf': 9, 'n_estimators': 160, 'random_state': 42}   \n",
              "89    {'max_depth': 3, 'min_samples_leaf': 9, 'n_estimators': 180, 'random_state': 42}   \n",
              "97    {'max_depth': 3, 'min_samples_leaf': 12, 'n_estimators': 20, 'random_state': 42}   \n",
              "104   {'max_depth': 3, 'min_samples_leaf': 12, 'n_estimators': 90, 'random_state': 42}   \n",
              "103   {'max_depth': 3, 'min_samples_leaf': 12, 'n_estimators': 80, 'random_state': 42}   \n",
              "104   {'max_depth': 3, 'min_samples_leaf': 12, 'n_estimators': 90, 'random_state': 42}   \n",
              "105  {'max_depth': 3, 'min_samples_leaf': 12, 'n_estimators': 100, 'random_state': 42}   \n",
              "79     {'max_depth': 3, 'min_samples_leaf': 9, 'n_estimators': 80, 'random_state': 42}   \n",
              "\n",
              "     train_test ntp_tw  \\\n",
              "24     0.001356   5-21   \n",
              "88     0.003958   5-21   \n",
              "81     0.005297   5-21   \n",
              "82     0.005297   5-21   \n",
              "83     0.005297   5-21   \n",
              "84     0.005297   5-21   \n",
              "86     0.005297   5-21   \n",
              "87     0.005297   5-21   \n",
              "89     0.005297   5-21   \n",
              "97     0.005464   5-21   \n",
              "104    0.005464   5-21   \n",
              "103    0.006614   5-21   \n",
              "104    0.006614   5-21   \n",
              "105    0.006614   5-21   \n",
              "79     0.006625   5-21   \n",
              "\n",
              "                                                                                          dataset  \n",
              "24   [False, [68, 69, 36, 53, 21, 20, 52, 5, 14, 4, 26, 15, 6, 58, 22, 47, 37, 19, 25, 38], True]  \n",
              "88   [False, [68, 69, 36, 53, 21, 20, 52, 5, 14, 4, 26, 15, 6, 58, 22, 47, 37, 19, 25, 38], True]  \n",
              "81   [False, [68, 69, 36, 53, 21, 20, 52, 5, 14, 4, 26, 15, 6, 58, 22, 47, 37, 19, 25, 38], True]  \n",
              "82   [False, [68, 69, 36, 53, 21, 20, 52, 5, 14, 4, 26, 15, 6, 58, 22, 47, 37, 19, 25, 38], True]  \n",
              "83   [False, [68, 69, 36, 53, 21, 20, 52, 5, 14, 4, 26, 15, 6, 58, 22, 47, 37, 19, 25, 38], True]  \n",
              "84   [False, [68, 69, 36, 53, 21, 20, 52, 5, 14, 4, 26, 15, 6, 58, 22, 47, 37, 19, 25, 38], True]  \n",
              "86   [False, [68, 69, 36, 53, 21, 20, 52, 5, 14, 4, 26, 15, 6, 58, 22, 47, 37, 19, 25, 38], True]  \n",
              "87   [False, [68, 69, 36, 53, 21, 20, 52, 5, 14, 4, 26, 15, 6, 58, 22, 47, 37, 19, 25, 38], True]  \n",
              "89   [False, [68, 69, 36, 53, 21, 20, 52, 5, 14, 4, 26, 15, 6, 58, 22, 47, 37, 19, 25, 38], True]  \n",
              "97   [False, [68, 69, 36, 53, 21, 20, 52, 5, 14, 4, 26, 15, 6, 58, 22, 47, 37, 19, 25, 38], True]  \n",
              "104  [False, [68, 69, 36, 53, 21, 20, 52, 5, 14, 4, 26, 15, 6, 58, 22, 47, 37, 19, 25, 38], True]  \n",
              "103  [False, [68, 69, 36, 53, 21, 20, 52, 5, 14, 4, 26, 15, 6, 58, 22, 47, 37, 19, 25, 38], True]  \n",
              "104  [False, [68, 69, 36, 53, 21, 20, 52, 5, 14, 4, 26, 15, 6, 58, 22, 47, 37, 19, 25, 38], True]  \n",
              "105  [False, [68, 69, 36, 53, 21, 20, 52, 5, 14, 4, 26, 15, 6, 58, 22, 47, 37, 19, 25, 38], True]  \n",
              "79   [False, [68, 69, 36, 53, 21, 20, 52, 5, 14, 4, 26, 15, 6, 58, 22, 47, 37, 19, 25, 38], True]  "
            ],
            "text/html": [
              "\n",
              "  <div id=\"df-cd742e76-b89c-40e3-8960-6bcc3bcfe10a\">\n",
              "    <div class=\"colab-df-container\">\n",
              "      <div>\n",
              "<style scoped>\n",
              "    .dataframe tbody tr th:only-of-type {\n",
              "        vertical-align: middle;\n",
              "    }\n",
              "\n",
              "    .dataframe tbody tr th {\n",
              "        vertical-align: top;\n",
              "    }\n",
              "\n",
              "    .dataframe thead th {\n",
              "        text-align: right;\n",
              "    }\n",
              "</style>\n",
              "<table border=\"1\" class=\"dataframe\">\n",
              "  <thead>\n",
              "    <tr style=\"text-align: right;\">\n",
              "      <th></th>\n",
              "      <th>Model</th>\n",
              "      <th>mean_train_score</th>\n",
              "      <th>mean_test_score</th>\n",
              "      <th>params</th>\n",
              "      <th>train_test</th>\n",
              "      <th>ntp_tw</th>\n",
              "      <th>dataset</th>\n",
              "    </tr>\n",
              "  </thead>\n",
              "  <tbody>\n",
              "    <tr>\n",
              "      <th>24</th>\n",
              "      <td>RandomForestClassifier</td>\n",
              "      <td>0.891743</td>\n",
              "      <td>0.890387</td>\n",
              "      <td>{'max_depth': 3, 'min_samples_leaf': 3, 'n_estimators': 10, 'random_state': 42}</td>\n",
              "      <td>0.001356</td>\n",
              "      <td>5-21</td>\n",
              "      <td>[False, [68, 69, 36, 53, 21, 20, 52, 5, 14, 4, 26, 15, 6, 58, 22, 47, 37, 19, 25, 38], True]</td>\n",
              "    </tr>\n",
              "    <tr>\n",
              "      <th>88</th>\n",
              "      <td>RandomForestClassifier</td>\n",
              "      <td>0.875679</td>\n",
              "      <td>0.871720</td>\n",
              "      <td>{'max_depth': 3, 'min_samples_leaf': 9, 'n_estimators': 170, 'random_state': 42}</td>\n",
              "      <td>0.003958</td>\n",
              "      <td>5-21</td>\n",
              "      <td>[False, [68, 69, 36, 53, 21, 20, 52, 5, 14, 4, 26, 15, 6, 58, 22, 47, 37, 19, 25, 38], True]</td>\n",
              "    </tr>\n",
              "    <tr>\n",
              "      <th>81</th>\n",
              "      <td>RandomForestClassifier</td>\n",
              "      <td>0.877017</td>\n",
              "      <td>0.871720</td>\n",
              "      <td>{'max_depth': 3, 'min_samples_leaf': 9, 'n_estimators': 100, 'random_state': 42}</td>\n",
              "      <td>0.005297</td>\n",
              "      <td>5-21</td>\n",
              "      <td>[False, [68, 69, 36, 53, 21, 20, 52, 5, 14, 4, 26, 15, 6, 58, 22, 47, 37, 19, 25, 38], True]</td>\n",
              "    </tr>\n",
              "    <tr>\n",
              "      <th>82</th>\n",
              "      <td>RandomForestClassifier</td>\n",
              "      <td>0.877017</td>\n",
              "      <td>0.871720</td>\n",
              "      <td>{'max_depth': 3, 'min_samples_leaf': 9, 'n_estimators': 110, 'random_state': 42}</td>\n",
              "      <td>0.005297</td>\n",
              "      <td>5-21</td>\n",
              "      <td>[False, [68, 69, 36, 53, 21, 20, 52, 5, 14, 4, 26, 15, 6, 58, 22, 47, 37, 19, 25, 38], True]</td>\n",
              "    </tr>\n",
              "    <tr>\n",
              "      <th>83</th>\n",
              "      <td>RandomForestClassifier</td>\n",
              "      <td>0.877017</td>\n",
              "      <td>0.871720</td>\n",
              "      <td>{'max_depth': 3, 'min_samples_leaf': 9, 'n_estimators': 120, 'random_state': 42}</td>\n",
              "      <td>0.005297</td>\n",
              "      <td>5-21</td>\n",
              "      <td>[False, [68, 69, 36, 53, 21, 20, 52, 5, 14, 4, 26, 15, 6, 58, 22, 47, 37, 19, 25, 38], True]</td>\n",
              "    </tr>\n",
              "    <tr>\n",
              "      <th>84</th>\n",
              "      <td>RandomForestClassifier</td>\n",
              "      <td>0.877017</td>\n",
              "      <td>0.871720</td>\n",
              "      <td>{'max_depth': 3, 'min_samples_leaf': 9, 'n_estimators': 130, 'random_state': 42}</td>\n",
              "      <td>0.005297</td>\n",
              "      <td>5-21</td>\n",
              "      <td>[False, [68, 69, 36, 53, 21, 20, 52, 5, 14, 4, 26, 15, 6, 58, 22, 47, 37, 19, 25, 38], True]</td>\n",
              "    </tr>\n",
              "    <tr>\n",
              "      <th>86</th>\n",
              "      <td>RandomForestClassifier</td>\n",
              "      <td>0.877017</td>\n",
              "      <td>0.871720</td>\n",
              "      <td>{'max_depth': 3, 'min_samples_leaf': 9, 'n_estimators': 150, 'random_state': 42}</td>\n",
              "      <td>0.005297</td>\n",
              "      <td>5-21</td>\n",
              "      <td>[False, [68, 69, 36, 53, 21, 20, 52, 5, 14, 4, 26, 15, 6, 58, 22, 47, 37, 19, 25, 38], True]</td>\n",
              "    </tr>\n",
              "    <tr>\n",
              "      <th>87</th>\n",
              "      <td>RandomForestClassifier</td>\n",
              "      <td>0.877017</td>\n",
              "      <td>0.871720</td>\n",
              "      <td>{'max_depth': 3, 'min_samples_leaf': 9, 'n_estimators': 160, 'random_state': 42}</td>\n",
              "      <td>0.005297</td>\n",
              "      <td>5-21</td>\n",
              "      <td>[False, [68, 69, 36, 53, 21, 20, 52, 5, 14, 4, 26, 15, 6, 58, 22, 47, 37, 19, 25, 38], True]</td>\n",
              "    </tr>\n",
              "    <tr>\n",
              "      <th>89</th>\n",
              "      <td>RandomForestClassifier</td>\n",
              "      <td>0.877017</td>\n",
              "      <td>0.871720</td>\n",
              "      <td>{'max_depth': 3, 'min_samples_leaf': 9, 'n_estimators': 180, 'random_state': 42}</td>\n",
              "      <td>0.005297</td>\n",
              "      <td>5-21</td>\n",
              "      <td>[False, [68, 69, 36, 53, 21, 20, 52, 5, 14, 4, 26, 15, 6, 58, 22, 47, 37, 19, 25, 38], True]</td>\n",
              "    </tr>\n",
              "    <tr>\n",
              "      <th>97</th>\n",
              "      <td>RandomForestClassifier</td>\n",
              "      <td>0.871585</td>\n",
              "      <td>0.866120</td>\n",
              "      <td>{'max_depth': 3, 'min_samples_leaf': 12, 'n_estimators': 20, 'random_state': 42}</td>\n",
              "      <td>0.005464</td>\n",
              "      <td>5-21</td>\n",
              "      <td>[False, [68, 69, 36, 53, 21, 20, 52, 5, 14, 4, 26, 15, 6, 58, 22, 47, 37, 19, 25, 38], True]</td>\n",
              "    </tr>\n",
              "    <tr>\n",
              "      <th>104</th>\n",
              "      <td>RandomForestClassifier</td>\n",
              "      <td>0.871585</td>\n",
              "      <td>0.866120</td>\n",
              "      <td>{'max_depth': 3, 'min_samples_leaf': 12, 'n_estimators': 90, 'random_state': 42}</td>\n",
              "      <td>0.005464</td>\n",
              "      <td>5-21</td>\n",
              "      <td>[False, [68, 69, 36, 53, 21, 20, 52, 5, 14, 4, 26, 15, 6, 58, 22, 47, 37, 19, 25, 38], True]</td>\n",
              "    </tr>\n",
              "    <tr>\n",
              "      <th>103</th>\n",
              "      <td>RandomForestClassifier</td>\n",
              "      <td>0.873001</td>\n",
              "      <td>0.866387</td>\n",
              "      <td>{'max_depth': 3, 'min_samples_leaf': 12, 'n_estimators': 80, 'random_state': 42}</td>\n",
              "      <td>0.006614</td>\n",
              "      <td>5-21</td>\n",
              "      <td>[False, [68, 69, 36, 53, 21, 20, 52, 5, 14, 4, 26, 15, 6, 58, 22, 47, 37, 19, 25, 38], True]</td>\n",
              "    </tr>\n",
              "    <tr>\n",
              "      <th>104</th>\n",
              "      <td>RandomForestClassifier</td>\n",
              "      <td>0.873001</td>\n",
              "      <td>0.866387</td>\n",
              "      <td>{'max_depth': 3, 'min_samples_leaf': 12, 'n_estimators': 90, 'random_state': 42}</td>\n",
              "      <td>0.006614</td>\n",
              "      <td>5-21</td>\n",
              "      <td>[False, [68, 69, 36, 53, 21, 20, 52, 5, 14, 4, 26, 15, 6, 58, 22, 47, 37, 19, 25, 38], True]</td>\n",
              "    </tr>\n",
              "    <tr>\n",
              "      <th>105</th>\n",
              "      <td>RandomForestClassifier</td>\n",
              "      <td>0.873001</td>\n",
              "      <td>0.866387</td>\n",
              "      <td>{'max_depth': 3, 'min_samples_leaf': 12, 'n_estimators': 100, 'random_state': 42}</td>\n",
              "      <td>0.006614</td>\n",
              "      <td>5-21</td>\n",
              "      <td>[False, [68, 69, 36, 53, 21, 20, 52, 5, 14, 4, 26, 15, 6, 58, 22, 47, 37, 19, 25, 38], True]</td>\n",
              "    </tr>\n",
              "    <tr>\n",
              "      <th>79</th>\n",
              "      <td>RandomForestClassifier</td>\n",
              "      <td>0.875679</td>\n",
              "      <td>0.869054</td>\n",
              "      <td>{'max_depth': 3, 'min_samples_leaf': 9, 'n_estimators': 80, 'random_state': 42}</td>\n",
              "      <td>0.006625</td>\n",
              "      <td>5-21</td>\n",
              "      <td>[False, [68, 69, 36, 53, 21, 20, 52, 5, 14, 4, 26, 15, 6, 58, 22, 47, 37, 19, 25, 38], True]</td>\n",
              "    </tr>\n",
              "  </tbody>\n",
              "</table>\n",
              "</div>\n",
              "      <button class=\"colab-df-convert\" onclick=\"convertToInteractive('df-cd742e76-b89c-40e3-8960-6bcc3bcfe10a')\"\n",
              "              title=\"Convert this dataframe to an interactive table.\"\n",
              "              style=\"display:none;\">\n",
              "        \n",
              "  <svg xmlns=\"http://www.w3.org/2000/svg\" height=\"24px\"viewBox=\"0 0 24 24\"\n",
              "       width=\"24px\">\n",
              "    <path d=\"M0 0h24v24H0V0z\" fill=\"none\"/>\n",
              "    <path d=\"M18.56 5.44l.94 2.06.94-2.06 2.06-.94-2.06-.94-.94-2.06-.94 2.06-2.06.94zm-11 1L8.5 8.5l.94-2.06 2.06-.94-2.06-.94L8.5 2.5l-.94 2.06-2.06.94zm10 10l.94 2.06.94-2.06 2.06-.94-2.06-.94-.94-2.06-.94 2.06-2.06.94z\"/><path d=\"M17.41 7.96l-1.37-1.37c-.4-.4-.92-.59-1.43-.59-.52 0-1.04.2-1.43.59L10.3 9.45l-7.72 7.72c-.78.78-.78 2.05 0 2.83L4 21.41c.39.39.9.59 1.41.59.51 0 1.02-.2 1.41-.59l7.78-7.78 2.81-2.81c.8-.78.8-2.07 0-2.86zM5.41 20L4 18.59l7.72-7.72 1.47 1.35L5.41 20z\"/>\n",
              "  </svg>\n",
              "      </button>\n",
              "      \n",
              "  <style>\n",
              "    .colab-df-container {\n",
              "      display:flex;\n",
              "      flex-wrap:wrap;\n",
              "      gap: 12px;\n",
              "    }\n",
              "\n",
              "    .colab-df-convert {\n",
              "      background-color: #E8F0FE;\n",
              "      border: none;\n",
              "      border-radius: 50%;\n",
              "      cursor: pointer;\n",
              "      display: none;\n",
              "      fill: #1967D2;\n",
              "      height: 32px;\n",
              "      padding: 0 0 0 0;\n",
              "      width: 32px;\n",
              "    }\n",
              "\n",
              "    .colab-df-convert:hover {\n",
              "      background-color: #E2EBFA;\n",
              "      box-shadow: 0px 1px 2px rgba(60, 64, 67, 0.3), 0px 1px 3px 1px rgba(60, 64, 67, 0.15);\n",
              "      fill: #174EA6;\n",
              "    }\n",
              "\n",
              "    [theme=dark] .colab-df-convert {\n",
              "      background-color: #3B4455;\n",
              "      fill: #D2E3FC;\n",
              "    }\n",
              "\n",
              "    [theme=dark] .colab-df-convert:hover {\n",
              "      background-color: #434B5C;\n",
              "      box-shadow: 0px 1px 3px 1px rgba(0, 0, 0, 0.15);\n",
              "      filter: drop-shadow(0px 1px 2px rgba(0, 0, 0, 0.3));\n",
              "      fill: #FFFFFF;\n",
              "    }\n",
              "  </style>\n",
              "\n",
              "      <script>\n",
              "        const buttonEl =\n",
              "          document.querySelector('#df-cd742e76-b89c-40e3-8960-6bcc3bcfe10a button.colab-df-convert');\n",
              "        buttonEl.style.display =\n",
              "          google.colab.kernel.accessAllowed ? 'block' : 'none';\n",
              "\n",
              "        async function convertToInteractive(key) {\n",
              "          const element = document.querySelector('#df-cd742e76-b89c-40e3-8960-6bcc3bcfe10a');\n",
              "          const dataTable =\n",
              "            await google.colab.kernel.invokeFunction('convertToInteractive',\n",
              "                                                     [key], {});\n",
              "          if (!dataTable) return;\n",
              "\n",
              "          const docLinkHtml = 'Like what you see? Visit the ' +\n",
              "            '<a target=\"_blank\" href=https://colab.research.google.com/notebooks/data_table.ipynb>data table notebook</a>'\n",
              "            + ' to learn more about interactive tables.';\n",
              "          element.innerHTML = '';\n",
              "          dataTable['output_type'] = 'display_data';\n",
              "          await google.colab.output.renderOutput(dataTable, element);\n",
              "          const docLink = document.createElement('div');\n",
              "          docLink.innerHTML = docLinkHtml;\n",
              "          element.appendChild(docLink);\n",
              "        }\n",
              "      </script>\n",
              "    </div>\n",
              "  </div>\n",
              "  "
            ]
          },
          "metadata": {},
          "execution_count": 34
        }
      ]
    },
    {
      "cell_type": "code",
      "source": [
        "# dtreeviz(clf, \n",
        "#          X_train, \n",
        "#          y_train,\n",
        "#          target_name=\"target\",\n",
        "#          feature_names=to.cont_names,\n",
        "#          class_names=['DAI', 'USDC', 'USDT'],)"
      ],
      "metadata": {
        "id": "pYSkLFdgsCsU"
      },
      "execution_count": null,
      "outputs": []
    },
    {
      "cell_type": "code",
      "source": [
        "assert 1 == 0"
      ],
      "metadata": {
        "id": "kXToLDbKZ77l",
        "colab": {
          "base_uri": "https://localhost:8080/",
          "height": 167
        },
        "outputId": "3a5f1a0c-a76b-413e-e13e-fbeaac2efce2"
      },
      "execution_count": null,
      "outputs": [
        {
          "output_type": "error",
          "ename": "AssertionError",
          "evalue": "ignored",
          "traceback": [
            "\u001b[0;31m---------------------------------------------------------------------------\u001b[0m",
            "\u001b[0;31mAssertionError\u001b[0m                            Traceback (most recent call last)",
            "\u001b[0;32m<ipython-input-36-e99f91a18d62>\u001b[0m in \u001b[0;36m<module>\u001b[0;34m()\u001b[0m\n\u001b[0;32m----> 1\u001b[0;31m \u001b[0;32massert\u001b[0m \u001b[0;36m1\u001b[0m \u001b[0;34m==\u001b[0m \u001b[0;36m0\u001b[0m\u001b[0;34m\u001b[0m\u001b[0;34m\u001b[0m\u001b[0m\n\u001b[0m",
            "\u001b[0;31mAssertionError\u001b[0m: "
          ]
        }
      ]
    },
    {
      "cell_type": "markdown",
      "source": [
        "## Save Models"
      ],
      "metadata": {
        "id": "aDM3KlJgH8Fm"
      }
    },
    {
      "cell_type": "code",
      "source": [
        "def save_models(ss,le,model,model_name,ntp,tw):\n",
        "    save_pickle(path/f'Classification/sklearn/ss_{ntp}_{tw}.pkl', ss)\n",
        "    save_pickle(path/f'Classification/sklearn/le_{ntp}_{tw}.pkl', le)\n",
        "    save_pickle(path/f'Classification/sklearn/{model_name}_{ntp}_{tw}.pkl', model)\n",
        "\n",
        "def load_predict(ss,le,rfc):\n",
        "    df, x_train, x_test, y_train, y_test, ss, le  = get_tabpandas_multi(df1, 5, 7)\n",
        "    x_train = ss.transform(x_train)\n",
        "    x_test = ss.transform(x_test)\n",
        "\n",
        "    train_preds = rfc.predict(x_train)\n",
        "    train_preds = le.inverse_transform(train_preds)\n",
        "    test_preds = rfc.predict(x_test)\n",
        "    test_preds = le.inverse_transform(test_preds)\n",
        "    y_train = le.inverse_transform(y_train)\n",
        "    y_test = le.inverse_transform(y_test)\n",
        "\n",
        "    plot_confusion_matrix(y_train, train_preds),plot_confusion_matrix(y_test, test_preds)\n",
        "\n"
      ],
      "metadata": {
        "id": "EPzAznZRiL04"
      },
      "execution_count": null,
      "outputs": []
    },
    {
      "cell_type": "code",
      "source": [
        "df, x_train, x_test, y_train, y_test, ss, le  = get_tabpandas_multi(df1, 5, 7,stratify_sample=True)\n",
        "\n",
        "a,b = np.unique(y_train,return_counts=True)\n",
        "c,d = np.unique(y_test,return_counts=True)\n"
      ],
      "metadata": {
        "id": "DHB4Qms-tak2"
      },
      "execution_count": null,
      "outputs": []
    },
    {
      "cell_type": "code",
      "source": [
        "a,b"
      ],
      "metadata": {
        "id": "Muf4JdqF8ZmP"
      },
      "execution_count": null,
      "outputs": []
    },
    {
      "cell_type": "code",
      "source": [
        "c,d"
      ],
      "metadata": {
        "id": "IGHDYYSU8gA1"
      },
      "execution_count": null,
      "outputs": []
    },
    {
      "cell_type": "code",
      "source": [
        ""
      ],
      "metadata": {
        "id": "TGAyzjGE0ejm"
      },
      "execution_count": null,
      "outputs": []
    },
    {
      "cell_type": "code",
      "source": [
        "clf = GradientBoostingClassifier(learning_rate=0.05, n_estimators=60, random_state=42)\n",
        "\n",
        "test_df = get_tabpandas_multi(df1, 5, 7,inference=True).sample(100)\n",
        "\n",
        "train_size = 0.80\n",
        "L = int(len(test_df)*train_size)\n",
        "\n",
        "x_test = test_df.iloc[L:, :-4]\n",
        "y_test = test_df.iloc[L:, -4]\n",
        "\n",
        "\n",
        "ss = load_pickle(path/'Classification/sklearn/ss_5_7.pkl')\n",
        "le = load_pickle(path/'Classification/sklearn/le_5_7.pkl')\n",
        "rfc = load_pickle(path/'Classification/sklearn/RandomForestClassifier_5_7.pkl')\n",
        "\n",
        "\n",
        "x_test = ss.transform(x_test)\n",
        "preds = rfc.predict(x_test)\n",
        "preds = le.inverse_transform(preds)\n",
        "\n",
        "\n",
        "print(recall_score(y_test,preds,average=\"micro\"))\n",
        "\n",
        "plot_confusion_matrix(y_test, preds)\n",
        "\n",
        "save_models(ss,le,clf,type(clf).__name__ +,5,7)"
      ],
      "metadata": {
        "id": "RkWX-QMhtkS5"
      },
      "execution_count": null,
      "outputs": []
    },
    {
      "cell_type": "code",
      "source": [
        "preds"
      ],
      "metadata": {
        "id": "h9-nsPkVOvpD"
      },
      "execution_count": null,
      "outputs": []
    },
    {
      "cell_type": "code",
      "source": [
        "assert 1 == 0"
      ],
      "metadata": {
        "id": "AZqbKvDssEa6"
      },
      "execution_count": null,
      "outputs": []
    },
    {
      "cell_type": "code",
      "source": [
        ""
      ],
      "metadata": {
        "id": "wlYHKFejIDPH"
      },
      "execution_count": null,
      "outputs": []
    },
    {
      "cell_type": "markdown",
      "source": [
        "## Random Forest"
      ],
      "metadata": {
        "id": "jn7_4WXR2HcM"
      }
    },
    {
      "cell_type": "code",
      "source": [
        "for i in range(30,151, 10):\n",
        "    clf = RandomForestClassifier(n_estimators=i,random_state=RANDOM_STATE)\n",
        "    clf = clf.fit(x_train, y_train)\n",
        "    train_preds = clf.predict(x_train)\n",
        "    test_preds = clf.predict(x_test)\n",
        "    print(f\"n_estimators: {i}\")\n",
        "    plot_confusion_matrix(y_train, train_preds),plot_confusion_matrix(y_test, test_preds)\n",
        "    save_pickle('rfc_5_7.pkl', clf)"
      ],
      "metadata": {
        "id": "R3gUlseu1Q2A"
      },
      "execution_count": null,
      "outputs": []
    },
    {
      "cell_type": "code",
      "source": [
        "def rf_feat_importance(m, df):\n",
        "    return pd.DataFrame({'cols':df.columns, 'imp':m.feature_importances_}\n",
        "                       ).sort_values('imp', ascending=False)\n",
        "\n",
        "clf = RandomForestClassifier(n_estimators=60)\n",
        "clf = clf.fit(X_train, y_train)\n",
        "preds = clf.predict(X_valid)\n",
        "\n",
        "fi = rf_feat_importance(clf, X_train)\n",
        "fi[:20]"
      ],
      "metadata": {
        "id": "mV45gpEA2je-"
      },
      "execution_count": null,
      "outputs": []
    },
    {
      "cell_type": "code",
      "source": [
        "top20features = list(fi[:20].cols)"
      ],
      "metadata": {
        "id": "P7ugN1oM4Bgm"
      },
      "execution_count": null,
      "outputs": []
    },
    {
      "cell_type": "code",
      "source": [
        "X_train_sel = x_train[top20features]\n",
        "X_valid_sel = x_test[top20features]"
      ],
      "metadata": {
        "id": "4XIqQmCb4sdh"
      },
      "execution_count": null,
      "outputs": []
    },
    {
      "cell_type": "code",
      "source": [
        "clf = RandomForestClassifier(n_estimators=60)\n",
        "clf = clf.fit(X_train_sel, y_train)\n",
        "train_preds = clf.predict(X_train_sel)\n",
        "test_preds = clf.predict(X_valid_sel)\n",
        "\n",
        "save_pickle('rfc_ft20_5_7.pkl', clf)"
      ],
      "metadata": {
        "id": "sCu3iBuZ4y9y"
      },
      "execution_count": null,
      "outputs": []
    },
    {
      "cell_type": "code",
      "source": [
        "plot_confusion_matrix(y_train, train_preds),plot_confusion_matrix(y_test, test_preds)"
      ],
      "metadata": {
        "id": "QYXgOPZF5I0p"
      },
      "execution_count": null,
      "outputs": []
    },
    {
      "cell_type": "code",
      "source": [
        "bottom20features = list(fi[-20:].cols)\n",
        "X_train_unsel = x_train[bottom20features]\n",
        "X_valid_unsel = x_test[bottom20features]\n",
        "\n",
        "clf = RandomForestClassifier(n_estimators=60)\n",
        "clf = clf.fit(X_train_unsel, y_train)\n",
        "\n",
        "train_preds = clf.predict(X_train_unsel)\n",
        "test_preds = clf.predict(X_valid_unsel)\n",
        "\n",
        "plot_confusion_matrix(y_train, train_preds),plot_confusion_matrix(y_test, test_preds)"
      ],
      "metadata": {
        "id": "jEqJuX_r5NQg"
      },
      "execution_count": null,
      "outputs": []
    },
    {
      "cell_type": "code",
      "source": [
        "clf = AdaBoostClassifier(n_estimators=60)\n",
        "clf = clf.fit(X_train, y_train)\n",
        "preds = clf.predict(X_valid)\n",
        "\n",
        "plot_confusion_matrix(y_valid, preds)"
      ],
      "metadata": {
        "id": "YH2grKox56Ug"
      },
      "execution_count": null,
      "outputs": []
    },
    {
      "cell_type": "code",
      "source": [
        "#best so far??\n",
        "clf = GradientBoostingClassifier(n_estimators=60, \n",
        "                                 learning_rate=0.1)\n",
        "clf = clf.fit(X_train, y_train)\n",
        "preds = clf.predict(X_valid)\n",
        "\n",
        "plot_confusion_matrix(y_valid, preds)"
      ],
      "metadata": {
        "id": "0jUhMHZ66Xn0"
      },
      "execution_count": null,
      "outputs": []
    },
    {
      "cell_type": "markdown",
      "source": [
        "## target_window = 14"
      ],
      "metadata": {
        "id": "wM21zjgk51Uh"
      }
    },
    {
      "cell_type": "code",
      "source": [
        "df, to, dls = get_tabpandas_multi(df1, 14, 5)"
      ],
      "metadata": {
        "id": "hZB522ih5vbF"
      },
      "execution_count": null,
      "outputs": []
    },
    {
      "cell_type": "code",
      "source": [
        "X_train = to.train.xs\n",
        "y_train = to.train.y\n",
        "X_valid = to.valid.xs\n",
        "y_valid = to.valid.y"
      ],
      "metadata": {
        "id": "FKR0MRovBvID"
      },
      "execution_count": null,
      "outputs": []
    },
    {
      "cell_type": "code",
      "source": [
        "y_train.value_counts()"
      ],
      "metadata": {
        "id": "Z39sc761CIN9"
      },
      "execution_count": null,
      "outputs": []
    },
    {
      "cell_type": "code",
      "source": [
        "y_valid.value_counts()"
      ],
      "metadata": {
        "id": "uq3ShacVCAFT"
      },
      "execution_count": null,
      "outputs": []
    },
    {
      "cell_type": "code",
      "source": [
        "clf = GradientBoostingClassifier(n_estimators=60, \n",
        "                                 learning_rate=0.1)\n",
        "clf = clf.fit(X_train, y_train)\n",
        "preds = clf.predict(X_valid)\n",
        "\n",
        "plot_confusion_matrix(y_valid, preds)"
      ],
      "metadata": {
        "id": "fEZHJDmSBqlM"
      },
      "execution_count": null,
      "outputs": []
    },
    {
      "cell_type": "code",
      "source": [
        "clf = RandomForestClassifier(n_estimators=60)\n",
        "clf = clf.fit(X_train, y_train)\n",
        "preds = clf.predict(X_valid)\n",
        "\n",
        "plot_confusion_matrix(y_valid, preds)"
      ],
      "metadata": {
        "id": "LmVhD9h5Bzh1"
      },
      "execution_count": null,
      "outputs": []
    },
    {
      "cell_type": "markdown",
      "source": [
        "## target_window = 21"
      ],
      "metadata": {
        "id": "fwQlPVxxCNjC"
      }
    },
    {
      "cell_type": "code",
      "source": [
        "df, to, dls = get_tabpandas_multi(df1, 21, 5)\n",
        "X_train = to.train.xs\n",
        "y_train = to.train.y\n",
        "X_valid = to.valid.xs\n",
        "y_valid = to.valid.y"
      ],
      "metadata": {
        "id": "Z-zs1YgEB70D"
      },
      "execution_count": null,
      "outputs": []
    },
    {
      "cell_type": "code",
      "source": [
        "y_train.value_counts()"
      ],
      "metadata": {
        "id": "dHZB6xJTCVzN"
      },
      "execution_count": null,
      "outputs": []
    },
    {
      "cell_type": "code",
      "source": [
        "y_valid.value_counts()"
      ],
      "metadata": {
        "id": "m1hEnG60CZpT"
      },
      "execution_count": null,
      "outputs": []
    },
    {
      "cell_type": "code",
      "source": [
        "clf = GradientBoostingClassifier(n_estimators=60, \n",
        "                                 learning_rate=0.1)\n",
        "clf = clf.fit(X_train, y_train)\n",
        "preds = clf.predict(X_valid)\n",
        "\n",
        "plot_confusion_matrix(y_valid, preds)"
      ],
      "metadata": {
        "id": "1E09HChaCb4Q"
      },
      "execution_count": null,
      "outputs": []
    },
    {
      "cell_type": "code",
      "source": [
        "clf = RandomForestClassifier(n_estimators=60)\n",
        "clf = clf.fit(X_train, y_train)\n",
        "preds = clf.predict(X_valid)\n",
        "\n",
        "plot_confusion_matrix(y_valid, preds)"
      ],
      "metadata": {
        "id": "R2r18SpAChpd"
      },
      "execution_count": null,
      "outputs": []
    },
    {
      "cell_type": "code",
      "source": [
        ""
      ],
      "metadata": {
        "id": "zkeDl3abCjsq"
      },
      "execution_count": null,
      "outputs": []
    }
  ],
  "metadata": {
    "colab": {
      "collapsed_sections": [],
      "name": "arshy_compound_data_daily_v1_VGStrategy_Modeling.ipynb",
      "provenance": [],
      "machine_shape": "hm",
      "background_execution": "on"
    },
    "kernelspec": {
      "display_name": "Python 3",
      "name": "python3"
    },
    "language_info": {
      "name": "python"
    }
  },
  "nbformat": 4,
  "nbformat_minor": 0
}