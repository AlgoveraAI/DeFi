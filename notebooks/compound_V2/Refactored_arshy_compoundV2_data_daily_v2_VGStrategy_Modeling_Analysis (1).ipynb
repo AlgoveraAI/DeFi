{
  "cells": [
    {
      "cell_type": "markdown",
      "metadata": {
        "id": "7RP6VC7XO4w_"
      },
      "source": [
        "In this notebook,\n",
        "- convert to daily data\n",
        "- Use VG's strategy - to predict lowest borrow rate for a given time\n",
        "- Start with basic models "
      ]
    },
    {
      "cell_type": "markdown",
      "metadata": {
        "id": "hEutfQT2C0Dm"
      },
      "source": [
        "# Install Libraries and imports"
      ]
    },
    {
      "cell_type": "code",
      "execution_count": 1,
      "metadata": {
        "id": "UQB1u844B1O3"
      },
      "outputs": [],
      "source": [
        "!pip install fastai -Uqq"
      ]
    },
    {
      "cell_type": "code",
      "execution_count": 2,
      "metadata": {
        "id": "F7CG5XgSC3_l"
      },
      "outputs": [],
      "source": [
        "from fastai.tabular.all import *\n",
        "import seaborn as sns\n",
        "from tqdm import tqdm\n",
        "from sklearn.metrics import r2_score\n",
        "from torch.utils.data import Dataset\n",
        "\n",
        "from sklearn.preprocessing import StandardScaler, LabelEncoder\n",
        "from sklearn.metrics import ConfusionMatrixDisplay,confusion_matrix\n",
        "from sklearn.ensemble import AdaBoostClassifier, GradientBoostingClassifier, RandomForestClassifier\n",
        "from sklearn.tree import DecisionTreeClassifier\n",
        "from sklearn.model_selection import train_test_split"
      ]
    },
    {
      "cell_type": "code",
      "execution_count": 3,
      "metadata": {
        "id": "yBtp7W_hnc6X"
      },
      "outputs": [],
      "source": [
        "RANDOM_STATE = 42"
      ]
    },
    {
      "cell_type": "markdown",
      "source": [
        "# IPFS Functions to upload models, scalers, label encoders, and data\n",
        "\n",
        "* Because of the feature filtering some model and hp require scalers a scaler fit on top 20 features or all 44 features"
      ],
      "metadata": {
        "id": "wd5wPbq1L3xk"
      }
    },
    {
      "cell_type": "code",
      "source": [
        "\n",
        "from pinataapi import pin,unpin,edit_hash,get_pinned_files,get_pinned_jobs\n",
        "from nftstorage import NFTStorage\n",
        "import json\n",
        "\n",
        "def createMetadata(ntp_tw,add_metadata):\n",
        "    metadata_dict = {\"keyvalues\":{}}\n",
        "    metadata_dict[\"keyvalues\"].update({\"dao\":\"Defi_Squad\"})\n",
        "    metadata_dict[\"keyvalues\"].update({\"protocol\":\"Compound\"})\n",
        "    metadata_dict[\"keyvalues\"].update({\"network\":\"Mainnet\"})\n",
        "    metadata_dict[\"keyvalues\"].update({\"ntp_tw\":str(ntp_tw)})\n",
        "    metadata_dict[\"keyvalues\"].update(add_metadata)\n",
        "\n",
        "    return metadata_dict\n",
        "\n",
        "\n",
        "NS = NFTStorage()\n",
        "ns_creds = NS.get_creds()\n",
        "\n",
        "with open(\"creds.json\") as f:\n",
        "\n",
        "    p_creds = json.loads(f.read())[\"Pinata\"][\"JWT\"]\n",
        "\n",
        "\n",
        "def upload_ipfs(fpath,NS,ns_creds,p_creds,p_metadata):\n",
        "\n",
        "    r_json, rs = NS.upload_file(ns_creds,fpath)\n",
        "\n",
        "    cid = r_json[\"value\"][\"cid\"]\n",
        "\n",
        "    print(cid)\n",
        "\n",
        "    # rs = unpin(p_creds,cid)\n",
        "\n",
        "    r, rj = pin(p_creds,cid)\n",
        "\n",
        "    r, rs = edit_hash(p_creds,cid,p_metadata)\n",
        "\n",
        "    print(r.text)\n",
        "\n",
        "    return cid"
      ],
      "metadata": {
        "id": "JtLGa37XL3CT"
      },
      "execution_count": 4,
      "outputs": []
    },
    {
      "cell_type": "markdown",
      "metadata": {
        "id": "re2UnGQiC6PF"
      },
      "source": [
        "# Google Drive"
      ]
    },
    {
      "cell_type": "code",
      "execution_count": 5,
      "metadata": {
        "id": "KAuBPc_hC4-B",
        "colab": {
          "base_uri": "https://localhost:8080/"
        },
        "outputId": "45483e50-274f-49ac-8a89-24b3306827ff"
      },
      "outputs": [
        {
          "output_type": "stream",
          "name": "stdout",
          "text": [
            "Mounted at /content/drive\n"
          ]
        }
      ],
      "source": [
        "from google.colab import drive\n",
        "drive.mount('/content/drive')"
      ]
    },
    {
      "cell_type": "code",
      "execution_count": 58,
      "metadata": {
        "id": "UENKSyqgC-Jb"
      },
      "outputs": [],
      "source": [
        "from pathlib import Path\n",
        "path = Path('/content/drive/MyDrive/colab_notebooks/algovera/defi')"
      ]
    },
    {
      "cell_type": "markdown",
      "metadata": {
        "id": "hfHYyEpOC9HT"
      },
      "source": [
        "# Preparing the data"
      ]
    },
    {
      "cell_type": "code",
      "execution_count": 59,
      "metadata": {
        "id": "5lZIJkbIC7p6",
        "colab": {
          "base_uri": "https://localhost:8080/"
        },
        "outputId": "8d43a726-e5a9-4ff1-8b83-20f6738a15ba"
      },
      "outputs": [
        {
          "output_type": "execute_result",
          "data": {
            "text/plain": [
              "array(['USDC', 'ETH', 'DAI', 'USDT'], dtype=object)"
            ]
          },
          "metadata": {},
          "execution_count": 59
        }
      ],
      "source": [
        "df_init = pd.read_csv(path/'/content/drive/MyDrive/Algovera_DataLake/30_compoundV2_mainnet_2021_2022.csv')\n",
        "tokens = df_init[\"underlyingSymbol\"].unique()\n",
        "tokens"
      ]
    },
    {
      "cell_type": "code",
      "source": [
        "dataset_dict = {\"keyvalues\":{}}\n",
        "dataset_dict[\"keyvalues\"].update({\"version\":\"V1\"})\n",
        "dataset_dict[\"keyvalues\"].update({\"overall\":str({\"dao\":\"DefiSquad\",\"protocol\":\"Compound\",\"network\":\"Mainnet\"})})\n",
        "dataset_dict[\"keyvalues\"].update({\"type\":\"Sample_Dataset\"})\n",
        "dataset_dict[\"keyvalues\"].update({\"condition\":\"Raw\"})\n",
        "dataset_dict[\"keyvalues\"].update({\"dateRange\":\"Jan2021-May102021\"})"
      ],
      "metadata": {
        "id": "zp4qscl2MEJY"
      },
      "execution_count": 8,
      "outputs": []
    },
    {
      "cell_type": "code",
      "source": [
        "dataset_dict"
      ],
      "metadata": {
        "colab": {
          "base_uri": "https://localhost:8080/"
        },
        "id": "Yzt-nO2yQt0O",
        "outputId": "08891a91-0aec-410f-e837-2b18a77a114b"
      },
      "execution_count": 9,
      "outputs": [
        {
          "output_type": "execute_result",
          "data": {
            "text/plain": [
              "{'keyvalues': {'condition': 'Raw',\n",
              "  'dateRange': 'Jan2021-May102021',\n",
              "  'overall': \"{'dao': 'DefiSquad', 'protocol': 'Compound', 'network': 'Mainnet'}\",\n",
              "  'type': 'Sample_Dataset',\n",
              "  'version': 'V1'}}"
            ]
          },
          "metadata": {},
          "execution_count": 9
        }
      ]
    },
    {
      "cell_type": "code",
      "source": [
        "df_init.head(5).to_csv(\"sample.csv\",index=False)"
      ],
      "metadata": {
        "id": "nCvD8729Qkev"
      },
      "execution_count": 10,
      "outputs": []
    },
    {
      "cell_type": "code",
      "source": [
        "upload_ipfs('sample.csv',NS,ns_creds,p_creds,dataset_dict)"
      ],
      "metadata": {
        "colab": {
          "base_uri": "https://localhost:8080/",
          "height": 70
        },
        "id": "7Vt-uuG0PT9d",
        "outputId": "ceddefe1-6624-4dd5-9b6e-d6412798de16"
      },
      "execution_count": 11,
      "outputs": [
        {
          "output_type": "stream",
          "name": "stdout",
          "text": [
            "bafkreihthqliqh4mjrfatyfkclm3joccne3hlwor74rxplzb6ylyu6rz2i\n",
            "OK\n"
          ]
        },
        {
          "output_type": "execute_result",
          "data": {
            "text/plain": [
              "'bafkreihthqliqh4mjrfatyfkclm3joccne3hlwor74rxplzb6ylyu6rz2i'"
            ],
            "application/vnd.google.colaboratory.intrinsic+json": {
              "type": "string"
            }
          },
          "metadata": {},
          "execution_count": 11
        }
      ]
    },
    {
      "cell_type": "code",
      "source": [
        "df_init.info()"
      ],
      "metadata": {
        "colab": {
          "base_uri": "https://localhost:8080/"
        },
        "id": "brg9kJ_TiHX9",
        "outputId": "5124c22e-82b7-4ce0-fc0f-b0b65e8a4a3e"
      },
      "execution_count": 12,
      "outputs": [
        {
          "output_type": "stream",
          "name": "stdout",
          "text": [
            "<class 'pandas.core.frame.DataFrame'>\n",
            "RangeIndex: 188772 entries, 0 to 188771\n",
            "Data columns (total 20 columns):\n",
            " #   Column                    Non-Null Count   Dtype  \n",
            "---  ------                    --------------   -----  \n",
            " 0   id                        188772 non-null  object \n",
            " 1   borrowRate                188772 non-null  float64\n",
            " 2   cash                      188772 non-null  float64\n",
            " 3   collateralFactor          188772 non-null  float64\n",
            " 4   exchangeRate              188772 non-null  float64\n",
            " 5   interestRateModelAddress  188772 non-null  object \n",
            " 6   name                      188772 non-null  object \n",
            " 7   reserves                  188772 non-null  float64\n",
            " 8   supplyRate                188772 non-null  float64\n",
            " 9   symbol                    188772 non-null  object \n",
            " 10  totalBorrows              188772 non-null  float64\n",
            " 11  totalSupply               188772 non-null  float64\n",
            " 12  underlyingAddress         188772 non-null  object \n",
            " 13  underlyingName            188772 non-null  object \n",
            " 14  underlyingPrice           188772 non-null  float64\n",
            " 15  underlyingSymbol          188772 non-null  object \n",
            " 16  reserveFactor             188772 non-null  int64  \n",
            " 17  underlyingPriceUSD        188772 non-null  float64\n",
            " 18  timestamp                 188772 non-null  int64  \n",
            " 19  Date                      188772 non-null  object \n",
            "dtypes: float64(10), int64(2), object(8)\n",
            "memory usage: 28.8+ MB\n"
          ]
        }
      ]
    },
    {
      "cell_type": "code",
      "source": [
        "list(df_init.columns)"
      ],
      "metadata": {
        "colab": {
          "base_uri": "https://localhost:8080/"
        },
        "id": "uv_SyprGndfb",
        "outputId": "089a533b-837a-4f8d-b142-1f760fb66cc0"
      },
      "execution_count": 13,
      "outputs": [
        {
          "output_type": "execute_result",
          "data": {
            "text/plain": [
              "['id',\n",
              " 'borrowRate',\n",
              " 'cash',\n",
              " 'collateralFactor',\n",
              " 'exchangeRate',\n",
              " 'interestRateModelAddress',\n",
              " 'name',\n",
              " 'reserves',\n",
              " 'supplyRate',\n",
              " 'symbol',\n",
              " 'totalBorrows',\n",
              " 'totalSupply',\n",
              " 'underlyingAddress',\n",
              " 'underlyingName',\n",
              " 'underlyingPrice',\n",
              " 'underlyingSymbol',\n",
              " 'reserveFactor',\n",
              " 'underlyingPriceUSD',\n",
              " 'timestamp',\n",
              " 'Date']"
            ]
          },
          "metadata": {},
          "execution_count": 13
        }
      ]
    },
    {
      "cell_type": "code",
      "source": [
        "df_init[\"underlyingSymbol\"].value_counts()"
      ],
      "metadata": {
        "colab": {
          "base_uri": "https://localhost:8080/"
        },
        "id": "hJqJv9RGxpil",
        "outputId": "244c4e09-ace0-44b9-cd7e-5e79e58dee78"
      },
      "execution_count": 14,
      "outputs": [
        {
          "output_type": "execute_result",
          "data": {
            "text/plain": [
              "USDC    47193\n",
              "ETH     47193\n",
              "DAI     47193\n",
              "USDT    47193\n",
              "Name: underlyingSymbol, dtype: int64"
            ]
          },
          "metadata": {},
          "execution_count": 14
        }
      ]
    },
    {
      "cell_type": "code",
      "execution_count": 15,
      "metadata": {
        "id": "GR_C0qhjDIZg"
      },
      "outputs": [],
      "source": [
        "df = df_init.drop_duplicates(['timestamp', 'underlyingSymbol'])\n",
        "counts = pd.DataFrame(df['timestamp'].value_counts()).reset_index()\n",
        "counts.columns = ['timestamp', 'Counts']\n",
        "df = df.merge(counts, on='timestamp')"
      ]
    },
    {
      "cell_type": "code",
      "execution_count": 16,
      "metadata": {
        "id": "S-zRVOK7DRDv"
      },
      "outputs": [],
      "source": [
        "df = df[df['Counts'] == 4].drop('Counts', axis=1).reset_index(drop=True)"
      ]
    },
    {
      "cell_type": "code",
      "source": [
        "df"
      ],
      "metadata": {
        "colab": {
          "base_uri": "https://localhost:8080/",
          "height": 835
        },
        "id": "WPu8oTqYsbKm",
        "outputId": "af4abd8c-5647-4ae0-a7ab-c10de40c93e7"
      },
      "execution_count": 17,
      "outputs": [
        {
          "output_type": "execute_result",
          "data": {
            "text/plain": [
              "                                                id  borrowRate          cash  \\\n",
              "0       0x39aa39c021dfbae8fac545936693ac917d5e7563    0.094380  1.090111e+08   \n",
              "1       0x4ddc2d193948926d02f9b1fe9e1daa0718270ed5    0.023622  1.040458e+06   \n",
              "2       0x5d3a536e4d6dbd6114cc1ead35777bab948e3643    0.107785  1.630969e+08   \n",
              "3       0xf650c3d88d12db855b8bf7d11be6c55a4e07dcc9    0.133510  1.051888e+07   \n",
              "4       0xf650c3d88d12db855b8bf7d11be6c55a4e07dcc9    0.132843  1.058156e+07   \n",
              "...                                            ...         ...           ...   \n",
              "188767  0x39aa39c021dfbae8fac545936693ac917d5e7563    0.023084  7.629603e+08   \n",
              "188768  0xf650c3d88d12db855b8bf7d11be6c55a4e07dcc9    0.023990  3.972378e+08   \n",
              "188769  0x5d3a536e4d6dbd6114cc1ead35777bab948e3643    0.030936  3.997360e+08   \n",
              "188770  0x4ddc2d193948926d02f9b1fe9e1daa0718270ed5    0.022284  8.175917e+05   \n",
              "188771  0x39aa39c021dfbae8fac545936693ac917d5e7563    0.023084  7.629611e+08   \n",
              "\n",
              "        collateralFactor  exchangeRate  \\\n",
              "0                  0.750      0.021379   \n",
              "1                  0.750      0.020030   \n",
              "2                  0.750      0.020877   \n",
              "3                  0.000      0.020484   \n",
              "4                  0.000      0.020484   \n",
              "...                  ...           ...   \n",
              "188767             0.800      0.022600   \n",
              "188768             0.000      0.021830   \n",
              "188769             0.800      0.021993   \n",
              "188770             0.825      0.020063   \n",
              "188771             0.800      0.022600   \n",
              "\n",
              "                          interestRateModelAddress               name  \\\n",
              "0       0xd8ec56013ea119e7181d231e5048f90fbbe753c0  Compound USD Coin   \n",
              "1       0x0c3f8df27e1a00b47653fde878d68d35f00714c0     Compound Ether   \n",
              "2       0xfb564da37b41b2f6b6edcc3e56fbf523bd9f2012       Compound Dai   \n",
              "3       0xfb564da37b41b2f6b6edcc3e56fbf523bd9f2012      Compound USDT   \n",
              "4       0xfb564da37b41b2f6b6edcc3e56fbf523bd9f2012      Compound USDT   \n",
              "...                                            ...                ...   \n",
              "188767  0xd8ec56013ea119e7181d231e5048f90fbbe753c0  Compound USD Coin   \n",
              "188768  0xfb564da37b41b2f6b6edcc3e56fbf523bd9f2012      Compound USDT   \n",
              "188769  0xfb564da37b41b2f6b6edcc3e56fbf523bd9f2012       Compound Dai   \n",
              "188770  0x0c3f8df27e1a00b47653fde878d68d35f00714c0     Compound Ether   \n",
              "188771  0xd8ec56013ea119e7181d231e5048f90fbbe753c0  Compound USD Coin   \n",
              "\n",
              "            reserves  supplyRate symbol  totalBorrows   totalSupply  \\\n",
              "0       4.897860e+05    0.074197  cUSDC  6.144258e+08  3.381572e+10   \n",
              "1       1.118526e+02    0.000685   cETH  3.910705e+04  5.389069e+07   \n",
              "2       1.724288e+06    0.078992   cDAI  1.009593e+09  5.608807e+10   \n",
              "3       1.731669e+05    0.109392  cUSDT  8.023823e+07  4.422259e+09   \n",
              "4       1.732111e+05    0.108771  cUSDT  8.023882e+07  4.425319e+09   \n",
              "...              ...         ...    ...           ...           ...   \n",
              "188767  1.320519e+07    0.009858  cUSDC  6.430360e+08  6.162774e+10   \n",
              "188768  2.992297e+06    0.010647  cUSDT  3.636335e+08  3.471759e+10   \n",
              "188769  2.079132e+07    0.016269   cDAI  6.149108e+08  4.519029e+10   \n",
              "188770  6.887464e+02    0.000407   cETH  1.910877e+04  4.166977e+07   \n",
              "188771  1.320523e+07    0.009858  cUSDC  6.430356e+08  6.162774e+10   \n",
              "\n",
              "                                 underlyingAddress  underlyingName  \\\n",
              "0       0xa0b86991c6218b36c1d19d4a2e9eb0ce3606eb48          USD//C   \n",
              "1       0x0000000000000000000000000000000000000000           Ether   \n",
              "2       0x6b175474e89094c44da98b954eedeac495271d0f  Dai Stablecoin   \n",
              "3       0xdac17f958d2ee523a2206206994597c13d831ec7      Tether USD   \n",
              "4       0xdac17f958d2ee523a2206206994597c13d831ec7      Tether USD   \n",
              "...                                            ...             ...   \n",
              "188767  0xa0b86991c6218b36c1d19d4a2e9eb0ce3606eb48          USD//C   \n",
              "188768  0xdac17f958d2ee523a2206206994597c13d831ec7      Tether USD   \n",
              "188769  0x6b175474e89094c44da98b954eedeac495271d0f  Dai Stablecoin   \n",
              "188770  0x0000000000000000000000000000000000000000           Ether   \n",
              "188771  0xa0b86991c6218b36c1d19d4a2e9eb0ce3606eb48          USD//C   \n",
              "\n",
              "        underlyingPrice underlyingSymbol       reserveFactor  \\\n",
              "0              0.001336             USDC   75000000000000000   \n",
              "1              1.000000              ETH  200000000000000000   \n",
              "2              0.001341              DAI  150000000000000000   \n",
              "3              0.001336             USDT   75000000000000000   \n",
              "4              0.001336             USDT   75000000000000000   \n",
              "...                 ...              ...                 ...   \n",
              "188767         0.000418             USDC   75000000000000000   \n",
              "188768         0.000423             USDT   75000000000000000   \n",
              "188769         0.000419              DAI  150000000000000000   \n",
              "188770         1.000000              ETH  200000000000000000   \n",
              "188771         0.000418             USDC   75000000000000000   \n",
              "\n",
              "        underlyingPriceUSD   timestamp                 Date  \n",
              "0                 1.000000  1609471800  2021-01-01 03:30:00  \n",
              "1               748.490000  1609471800  2021-01-01 03:30:00  \n",
              "2                 1.003733  1609471800  2021-01-01 03:30:00  \n",
              "3                 1.000000  1609471800  2021-01-01 03:30:00  \n",
              "4                 1.000000  1609473600  2021-01-01 04:00:00  \n",
              "...                    ...         ...                  ...  \n",
              "188767            1.000000  1652207400  2022-05-10 18:30:00  \n",
              "188768            1.000000  1652208200  2022-05-10 18:43:20  \n",
              "188769            0.999569  1652208200  2022-05-10 18:43:20  \n",
              "188770         2386.928252  1652208200  2022-05-10 18:43:20  \n",
              "188771            1.000000  1652208200  2022-05-10 18:43:20  \n",
              "\n",
              "[188772 rows x 20 columns]"
            ],
            "text/html": [
              "\n",
              "  <div id=\"df-30d34efd-58f2-4f08-908d-04eaeea15e64\">\n",
              "    <div class=\"colab-df-container\">\n",
              "      <div>\n",
              "<style scoped>\n",
              "    .dataframe tbody tr th:only-of-type {\n",
              "        vertical-align: middle;\n",
              "    }\n",
              "\n",
              "    .dataframe tbody tr th {\n",
              "        vertical-align: top;\n",
              "    }\n",
              "\n",
              "    .dataframe thead th {\n",
              "        text-align: right;\n",
              "    }\n",
              "</style>\n",
              "<table border=\"1\" class=\"dataframe\">\n",
              "  <thead>\n",
              "    <tr style=\"text-align: right;\">\n",
              "      <th></th>\n",
              "      <th>id</th>\n",
              "      <th>borrowRate</th>\n",
              "      <th>cash</th>\n",
              "      <th>collateralFactor</th>\n",
              "      <th>exchangeRate</th>\n",
              "      <th>interestRateModelAddress</th>\n",
              "      <th>name</th>\n",
              "      <th>reserves</th>\n",
              "      <th>supplyRate</th>\n",
              "      <th>symbol</th>\n",
              "      <th>totalBorrows</th>\n",
              "      <th>totalSupply</th>\n",
              "      <th>underlyingAddress</th>\n",
              "      <th>underlyingName</th>\n",
              "      <th>underlyingPrice</th>\n",
              "      <th>underlyingSymbol</th>\n",
              "      <th>reserveFactor</th>\n",
              "      <th>underlyingPriceUSD</th>\n",
              "      <th>timestamp</th>\n",
              "      <th>Date</th>\n",
              "    </tr>\n",
              "  </thead>\n",
              "  <tbody>\n",
              "    <tr>\n",
              "      <th>0</th>\n",
              "      <td>0x39aa39c021dfbae8fac545936693ac917d5e7563</td>\n",
              "      <td>0.094380</td>\n",
              "      <td>1.090111e+08</td>\n",
              "      <td>0.750</td>\n",
              "      <td>0.021379</td>\n",
              "      <td>0xd8ec56013ea119e7181d231e5048f90fbbe753c0</td>\n",
              "      <td>Compound USD Coin</td>\n",
              "      <td>4.897860e+05</td>\n",
              "      <td>0.074197</td>\n",
              "      <td>cUSDC</td>\n",
              "      <td>6.144258e+08</td>\n",
              "      <td>3.381572e+10</td>\n",
              "      <td>0xa0b86991c6218b36c1d19d4a2e9eb0ce3606eb48</td>\n",
              "      <td>USD//C</td>\n",
              "      <td>0.001336</td>\n",
              "      <td>USDC</td>\n",
              "      <td>75000000000000000</td>\n",
              "      <td>1.000000</td>\n",
              "      <td>1609471800</td>\n",
              "      <td>2021-01-01 03:30:00</td>\n",
              "    </tr>\n",
              "    <tr>\n",
              "      <th>1</th>\n",
              "      <td>0x4ddc2d193948926d02f9b1fe9e1daa0718270ed5</td>\n",
              "      <td>0.023622</td>\n",
              "      <td>1.040458e+06</td>\n",
              "      <td>0.750</td>\n",
              "      <td>0.020030</td>\n",
              "      <td>0x0c3f8df27e1a00b47653fde878d68d35f00714c0</td>\n",
              "      <td>Compound Ether</td>\n",
              "      <td>1.118526e+02</td>\n",
              "      <td>0.000685</td>\n",
              "      <td>cETH</td>\n",
              "      <td>3.910705e+04</td>\n",
              "      <td>5.389069e+07</td>\n",
              "      <td>0x0000000000000000000000000000000000000000</td>\n",
              "      <td>Ether</td>\n",
              "      <td>1.000000</td>\n",
              "      <td>ETH</td>\n",
              "      <td>200000000000000000</td>\n",
              "      <td>748.490000</td>\n",
              "      <td>1609471800</td>\n",
              "      <td>2021-01-01 03:30:00</td>\n",
              "    </tr>\n",
              "    <tr>\n",
              "      <th>2</th>\n",
              "      <td>0x5d3a536e4d6dbd6114cc1ead35777bab948e3643</td>\n",
              "      <td>0.107785</td>\n",
              "      <td>1.630969e+08</td>\n",
              "      <td>0.750</td>\n",
              "      <td>0.020877</td>\n",
              "      <td>0xfb564da37b41b2f6b6edcc3e56fbf523bd9f2012</td>\n",
              "      <td>Compound Dai</td>\n",
              "      <td>1.724288e+06</td>\n",
              "      <td>0.078992</td>\n",
              "      <td>cDAI</td>\n",
              "      <td>1.009593e+09</td>\n",
              "      <td>5.608807e+10</td>\n",
              "      <td>0x6b175474e89094c44da98b954eedeac495271d0f</td>\n",
              "      <td>Dai Stablecoin</td>\n",
              "      <td>0.001341</td>\n",
              "      <td>DAI</td>\n",
              "      <td>150000000000000000</td>\n",
              "      <td>1.003733</td>\n",
              "      <td>1609471800</td>\n",
              "      <td>2021-01-01 03:30:00</td>\n",
              "    </tr>\n",
              "    <tr>\n",
              "      <th>3</th>\n",
              "      <td>0xf650c3d88d12db855b8bf7d11be6c55a4e07dcc9</td>\n",
              "      <td>0.133510</td>\n",
              "      <td>1.051888e+07</td>\n",
              "      <td>0.000</td>\n",
              "      <td>0.020484</td>\n",
              "      <td>0xfb564da37b41b2f6b6edcc3e56fbf523bd9f2012</td>\n",
              "      <td>Compound USDT</td>\n",
              "      <td>1.731669e+05</td>\n",
              "      <td>0.109392</td>\n",
              "      <td>cUSDT</td>\n",
              "      <td>8.023823e+07</td>\n",
              "      <td>4.422259e+09</td>\n",
              "      <td>0xdac17f958d2ee523a2206206994597c13d831ec7</td>\n",
              "      <td>Tether USD</td>\n",
              "      <td>0.001336</td>\n",
              "      <td>USDT</td>\n",
              "      <td>75000000000000000</td>\n",
              "      <td>1.000000</td>\n",
              "      <td>1609471800</td>\n",
              "      <td>2021-01-01 03:30:00</td>\n",
              "    </tr>\n",
              "    <tr>\n",
              "      <th>4</th>\n",
              "      <td>0xf650c3d88d12db855b8bf7d11be6c55a4e07dcc9</td>\n",
              "      <td>0.132843</td>\n",
              "      <td>1.058156e+07</td>\n",
              "      <td>0.000</td>\n",
              "      <td>0.020484</td>\n",
              "      <td>0xfb564da37b41b2f6b6edcc3e56fbf523bd9f2012</td>\n",
              "      <td>Compound USDT</td>\n",
              "      <td>1.732111e+05</td>\n",
              "      <td>0.108771</td>\n",
              "      <td>cUSDT</td>\n",
              "      <td>8.023882e+07</td>\n",
              "      <td>4.425319e+09</td>\n",
              "      <td>0xdac17f958d2ee523a2206206994597c13d831ec7</td>\n",
              "      <td>Tether USD</td>\n",
              "      <td>0.001336</td>\n",
              "      <td>USDT</td>\n",
              "      <td>75000000000000000</td>\n",
              "      <td>1.000000</td>\n",
              "      <td>1609473600</td>\n",
              "      <td>2021-01-01 04:00:00</td>\n",
              "    </tr>\n",
              "    <tr>\n",
              "      <th>...</th>\n",
              "      <td>...</td>\n",
              "      <td>...</td>\n",
              "      <td>...</td>\n",
              "      <td>...</td>\n",
              "      <td>...</td>\n",
              "      <td>...</td>\n",
              "      <td>...</td>\n",
              "      <td>...</td>\n",
              "      <td>...</td>\n",
              "      <td>...</td>\n",
              "      <td>...</td>\n",
              "      <td>...</td>\n",
              "      <td>...</td>\n",
              "      <td>...</td>\n",
              "      <td>...</td>\n",
              "      <td>...</td>\n",
              "      <td>...</td>\n",
              "      <td>...</td>\n",
              "      <td>...</td>\n",
              "      <td>...</td>\n",
              "    </tr>\n",
              "    <tr>\n",
              "      <th>188767</th>\n",
              "      <td>0x39aa39c021dfbae8fac545936693ac917d5e7563</td>\n",
              "      <td>0.023084</td>\n",
              "      <td>7.629603e+08</td>\n",
              "      <td>0.800</td>\n",
              "      <td>0.022600</td>\n",
              "      <td>0xd8ec56013ea119e7181d231e5048f90fbbe753c0</td>\n",
              "      <td>Compound USD Coin</td>\n",
              "      <td>1.320519e+07</td>\n",
              "      <td>0.009858</td>\n",
              "      <td>cUSDC</td>\n",
              "      <td>6.430360e+08</td>\n",
              "      <td>6.162774e+10</td>\n",
              "      <td>0xa0b86991c6218b36c1d19d4a2e9eb0ce3606eb48</td>\n",
              "      <td>USD//C</td>\n",
              "      <td>0.000418</td>\n",
              "      <td>USDC</td>\n",
              "      <td>75000000000000000</td>\n",
              "      <td>1.000000</td>\n",
              "      <td>1652207400</td>\n",
              "      <td>2022-05-10 18:30:00</td>\n",
              "    </tr>\n",
              "    <tr>\n",
              "      <th>188768</th>\n",
              "      <td>0xf650c3d88d12db855b8bf7d11be6c55a4e07dcc9</td>\n",
              "      <td>0.023990</td>\n",
              "      <td>3.972378e+08</td>\n",
              "      <td>0.000</td>\n",
              "      <td>0.021830</td>\n",
              "      <td>0xfb564da37b41b2f6b6edcc3e56fbf523bd9f2012</td>\n",
              "      <td>Compound USDT</td>\n",
              "      <td>2.992297e+06</td>\n",
              "      <td>0.010647</td>\n",
              "      <td>cUSDT</td>\n",
              "      <td>3.636335e+08</td>\n",
              "      <td>3.471759e+10</td>\n",
              "      <td>0xdac17f958d2ee523a2206206994597c13d831ec7</td>\n",
              "      <td>Tether USD</td>\n",
              "      <td>0.000423</td>\n",
              "      <td>USDT</td>\n",
              "      <td>75000000000000000</td>\n",
              "      <td>1.000000</td>\n",
              "      <td>1652208200</td>\n",
              "      <td>2022-05-10 18:43:20</td>\n",
              "    </tr>\n",
              "    <tr>\n",
              "      <th>188769</th>\n",
              "      <td>0x5d3a536e4d6dbd6114cc1ead35777bab948e3643</td>\n",
              "      <td>0.030936</td>\n",
              "      <td>3.997360e+08</td>\n",
              "      <td>0.800</td>\n",
              "      <td>0.021993</td>\n",
              "      <td>0xfb564da37b41b2f6b6edcc3e56fbf523bd9f2012</td>\n",
              "      <td>Compound Dai</td>\n",
              "      <td>2.079132e+07</td>\n",
              "      <td>0.016269</td>\n",
              "      <td>cDAI</td>\n",
              "      <td>6.149108e+08</td>\n",
              "      <td>4.519029e+10</td>\n",
              "      <td>0x6b175474e89094c44da98b954eedeac495271d0f</td>\n",
              "      <td>Dai Stablecoin</td>\n",
              "      <td>0.000419</td>\n",
              "      <td>DAI</td>\n",
              "      <td>150000000000000000</td>\n",
              "      <td>0.999569</td>\n",
              "      <td>1652208200</td>\n",
              "      <td>2022-05-10 18:43:20</td>\n",
              "    </tr>\n",
              "    <tr>\n",
              "      <th>188770</th>\n",
              "      <td>0x4ddc2d193948926d02f9b1fe9e1daa0718270ed5</td>\n",
              "      <td>0.022284</td>\n",
              "      <td>8.175917e+05</td>\n",
              "      <td>0.825</td>\n",
              "      <td>0.020063</td>\n",
              "      <td>0x0c3f8df27e1a00b47653fde878d68d35f00714c0</td>\n",
              "      <td>Compound Ether</td>\n",
              "      <td>6.887464e+02</td>\n",
              "      <td>0.000407</td>\n",
              "      <td>cETH</td>\n",
              "      <td>1.910877e+04</td>\n",
              "      <td>4.166977e+07</td>\n",
              "      <td>0x0000000000000000000000000000000000000000</td>\n",
              "      <td>Ether</td>\n",
              "      <td>1.000000</td>\n",
              "      <td>ETH</td>\n",
              "      <td>200000000000000000</td>\n",
              "      <td>2386.928252</td>\n",
              "      <td>1652208200</td>\n",
              "      <td>2022-05-10 18:43:20</td>\n",
              "    </tr>\n",
              "    <tr>\n",
              "      <th>188771</th>\n",
              "      <td>0x39aa39c021dfbae8fac545936693ac917d5e7563</td>\n",
              "      <td>0.023084</td>\n",
              "      <td>7.629611e+08</td>\n",
              "      <td>0.800</td>\n",
              "      <td>0.022600</td>\n",
              "      <td>0xd8ec56013ea119e7181d231e5048f90fbbe753c0</td>\n",
              "      <td>Compound USD Coin</td>\n",
              "      <td>1.320523e+07</td>\n",
              "      <td>0.009858</td>\n",
              "      <td>cUSDC</td>\n",
              "      <td>6.430356e+08</td>\n",
              "      <td>6.162774e+10</td>\n",
              "      <td>0xa0b86991c6218b36c1d19d4a2e9eb0ce3606eb48</td>\n",
              "      <td>USD//C</td>\n",
              "      <td>0.000418</td>\n",
              "      <td>USDC</td>\n",
              "      <td>75000000000000000</td>\n",
              "      <td>1.000000</td>\n",
              "      <td>1652208200</td>\n",
              "      <td>2022-05-10 18:43:20</td>\n",
              "    </tr>\n",
              "  </tbody>\n",
              "</table>\n",
              "<p>188772 rows × 20 columns</p>\n",
              "</div>\n",
              "      <button class=\"colab-df-convert\" onclick=\"convertToInteractive('df-30d34efd-58f2-4f08-908d-04eaeea15e64')\"\n",
              "              title=\"Convert this dataframe to an interactive table.\"\n",
              "              style=\"display:none;\">\n",
              "        \n",
              "  <svg xmlns=\"http://www.w3.org/2000/svg\" height=\"24px\"viewBox=\"0 0 24 24\"\n",
              "       width=\"24px\">\n",
              "    <path d=\"M0 0h24v24H0V0z\" fill=\"none\"/>\n",
              "    <path d=\"M18.56 5.44l.94 2.06.94-2.06 2.06-.94-2.06-.94-.94-2.06-.94 2.06-2.06.94zm-11 1L8.5 8.5l.94-2.06 2.06-.94-2.06-.94L8.5 2.5l-.94 2.06-2.06.94zm10 10l.94 2.06.94-2.06 2.06-.94-2.06-.94-.94-2.06-.94 2.06-2.06.94z\"/><path d=\"M17.41 7.96l-1.37-1.37c-.4-.4-.92-.59-1.43-.59-.52 0-1.04.2-1.43.59L10.3 9.45l-7.72 7.72c-.78.78-.78 2.05 0 2.83L4 21.41c.39.39.9.59 1.41.59.51 0 1.02-.2 1.41-.59l7.78-7.78 2.81-2.81c.8-.78.8-2.07 0-2.86zM5.41 20L4 18.59l7.72-7.72 1.47 1.35L5.41 20z\"/>\n",
              "  </svg>\n",
              "      </button>\n",
              "      \n",
              "  <style>\n",
              "    .colab-df-container {\n",
              "      display:flex;\n",
              "      flex-wrap:wrap;\n",
              "      gap: 12px;\n",
              "    }\n",
              "\n",
              "    .colab-df-convert {\n",
              "      background-color: #E8F0FE;\n",
              "      border: none;\n",
              "      border-radius: 50%;\n",
              "      cursor: pointer;\n",
              "      display: none;\n",
              "      fill: #1967D2;\n",
              "      height: 32px;\n",
              "      padding: 0 0 0 0;\n",
              "      width: 32px;\n",
              "    }\n",
              "\n",
              "    .colab-df-convert:hover {\n",
              "      background-color: #E2EBFA;\n",
              "      box-shadow: 0px 1px 2px rgba(60, 64, 67, 0.3), 0px 1px 3px 1px rgba(60, 64, 67, 0.15);\n",
              "      fill: #174EA6;\n",
              "    }\n",
              "\n",
              "    [theme=dark] .colab-df-convert {\n",
              "      background-color: #3B4455;\n",
              "      fill: #D2E3FC;\n",
              "    }\n",
              "\n",
              "    [theme=dark] .colab-df-convert:hover {\n",
              "      background-color: #434B5C;\n",
              "      box-shadow: 0px 1px 3px 1px rgba(0, 0, 0, 0.15);\n",
              "      filter: drop-shadow(0px 1px 2px rgba(0, 0, 0, 0.3));\n",
              "      fill: #FFFFFF;\n",
              "    }\n",
              "  </style>\n",
              "\n",
              "      <script>\n",
              "        const buttonEl =\n",
              "          document.querySelector('#df-30d34efd-58f2-4f08-908d-04eaeea15e64 button.colab-df-convert');\n",
              "        buttonEl.style.display =\n",
              "          google.colab.kernel.accessAllowed ? 'block' : 'none';\n",
              "\n",
              "        async function convertToInteractive(key) {\n",
              "          const element = document.querySelector('#df-30d34efd-58f2-4f08-908d-04eaeea15e64');\n",
              "          const dataTable =\n",
              "            await google.colab.kernel.invokeFunction('convertToInteractive',\n",
              "                                                     [key], {});\n",
              "          if (!dataTable) return;\n",
              "\n",
              "          const docLinkHtml = 'Like what you see? Visit the ' +\n",
              "            '<a target=\"_blank\" href=https://colab.research.google.com/notebooks/data_table.ipynb>data table notebook</a>'\n",
              "            + ' to learn more about interactive tables.';\n",
              "          element.innerHTML = '';\n",
              "          dataTable['output_type'] = 'display_data';\n",
              "          await google.colab.output.renderOutput(dataTable, element);\n",
              "          const docLink = document.createElement('div');\n",
              "          docLink.innerHTML = docLinkHtml;\n",
              "          element.appendChild(docLink);\n",
              "        }\n",
              "      </script>\n",
              "    </div>\n",
              "  </div>\n",
              "  "
            ]
          },
          "metadata": {},
          "execution_count": 17
        }
      ]
    },
    {
      "cell_type": "code",
      "source": [
        "df[\"timestamp\"].max()"
      ],
      "metadata": {
        "colab": {
          "base_uri": "https://localhost:8080/"
        },
        "id": "jdHJY1ppIE85",
        "outputId": "54b28256-6a13-4152-ebff-bcecaf44f6e6"
      },
      "execution_count": 18,
      "outputs": [
        {
          "output_type": "execute_result",
          "data": {
            "text/plain": [
              "1652208200"
            ]
          },
          "metadata": {},
          "execution_count": 18
        }
      ]
    },
    {
      "cell_type": "markdown",
      "source": [
        "## Shows these two methods are the same"
      ],
      "metadata": {
        "id": "_4ITni48BHfe"
      }
    },
    {
      "cell_type": "code",
      "execution_count": 19,
      "metadata": {
        "id": "OH3FaWIjDSF1"
      },
      "outputs": [],
      "source": [
        "def transform_timeseries(df):\n",
        "\n",
        "    df1 = pd.DataFrame()\n",
        "    for tok in tokens:\n",
        "        df_tok = df[df['underlyingSymbol']==tok]\n",
        "        df_tok = df_tok.drop(['underlyingSymbol'], axis=1)\n",
        "\n",
        "        col_names = []\n",
        "        for col in df_tok.columns:\n",
        "            if col == 'timestamp':\n",
        "                col_names.append(f'{col}')\n",
        "            else:\n",
        "                col_names.append(f'{tok}_{col}')\n",
        "            \n",
        "        df_tok.columns = col_names\n",
        "        df_tok = df_tok.set_index('timestamp', drop=True)\n",
        "        \n",
        "        if df1.empty:\n",
        "            df1 = df_tok\n",
        "        else:\n",
        "            df1 = pd.merge(df1, df_tok, on='timestamp')\n",
        "\n",
        "    return df1.reset_index()"
      ]
    },
    {
      "cell_type": "code",
      "source": [
        "#Transform Dataset to columnar\n",
        "def columnar(df):\n",
        "\n",
        "    pivot_df = pd.pivot(df,index=[\"timestamp\",\"Date\"],columns=[\"underlyingSymbol\"])\n",
        "\n",
        "    pivot_df.columns = [\"_\".join(reversed(col)) for col in  pivot_df.columns]\n",
        "\n",
        "    return pivot_df.reset_index()"
      ],
      "metadata": {
        "id": "GLnELiQFpz-V"
      },
      "execution_count": 20,
      "outputs": []
    },
    {
      "cell_type": "code",
      "execution_count": 21,
      "metadata": {
        "id": "ZcisokmCDTTc"
      },
      "outputs": [],
      "source": [
        "df1 = transform_timeseries(df).sort_values('timestamp')\n",
        "\n",
        "df1[\"Date\"] = pd.to_datetime(df1[\"timestamp\"], unit='s', origin='unix')\n",
        "\n",
        "# resample to daily data - here using the mean value \n",
        "df1_day = df1.resample('D', on='Date').mean().reset_index()\n",
        "\n",
        "df1_comp = df1_day[sorted(df1_day.columns)]"
      ]
    },
    {
      "cell_type": "code",
      "source": [
        "df1_comp.shape"
      ],
      "metadata": {
        "colab": {
          "base_uri": "https://localhost:8080/"
        },
        "id": "67x3hk_NDOJ8",
        "outputId": "1516f1bd-5221-4aeb-9afd-58497f5734f2"
      },
      "execution_count": 22,
      "outputs": [
        {
          "output_type": "execute_result",
          "data": {
            "text/plain": [
              "(495, 46)"
            ]
          },
          "metadata": {},
          "execution_count": 22
        }
      ]
    },
    {
      "cell_type": "code",
      "source": [
        "%%timeit\n",
        "df1 = transform_timeseries(df)"
      ],
      "metadata": {
        "colab": {
          "base_uri": "https://localhost:8080/"
        },
        "id": "U0JaPRmsD2hl",
        "outputId": "1c245485-ea10-4f3c-d99a-c19bfe48c119"
      },
      "execution_count": 23,
      "outputs": [
        {
          "output_type": "stream",
          "name": "stdout",
          "text": [
            "1 loop, best of 5: 346 ms per loop\n"
          ]
        }
      ]
    },
    {
      "cell_type": "code",
      "source": [
        "%%timeit\n",
        "df_columnar = columnar(df)"
      ],
      "metadata": {
        "colab": {
          "base_uri": "https://localhost:8080/"
        },
        "id": "uovK7PhhDwnw",
        "outputId": "d5a501b1-5650-4f26-bcbf-d5bc7523ac88"
      },
      "execution_count": 24,
      "outputs": [
        {
          "output_type": "stream",
          "name": "stdout",
          "text": [
            "1 loop, best of 5: 201 ms per loop\n"
          ]
        }
      ]
    },
    {
      "cell_type": "code",
      "source": [
        "df_columnar = columnar(df).sort_values('timestamp')\n",
        "\n",
        "df_columnar[\"Date\"] = pd.to_datetime(df_columnar[\"timestamp\"], unit='s', origin='unix')\n",
        "\n",
        "# resample to daily data - here using the mean value \n",
        "df_columnar_day = df_columnar.resample('D', on='Date').mean().reset_index()\n",
        "\n",
        "df_columnar_comp = df_columnar_day[sorted(df_columnar_day.columns)]"
      ],
      "metadata": {
        "id": "hOLrrJ0F5eXI"
      },
      "execution_count": 25,
      "outputs": []
    },
    {
      "cell_type": "code",
      "source": [
        "df_columnar_comp.shape"
      ],
      "metadata": {
        "colab": {
          "base_uri": "https://localhost:8080/"
        },
        "id": "DFsdeAsjDQZ0",
        "outputId": "b36a24c5-c9c0-479d-e945-873c58a12051"
      },
      "execution_count": 26,
      "outputs": [
        {
          "output_type": "execute_result",
          "data": {
            "text/plain": [
              "(495, 46)"
            ]
          },
          "metadata": {},
          "execution_count": 26
        }
      ]
    },
    {
      "cell_type": "markdown",
      "source": [
        "### Illustrate difference in approaches"
      ],
      "metadata": {
        "id": "51G7WrhVBS8p"
      }
    },
    {
      "cell_type": "code",
      "execution_count": 27,
      "metadata": {
        "colab": {
          "base_uri": "https://localhost:8080/"
        },
        "id": "olUB9EClb1ue",
        "outputId": "21948b03-4a01-458f-b52d-e7cd2b5ee703"
      },
      "outputs": [
        {
          "output_type": "execute_result",
          "data": {
            "text/plain": [
              "DAI_borrowRate                         0.0\n",
              "DAI_cash                               0.0\n",
              "DAI_collateralFactor                   0.0\n",
              "DAI_exchangeRate                       0.0\n",
              "DAI_reserveFactor                      0.0\n",
              "DAI_reserves                           0.0\n",
              "DAI_supplyRate                         0.0\n",
              "DAI_totalBorrows                       0.0\n",
              "DAI_totalSupply                        0.0\n",
              "DAI_underlyingPrice                    0.0\n",
              "DAI_underlyingPriceUSD                 0.0\n",
              "Date                       0 days 00:00:00\n",
              "ETH_borrowRate                         0.0\n",
              "ETH_cash                               0.0\n",
              "ETH_collateralFactor                   0.0\n",
              "ETH_exchangeRate                       0.0\n",
              "ETH_reserveFactor                      0.0\n",
              "ETH_reserves                           0.0\n",
              "ETH_supplyRate                         0.0\n",
              "ETH_totalBorrows                       0.0\n",
              "ETH_totalSupply                        0.0\n",
              "ETH_underlyingPrice                    0.0\n",
              "ETH_underlyingPriceUSD                 0.0\n",
              "USDC_borrowRate                        0.0\n",
              "USDC_cash                              0.0\n",
              "USDC_collateralFactor                  0.0\n",
              "USDC_exchangeRate                      0.0\n",
              "USDC_reserveFactor                     0.0\n",
              "USDC_reserves                          0.0\n",
              "USDC_supplyRate                        0.0\n",
              "USDC_totalBorrows                      0.0\n",
              "USDC_totalSupply                       0.0\n",
              "USDC_underlyingPrice                   0.0\n",
              "USDC_underlyingPriceUSD                0.0\n",
              "USDT_borrowRate                        0.0\n",
              "USDT_cash                              0.0\n",
              "USDT_collateralFactor                  0.0\n",
              "USDT_exchangeRate                      0.0\n",
              "USDT_reserveFactor                     0.0\n",
              "USDT_reserves                          0.0\n",
              "USDT_supplyRate                        0.0\n",
              "USDT_totalBorrows                      0.0\n",
              "USDT_totalSupply                       0.0\n",
              "USDT_underlyingPrice                   0.0\n",
              "USDT_underlyingPriceUSD                0.0\n",
              "timestamp                              0.0\n",
              "dtype: object"
            ]
          },
          "metadata": {},
          "execution_count": 27
        }
      ],
      "source": [
        "(df1_comp - df_columnar_comp).sum()"
      ]
    },
    {
      "cell_type": "code",
      "source": [
        "(df_columnar_comp - df1_comp).sum()"
      ],
      "metadata": {
        "colab": {
          "base_uri": "https://localhost:8080/"
        },
        "id": "qW4nNI5cC_Et",
        "outputId": "c3ed4a97-f30b-4a33-8416-65f26652af55"
      },
      "execution_count": 28,
      "outputs": [
        {
          "output_type": "execute_result",
          "data": {
            "text/plain": [
              "DAI_borrowRate                         0.0\n",
              "DAI_cash                               0.0\n",
              "DAI_collateralFactor                   0.0\n",
              "DAI_exchangeRate                       0.0\n",
              "DAI_reserveFactor                      0.0\n",
              "DAI_reserves                           0.0\n",
              "DAI_supplyRate                         0.0\n",
              "DAI_totalBorrows                       0.0\n",
              "DAI_totalSupply                        0.0\n",
              "DAI_underlyingPrice                    0.0\n",
              "DAI_underlyingPriceUSD                 0.0\n",
              "Date                       0 days 00:00:00\n",
              "ETH_borrowRate                         0.0\n",
              "ETH_cash                               0.0\n",
              "ETH_collateralFactor                   0.0\n",
              "ETH_exchangeRate                       0.0\n",
              "ETH_reserveFactor                      0.0\n",
              "ETH_reserves                           0.0\n",
              "ETH_supplyRate                         0.0\n",
              "ETH_totalBorrows                       0.0\n",
              "ETH_totalSupply                        0.0\n",
              "ETH_underlyingPrice                    0.0\n",
              "ETH_underlyingPriceUSD                 0.0\n",
              "USDC_borrowRate                        0.0\n",
              "USDC_cash                              0.0\n",
              "USDC_collateralFactor                  0.0\n",
              "USDC_exchangeRate                      0.0\n",
              "USDC_reserveFactor                     0.0\n",
              "USDC_reserves                          0.0\n",
              "USDC_supplyRate                        0.0\n",
              "USDC_totalBorrows                      0.0\n",
              "USDC_totalSupply                       0.0\n",
              "USDC_underlyingPrice                   0.0\n",
              "USDC_underlyingPriceUSD                0.0\n",
              "USDT_borrowRate                        0.0\n",
              "USDT_cash                              0.0\n",
              "USDT_collateralFactor                  0.0\n",
              "USDT_exchangeRate                      0.0\n",
              "USDT_reserveFactor                     0.0\n",
              "USDT_reserves                          0.0\n",
              "USDT_supplyRate                        0.0\n",
              "USDT_totalBorrows                      0.0\n",
              "USDT_totalSupply                       0.0\n",
              "USDT_underlyingPrice                   0.0\n",
              "USDT_underlyingPriceUSD                0.0\n",
              "timestamp                              0.0\n",
              "dtype: object"
            ]
          },
          "metadata": {},
          "execution_count": 28
        }
      ]
    },
    {
      "cell_type": "code",
      "execution_count": 29,
      "metadata": {
        "id": "ZNORnCvEkn-P"
      },
      "outputs": [],
      "source": [
        "# check if there are missing dates\n",
        "daydiff = (df_columnar_comp['Date'].shift(-1) - df_columnar_comp['Date']).apply(lambda x: x.days)"
      ]
    },
    {
      "cell_type": "code",
      "execution_count": 30,
      "metadata": {
        "colab": {
          "base_uri": "https://localhost:8080/"
        },
        "id": "F41W51OQma7l",
        "outputId": "5b8cc67f-ce87-4887-9d8c-53553382c7af"
      },
      "outputs": [
        {
          "output_type": "execute_result",
          "data": {
            "text/plain": [
              "1.0    494\n",
              "Name: Date, dtype: int64"
            ]
          },
          "metadata": {},
          "execution_count": 30
        }
      ],
      "source": [
        "daydiff.value_counts()"
      ]
    },
    {
      "cell_type": "markdown",
      "metadata": {
        "id": "-LH1TpOYmuXO"
      },
      "source": [
        "# Timeseries Formatting, loading, saving, and plotting functions"
      ]
    },
    {
      "cell_type": "code",
      "execution_count": 31,
      "metadata": {
        "id": "CDcZspPmmuvO"
      },
      "outputs": [],
      "source": [
        "def get_synth_sample(x,y):\n",
        "\n",
        "    from imblearn.combine import SMOTETomek,SMOTEENN\n",
        "    X_resampled, y_resampled = SMOTETomek(random_state=RANDOM_STATE).fit_resample(x, y)\n",
        "\n",
        "    synthetic_samples = y.shape[0] - y_resampled.shape[0]\n",
        "\n",
        "    synthetic_indices = y[synthetic_samples:]\n",
        "\n",
        "    return X_resampled,y_resampled\n",
        "\n",
        "\n",
        "\n",
        "def get_tabpandas_multi(\n",
        "    df:pd.DataFrame, # Dataframe of the raw data \n",
        "    n_timepoint:int, # Number of previous timepoints to be used as features   \n",
        "    target_window:int, # Number of timepoints in the future to predict \n",
        "    stratify_sample:bool=False, #Make test train split stratified by class\n",
        "    filter_cols:list=None,\n",
        "    inference:bool=False, # Flag True for inference\n",
        "    synth_sample:bool=False\n",
        "):\n",
        "\n",
        "    df = df.reset_index(drop=True)\n",
        "    feature_cols = df.columns\n",
        "\n",
        "    target_columns = ['DAI_borrowRate', 'USDC_borrowRate', 'USDT_borrowRate']#['borrowRate_DAI', 'borrowRate_USDC', 'borrowRate_USDT']\n",
        "    target = 'Target'\n",
        "\n",
        "    cols_names = []\n",
        "    for j in range(n_timepoint):\n",
        "        for col in feature_cols:\n",
        "            cols_names.append(f'{col}_t-{n_timepoint -j-1}')\n",
        "    cols_names += [target]\n",
        "\n",
        "    pairs = []\n",
        "    for i, row in tqdm(df.iterrows()):\n",
        "        if i < (len(df)-target_window-n_timepoint+1):#+1 bc includes last full prediction set\n",
        "            features = df.loc[i:i+n_timepoint-1, feature_cols].values #-1 bc loc is inclusive\n",
        "            features = [item for sublist in features for item in sublist]\n",
        "\n",
        "            val =  df.loc[i+n_timepoint: i+n_timepoint-1+target_window, target_columns].mean().idxmin()\n",
        "\n",
        "            features += [val]\n",
        "\n",
        "            pairs.append(features)\n",
        "\n",
        "    df = pd.DataFrame(pairs, columns=cols_names).dropna().reset_index(drop=True)\n",
        "\n",
        "\n",
        "    if filter_cols:\n",
        "        x = df.iloc[:,filter_cols]\n",
        "        y = df.iloc[:, -1]\n",
        "    else:\n",
        "        x = df.iloc[:, :-1]\n",
        "        y = df.iloc[:, -1]\n",
        "\n",
        "    \n",
        "    if not inference:\n",
        "\n",
        "        if synth_sample:\n",
        "            x,y = get_synth_sample(x,y)\n",
        "\n",
        "        if stratify_sample:\n",
        "            x_train, x_test, y_train, y_test = train_test_split(x, y, test_size=0.2, \n",
        "                                                                random_state=RANDOM_STATE,\n",
        "                                                                shuffle=True,stratify=y)\n",
        "        else:\n",
        "            x_train, x_test, y_train, y_test = train_test_split(x, y, test_size=0.2, \n",
        "                                                    random_state=RANDOM_STATE,\n",
        "                                                    shuffle=True)\n",
        "\n",
        "\n",
        "        ss = StandardScaler()\n",
        "        x_train = ss.fit_transform(x_train)\n",
        "        x_test = ss.transform(x_test)\n",
        "\n",
        "        le = LabelEncoder()\n",
        "        y_train = le.fit_transform(y_train)\n",
        "        y_test = le.transform(y_test)\n",
        "\n",
        "        return df,x_train, x_test, y_train, y_test, ss, le #synthetic_indices\n",
        "\n",
        "    if inference:\n",
        "        return x,y\n",
        "\n",
        "\n",
        "def plot_confusion_matrix(\n",
        "    targs,\n",
        "    preds,\n",
        "    title\n",
        "):\n",
        "    cm = confusion_matrix(targs, preds, normalize=None)\n",
        "    df_cm = pd.DataFrame(cm, \n",
        "                         columns=['DAI', 'USDC', 'USDT'], \n",
        "                         index=['DAI', 'USDC', 'USDT',])\n",
        "    \n",
        "    ax = sns.heatmap(df_cm, \n",
        "            annot=True, \n",
        "            annot_kws={\"size\": 16},\n",
        "            cmap=\"Blues\",\n",
        "            ).set_title(title)\n",
        "            \n",
        "    plt.show()\n",
        "\n",
        "\n",
        "def save_models(\n",
        "    ntp,\n",
        "    tw,\n",
        "    ss,\n",
        "    le,\n",
        "    clf,\n",
        "    dataset,\n",
        "):\n",
        "\n",
        "    folder = \"-\".join([str(ntp),str(tw)])\n",
        "\n",
        "    save_pickle(path/f'models/V1_all_features/{folder}/{dataset}_ss_clf_{ntp}_{tw}.pkl', ss)\n",
        "    save_pickle(path/f'models/V1_all_features/{folder}/{dataset}_le_clf_{ntp}_{tw}.pkl', le)\n",
        "    save_pickle(path/f'models/V1_all_features/{folder}/{dataset}_clf_{ntp}_{tw}.pkl', clf)\n",
        "\n",
        "\n",
        "def load_models(\n",
        "    ntp,\n",
        "    tw,\n",
        "    dataset,  \n",
        "):\n",
        "\n",
        "    folder = \"-\".join([str(ntp),str(tw)])\n",
        "    ss = load_pickle(path/f'models/V1_all_features/{folder}/{dataset}_ss_clf_{ntp}_{tw}.pkl')\n",
        "    le = load_pickle(path/f'models/V1_all_features/{folder}/{dataset}_le_clf_{ntp}_{tw}.pkl')\n",
        "    clf = load_pickle(path/f'models/V1_all_features/{folder}/{dataset}_clf_{ntp}_{tw}.pkl')\n",
        "\n",
        "    return ss, le, clf"
      ]
    },
    {
      "cell_type": "markdown",
      "source": [
        "# Load Models"
      ],
      "metadata": {
        "id": "4ZhR8OKJyKlr"
      }
    },
    {
      "cell_type": "code",
      "source": [
        "df_top_models = pd.read_csv(path/\"compoundV2_model_results_2021.csv\")\n",
        "df_top_models[\"train_test_diff\"] = df_top_models[\"mean_train_score\"] - df_top_models[\"mean_test_score\"]\n",
        "df_top_models.head()"
      ],
      "metadata": {
        "colab": {
          "base_uri": "https://localhost:8080/",
          "height": 612
        },
        "id": "MBo7426uMrjg",
        "outputId": "5335fea4-1720-40e0-da11-927e2cac5c44"
      },
      "execution_count": 32,
      "outputs": [
        {
          "output_type": "execute_result",
          "data": {
            "text/plain": [
              "   mean_fit_time  std_fit_time  mean_score_time  std_score_time  \\\n",
              "0       0.008097      0.000443         0.000931        0.000066   \n",
              "1       0.019566      0.002312         0.002827        0.000624   \n",
              "2       0.031551      0.000651         0.003516        0.000022   \n",
              "3       0.046227      0.000853         0.004323        0.000154   \n",
              "4       0.060076      0.000851         0.005304        0.000039   \n",
              "\n",
              "   param_random_state  \\\n",
              "0                  42   \n",
              "1                  42   \n",
              "2                  42   \n",
              "3                  42   \n",
              "4                  42   \n",
              "\n",
              "                                                                            params  \\\n",
              "0                                                             {'random_state': 42}   \n",
              "1  {'max_depth': 3, 'min_samples_leaf': 1, 'n_estimators': 10, 'random_state': 42}   \n",
              "2  {'max_depth': 3, 'min_samples_leaf': 1, 'n_estimators': 20, 'random_state': 42}   \n",
              "3  {'max_depth': 3, 'min_samples_leaf': 1, 'n_estimators': 30, 'random_state': 42}   \n",
              "4  {'max_depth': 3, 'min_samples_leaf': 1, 'n_estimators': 40, 'random_state': 42}   \n",
              "\n",
              "   split0_test_score  split1_test_score  split2_test_score  mean_test_score  \\\n",
              "0           0.755319           0.723404           0.795699         0.758141   \n",
              "1           0.787234           0.723404           0.752688         0.754442   \n",
              "2           0.776596           0.744681           0.731183         0.750820   \n",
              "3           0.776596           0.734043           0.731183         0.747274   \n",
              "4           0.776596           0.712766           0.741935         0.743766   \n",
              "\n",
              "   ...  ntp_tw               dataset  \\\n",
              "0  ...     5-7  [False, None, False]   \n",
              "1  ...     5-7  [False, None, False]   \n",
              "2  ...     5-7  [False, None, False]   \n",
              "3  ...     5-7  [False, None, False]   \n",
              "4  ...     5-7  [False, None, False]   \n",
              "\n",
              "                                          classes  train_class_size  \\\n",
              "0  DAI_borrowRate,USDC_borrowRate,USDT_borrowRate    [129, 107, 45]   \n",
              "1  DAI_borrowRate,USDC_borrowRate,USDT_borrowRate    [129, 107, 45]   \n",
              "2  DAI_borrowRate,USDC_borrowRate,USDT_borrowRate    [129, 107, 45]   \n",
              "3  DAI_borrowRate,USDC_borrowRate,USDT_borrowRate    [129, 107, 45]   \n",
              "4  DAI_borrowRate,USDC_borrowRate,USDT_borrowRate    [129, 107, 45]   \n",
              "\n",
              "   test_class_size  param_max_depth  param_min_samples_leaf  \\\n",
              "0     [26, 27, 18]              NaN                     NaN   \n",
              "1     [26, 27, 18]              3.0                     1.0   \n",
              "2     [26, 27, 18]              3.0                     1.0   \n",
              "3     [26, 27, 18]              3.0                     1.0   \n",
              "4     [26, 27, 18]              3.0                     1.0   \n",
              "\n",
              "  param_n_estimators param_learning_rate train_test_diff  \n",
              "0                NaN                 NaN        0.241859  \n",
              "1               10.0                 NaN        0.089027  \n",
              "2               20.0                 NaN        0.078342  \n",
              "3               30.0                 NaN        0.092573  \n",
              "4               40.0                 NaN        0.083623  \n",
              "\n",
              "[5 rows x 28 columns]"
            ],
            "text/html": [
              "\n",
              "  <div id=\"df-373dfec3-4f92-451d-b9e2-279213fb692c\">\n",
              "    <div class=\"colab-df-container\">\n",
              "      <div>\n",
              "<style scoped>\n",
              "    .dataframe tbody tr th:only-of-type {\n",
              "        vertical-align: middle;\n",
              "    }\n",
              "\n",
              "    .dataframe tbody tr th {\n",
              "        vertical-align: top;\n",
              "    }\n",
              "\n",
              "    .dataframe thead th {\n",
              "        text-align: right;\n",
              "    }\n",
              "</style>\n",
              "<table border=\"1\" class=\"dataframe\">\n",
              "  <thead>\n",
              "    <tr style=\"text-align: right;\">\n",
              "      <th></th>\n",
              "      <th>mean_fit_time</th>\n",
              "      <th>std_fit_time</th>\n",
              "      <th>mean_score_time</th>\n",
              "      <th>std_score_time</th>\n",
              "      <th>param_random_state</th>\n",
              "      <th>params</th>\n",
              "      <th>split0_test_score</th>\n",
              "      <th>split1_test_score</th>\n",
              "      <th>split2_test_score</th>\n",
              "      <th>mean_test_score</th>\n",
              "      <th>...</th>\n",
              "      <th>ntp_tw</th>\n",
              "      <th>dataset</th>\n",
              "      <th>classes</th>\n",
              "      <th>train_class_size</th>\n",
              "      <th>test_class_size</th>\n",
              "      <th>param_max_depth</th>\n",
              "      <th>param_min_samples_leaf</th>\n",
              "      <th>param_n_estimators</th>\n",
              "      <th>param_learning_rate</th>\n",
              "      <th>train_test_diff</th>\n",
              "    </tr>\n",
              "  </thead>\n",
              "  <tbody>\n",
              "    <tr>\n",
              "      <th>0</th>\n",
              "      <td>0.008097</td>\n",
              "      <td>0.000443</td>\n",
              "      <td>0.000931</td>\n",
              "      <td>0.000066</td>\n",
              "      <td>42</td>\n",
              "      <td>{'random_state': 42}</td>\n",
              "      <td>0.755319</td>\n",
              "      <td>0.723404</td>\n",
              "      <td>0.795699</td>\n",
              "      <td>0.758141</td>\n",
              "      <td>...</td>\n",
              "      <td>5-7</td>\n",
              "      <td>[False, None, False]</td>\n",
              "      <td>DAI_borrowRate,USDC_borrowRate,USDT_borrowRate</td>\n",
              "      <td>[129, 107, 45]</td>\n",
              "      <td>[26, 27, 18]</td>\n",
              "      <td>NaN</td>\n",
              "      <td>NaN</td>\n",
              "      <td>NaN</td>\n",
              "      <td>NaN</td>\n",
              "      <td>0.241859</td>\n",
              "    </tr>\n",
              "    <tr>\n",
              "      <th>1</th>\n",
              "      <td>0.019566</td>\n",
              "      <td>0.002312</td>\n",
              "      <td>0.002827</td>\n",
              "      <td>0.000624</td>\n",
              "      <td>42</td>\n",
              "      <td>{'max_depth': 3, 'min_samples_leaf': 1, 'n_estimators': 10, 'random_state': 42}</td>\n",
              "      <td>0.787234</td>\n",
              "      <td>0.723404</td>\n",
              "      <td>0.752688</td>\n",
              "      <td>0.754442</td>\n",
              "      <td>...</td>\n",
              "      <td>5-7</td>\n",
              "      <td>[False, None, False]</td>\n",
              "      <td>DAI_borrowRate,USDC_borrowRate,USDT_borrowRate</td>\n",
              "      <td>[129, 107, 45]</td>\n",
              "      <td>[26, 27, 18]</td>\n",
              "      <td>3.0</td>\n",
              "      <td>1.0</td>\n",
              "      <td>10.0</td>\n",
              "      <td>NaN</td>\n",
              "      <td>0.089027</td>\n",
              "    </tr>\n",
              "    <tr>\n",
              "      <th>2</th>\n",
              "      <td>0.031551</td>\n",
              "      <td>0.000651</td>\n",
              "      <td>0.003516</td>\n",
              "      <td>0.000022</td>\n",
              "      <td>42</td>\n",
              "      <td>{'max_depth': 3, 'min_samples_leaf': 1, 'n_estimators': 20, 'random_state': 42}</td>\n",
              "      <td>0.776596</td>\n",
              "      <td>0.744681</td>\n",
              "      <td>0.731183</td>\n",
              "      <td>0.750820</td>\n",
              "      <td>...</td>\n",
              "      <td>5-7</td>\n",
              "      <td>[False, None, False]</td>\n",
              "      <td>DAI_borrowRate,USDC_borrowRate,USDT_borrowRate</td>\n",
              "      <td>[129, 107, 45]</td>\n",
              "      <td>[26, 27, 18]</td>\n",
              "      <td>3.0</td>\n",
              "      <td>1.0</td>\n",
              "      <td>20.0</td>\n",
              "      <td>NaN</td>\n",
              "      <td>0.078342</td>\n",
              "    </tr>\n",
              "    <tr>\n",
              "      <th>3</th>\n",
              "      <td>0.046227</td>\n",
              "      <td>0.000853</td>\n",
              "      <td>0.004323</td>\n",
              "      <td>0.000154</td>\n",
              "      <td>42</td>\n",
              "      <td>{'max_depth': 3, 'min_samples_leaf': 1, 'n_estimators': 30, 'random_state': 42}</td>\n",
              "      <td>0.776596</td>\n",
              "      <td>0.734043</td>\n",
              "      <td>0.731183</td>\n",
              "      <td>0.747274</td>\n",
              "      <td>...</td>\n",
              "      <td>5-7</td>\n",
              "      <td>[False, None, False]</td>\n",
              "      <td>DAI_borrowRate,USDC_borrowRate,USDT_borrowRate</td>\n",
              "      <td>[129, 107, 45]</td>\n",
              "      <td>[26, 27, 18]</td>\n",
              "      <td>3.0</td>\n",
              "      <td>1.0</td>\n",
              "      <td>30.0</td>\n",
              "      <td>NaN</td>\n",
              "      <td>0.092573</td>\n",
              "    </tr>\n",
              "    <tr>\n",
              "      <th>4</th>\n",
              "      <td>0.060076</td>\n",
              "      <td>0.000851</td>\n",
              "      <td>0.005304</td>\n",
              "      <td>0.000039</td>\n",
              "      <td>42</td>\n",
              "      <td>{'max_depth': 3, 'min_samples_leaf': 1, 'n_estimators': 40, 'random_state': 42}</td>\n",
              "      <td>0.776596</td>\n",
              "      <td>0.712766</td>\n",
              "      <td>0.741935</td>\n",
              "      <td>0.743766</td>\n",
              "      <td>...</td>\n",
              "      <td>5-7</td>\n",
              "      <td>[False, None, False]</td>\n",
              "      <td>DAI_borrowRate,USDC_borrowRate,USDT_borrowRate</td>\n",
              "      <td>[129, 107, 45]</td>\n",
              "      <td>[26, 27, 18]</td>\n",
              "      <td>3.0</td>\n",
              "      <td>1.0</td>\n",
              "      <td>40.0</td>\n",
              "      <td>NaN</td>\n",
              "      <td>0.083623</td>\n",
              "    </tr>\n",
              "  </tbody>\n",
              "</table>\n",
              "<p>5 rows × 28 columns</p>\n",
              "</div>\n",
              "      <button class=\"colab-df-convert\" onclick=\"convertToInteractive('df-373dfec3-4f92-451d-b9e2-279213fb692c')\"\n",
              "              title=\"Convert this dataframe to an interactive table.\"\n",
              "              style=\"display:none;\">\n",
              "        \n",
              "  <svg xmlns=\"http://www.w3.org/2000/svg\" height=\"24px\"viewBox=\"0 0 24 24\"\n",
              "       width=\"24px\">\n",
              "    <path d=\"M0 0h24v24H0V0z\" fill=\"none\"/>\n",
              "    <path d=\"M18.56 5.44l.94 2.06.94-2.06 2.06-.94-2.06-.94-.94-2.06-.94 2.06-2.06.94zm-11 1L8.5 8.5l.94-2.06 2.06-.94-2.06-.94L8.5 2.5l-.94 2.06-2.06.94zm10 10l.94 2.06.94-2.06 2.06-.94-2.06-.94-.94-2.06-.94 2.06-2.06.94z\"/><path d=\"M17.41 7.96l-1.37-1.37c-.4-.4-.92-.59-1.43-.59-.52 0-1.04.2-1.43.59L10.3 9.45l-7.72 7.72c-.78.78-.78 2.05 0 2.83L4 21.41c.39.39.9.59 1.41.59.51 0 1.02-.2 1.41-.59l7.78-7.78 2.81-2.81c.8-.78.8-2.07 0-2.86zM5.41 20L4 18.59l7.72-7.72 1.47 1.35L5.41 20z\"/>\n",
              "  </svg>\n",
              "      </button>\n",
              "      \n",
              "  <style>\n",
              "    .colab-df-container {\n",
              "      display:flex;\n",
              "      flex-wrap:wrap;\n",
              "      gap: 12px;\n",
              "    }\n",
              "\n",
              "    .colab-df-convert {\n",
              "      background-color: #E8F0FE;\n",
              "      border: none;\n",
              "      border-radius: 50%;\n",
              "      cursor: pointer;\n",
              "      display: none;\n",
              "      fill: #1967D2;\n",
              "      height: 32px;\n",
              "      padding: 0 0 0 0;\n",
              "      width: 32px;\n",
              "    }\n",
              "\n",
              "    .colab-df-convert:hover {\n",
              "      background-color: #E2EBFA;\n",
              "      box-shadow: 0px 1px 2px rgba(60, 64, 67, 0.3), 0px 1px 3px 1px rgba(60, 64, 67, 0.15);\n",
              "      fill: #174EA6;\n",
              "    }\n",
              "\n",
              "    [theme=dark] .colab-df-convert {\n",
              "      background-color: #3B4455;\n",
              "      fill: #D2E3FC;\n",
              "    }\n",
              "\n",
              "    [theme=dark] .colab-df-convert:hover {\n",
              "      background-color: #434B5C;\n",
              "      box-shadow: 0px 1px 3px 1px rgba(0, 0, 0, 0.15);\n",
              "      filter: drop-shadow(0px 1px 2px rgba(0, 0, 0, 0.3));\n",
              "      fill: #FFFFFF;\n",
              "    }\n",
              "  </style>\n",
              "\n",
              "      <script>\n",
              "        const buttonEl =\n",
              "          document.querySelector('#df-373dfec3-4f92-451d-b9e2-279213fb692c button.colab-df-convert');\n",
              "        buttonEl.style.display =\n",
              "          google.colab.kernel.accessAllowed ? 'block' : 'none';\n",
              "\n",
              "        async function convertToInteractive(key) {\n",
              "          const element = document.querySelector('#df-373dfec3-4f92-451d-b9e2-279213fb692c');\n",
              "          const dataTable =\n",
              "            await google.colab.kernel.invokeFunction('convertToInteractive',\n",
              "                                                     [key], {});\n",
              "          if (!dataTable) return;\n",
              "\n",
              "          const docLinkHtml = 'Like what you see? Visit the ' +\n",
              "            '<a target=\"_blank\" href=https://colab.research.google.com/notebooks/data_table.ipynb>data table notebook</a>'\n",
              "            + ' to learn more about interactive tables.';\n",
              "          element.innerHTML = '';\n",
              "          dataTable['output_type'] = 'display_data';\n",
              "          await google.colab.output.renderOutput(dataTable, element);\n",
              "          const docLink = document.createElement('div');\n",
              "          docLink.innerHTML = docLinkHtml;\n",
              "          element.appendChild(docLink);\n",
              "        }\n",
              "      </script>\n",
              "    </div>\n",
              "  </div>\n",
              "  "
            ]
          },
          "metadata": {},
          "execution_count": 32
        }
      ]
    },
    {
      "cell_type": "markdown",
      "source": [
        "# Select Models"
      ],
      "metadata": {
        "id": "UUw83jaQyRtt"
      }
    },
    {
      "cell_type": "code",
      "source": [
        "model_to_ipfs = ((df_top_models[[\"Model\",\"mean_train_score\",\"mean_test_score\",\"train_test_diff\",\"params\",\"ntp_tw\",\"dataset\",'classes','train_class_size', 'test_class_size']]\n",
        ".sort_values([\"train_test_diff\",\"mean_test_score\"],ascending=True)\n",
        ".drop_duplicates([\"Model\",\"params\",\"ntp_tw\"])\n",
        ")\n",
        "[[\"Model\",\"params\",\"ntp_tw\",\"dataset\"]]\n",
        ")\n",
        "\n",
        "model_to_ipfs.shape"
      ],
      "metadata": {
        "id": "u26vDNdSRvk_",
        "colab": {
          "base_uri": "https://localhost:8080/"
        },
        "outputId": "802ee71c-ad7f-43c8-8ed3-9cbfeb041904"
      },
      "execution_count": 33,
      "outputs": [
        {
          "output_type": "execute_result",
          "data": {
            "text/plain": [
              "(1707, 4)"
            ]
          },
          "metadata": {},
          "execution_count": 33
        }
      ]
    },
    {
      "cell_type": "markdown",
      "source": [
        "## Get Model Metadata"
      ],
      "metadata": {
        "id": "ktb8ecxX7q_J"
      }
    },
    {
      "cell_type": "code",
      "source": [
        "def get_model_metadata(model_metadata):\n",
        "\n",
        "    model = eval(model_metadata[0])\n",
        "    params = model_metadata[1]\n",
        "\n",
        "    return model, params\n",
        "\n",
        "\n",
        "def get_data_metadata(data_metadata):\n",
        "\n",
        "    ntp = int(data_metadata[2].split(\"-\")[0])\n",
        "    tw = int(data_metadata[2].split(\"-\")[1])\n",
        "    dataset_mutation = eval(data_metadata[3])\n",
        "    stratify = dataset_mutation[0]\n",
        "    fc = dataset_mutation[1]\n",
        "    synth = dataset_mutation[2]\n",
        "\n",
        "    return ntp,tw,stratify,fc,synth\n"
      ],
      "metadata": {
        "id": "5uJGFbdiOGgX"
      },
      "execution_count": 34,
      "outputs": []
    },
    {
      "cell_type": "markdown",
      "source": [
        "## Create Train Test and Predict datasets"
      ],
      "metadata": {
        "id": "tgM6inw47w8o"
      }
    },
    {
      "cell_type": "code",
      "source": [
        "def train_test(df):\n",
        "\n",
        "    keep_cols =  [col for col in df.columns if \"borrowRate\" in col or \"supplyRate\" in col\n",
        "                or \"totalBorrows\" in col or \"totalSupply\" in col or col.startswith(\"Date\")]\n",
        "\n",
        "    df_train = df[keep_cols].query('Date >= \"2021-01-01\" & Date <= \"2021-12-31\"')\n",
        "    df_predict = df[keep_cols].query('Date >= \"2022-01-01\" & Date <= \"2022-05-30\"').reset_index(drop=True)\n",
        "\n",
        "    return df_train,df_predict\n"
      ],
      "metadata": {
        "id": "2UeIi5vgWgdQ"
      },
      "execution_count": 35,
      "outputs": []
    },
    {
      "cell_type": "code",
      "source": [
        "columnar_train, columnar_test  = train_test(df_columnar_comp)\n",
        "df1_train, df1_test  = train_test(df1_comp)"
      ],
      "metadata": {
        "id": "-9gdGIv5Wq7G"
      },
      "execution_count": 36,
      "outputs": []
    },
    {
      "cell_type": "code",
      "source": [
        "(columnar_train - df1_train).sum()"
      ],
      "metadata": {
        "colab": {
          "base_uri": "https://localhost:8080/"
        },
        "id": "XDZZ37kkXJnr",
        "outputId": "fa4ff4ea-2c0f-4f0b-f8d2-5584af4f572c"
      },
      "execution_count": 37,
      "outputs": [
        {
          "output_type": "execute_result",
          "data": {
            "text/plain": [
              "DAI_borrowRate                   0.0\n",
              "DAI_supplyRate                   0.0\n",
              "DAI_totalBorrows                 0.0\n",
              "DAI_totalSupply                  0.0\n",
              "Date                 0 days 00:00:00\n",
              "ETH_borrowRate                   0.0\n",
              "ETH_supplyRate                   0.0\n",
              "ETH_totalBorrows                 0.0\n",
              "ETH_totalSupply                  0.0\n",
              "USDC_borrowRate                  0.0\n",
              "USDC_supplyRate                  0.0\n",
              "USDC_totalBorrows                0.0\n",
              "USDC_totalSupply                 0.0\n",
              "USDT_borrowRate                  0.0\n",
              "USDT_supplyRate                  0.0\n",
              "USDT_totalBorrows                0.0\n",
              "USDT_totalSupply                 0.0\n",
              "dtype: object"
            ]
          },
          "metadata": {},
          "execution_count": 37
        }
      ]
    },
    {
      "cell_type": "code",
      "source": [
        "(columnar_test - df1_test).sum()"
      ],
      "metadata": {
        "colab": {
          "base_uri": "https://localhost:8080/"
        },
        "id": "0gjhiLXbYG5h",
        "outputId": "82ecd783-9390-49d2-ebca-d4f5034a8569"
      },
      "execution_count": 38,
      "outputs": [
        {
          "output_type": "execute_result",
          "data": {
            "text/plain": [
              "DAI_borrowRate                   0.0\n",
              "DAI_supplyRate                   0.0\n",
              "DAI_totalBorrows                 0.0\n",
              "DAI_totalSupply                  0.0\n",
              "Date                 0 days 00:00:00\n",
              "ETH_borrowRate                   0.0\n",
              "ETH_supplyRate                   0.0\n",
              "ETH_totalBorrows                 0.0\n",
              "ETH_totalSupply                  0.0\n",
              "USDC_borrowRate                  0.0\n",
              "USDC_supplyRate                  0.0\n",
              "USDC_totalBorrows                0.0\n",
              "USDC_totalSupply                 0.0\n",
              "USDT_borrowRate                  0.0\n",
              "USDT_supplyRate                  0.0\n",
              "USDT_totalBorrows                0.0\n",
              "USDT_totalSupply                 0.0\n",
              "dtype: object"
            ]
          },
          "metadata": {},
          "execution_count": 38
        }
      ]
    },
    {
      "cell_type": "code",
      "source": [
        "# keep_cols =  [col for col in df_columnar_comp.columns if \"borrowRate\" in col or \"supplyRate\" in col\n",
        "#                 or \"totalBorrows\" in col or \"totalSupply\" in col or col.startswith(\"Date\")]\n",
        "\n",
        "keep_cols = [col for col in df_columnar_comp.columns if col != \"name\" and col != \"symbol\" \n",
        "             and col != \"underlyingAddress\" and col != \"underlyingName\" and col != \"underlyingSymbol\"\n",
        "             and col != \"underlyingPrice\" and col != \"underlyingPriceUSD\" and col != \"timestamp\"\n",
        "             and col != \"interestRateModelAddress\"]\n",
        "\n",
        "\n",
        "df_train = df_columnar_comp[keep_cols].query('Date >= \"2021-01-01\" & Date <= \"2021-12-31\"')\n",
        "df_predict = df_columnar_comp[keep_cols].query('Date >= \"2022-01-01\" & Date <= \"2022-05-30\"').reset_index(drop=True)\n"
      ],
      "metadata": {
        "id": "djutXRTvFtzB"
      },
      "execution_count": 39,
      "outputs": []
    },
    {
      "cell_type": "code",
      "source": [
        "df_train.info()"
      ],
      "metadata": {
        "colab": {
          "base_uri": "https://localhost:8080/"
        },
        "id": "s8qGL3Ygb8LN",
        "outputId": "14998df4-e8b3-4cc8-88be-e6a1a18e7da6"
      },
      "execution_count": 40,
      "outputs": [
        {
          "output_type": "stream",
          "name": "stdout",
          "text": [
            "<class 'pandas.core.frame.DataFrame'>\n",
            "Int64Index: 365 entries, 0 to 364\n",
            "Data columns (total 45 columns):\n",
            " #   Column                   Non-Null Count  Dtype         \n",
            "---  ------                   --------------  -----         \n",
            " 0   DAI_borrowRate           365 non-null    float64       \n",
            " 1   DAI_cash                 365 non-null    float64       \n",
            " 2   DAI_collateralFactor     365 non-null    float64       \n",
            " 3   DAI_exchangeRate         365 non-null    float64       \n",
            " 4   DAI_reserveFactor        365 non-null    float64       \n",
            " 5   DAI_reserves             365 non-null    float64       \n",
            " 6   DAI_supplyRate           365 non-null    float64       \n",
            " 7   DAI_totalBorrows         365 non-null    float64       \n",
            " 8   DAI_totalSupply          365 non-null    float64       \n",
            " 9   DAI_underlyingPrice      365 non-null    float64       \n",
            " 10  DAI_underlyingPriceUSD   365 non-null    float64       \n",
            " 11  Date                     365 non-null    datetime64[ns]\n",
            " 12  ETH_borrowRate           365 non-null    float64       \n",
            " 13  ETH_cash                 365 non-null    float64       \n",
            " 14  ETH_collateralFactor     365 non-null    float64       \n",
            " 15  ETH_exchangeRate         365 non-null    float64       \n",
            " 16  ETH_reserveFactor        365 non-null    float64       \n",
            " 17  ETH_reserves             365 non-null    float64       \n",
            " 18  ETH_supplyRate           365 non-null    float64       \n",
            " 19  ETH_totalBorrows         365 non-null    float64       \n",
            " 20  ETH_totalSupply          365 non-null    float64       \n",
            " 21  ETH_underlyingPrice      365 non-null    float64       \n",
            " 22  ETH_underlyingPriceUSD   365 non-null    float64       \n",
            " 23  USDC_borrowRate          365 non-null    float64       \n",
            " 24  USDC_cash                365 non-null    float64       \n",
            " 25  USDC_collateralFactor    365 non-null    float64       \n",
            " 26  USDC_exchangeRate        365 non-null    float64       \n",
            " 27  USDC_reserveFactor       365 non-null    float64       \n",
            " 28  USDC_reserves            365 non-null    float64       \n",
            " 29  USDC_supplyRate          365 non-null    float64       \n",
            " 30  USDC_totalBorrows        365 non-null    float64       \n",
            " 31  USDC_totalSupply         365 non-null    float64       \n",
            " 32  USDC_underlyingPrice     365 non-null    float64       \n",
            " 33  USDC_underlyingPriceUSD  365 non-null    float64       \n",
            " 34  USDT_borrowRate          365 non-null    float64       \n",
            " 35  USDT_cash                365 non-null    float64       \n",
            " 36  USDT_collateralFactor    365 non-null    float64       \n",
            " 37  USDT_exchangeRate        365 non-null    float64       \n",
            " 38  USDT_reserveFactor       365 non-null    float64       \n",
            " 39  USDT_reserves            365 non-null    float64       \n",
            " 40  USDT_supplyRate          365 non-null    float64       \n",
            " 41  USDT_totalBorrows        365 non-null    float64       \n",
            " 42  USDT_totalSupply         365 non-null    float64       \n",
            " 43  USDT_underlyingPrice     365 non-null    float64       \n",
            " 44  USDT_underlyingPriceUSD  365 non-null    float64       \n",
            "dtypes: datetime64[ns](1), float64(44)\n",
            "memory usage: 131.2 KB\n"
          ]
        }
      ]
    },
    {
      "cell_type": "code",
      "source": [
        "df_predict.info()"
      ],
      "metadata": {
        "colab": {
          "base_uri": "https://localhost:8080/"
        },
        "id": "2ICaJSavLnVF",
        "outputId": "8ed040d0-d1f7-4a2c-e517-ea4b05c5210e"
      },
      "execution_count": 41,
      "outputs": [
        {
          "output_type": "stream",
          "name": "stdout",
          "text": [
            "<class 'pandas.core.frame.DataFrame'>\n",
            "RangeIndex: 130 entries, 0 to 129\n",
            "Data columns (total 45 columns):\n",
            " #   Column                   Non-Null Count  Dtype         \n",
            "---  ------                   --------------  -----         \n",
            " 0   DAI_borrowRate           130 non-null    float64       \n",
            " 1   DAI_cash                 130 non-null    float64       \n",
            " 2   DAI_collateralFactor     130 non-null    float64       \n",
            " 3   DAI_exchangeRate         130 non-null    float64       \n",
            " 4   DAI_reserveFactor        130 non-null    float64       \n",
            " 5   DAI_reserves             130 non-null    float64       \n",
            " 6   DAI_supplyRate           130 non-null    float64       \n",
            " 7   DAI_totalBorrows         130 non-null    float64       \n",
            " 8   DAI_totalSupply          130 non-null    float64       \n",
            " 9   DAI_underlyingPrice      130 non-null    float64       \n",
            " 10  DAI_underlyingPriceUSD   130 non-null    float64       \n",
            " 11  Date                     130 non-null    datetime64[ns]\n",
            " 12  ETH_borrowRate           130 non-null    float64       \n",
            " 13  ETH_cash                 130 non-null    float64       \n",
            " 14  ETH_collateralFactor     130 non-null    float64       \n",
            " 15  ETH_exchangeRate         130 non-null    float64       \n",
            " 16  ETH_reserveFactor        130 non-null    float64       \n",
            " 17  ETH_reserves             130 non-null    float64       \n",
            " 18  ETH_supplyRate           130 non-null    float64       \n",
            " 19  ETH_totalBorrows         130 non-null    float64       \n",
            " 20  ETH_totalSupply          130 non-null    float64       \n",
            " 21  ETH_underlyingPrice      130 non-null    float64       \n",
            " 22  ETH_underlyingPriceUSD   130 non-null    float64       \n",
            " 23  USDC_borrowRate          130 non-null    float64       \n",
            " 24  USDC_cash                130 non-null    float64       \n",
            " 25  USDC_collateralFactor    130 non-null    float64       \n",
            " 26  USDC_exchangeRate        130 non-null    float64       \n",
            " 27  USDC_reserveFactor       130 non-null    float64       \n",
            " 28  USDC_reserves            130 non-null    float64       \n",
            " 29  USDC_supplyRate          130 non-null    float64       \n",
            " 30  USDC_totalBorrows        130 non-null    float64       \n",
            " 31  USDC_totalSupply         130 non-null    float64       \n",
            " 32  USDC_underlyingPrice     130 non-null    float64       \n",
            " 33  USDC_underlyingPriceUSD  130 non-null    float64       \n",
            " 34  USDT_borrowRate          130 non-null    float64       \n",
            " 35  USDT_cash                130 non-null    float64       \n",
            " 36  USDT_collateralFactor    130 non-null    float64       \n",
            " 37  USDT_exchangeRate        130 non-null    float64       \n",
            " 38  USDT_reserveFactor       130 non-null    float64       \n",
            " 39  USDT_reserves            130 non-null    float64       \n",
            " 40  USDT_supplyRate          130 non-null    float64       \n",
            " 41  USDT_totalBorrows        130 non-null    float64       \n",
            " 42  USDT_totalSupply         130 non-null    float64       \n",
            " 43  USDT_underlyingPrice     130 non-null    float64       \n",
            " 44  USDT_underlyingPriceUSD  130 non-null    float64       \n",
            "dtypes: datetime64[ns](1), float64(44)\n",
            "memory usage: 45.8 KB\n"
          ]
        }
      ]
    },
    {
      "cell_type": "code",
      "source": [
        "df_predict.to_csv(\"30_compoundV2_mainnet_2022_prediction.csv\",index=False)"
      ],
      "metadata": {
        "id": "bXPMDGO5Rz9h"
      },
      "execution_count": 42,
      "outputs": []
    },
    {
      "cell_type": "code",
      "source": [
        "dataset_dict = {\"keyvalues\":{}}\n",
        "dataset_dict[\"keyvalues\"].update({\"version\":\"V1\"})\n",
        "dataset_dict[\"keyvalues\"].update({\"overall\":str({\"dao\":\"DefiSquad\",\"protocol\":\"Compound\",\"network\":\"Mainnet\"})})\n",
        "dataset_dict[\"keyvalues\"].update({\"type\":\"Dataset\"})\n",
        "dataset_dict[\"keyvalues\"].update({\"condition\":\"Prediction\"})\n",
        "dataset_dict[\"keyvalues\"].update({\"dateRange\":\"Jan2022-May102022\"})"
      ],
      "metadata": {
        "id": "KAuehlvKRtmP"
      },
      "execution_count": 43,
      "outputs": []
    },
    {
      "cell_type": "code",
      "source": [
        "upload_ipfs('30_compoundV2_mainnet_2022_prediction.csv',NS,ns_creds,p_creds,dataset_dict)"
      ],
      "metadata": {
        "colab": {
          "base_uri": "https://localhost:8080/",
          "height": 70
        },
        "id": "xwhIs642Ryw8",
        "outputId": "99307132-c502-45bb-c5f1-7b6591ecc105"
      },
      "execution_count": 44,
      "outputs": [
        {
          "output_type": "stream",
          "name": "stdout",
          "text": [
            "bafkreie6bxnljf6dxlr3wro6fu6adwj2vctdwgy4eccgnwntdnee42tlqe\n",
            "{\"error\":\"Cannot destructure property 'keyvalues' of '(intermediate value)' as it is null.\"}\n"
          ]
        },
        {
          "output_type": "execute_result",
          "data": {
            "text/plain": [
              "'bafkreie6bxnljf6dxlr3wro6fu6adwj2vctdwgy4eccgnwntdnee42tlqe'"
            ],
            "application/vnd.google.colaboratory.intrinsic+json": {
              "type": "string"
            }
          },
          "metadata": {},
          "execution_count": 44
        }
      ]
    },
    {
      "cell_type": "markdown",
      "source": [
        "# Train and Test Models"
      ],
      "metadata": {
        "id": "H1kVqRkg8t5J"
      }
    },
    {
      "cell_type": "markdown",
      "source": [
        "## Save Top models to disk"
      ],
      "metadata": {
        "id": "PmNr-ECB77W4"
      }
    },
    {
      "cell_type": "code",
      "source": [
        "import pandas as pd"
      ],
      "metadata": {
        "id": "B_fnuNtAmdmT"
      },
      "execution_count": 45,
      "outputs": []
    },
    {
      "cell_type": "code",
      "source": [
        "from sklearn.metrics import accuracy_score,f1_score,precision_score,recall_score\n",
        "def calc_f1(y,preds):\n",
        "\n",
        "    f1 = f1_score(y,preds,average=\"micro\")\n",
        "    \n",
        "    return f1"
      ],
      "metadata": {
        "id": "mnoyhMRKA_hw"
      },
      "execution_count": 46,
      "outputs": []
    },
    {
      "cell_type": "code",
      "source": [
        "#model_to_ipfs.shape[0]\n",
        "\n",
        "df_train_results = []\n",
        "\n",
        "\n",
        "for tw in [7,14,21]:\n",
        "\n",
        "    print(\"______\")\n",
        "    print(tw)\n",
        "\n",
        "    save_modeldf = model_to_ipfs.query(f'ntp_tw == \"5-{tw}\"').reset_index(drop=True)\n",
        "\n",
        "    for i in range(save_modeldf.shape[0]):\n",
        "\n",
        "        train_results = dict()\n",
        "\n",
        "        model,params = get_model_metadata(save_modeldf.iloc[i])\n",
        "\n",
        "        ntp,tw,stratify,fc,synth = get_data_metadata(save_modeldf.iloc[i])\n",
        "\n",
        "        clf = model(**eval(params))\n",
        "\n",
        "        print(clf)\n",
        "\n",
        "        model_name = type(clf).__name__\n",
        "\n",
        "        df_test, x_train, x_test, y_train, y_test, ss, le  = get_tabpandas_multi(df_train.drop(columns=\"Date\"), ntp, tw,stratify_sample=stratify,filter_cols=fc,synth_sample=synth)\n",
        "\n",
        "        print(x_train.shape, x_test.shape, y_train.shape, y_test.shape)\n",
        "\n",
        "        clf.fit(x_train,y_train)\n",
        "\n",
        "        train_preds = clf.predict(x_train)\n",
        "\n",
        "        test_preds = clf.predict(x_test)\n",
        "\n",
        "        tr_f1  = calc_f1(y_train,train_preds)\n",
        "        te_f1  = calc_f1(y_test,test_preds)\n",
        "\n",
        "        train_results[\"model_name\"] = model_name\n",
        "        train_results[\"params\"] = params\n",
        "        train_results[\"dataset\"] = [stratify,fc,synth]\n",
        "        train_results[\"ntp_tw\"] = \"-\".join([str(ntp),str(tw)])\n",
        "        train_results[\"index\"] = i\n",
        "        train_results[\"model\"] = str(clf)\n",
        "        train_results[\"train_f1\"] = tr_f1\n",
        "        train_results[\"test_f1\"] = te_f1\n",
        "\n",
        "        df_train_results.append(train_results)\n",
        "\n",
        "        save_models(ntp,tw,ss,le,clf,i)\n",
        "\n",
        "pd.DataFrame(df_train_results).to_csv(path/\"ModelResults/modelresults_newdata_compoundV2_updated.csv\",index=False)"
      ],
      "metadata": {
        "colab": {
          "base_uri": "https://localhost:8080/",
          "height": 271
        },
        "id": "N5yY0Sfq1y12",
        "outputId": "2697c256-3ca0-4b50-83e9-863702badd34"
      },
      "execution_count": 1,
      "outputs": [
        {
          "output_type": "stream",
          "name": "stdout",
          "text": [
            "______\n",
            "7\n"
          ]
        },
        {
          "output_type": "error",
          "ename": "NameError",
          "evalue": "ignored",
          "traceback": [
            "\u001b[0;31m---------------------------------------------------------------------------\u001b[0m",
            "\u001b[0;31mNameError\u001b[0m                                 Traceback (most recent call last)",
            "\u001b[0;32m<ipython-input-1-8f882216e817>\u001b[0m in \u001b[0;36m<module>\u001b[0;34m()\u001b[0m\n\u001b[1;32m      9\u001b[0m     \u001b[0mprint\u001b[0m\u001b[0;34m(\u001b[0m\u001b[0mtw\u001b[0m\u001b[0;34m)\u001b[0m\u001b[0;34m\u001b[0m\u001b[0;34m\u001b[0m\u001b[0m\n\u001b[1;32m     10\u001b[0m \u001b[0;34m\u001b[0m\u001b[0m\n\u001b[0;32m---> 11\u001b[0;31m     \u001b[0msave_modeldf\u001b[0m \u001b[0;34m=\u001b[0m \u001b[0mmodel_to_ipfs\u001b[0m\u001b[0;34m.\u001b[0m\u001b[0mquery\u001b[0m\u001b[0;34m(\u001b[0m\u001b[0;34mf'ntp_tw == \"5-{tw}\"'\u001b[0m\u001b[0;34m)\u001b[0m\u001b[0;34m.\u001b[0m\u001b[0mreset_index\u001b[0m\u001b[0;34m(\u001b[0m\u001b[0mdrop\u001b[0m\u001b[0;34m=\u001b[0m\u001b[0;32mTrue\u001b[0m\u001b[0;34m)\u001b[0m\u001b[0;34m\u001b[0m\u001b[0;34m\u001b[0m\u001b[0m\n\u001b[0m\u001b[1;32m     12\u001b[0m \u001b[0;34m\u001b[0m\u001b[0m\n\u001b[1;32m     13\u001b[0m     \u001b[0;32mfor\u001b[0m \u001b[0mi\u001b[0m \u001b[0;32min\u001b[0m \u001b[0mrange\u001b[0m\u001b[0;34m(\u001b[0m\u001b[0msave_modeldf\u001b[0m\u001b[0;34m.\u001b[0m\u001b[0mshape\u001b[0m\u001b[0;34m[\u001b[0m\u001b[0;36m0\u001b[0m\u001b[0;34m]\u001b[0m\u001b[0;34m)\u001b[0m\u001b[0;34m:\u001b[0m\u001b[0;34m\u001b[0m\u001b[0;34m\u001b[0m\u001b[0m\n",
            "\u001b[0;31mNameError\u001b[0m: name 'model_to_ipfs' is not defined"
          ]
        }
      ]
    },
    {
      "cell_type": "markdown",
      "source": [
        "# Dollar Impact"
      ],
      "metadata": {
        "id": "pSwDlTGBD0Of"
      }
    },
    {
      "cell_type": "code",
      "source": [
        "from sklearn.metrics import accuracy_score,f1_score,precision_score,recall_score\n",
        "def run_test(\n",
        "    ntp,\n",
        "    tw,\n",
        "    X,\n",
        "    y,\n",
        "    dataset,\n",
        "    filter_cols\n",
        "):\n",
        "\n",
        "    ss, le, clf = load_models(ntp, tw, dataset)\n",
        "\n",
        "    if filter_cols:\n",
        "        X = X.iloc[:,filter_cols]\n",
        "    \n",
        "    print(X.shape)\n",
        "    x_test = ss.transform(X)\n",
        "    \n",
        "    pred = clf.predict(x_test)\n",
        "    pred = le.classes_[pred]\n",
        "    \n",
        "    print(f\"Accuracy score: {accuracy_score(y, pred)}\")\n",
        "\n",
        "    return accuracy_score(y, pred),f1_score(y,pred,average=\"micro\"),precision_score(y,pred,average=\"micro\"),recall_score(y,pred,average=\"micro\")\n",
        "\n",
        "\n",
        "\n",
        "def strategy_cost(row):\n",
        "    return row[row.Predict] * row['Borrow Amount']/365\n",
        "\n",
        "def compare_strategy(ntp, tw, initial_borrow, df,i,filter_cols):\n",
        "\n",
        "    ss, le, clf = load_models(ntp, tw,i)\n",
        "\n",
        "    chunks = []\n",
        "    for i, v in enumerate(range(0, len(df), tw)):\n",
        "        if i == 0:\n",
        "            chunks.append(df.loc[:ntp+tw-1].copy().reset_index(drop=True))\n",
        "        else:\n",
        "            chunks.append(df.loc[v:v+ntp+tw-1].copy().reset_index(drop=True))\n",
        "        \n",
        "    for i, chu in enumerate(chunks):\n",
        "        if len(chu) == ntp+tw:\n",
        "\n",
        "            if filter_cols:\n",
        "                x = chu.iloc[:,filter_cols]\n",
        "                x = x.iloc[:ntp,:]\n",
        "\n",
        "            else:\n",
        "                x = chu.iloc[:ntp,:]\n",
        "            x = ss.transform(x)\n",
        "            pred = clf.predict(x)\n",
        "            pred = le.classes_[pred]\n",
        "\n",
        "            chu.loc[ntp:, 'Predict'] = pred[0]  \n",
        "            if i == 0:\n",
        "                final = chu.dropna()\n",
        "            else:\n",
        "                final = final.append(chu.dropna()).reset_index(drop=True)\n",
        "\n",
        "    \n",
        "    final = (final[['DAI_borrowRate_t-0','USDC_borrowRate_t-0','USDT_borrowRate_t-0','Predict']]\n",
        "             .rename(columns={\"DAI_borrowRate_t-0\":\"DAI_borrowRate\",\n",
        "                      'USDC_borrowRate_t-0':'USDC_borrowRate',\n",
        "                      'USDT_borrowRate_t-0':'USDT_borrowRate'})\n",
        ")\n",
        "    \n",
        "    final['Borrow Amount'] = initial_borrow\n",
        "\n",
        "    final['DAI_br_cost'] = final['DAI_borrowRate'] * final['Borrow Amount']/365\n",
        "    final['USDC_br_cost'] = final['USDC_borrowRate'] * final['Borrow Amount']/365\n",
        "    final['USDT_br_cost'] = final['USDT_borrowRate'] * final['Borrow Amount']/365\n",
        "\n",
        "\n",
        "    final['Strategy_br_cost'] = final.apply(lambda row: strategy_cost(row), axis=1)\n",
        "\n",
        "    return final[['Borrow Amount','DAI_br_cost','USDC_br_cost','USDT_br_cost','Strategy_br_cost',\"Predict\"]]"
      ],
      "metadata": {
        "id": "b7B-a65msGxf"
      },
      "execution_count": 60,
      "outputs": []
    },
    {
      "cell_type": "code",
      "source": [
        "df_results = pd.read_csv(path/\"ModelResults/modelresults_newdata_compoundV2_updated.csv\")\n",
        "\n",
        "df_results"
      ],
      "metadata": {
        "colab": {
          "base_uri": "https://localhost:8080/",
          "height": 201
        },
        "id": "ljm73clD2rFe",
        "outputId": "71d7b5f8-8e94-48e4-c457-3dee53e4a4ea"
      },
      "execution_count": 3,
      "outputs": [
        {
          "output_type": "error",
          "ename": "NameError",
          "evalue": "ignored",
          "traceback": [
            "\u001b[0;31m---------------------------------------------------------------------------\u001b[0m",
            "\u001b[0;31mNameError\u001b[0m                                 Traceback (most recent call last)",
            "\u001b[0;32m<ipython-input-3-2343c627fb1e>\u001b[0m in \u001b[0;36m<module>\u001b[0;34m()\u001b[0m\n\u001b[0;32m----> 1\u001b[0;31m \u001b[0mdf_results\u001b[0m \u001b[0;34m=\u001b[0m \u001b[0mpd\u001b[0m\u001b[0;34m.\u001b[0m\u001b[0mread_csv\u001b[0m\u001b[0;34m(\u001b[0m\u001b[0mpath\u001b[0m\u001b[0;34m/\u001b[0m\u001b[0;34m\"ModelResults/modelresults_newdata_compoundV2_updated.csv\"\u001b[0m\u001b[0;34m)\u001b[0m\u001b[0;34m\u001b[0m\u001b[0;34m\u001b[0m\u001b[0m\n\u001b[0m\u001b[1;32m      2\u001b[0m \u001b[0;34m\u001b[0m\u001b[0m\n\u001b[1;32m      3\u001b[0m \u001b[0mdf_results\u001b[0m\u001b[0;34m\u001b[0m\u001b[0;34m\u001b[0m\u001b[0m\n",
            "\u001b[0;31mNameError\u001b[0m: name 'pd' is not defined"
          ]
        }
      ]
    },
    {
      "cell_type": "markdown",
      "source": [
        "# Test Trained models on Unseen data"
      ],
      "metadata": {
        "id": "LeuUWsBq828z"
      }
    },
    {
      "cell_type": "code",
      "source": [
        "#model_to_ipfs.shape[0]\n",
        "\n",
        "dollar_results = pd.DataFrame()\n",
        "metrics = []\n",
        "\n",
        "ss_list = list()\n",
        "le_list = list()\n",
        "\n",
        "initial_amount = 1000000\n",
        "\n",
        "\n",
        "for tw in [7,14,21]:\n",
        "\n",
        "    print(\"______\")\n",
        "    print(tw)\n",
        "\n",
        "    save_modeldf = (df_results.query(f'ntp_tw == \"5-{tw}\"')\n",
        "                    .reset_index(drop=True)\n",
        "                    [[\"model_name\",\"params\",\"ntp_tw\",\"dataset\",\"index\"]]\n",
        ")\n",
        "\n",
        "    for i in range(save_modeldf.shape[0]):\n",
        "\n",
        "        print(save_modeldf.iloc[i][\"index\"])\n",
        "        ss,le,clf = load_models(ntp,tw,save_modeldf.iloc[i][\"index\"])\n",
        "\n",
        "        print(clf,ss)\n",
        "\n",
        "        ntp,tw,stratify,fc,synth = get_data_metadata(save_modeldf.iloc[i])\n",
        "\n",
        "        ntp_tw = \"_\".join([str(ntp),str(tw)])\n",
        "\n",
        "        df_test,y = get_tabpandas_multi(df_predict.drop(columns=\"Date\"), ntp, tw,inference=True)\n",
        "\n",
        "        print(df_test.shape,y.shape,fc)\n",
        "\n",
        "        acc,f1,precision,recall = run_test(ntp,tw,df_test,y,save_modeldf.iloc[i][\"index\"],fc)\n",
        "\n",
        "        metrics_dict = dict()\n",
        "        metrics_dict[\"index\"] = save_modeldf.iloc[i][\"index\"]\n",
        "        metrics_dict[\"ntp_tw\"] = \"-\".join([str(ntp),str(tw)])\n",
        "        metrics_dict[\"u_acc\"] = acc\n",
        "        metrics_dict[\"u_f1\"] = f1\n",
        "        metrics_dict[\"u_precision\"] = precision\n",
        "        metrics_dict[\"u_recall\"] = recall\n",
        "\n",
        "        metrics.append(metrics_dict)"
      ],
      "metadata": {
        "id": "Ji7KO5MZmd_R",
        "colab": {
          "base_uri": "https://localhost:8080/",
          "height": 236
        },
        "outputId": "590dc362-122f-4fee-df40-ab5a46134c57"
      },
      "execution_count": 2,
      "outputs": [
        {
          "output_type": "error",
          "ename": "NameError",
          "evalue": "ignored",
          "traceback": [
            "\u001b[0;31m---------------------------------------------------------------------------\u001b[0m",
            "\u001b[0;31mNameError\u001b[0m                                 Traceback (most recent call last)",
            "\u001b[0;32m<ipython-input-2-4fc31bc4e259>\u001b[0m in \u001b[0;36m<module>\u001b[0;34m()\u001b[0m\n\u001b[1;32m      1\u001b[0m \u001b[0;31m#model_to_ipfs.shape[0]\u001b[0m\u001b[0;34m\u001b[0m\u001b[0;34m\u001b[0m\u001b[0;34m\u001b[0m\u001b[0m\n\u001b[1;32m      2\u001b[0m \u001b[0;34m\u001b[0m\u001b[0m\n\u001b[0;32m----> 3\u001b[0;31m \u001b[0mdollar_results\u001b[0m \u001b[0;34m=\u001b[0m \u001b[0mpd\u001b[0m\u001b[0;34m.\u001b[0m\u001b[0mDataFrame\u001b[0m\u001b[0;34m(\u001b[0m\u001b[0;34m)\u001b[0m\u001b[0;34m\u001b[0m\u001b[0;34m\u001b[0m\u001b[0m\n\u001b[0m\u001b[1;32m      4\u001b[0m \u001b[0mmetrics\u001b[0m \u001b[0;34m=\u001b[0m \u001b[0;34m[\u001b[0m\u001b[0;34m]\u001b[0m\u001b[0;34m\u001b[0m\u001b[0;34m\u001b[0m\u001b[0m\n\u001b[1;32m      5\u001b[0m \u001b[0;34m\u001b[0m\u001b[0m\n",
            "\u001b[0;31mNameError\u001b[0m: name 'pd' is not defined"
          ]
        }
      ]
    },
    {
      "cell_type": "code",
      "source": [
        "df_final_predictions = pd.DataFrame(metrics).merge(df_results,on=[\"ntp_tw\",\"index\"])"
      ],
      "metadata": {
        "id": "ZWRWETrYEKio"
      },
      "execution_count": 51,
      "outputs": []
    },
    {
      "cell_type": "code",
      "source": [
        "df_final_predictions.query('ntp_tw == \"5-21\"').sort_values('u_acc',ascending=False)"
      ],
      "metadata": {
        "colab": {
          "base_uri": "https://localhost:8080/",
          "height": 1000
        },
        "id": "F-kjUEjQhNVO",
        "outputId": "075516f1-2a9e-4816-8371-3ccbe921e382"
      },
      "execution_count": 57,
      "outputs": [
        {
          "output_type": "execute_result",
          "data": {
            "text/plain": [
              "      index ntp_tw     u_acc      u_f1  u_precision  u_recall  \\\n",
              "1606    468   5-21  0.857143  0.857143     0.857143  0.857143   \n",
              "1596    458   5-21  0.847619  0.847619     0.847619  0.847619   \n",
              "1657    519   5-21  0.828571  0.828571     0.828571  0.828571   \n",
              "1538    400   5-21  0.809524  0.809524     0.809524  0.809524   \n",
              "1148     10   5-21  0.800000  0.800000     0.800000  0.800000   \n",
              "...     ...    ...       ...       ...          ...       ...   \n",
              "1700    562   5-21  0.228571  0.228571     0.228571  0.228571   \n",
              "1701    563   5-21  0.228571  0.228571     0.228571  0.228571   \n",
              "1694    556   5-21  0.219048  0.219048     0.219048  0.219048   \n",
              "1695    557   5-21  0.219048  0.219048     0.219048  0.219048   \n",
              "1417    279   5-21  0.104762  0.104762     0.104762  0.104762   \n",
              "\n",
              "                      model_name  \\\n",
              "1606  GradientBoostingClassifier   \n",
              "1596  GradientBoostingClassifier   \n",
              "1657  GradientBoostingClassifier   \n",
              "1538  GradientBoostingClassifier   \n",
              "1148      RandomForestClassifier   \n",
              "...                          ...   \n",
              "1700  GradientBoostingClassifier   \n",
              "1701  GradientBoostingClassifier   \n",
              "1694      RandomForestClassifier   \n",
              "1695      RandomForestClassifier   \n",
              "1417          AdaBoostClassifier   \n",
              "\n",
              "                                                                                params  \\\n",
              "1606                   {'learning_rate': 0.05, 'n_estimators': 60, 'random_state': 42}   \n",
              "1596                   {'learning_rate': 0.05, 'n_estimators': 50, 'random_state': 42}   \n",
              "1657                   {'learning_rate': 0.05, 'n_estimators': 70, 'random_state': 42}   \n",
              "1538                   {'learning_rate': 0.05, 'n_estimators': 40, 'random_state': 42}   \n",
              "1148  {'max_depth': 3, 'min_samples_leaf': 9, 'n_estimators': 120, 'random_state': 42}   \n",
              "...                                                                                ...   \n",
              "1700                    {'learning_rate': 0.1, 'n_estimators': 40, 'random_state': 42}   \n",
              "1701                    {'learning_rate': 0.1, 'n_estimators': 50, 'random_state': 42}   \n",
              "1694   {'max_depth': 9, 'min_samples_leaf': 3, 'n_estimators': 10, 'random_state': 42}   \n",
              "1695  {'max_depth': 12, 'min_samples_leaf': 3, 'n_estimators': 10, 'random_state': 42}   \n",
              "1417                                         {'n_estimators': 120, 'random_state': 42}   \n",
              "\n",
              "                                                                                         dataset  \\\n",
              "1606  [False, [49, 64, 65, 48, 33, 32, 16, 34, 1, 39, 9, 17, 0, 18, 22, 2, 30, 78, 56, 8], True]   \n",
              "1596  [False, [49, 64, 65, 48, 33, 32, 16, 34, 1, 39, 9, 17, 0, 18, 22, 2, 30, 78, 56, 8], True]   \n",
              "1657  [False, [49, 64, 65, 48, 33, 32, 16, 34, 1, 39, 9, 17, 0, 18, 22, 2, 30, 78, 56, 8], True]   \n",
              "1538  [False, [49, 64, 65, 48, 33, 32, 16, 34, 1, 39, 9, 17, 0, 18, 22, 2, 30, 78, 56, 8], True]   \n",
              "1148  [False, [49, 64, 65, 48, 33, 32, 16, 34, 1, 39, 9, 17, 0, 18, 22, 2, 30, 78, 56, 8], True]   \n",
              "...                                                                                          ...   \n",
              "1700                                                                        [False, None, False]   \n",
              "1701                                                                        [False, None, False]   \n",
              "1694  [True, [49, 64, 65, 48, 33, 32, 16, 34, 1, 39, 9, 17, 0, 18, 22, 2, 30, 78, 56, 8], False]   \n",
              "1695  [True, [49, 64, 65, 48, 33, 32, 16, 34, 1, 39, 9, 17, 0, 18, 22, 2, 30, 78, 56, 8], False]   \n",
              "1417  [False, [49, 64, 65, 48, 33, 32, 16, 34, 1, 39, 9, 17, 0, 18, 22, 2, 30, 78, 56, 8], True]   \n",
              "\n",
              "                                                                                                                   model  \\\n",
              "1606                                    GradientBoostingClassifier(learning_rate=0.05, n_estimators=60, random_state=42)   \n",
              "1596                                    GradientBoostingClassifier(learning_rate=0.05, n_estimators=50, random_state=42)   \n",
              "1657                                    GradientBoostingClassifier(learning_rate=0.05, n_estimators=70, random_state=42)   \n",
              "1538                                    GradientBoostingClassifier(learning_rate=0.05, n_estimators=40, random_state=42)   \n",
              "1148  RandomForestClassifier(max_depth=3, min_samples_leaf=9, n_estimators=120,\\n                       random_state=42)   \n",
              "...                                                                                                                  ...   \n",
              "1700                                                        GradientBoostingClassifier(n_estimators=40, random_state=42)   \n",
              "1701                                                        GradientBoostingClassifier(n_estimators=50, random_state=42)   \n",
              "1694   RandomForestClassifier(max_depth=9, min_samples_leaf=3, n_estimators=10,\\n                       random_state=42)   \n",
              "1695  RandomForestClassifier(max_depth=12, min_samples_leaf=3, n_estimators=10,\\n                       random_state=42)   \n",
              "1417                                                               AdaBoostClassifier(n_estimators=120, random_state=42)   \n",
              "\n",
              "      train_f1   test_f1  \n",
              "1606  0.992424  0.910000  \n",
              "1596  0.987374  0.910000  \n",
              "1657  0.994949  0.930000  \n",
              "1538  0.979798  0.900000  \n",
              "1148  0.893939  0.780000  \n",
              "...        ...       ...  \n",
              "1700  1.000000  0.941176  \n",
              "1701  1.000000  0.941176  \n",
              "1694  0.988971  0.970588  \n",
              "1695  0.988971  0.970588  \n",
              "1417  0.785354  0.730000  \n",
              "\n",
              "[569 rows x 12 columns]"
            ],
            "text/html": [
              "\n",
              "  <div id=\"df-664da756-6b3f-460f-8185-9bb68ecc8f2e\">\n",
              "    <div class=\"colab-df-container\">\n",
              "      <div>\n",
              "<style scoped>\n",
              "    .dataframe tbody tr th:only-of-type {\n",
              "        vertical-align: middle;\n",
              "    }\n",
              "\n",
              "    .dataframe tbody tr th {\n",
              "        vertical-align: top;\n",
              "    }\n",
              "\n",
              "    .dataframe thead th {\n",
              "        text-align: right;\n",
              "    }\n",
              "</style>\n",
              "<table border=\"1\" class=\"dataframe\">\n",
              "  <thead>\n",
              "    <tr style=\"text-align: right;\">\n",
              "      <th></th>\n",
              "      <th>index</th>\n",
              "      <th>ntp_tw</th>\n",
              "      <th>u_acc</th>\n",
              "      <th>u_f1</th>\n",
              "      <th>u_precision</th>\n",
              "      <th>u_recall</th>\n",
              "      <th>model_name</th>\n",
              "      <th>params</th>\n",
              "      <th>dataset</th>\n",
              "      <th>model</th>\n",
              "      <th>train_f1</th>\n",
              "      <th>test_f1</th>\n",
              "    </tr>\n",
              "  </thead>\n",
              "  <tbody>\n",
              "    <tr>\n",
              "      <th>1606</th>\n",
              "      <td>468</td>\n",
              "      <td>5-21</td>\n",
              "      <td>0.857143</td>\n",
              "      <td>0.857143</td>\n",
              "      <td>0.857143</td>\n",
              "      <td>0.857143</td>\n",
              "      <td>GradientBoostingClassifier</td>\n",
              "      <td>{'learning_rate': 0.05, 'n_estimators': 60, 'random_state': 42}</td>\n",
              "      <td>[False, [49, 64, 65, 48, 33, 32, 16, 34, 1, 39, 9, 17, 0, 18, 22, 2, 30, 78, 56, 8], True]</td>\n",
              "      <td>GradientBoostingClassifier(learning_rate=0.05, n_estimators=60, random_state=42)</td>\n",
              "      <td>0.992424</td>\n",
              "      <td>0.910000</td>\n",
              "    </tr>\n",
              "    <tr>\n",
              "      <th>1596</th>\n",
              "      <td>458</td>\n",
              "      <td>5-21</td>\n",
              "      <td>0.847619</td>\n",
              "      <td>0.847619</td>\n",
              "      <td>0.847619</td>\n",
              "      <td>0.847619</td>\n",
              "      <td>GradientBoostingClassifier</td>\n",
              "      <td>{'learning_rate': 0.05, 'n_estimators': 50, 'random_state': 42}</td>\n",
              "      <td>[False, [49, 64, 65, 48, 33, 32, 16, 34, 1, 39, 9, 17, 0, 18, 22, 2, 30, 78, 56, 8], True]</td>\n",
              "      <td>GradientBoostingClassifier(learning_rate=0.05, n_estimators=50, random_state=42)</td>\n",
              "      <td>0.987374</td>\n",
              "      <td>0.910000</td>\n",
              "    </tr>\n",
              "    <tr>\n",
              "      <th>1657</th>\n",
              "      <td>519</td>\n",
              "      <td>5-21</td>\n",
              "      <td>0.828571</td>\n",
              "      <td>0.828571</td>\n",
              "      <td>0.828571</td>\n",
              "      <td>0.828571</td>\n",
              "      <td>GradientBoostingClassifier</td>\n",
              "      <td>{'learning_rate': 0.05, 'n_estimators': 70, 'random_state': 42}</td>\n",
              "      <td>[False, [49, 64, 65, 48, 33, 32, 16, 34, 1, 39, 9, 17, 0, 18, 22, 2, 30, 78, 56, 8], True]</td>\n",
              "      <td>GradientBoostingClassifier(learning_rate=0.05, n_estimators=70, random_state=42)</td>\n",
              "      <td>0.994949</td>\n",
              "      <td>0.930000</td>\n",
              "    </tr>\n",
              "    <tr>\n",
              "      <th>1538</th>\n",
              "      <td>400</td>\n",
              "      <td>5-21</td>\n",
              "      <td>0.809524</td>\n",
              "      <td>0.809524</td>\n",
              "      <td>0.809524</td>\n",
              "      <td>0.809524</td>\n",
              "      <td>GradientBoostingClassifier</td>\n",
              "      <td>{'learning_rate': 0.05, 'n_estimators': 40, 'random_state': 42}</td>\n",
              "      <td>[False, [49, 64, 65, 48, 33, 32, 16, 34, 1, 39, 9, 17, 0, 18, 22, 2, 30, 78, 56, 8], True]</td>\n",
              "      <td>GradientBoostingClassifier(learning_rate=0.05, n_estimators=40, random_state=42)</td>\n",
              "      <td>0.979798</td>\n",
              "      <td>0.900000</td>\n",
              "    </tr>\n",
              "    <tr>\n",
              "      <th>1148</th>\n",
              "      <td>10</td>\n",
              "      <td>5-21</td>\n",
              "      <td>0.800000</td>\n",
              "      <td>0.800000</td>\n",
              "      <td>0.800000</td>\n",
              "      <td>0.800000</td>\n",
              "      <td>RandomForestClassifier</td>\n",
              "      <td>{'max_depth': 3, 'min_samples_leaf': 9, 'n_estimators': 120, 'random_state': 42}</td>\n",
              "      <td>[False, [49, 64, 65, 48, 33, 32, 16, 34, 1, 39, 9, 17, 0, 18, 22, 2, 30, 78, 56, 8], True]</td>\n",
              "      <td>RandomForestClassifier(max_depth=3, min_samples_leaf=9, n_estimators=120,\\n                       random_state=42)</td>\n",
              "      <td>0.893939</td>\n",
              "      <td>0.780000</td>\n",
              "    </tr>\n",
              "    <tr>\n",
              "      <th>...</th>\n",
              "      <td>...</td>\n",
              "      <td>...</td>\n",
              "      <td>...</td>\n",
              "      <td>...</td>\n",
              "      <td>...</td>\n",
              "      <td>...</td>\n",
              "      <td>...</td>\n",
              "      <td>...</td>\n",
              "      <td>...</td>\n",
              "      <td>...</td>\n",
              "      <td>...</td>\n",
              "      <td>...</td>\n",
              "    </tr>\n",
              "    <tr>\n",
              "      <th>1700</th>\n",
              "      <td>562</td>\n",
              "      <td>5-21</td>\n",
              "      <td>0.228571</td>\n",
              "      <td>0.228571</td>\n",
              "      <td>0.228571</td>\n",
              "      <td>0.228571</td>\n",
              "      <td>GradientBoostingClassifier</td>\n",
              "      <td>{'learning_rate': 0.1, 'n_estimators': 40, 'random_state': 42}</td>\n",
              "      <td>[False, None, False]</td>\n",
              "      <td>GradientBoostingClassifier(n_estimators=40, random_state=42)</td>\n",
              "      <td>1.000000</td>\n",
              "      <td>0.941176</td>\n",
              "    </tr>\n",
              "    <tr>\n",
              "      <th>1701</th>\n",
              "      <td>563</td>\n",
              "      <td>5-21</td>\n",
              "      <td>0.228571</td>\n",
              "      <td>0.228571</td>\n",
              "      <td>0.228571</td>\n",
              "      <td>0.228571</td>\n",
              "      <td>GradientBoostingClassifier</td>\n",
              "      <td>{'learning_rate': 0.1, 'n_estimators': 50, 'random_state': 42}</td>\n",
              "      <td>[False, None, False]</td>\n",
              "      <td>GradientBoostingClassifier(n_estimators=50, random_state=42)</td>\n",
              "      <td>1.000000</td>\n",
              "      <td>0.941176</td>\n",
              "    </tr>\n",
              "    <tr>\n",
              "      <th>1694</th>\n",
              "      <td>556</td>\n",
              "      <td>5-21</td>\n",
              "      <td>0.219048</td>\n",
              "      <td>0.219048</td>\n",
              "      <td>0.219048</td>\n",
              "      <td>0.219048</td>\n",
              "      <td>RandomForestClassifier</td>\n",
              "      <td>{'max_depth': 9, 'min_samples_leaf': 3, 'n_estimators': 10, 'random_state': 42}</td>\n",
              "      <td>[True, [49, 64, 65, 48, 33, 32, 16, 34, 1, 39, 9, 17, 0, 18, 22, 2, 30, 78, 56, 8], False]</td>\n",
              "      <td>RandomForestClassifier(max_depth=9, min_samples_leaf=3, n_estimators=10,\\n                       random_state=42)</td>\n",
              "      <td>0.988971</td>\n",
              "      <td>0.970588</td>\n",
              "    </tr>\n",
              "    <tr>\n",
              "      <th>1695</th>\n",
              "      <td>557</td>\n",
              "      <td>5-21</td>\n",
              "      <td>0.219048</td>\n",
              "      <td>0.219048</td>\n",
              "      <td>0.219048</td>\n",
              "      <td>0.219048</td>\n",
              "      <td>RandomForestClassifier</td>\n",
              "      <td>{'max_depth': 12, 'min_samples_leaf': 3, 'n_estimators': 10, 'random_state': 42}</td>\n",
              "      <td>[True, [49, 64, 65, 48, 33, 32, 16, 34, 1, 39, 9, 17, 0, 18, 22, 2, 30, 78, 56, 8], False]</td>\n",
              "      <td>RandomForestClassifier(max_depth=12, min_samples_leaf=3, n_estimators=10,\\n                       random_state=42)</td>\n",
              "      <td>0.988971</td>\n",
              "      <td>0.970588</td>\n",
              "    </tr>\n",
              "    <tr>\n",
              "      <th>1417</th>\n",
              "      <td>279</td>\n",
              "      <td>5-21</td>\n",
              "      <td>0.104762</td>\n",
              "      <td>0.104762</td>\n",
              "      <td>0.104762</td>\n",
              "      <td>0.104762</td>\n",
              "      <td>AdaBoostClassifier</td>\n",
              "      <td>{'n_estimators': 120, 'random_state': 42}</td>\n",
              "      <td>[False, [49, 64, 65, 48, 33, 32, 16, 34, 1, 39, 9, 17, 0, 18, 22, 2, 30, 78, 56, 8], True]</td>\n",
              "      <td>AdaBoostClassifier(n_estimators=120, random_state=42)</td>\n",
              "      <td>0.785354</td>\n",
              "      <td>0.730000</td>\n",
              "    </tr>\n",
              "  </tbody>\n",
              "</table>\n",
              "<p>569 rows × 12 columns</p>\n",
              "</div>\n",
              "      <button class=\"colab-df-convert\" onclick=\"convertToInteractive('df-664da756-6b3f-460f-8185-9bb68ecc8f2e')\"\n",
              "              title=\"Convert this dataframe to an interactive table.\"\n",
              "              style=\"display:none;\">\n",
              "        \n",
              "  <svg xmlns=\"http://www.w3.org/2000/svg\" height=\"24px\"viewBox=\"0 0 24 24\"\n",
              "       width=\"24px\">\n",
              "    <path d=\"M0 0h24v24H0V0z\" fill=\"none\"/>\n",
              "    <path d=\"M18.56 5.44l.94 2.06.94-2.06 2.06-.94-2.06-.94-.94-2.06-.94 2.06-2.06.94zm-11 1L8.5 8.5l.94-2.06 2.06-.94-2.06-.94L8.5 2.5l-.94 2.06-2.06.94zm10 10l.94 2.06.94-2.06 2.06-.94-2.06-.94-.94-2.06-.94 2.06-2.06.94z\"/><path d=\"M17.41 7.96l-1.37-1.37c-.4-.4-.92-.59-1.43-.59-.52 0-1.04.2-1.43.59L10.3 9.45l-7.72 7.72c-.78.78-.78 2.05 0 2.83L4 21.41c.39.39.9.59 1.41.59.51 0 1.02-.2 1.41-.59l7.78-7.78 2.81-2.81c.8-.78.8-2.07 0-2.86zM5.41 20L4 18.59l7.72-7.72 1.47 1.35L5.41 20z\"/>\n",
              "  </svg>\n",
              "      </button>\n",
              "      \n",
              "  <style>\n",
              "    .colab-df-container {\n",
              "      display:flex;\n",
              "      flex-wrap:wrap;\n",
              "      gap: 12px;\n",
              "    }\n",
              "\n",
              "    .colab-df-convert {\n",
              "      background-color: #E8F0FE;\n",
              "      border: none;\n",
              "      border-radius: 50%;\n",
              "      cursor: pointer;\n",
              "      display: none;\n",
              "      fill: #1967D2;\n",
              "      height: 32px;\n",
              "      padding: 0 0 0 0;\n",
              "      width: 32px;\n",
              "    }\n",
              "\n",
              "    .colab-df-convert:hover {\n",
              "      background-color: #E2EBFA;\n",
              "      box-shadow: 0px 1px 2px rgba(60, 64, 67, 0.3), 0px 1px 3px 1px rgba(60, 64, 67, 0.15);\n",
              "      fill: #174EA6;\n",
              "    }\n",
              "\n",
              "    [theme=dark] .colab-df-convert {\n",
              "      background-color: #3B4455;\n",
              "      fill: #D2E3FC;\n",
              "    }\n",
              "\n",
              "    [theme=dark] .colab-df-convert:hover {\n",
              "      background-color: #434B5C;\n",
              "      box-shadow: 0px 1px 3px 1px rgba(0, 0, 0, 0.15);\n",
              "      filter: drop-shadow(0px 1px 2px rgba(0, 0, 0, 0.3));\n",
              "      fill: #FFFFFF;\n",
              "    }\n",
              "  </style>\n",
              "\n",
              "      <script>\n",
              "        const buttonEl =\n",
              "          document.querySelector('#df-664da756-6b3f-460f-8185-9bb68ecc8f2e button.colab-df-convert');\n",
              "        buttonEl.style.display =\n",
              "          google.colab.kernel.accessAllowed ? 'block' : 'none';\n",
              "\n",
              "        async function convertToInteractive(key) {\n",
              "          const element = document.querySelector('#df-664da756-6b3f-460f-8185-9bb68ecc8f2e');\n",
              "          const dataTable =\n",
              "            await google.colab.kernel.invokeFunction('convertToInteractive',\n",
              "                                                     [key], {});\n",
              "          if (!dataTable) return;\n",
              "\n",
              "          const docLinkHtml = 'Like what you see? Visit the ' +\n",
              "            '<a target=\"_blank\" href=https://colab.research.google.com/notebooks/data_table.ipynb>data table notebook</a>'\n",
              "            + ' to learn more about interactive tables.';\n",
              "          element.innerHTML = '';\n",
              "          dataTable['output_type'] = 'display_data';\n",
              "          await google.colab.output.renderOutput(dataTable, element);\n",
              "          const docLink = document.createElement('div');\n",
              "          docLink.innerHTML = docLinkHtml;\n",
              "          element.appendChild(docLink);\n",
              "        }\n",
              "      </script>\n",
              "    </div>\n",
              "  </div>\n",
              "  "
            ]
          },
          "metadata": {},
          "execution_count": 57
        }
      ]
    },
    {
      "cell_type": "markdown",
      "source": [
        "## Save Models to IPFS"
      ],
      "metadata": {
        "id": "tgQFDGi09F-A"
      }
    },
    {
      "cell_type": "code",
      "source": [
        "\n",
        "ss_list = list()\n",
        "le_list = list()\n",
        "\n",
        "initial_amount = 1000000\n",
        "\n",
        "\n",
        "for tw in [7,14,21]:\n",
        "\n",
        "    print(\"______\")\n",
        "    print(tw)\n",
        "\n",
        "    save_modeldf = (df_final_predictions.query(f'ntp_tw == \"5-{tw}\"')\n",
        "                    .sort_values('u_acc',ascending=False)\n",
        "                    .reset_index(drop=True)\n",
        "                    [[\"model_name\",\"params\",\"ntp_tw\",\"dataset\",\"index\"]]\n",
        ")\n",
        "\n",
        "    for i in range(3):\n",
        "\n",
        "        print(save_modeldf.iloc[i][\"index\"])\n",
        "        ss,le,clf = load_models(ntp,tw,save_modeldf.iloc[i][\"index\"])\n",
        "\n",
        "        print(clf,ss)\n",
        "\n",
        "        ntp,tw,stratify,fc,synth = get_data_metadata(save_modeldf.iloc[i])\n",
        "\n",
        "\n",
        "        scaler_dict = {\"keyvalues\":{}}\n",
        "        scaler_dict[\"keyvalues\"].update({\"Version\":\"V02\"})\n",
        "        scaler_dict[\"keyvalues\"].update({\"dao\":\"DefiSquad\",\"protocol\":\"Compound\",\"network\":\"Mainnet\"})\n",
        "        scaler_dict[\"keyvalues\"].update({\"type\":\"StandardScaler\"})\n",
        "        scaler_dict[\"keyvalues\"].update({\"ntp_tw\":str(ntp_tw)})\n",
        "        scaler_dict[\"keyvalues\"].update({\"features\":str(fc) if fc else str(df_test.columns)})\n",
        "        scaler_dict[\"keyvalues\"].update({\"size\":str(len(fc)) if fc else str(df_test.shape[0])})\n",
        "\n",
        "        label_encoder_dict = {\"keyvalues\":{}}\n",
        "        label_encoder_dict[\"keyvalues\"].update({\"Version\":\"V02\"})\n",
        "        label_encoder_dict[\"keyvalues\"].update({\"dao\":\"DefiSquad\",\"protocol\":\"Compound\",\"network\":\"Mainnet\"})\n",
        "        label_encoder_dict[\"keyvalues\"].update({\"type\":\"Label_Encoder\"})\n",
        "        label_encoder_dict[\"keyvalues\"].update({\"ntp_tw\":str(ntp_tw)})\n",
        "        label_encoder_dict[\"keyvalues\"].update({\"classes\":str(list(le.classes_))})\n",
        "\n",
        "\n",
        "        ss_path = str(path/f'models/{ntp_tw}/{i}_ss_clf_{ntp}_{tw}.pkl')\n",
        "        le_path = str(path/f'models/{ntp_tw}/{i}_le_clf_{ntp}_{tw}.pkl')\n",
        "        clf_path = str(path/f'models/{ntp_tw}/{i}_clf_{ntp}_{tw}.pkl')\n",
        "\n",
        "\n",
        "        ss_cid = upload_ipfs(ss_path,NS,ns_creds,p_creds,scaler_dict)\n",
        "        le_cid = upload_ipfs(le_path,NS,ns_creds,p_creds,label_encoder_dict)\n",
        "\n",
        "        # metrics_dict[\"ipfs_cid\"] = str({\"cidV1\":cidV1,\"cidV2\":cidV2})\n",
        "        model_dict = {\"keyvalues\":{}}\n",
        "        model_dict[\"keyvalues\"].update({\"Version\":\"V02\"})\n",
        "        model_dict[\"keyvalues\"].update({\"projectData\":str({\"dao\":\"DefiSquad\",\"protocol\":\"Compound\",\"network\":\"Mainnet\"})})\n",
        "        model_dict[\"keyvalues\"].update({\"type\":\"BorrowPrediction\"})\n",
        "        model_dict[\"keyvalues\"].update({\"ntp_tw\":str(ntp_tw)})\n",
        "        model_dict[\"keyvalues\"].update({\"UnseenAccuracy\":acc})\n",
        "        model_dict[\"keyvalues\"].update({\"UnseenDataMetrics\":str({\"f1_score\":f1,\"precision\":precision,\"recall\":recall})})\n",
        "        model_dict[\"keyvalues\"].update({\"datasetTraining\":str({\"stratify\":stratify,\"filter_cols\":fc,\"smote\":synth})})\n",
        "        model_dict[\"keyvalues\"].update({\"scalerLabelEncoder\":str({\"ss\":ss_cid,\"le\":le_cid})})\n",
        "        model_dict[\"keyvalues\"].update({\"model\":str({\"model_name\":model_name,\"params\":str(params)})})\n",
        "\n",
        "\n",
        "        \n",
        "        model_cid = upload_ipfs(clf_path,NS,ns_creds,p_creds,model_dict)\n",
        "        model_dict[\"cid\"] = model_cid\n",
        "        metrics.append(model_dict)\n",
        "        ss_list.append(ss_cid)\n",
        "        le_list.append(le_cid)\n",
        "\n",
        "\n",
        "    #     dollar_preds = compare_strategy(ntp,tw,initial_amount,df_test,i,fc)\n",
        "    \n",
        "    #     dollar_results[str(model_cid)] = dollar_preds[\"Strategy_br_cost\"]\n",
        "\n",
        "    #     dollar_results[\"Date\"] = df_predict[[\"Date\"]][:len(dollar_results)]\n",
        "    #     dollar_results[\"ntp_tw\"] = ntp_tw\n",
        "\n",
        "\n",
        "    # dollar_results[\"DAI_br_cost\"] = dollar_preds[\"DAI_br_cost\"]\n",
        "    # dollar_results[\"USDC_br_cost\"] = dollar_preds[\"USDC_br_cost\"]\n",
        "    # dollar_results[\"USDT_br_cost\"] = dollar_preds[\"USDT_br_cost\"]\n"
      ],
      "metadata": {
        "colab": {
          "base_uri": "https://localhost:8080/",
          "height": 271
        },
        "id": "hcqY2mtueJYj",
        "outputId": "8b3a684e-1e81-40d7-acb1-d003b5058a5a"
      },
      "execution_count": 4,
      "outputs": [
        {
          "output_type": "stream",
          "name": "stdout",
          "text": [
            "______\n",
            "7\n"
          ]
        },
        {
          "output_type": "error",
          "ename": "NameError",
          "evalue": "ignored",
          "traceback": [
            "\u001b[0;31m---------------------------------------------------------------------------\u001b[0m",
            "\u001b[0;31mNameError\u001b[0m                                 Traceback (most recent call last)",
            "\u001b[0;32m<ipython-input-4-e8c4b40ba7cb>\u001b[0m in \u001b[0;36m<module>\u001b[0;34m()\u001b[0m\n\u001b[1;32m     11\u001b[0m     \u001b[0mprint\u001b[0m\u001b[0;34m(\u001b[0m\u001b[0mtw\u001b[0m\u001b[0;34m)\u001b[0m\u001b[0;34m\u001b[0m\u001b[0;34m\u001b[0m\u001b[0m\n\u001b[1;32m     12\u001b[0m \u001b[0;34m\u001b[0m\u001b[0m\n\u001b[0;32m---> 13\u001b[0;31m     save_modeldf = (df_final_predictions.query(f'ntp_tw == \"5-{tw}\"')\n\u001b[0m\u001b[1;32m     14\u001b[0m                     \u001b[0;34m.\u001b[0m\u001b[0msort_values\u001b[0m\u001b[0;34m(\u001b[0m\u001b[0;34m'u_acc'\u001b[0m\u001b[0;34m,\u001b[0m\u001b[0mascending\u001b[0m\u001b[0;34m=\u001b[0m\u001b[0;32mFalse\u001b[0m\u001b[0;34m)\u001b[0m\u001b[0;34m\u001b[0m\u001b[0;34m\u001b[0m\u001b[0m\n\u001b[1;32m     15\u001b[0m                     \u001b[0;34m.\u001b[0m\u001b[0mreset_index\u001b[0m\u001b[0;34m(\u001b[0m\u001b[0mdrop\u001b[0m\u001b[0;34m=\u001b[0m\u001b[0;32mTrue\u001b[0m\u001b[0;34m)\u001b[0m\u001b[0;34m\u001b[0m\u001b[0;34m\u001b[0m\u001b[0m\n",
            "\u001b[0;31mNameError\u001b[0m: name 'df_final_predictions' is not defined"
          ]
        }
      ]
    },
    {
      "cell_type": "markdown",
      "source": [
        "#Stop Here"
      ],
      "metadata": {
        "id": "AK54KnNg9KTa"
      }
    },
    {
      "cell_type": "code",
      "source": [
        "#         df_temp = pd.DataFrame()\n",
        "#         df_temp[\"Strategy_br_cost\"] = dollar_preds[\"Strategy_br_cost\"]\n",
        "#         df_temp[\"Predict\"] = dollar_preds[\"Predict\"]\n",
        "\n",
        "#         df_temp[\"Date\"] = df_predict[\"Date\"]\n",
        "#         df_temp[\"ntp_tw\"] = ntp_tw\n",
        "#         df_temp[\"Strategy\"] = str(model_cid)\n",
        "#         df_temp[\"Model_Name\"] = str(clf)\n",
        "\n",
        "#         dollar_results = pd.concat([dollar_results,df_temp],axis=0)\n",
        "\n",
        "# for hold_position in [\"DAI\",\"USDC\",\"USDT_br_cost\"]:\n",
        "\n",
        "#     df_temp[\"Strategy_br_cost\"] = dollar_preds[f\"{hold_position}_br_cost\"]\n",
        "#     df_temp[\"Predict\"] = dollar_preds[\"Predict\"]\n",
        "\n",
        "#     df_temp[\"Date\"] = df_predict[\"Date\"]\n",
        "#     df_temp[\"ntp_tw\"] = ntp_tw\n",
        "#     df_temp[\"Strategy\"] = str(model_cid)\n",
        "#     df_temp[\"Model_Name\"] = str(clf)"
      ],
      "metadata": {
        "id": "UgnYp7x9QOqb"
      },
      "execution_count": null,
      "outputs": []
    },
    {
      "cell_type": "code",
      "source": [
        "set(ss_list),set(le_list)"
      ],
      "metadata": {
        "id": "PtJYoll9J3su",
        "colab": {
          "base_uri": "https://localhost:8080/"
        },
        "outputId": "2de18f7c-5983-4b33-aa84-e5c88aea1a39"
      },
      "execution_count": 67,
      "outputs": [
        {
          "output_type": "execute_result",
          "data": {
            "text/plain": [
              "({'bafkreia7zazf3kgy4tki4gheeve4b7kfdablkhsxmbvxcpcdo3aeturjzy',\n",
              "  'bafkreibh4otv3mfpicn5kdsqwdlfw7qmr7hqussepchivxeutdmlvskyya',\n",
              "  'bafkreicyevoea22ifxgpvdq7rayevzcjsopq5ckwtzuupehlyb75fbx5da',\n",
              "  'bafkreidq7vsjbv5affqeyf3elvnokdefxqzzfvnsrsd4qyfiauwa4askni',\n",
              "  'bafkreiezar4apmprshcdmvefrfcfrhxg7scf76nj2kc37amowke7x7rb5y',\n",
              "  'bafkreigk2wyls7liuicm5ohup67ndij6bvacpx4ms32flnotpat7lo2pgy',\n",
              "  'bafkreignw4jcp7qjbckd6zwtyspa7jsgjmedjdthsyhcvq4mvok52m44t4'},\n",
              " {'bafkreia7cnu4gjorb6pvutiugh33uxw74zoh4wfv7ut7ihyht6upyvfq5a',\n",
              "  'bafkreiagzsunf4l2oy3f7bak3uvn723i7frfpuaqpnce5oxy22n2yjjwny',\n",
              "  'bafkreibzscgshq42slwii4ney54sqv75mixfzzmq3hyhonqzfzbauwu4hy',\n",
              "  'bafkreielx2nvilkrixh32a4p4zbpfeyqt7n74zqw4i6t5wcjczc2algiru',\n",
              "  'bafkreienikmd42ooxie3a3bl2ajp3fdnighplgopuvln53omdybbxfgrxm',\n",
              "  'bafkreieuvvvasey2pfie52ot53p2e5ps224skgesi7ronv4g73lbfhf5hm',\n",
              "  'bafkreifle6qy2urzzg46hpmdlfdw5p4gjq7hnjfykyl2mfytegczntno4m'})"
            ]
          },
          "metadata": {},
          "execution_count": 67
        }
      ]
    },
    {
      "cell_type": "code",
      "source": [
        "dollar_results"
      ],
      "metadata": {
        "id": "GPGhGeEqWKcf"
      },
      "execution_count": null,
      "outputs": []
    },
    {
      "cell_type": "code",
      "source": [
        "dollar_results_plot = pd.melt(dollar_results.copy(),id_vars=['ntp_tw','Date','bafkreiekzz6h566pmwexkgautmfbbjiralxnw7uyulmzgmrkm6yyptzijqPredict'],var_name=[\"strategy\"],value_name=\"borrow_cost\")"
      ],
      "metadata": {
        "id": "u4lAt66tiRPV"
      },
      "execution_count": null,
      "outputs": []
    },
    {
      "cell_type": "code",
      "source": [
        "dollar_results_plot"
      ],
      "metadata": {
        "id": "g2bS2c9ik02B"
      },
      "execution_count": null,
      "outputs": []
    },
    {
      "cell_type": "code",
      "source": [
        "metrics_df = pd.DataFrame(metrics).set_index(\"cid\")\n",
        "\n",
        "\n",
        "(round(dollar_results_plot[[\"strategy\",\"borrow_cost\"]].groupby(\"strategy\")\n",
        ".sum()\n",
        ".sort_values(\"borrow_cost\",ascending=True))\n",
        ".merge(metrics_df,left_index=True,right_index=True)\n",
        ")"
      ],
      "metadata": {
        "id": "0oWpenijp07S",
        "colab": {
          "base_uri": "https://localhost:8080/",
          "height": 236
        },
        "outputId": "6bc54bd0-1321-41fc-d79c-a1d5b273d93b"
      },
      "execution_count": 68,
      "outputs": [
        {
          "output_type": "error",
          "ename": "NameError",
          "evalue": "ignored",
          "traceback": [
            "\u001b[0;31m---------------------------------------------------------------------------\u001b[0m",
            "\u001b[0;31mNameError\u001b[0m                                 Traceback (most recent call last)",
            "\u001b[0;32m<ipython-input-68-a68cd4c8357a>\u001b[0m in \u001b[0;36m<module>\u001b[0;34m()\u001b[0m\n\u001b[1;32m      2\u001b[0m \u001b[0;34m\u001b[0m\u001b[0m\n\u001b[1;32m      3\u001b[0m \u001b[0;34m\u001b[0m\u001b[0m\n\u001b[0;32m----> 4\u001b[0;31m (round(dollar_results_plot[[\"strategy\",\"borrow_cost\"]].groupby(\"strategy\")\n\u001b[0m\u001b[1;32m      5\u001b[0m \u001b[0;34m.\u001b[0m\u001b[0msum\u001b[0m\u001b[0;34m(\u001b[0m\u001b[0;34m)\u001b[0m\u001b[0;34m\u001b[0m\u001b[0;34m\u001b[0m\u001b[0m\n\u001b[1;32m      6\u001b[0m .sort_values(\"borrow_cost\",ascending=True))\n",
            "\u001b[0;31mNameError\u001b[0m: name 'dollar_results_plot' is not defined"
          ]
        }
      ]
    },
    {
      "cell_type": "code",
      "source": [
        "import plotly.express as px\n",
        "\n",
        "px.line(dollar_results_plot,x=\"Date\",y=\"borrow_cost\",color=\"strategy\")"
      ],
      "metadata": {
        "id": "tLICLRbWgS8o"
      },
      "execution_count": null,
      "outputs": []
    },
    {
      "cell_type": "code",
      "source": [
        "get_pinned_jobs(p_creds)"
      ],
      "metadata": {
        "id": "YXzrojfHujWI",
        "colab": {
          "base_uri": "https://localhost:8080/"
        },
        "outputId": "9a317f5e-1b04-4aab-a255-ce7d12d4dc0f"
      },
      "execution_count": 69,
      "outputs": [
        {
          "output_type": "execute_result",
          "data": {
            "text/plain": [
              "(<Response [200]>, {'count': 0, 'rows': []})"
            ]
          },
          "metadata": {},
          "execution_count": 69
        }
      ]
    },
    {
      "cell_type": "code",
      "source": [
        "import pandas as pd\n",
        "rs, response = get_pinned_files(p_creds,params={\"pageLimit\":300})\n",
        "\n",
        "df_pinata = pd.DataFrame(response[\"rows\"])\n",
        "\n",
        "df_pinatastorage = (pd.merge(df_pinata,pd.json_normalize(df_pinata[\"metadata\"],sep=\"_\"),left_index=True,right_index=True)\n",
        "[[\"ipfs_pin_hash\",\"keyvalues_UnseenAccuracy\",\"keyvalues_type\",\"keyvalues_ntp_tw\",\"keyvalues_scalerLabelEncoder\",\"keyvalues_datasetTraining\",\"keyvalues_model\"]].drop_duplicates(\"ipfs_pin_hash\")\n",
        ".query('keyvalues_type == \"BorrowPrediction\" & keyvalues_ntp_tw == \"5_21\"')\n",
        ".sort_values([\"keyvalues_UnseenAccuracy\"],ascending=False).iloc[:50]\n",
        " );df_pinatastorage"
      ],
      "metadata": {
        "id": "GgkVlCr5o-S8",
        "colab": {
          "base_uri": "https://localhost:8080/",
          "height": 1000
        },
        "outputId": "278e9bec-2fb1-413b-898e-38d76fe5fab3"
      },
      "execution_count": 76,
      "outputs": [
        {
          "output_type": "execute_result",
          "data": {
            "text/plain": [
              "                                                  ipfs_pin_hash  \\\n",
              "46  bafybeieuujacw7ptxq4zjhbinqeekglyahjmauijtqxismmqt7k57z3r6m   \n",
              "41  bafybeiaaox25axn47wd736c22ea52e6apkquhbej4huxjb3yzad2gla7ou   \n",
              "58  bafkreigqyfur44zxcnnrjqcikevs7schagxmnjcopg4zdsq5e6oq2rnxse   \n",
              "57  bafkreiakockm6nh5g24r46ytlbv6z6zwiljwoybdm3h7yfstgqde55nsxq   \n",
              "55  bafkreihmtxs52i3obakaft7xaktu5smsueen4wp3yflefwrlcuruh6sunu   \n",
              "54  bafkreif3ylquaj3b77rfx55a335t654tjgoqbosn2gvymwizkfk5347sby   \n",
              "50  bafkreidzxnyfk3loanbsws5gfte5s32iw4m6qrw5pdx4e2yzjwsbviuv44   \n",
              "48  bafkreiese7ohm5kf622ebjrw2wayva2p2ng5725d5t77otfnyypnpjdkvm   \n",
              "59  bafkreifvlrh4rqjeg5ikkpugfndqfk46vmk2fltzx4etzwnv565mekxpi4   \n",
              "42  bafybeib3hmpjbjmkixfy7qmzm6lj75xim3gmgifyk7uz4law67benfeiky   \n",
              "56  bafkreihanels67am5bohitbqaqysm3xtwjio4xb6fpiozuzdpfnpxgvk5q   \n",
              "53  bafkreidlllm2cogt36hq5koum3zayqjm3luj32hmk2t5jf4lnych2xnkp4   \n",
              "52  bafkreietjqrtqunltdej7kgsj6suompfxs4mks7tf4ta7mrblntgqkisnm   \n",
              "49  bafkreibakxj5q2mdohrk7lgqztylzkmxx2hz3wsjuq4p4un2lasthhpjsq   \n",
              "40  bafybeidqs5ay7o65kv4tubwiagsxveuo2thvnf63wdbvaxehsddtesikju   \n",
              "43  bafkreig4imelb7zvtcxv7o6zgvvuq3nyzkwf6gwjpls65ezqvbgpdppit4   \n",
              "47  bafkreicbt6vjs4qyb5hvclrga4joemdq3jkksuq2k4cno43ijxuu26kqhm   \n",
              "51  bafkreigtjnzjikovjxc25kuv3pcsjmwnemsxrl6kc4esapeccadkqb3ko4   \n",
              "19  bafkreidvfhec2jw26oljeh7dn4le2hcrq3bdzryzu3ijw3qqw4trkxpmt4   \n",
              "3   bafkreidt2ggahtfsv5hppqhp3xz66zr6ss7xxtrg6bmgh3qkdmr5c2us3a   \n",
              "45  bafybeicv5gvfuhlggmctb7zhnzehh3i2hoaz62odfdhxoe3pvoclkonkwu   \n",
              "15  bafkreiapfdinusxz3fqudivf3bxu74zve4b5rqrsa5t3kdbuvbb44jyajq   \n",
              "12  bafkreicjjddtme2v62fq4kqs6obtqpac56nzfzhsuak5olvnrvtiewsmwy   \n",
              "44  bafkreibvawi7fkt35g44zbdyyolzhqfrdb63z2ipmku3bywer3bbsslvlm   \n",
              "7   bafkreihgxuoyqz2a5qhtsy5vxr7th467g47ie34me7dakatqwh4in77qlm   \n",
              "6   bafkreiesiy4uku6m6fq52bfghpwcvm3spj6difhvt432kreuihage6ek6i   \n",
              "1   bafkreiamkgjyymw6sksax633rl36t3vayizrabjblr5ich5lnytyvdaz5q   \n",
              "\n",
              "    keyvalues_UnseenAccuracy    keyvalues_type keyvalues_ntp_tw  \\\n",
              "46                  0.857143  BorrowPrediction             5_21   \n",
              "41                  0.857143  BorrowPrediction             5_21   \n",
              "58                  0.857143  BorrowPrediction             5_21   \n",
              "57                  0.857143  BorrowPrediction             5_21   \n",
              "55                  0.857143  BorrowPrediction             5_21   \n",
              "54                  0.857143  BorrowPrediction             5_21   \n",
              "50                  0.857143  BorrowPrediction             5_21   \n",
              "48                  0.857143  BorrowPrediction             5_21   \n",
              "59                  0.857143  BorrowPrediction             5_21   \n",
              "42                  0.847619  BorrowPrediction             5_21   \n",
              "56                  0.847619  BorrowPrediction             5_21   \n",
              "53                  0.847619  BorrowPrediction             5_21   \n",
              "52                  0.847619  BorrowPrediction             5_21   \n",
              "49                  0.847619  BorrowPrediction             5_21   \n",
              "40                  0.828571  BorrowPrediction             5_21   \n",
              "43                  0.819048  BorrowPrediction             5_21   \n",
              "47                  0.800000  BorrowPrediction             5_21   \n",
              "51                  0.666667  BorrowPrediction             5_21   \n",
              "19                  0.523810  BorrowPrediction             5_21   \n",
              "3                   0.523810  BorrowPrediction             5_21   \n",
              "45                  0.523810  BorrowPrediction             5_21   \n",
              "15                  0.523810  BorrowPrediction             5_21   \n",
              "12                  0.523810  BorrowPrediction             5_21   \n",
              "44                  0.523810  BorrowPrediction             5_21   \n",
              "7                   0.523810  BorrowPrediction             5_21   \n",
              "6                   0.523810  BorrowPrediction             5_21   \n",
              "1                   0.523810  BorrowPrediction             5_21   \n",
              "\n",
              "                                                                                                                  keyvalues_scalerLabelEncoder  \\\n",
              "46  {'ss': 'bafkreiezar4apmprshcdmvefrfcfrhxg7scf76nj2kc37amowke7x7rb5y', 'le': 'bafkreibzscgshq42slwii4ney54sqv75mixfzzmq3hyhonqzfzbauwu4hy'}   \n",
              "41  {'ss': 'bafkreiezar4apmprshcdmvefrfcfrhxg7scf76nj2kc37amowke7x7rb5y', 'le': 'bafkreibzscgshq42slwii4ney54sqv75mixfzzmq3hyhonqzfzbauwu4hy'}   \n",
              "58  {'ss': 'bafkreiezar4apmprshcdmvefrfcfrhxg7scf76nj2kc37amowke7x7rb5y', 'le': 'bafkreibzscgshq42slwii4ney54sqv75mixfzzmq3hyhonqzfzbauwu4hy'}   \n",
              "57  {'ss': 'bafkreiezar4apmprshcdmvefrfcfrhxg7scf76nj2kc37amowke7x7rb5y', 'le': 'bafkreibzscgshq42slwii4ney54sqv75mixfzzmq3hyhonqzfzbauwu4hy'}   \n",
              "55  {'ss': 'bafkreiezar4apmprshcdmvefrfcfrhxg7scf76nj2kc37amowke7x7rb5y', 'le': 'bafkreibzscgshq42slwii4ney54sqv75mixfzzmq3hyhonqzfzbauwu4hy'}   \n",
              "54  {'ss': 'bafkreiezar4apmprshcdmvefrfcfrhxg7scf76nj2kc37amowke7x7rb5y', 'le': 'bafkreibzscgshq42slwii4ney54sqv75mixfzzmq3hyhonqzfzbauwu4hy'}   \n",
              "50  {'ss': 'bafkreiezar4apmprshcdmvefrfcfrhxg7scf76nj2kc37amowke7x7rb5y', 'le': 'bafkreibzscgshq42slwii4ney54sqv75mixfzzmq3hyhonqzfzbauwu4hy'}   \n",
              "48  {'ss': 'bafkreiezar4apmprshcdmvefrfcfrhxg7scf76nj2kc37amowke7x7rb5y', 'le': 'bafkreibzscgshq42slwii4ney54sqv75mixfzzmq3hyhonqzfzbauwu4hy'}   \n",
              "59  {'ss': 'bafkreiezar4apmprshcdmvefrfcfrhxg7scf76nj2kc37amowke7x7rb5y', 'le': 'bafkreibzscgshq42slwii4ney54sqv75mixfzzmq3hyhonqzfzbauwu4hy'}   \n",
              "42  {'ss': 'bafkreiezar4apmprshcdmvefrfcfrhxg7scf76nj2kc37amowke7x7rb5y', 'le': 'bafkreibzscgshq42slwii4ney54sqv75mixfzzmq3hyhonqzfzbauwu4hy'}   \n",
              "56  {'ss': 'bafkreiezar4apmprshcdmvefrfcfrhxg7scf76nj2kc37amowke7x7rb5y', 'le': 'bafkreibzscgshq42slwii4ney54sqv75mixfzzmq3hyhonqzfzbauwu4hy'}   \n",
              "53  {'ss': 'bafkreiezar4apmprshcdmvefrfcfrhxg7scf76nj2kc37amowke7x7rb5y', 'le': 'bafkreibzscgshq42slwii4ney54sqv75mixfzzmq3hyhonqzfzbauwu4hy'}   \n",
              "52  {'ss': 'bafkreiezar4apmprshcdmvefrfcfrhxg7scf76nj2kc37amowke7x7rb5y', 'le': 'bafkreibzscgshq42slwii4ney54sqv75mixfzzmq3hyhonqzfzbauwu4hy'}   \n",
              "49  {'ss': 'bafkreiezar4apmprshcdmvefrfcfrhxg7scf76nj2kc37amowke7x7rb5y', 'le': 'bafkreibzscgshq42slwii4ney54sqv75mixfzzmq3hyhonqzfzbauwu4hy'}   \n",
              "40  {'ss': 'bafkreiezar4apmprshcdmvefrfcfrhxg7scf76nj2kc37amowke7x7rb5y', 'le': 'bafkreibzscgshq42slwii4ney54sqv75mixfzzmq3hyhonqzfzbauwu4hy'}   \n",
              "43  {'ss': 'bafkreiezar4apmprshcdmvefrfcfrhxg7scf76nj2kc37amowke7x7rb5y', 'le': 'bafkreibzscgshq42slwii4ney54sqv75mixfzzmq3hyhonqzfzbauwu4hy'}   \n",
              "47  {'ss': 'bafkreiezar4apmprshcdmvefrfcfrhxg7scf76nj2kc37amowke7x7rb5y', 'le': 'bafkreibzscgshq42slwii4ney54sqv75mixfzzmq3hyhonqzfzbauwu4hy'}   \n",
              "51  {'ss': 'bafkreiezar4apmprshcdmvefrfcfrhxg7scf76nj2kc37amowke7x7rb5y', 'le': 'bafkreibzscgshq42slwii4ney54sqv75mixfzzmq3hyhonqzfzbauwu4hy'}   \n",
              "19  {'ss': 'bafkreiezar4apmprshcdmvefrfcfrhxg7scf76nj2kc37amowke7x7rb5y', 'le': 'bafkreibzscgshq42slwii4ney54sqv75mixfzzmq3hyhonqzfzbauwu4hy'}   \n",
              "3   {'ss': 'bafkreicyevoea22ifxgpvdq7rayevzcjsopq5ckwtzuupehlyb75fbx5da', 'le': 'bafkreieuvvvasey2pfie52ot53p2e5ps224skgesi7ronv4g73lbfhf5hm'}   \n",
              "45  {'ss': 'bafkreiezar4apmprshcdmvefrfcfrhxg7scf76nj2kc37amowke7x7rb5y', 'le': 'bafkreibzscgshq42slwii4ney54sqv75mixfzzmq3hyhonqzfzbauwu4hy'}   \n",
              "15  {'ss': 'bafkreidq7vsjbv5affqeyf3elvnokdefxqzzfvnsrsd4qyfiauwa4askni', 'le': 'bafkreielx2nvilkrixh32a4p4zbpfeyqt7n74zqw4i6t5wcjczc2algiru'}   \n",
              "12  {'ss': 'bafkreignw4jcp7qjbckd6zwtyspa7jsgjmedjdthsyhcvq4mvok52m44t4', 'le': 'bafkreienikmd42ooxie3a3bl2ajp3fdnighplgopuvln53omdybbxfgrxm'}   \n",
              "44  {'ss': 'bafkreiezar4apmprshcdmvefrfcfrhxg7scf76nj2kc37amowke7x7rb5y', 'le': 'bafkreibzscgshq42slwii4ney54sqv75mixfzzmq3hyhonqzfzbauwu4hy'}   \n",
              "7   {'ss': 'bafkreia7zazf3kgy4tki4gheeve4b7kfdablkhsxmbvxcpcdo3aeturjzy', 'le': 'bafkreia7cnu4gjorb6pvutiugh33uxw74zoh4wfv7ut7ihyht6upyvfq5a'}   \n",
              "6   {'ss': 'bafkreibh4otv3mfpicn5kdsqwdlfw7qmr7hqussepchivxeutdmlvskyya', 'le': 'bafkreiagzsunf4l2oy3f7bak3uvn723i7frfpuaqpnce5oxy22n2yjjwny'}   \n",
              "1   {'ss': 'bafkreigk2wyls7liuicm5ohup67ndij6bvacpx4ms32flnotpat7lo2pgy', 'le': 'bafkreifle6qy2urzzg46hpmdlfdw5p4gjq7hnjfykyl2mfytegczntno4m'}   \n",
              "\n",
              "                                                                                                         keyvalues_datasetTraining  \\\n",
              "46  {'stratify': False, 'filter_cols': [49, 64, 65, 48, 33, 32, 16, 34, 1, 39, 9, 17, 0, 18, 22, 2, 30, 78, 56, 8], 'smote': True}   \n",
              "41  {'stratify': False, 'filter_cols': [49, 64, 65, 48, 33, 32, 16, 34, 1, 39, 9, 17, 0, 18, 22, 2, 30, 78, 56, 8], 'smote': True}   \n",
              "58  {'stratify': False, 'filter_cols': [49, 64, 65, 48, 33, 32, 16, 34, 1, 39, 9, 17, 0, 18, 22, 2, 30, 78, 56, 8], 'smote': True}   \n",
              "57  {'stratify': False, 'filter_cols': [49, 64, 65, 48, 33, 32, 16, 34, 1, 39, 9, 17, 0, 18, 22, 2, 30, 78, 56, 8], 'smote': True}   \n",
              "55  {'stratify': False, 'filter_cols': [49, 64, 65, 48, 33, 32, 16, 34, 1, 39, 9, 17, 0, 18, 22, 2, 30, 78, 56, 8], 'smote': True}   \n",
              "54  {'stratify': False, 'filter_cols': [49, 64, 65, 48, 33, 32, 16, 34, 1, 39, 9, 17, 0, 18, 22, 2, 30, 78, 56, 8], 'smote': True}   \n",
              "50  {'stratify': False, 'filter_cols': [49, 64, 65, 48, 33, 32, 16, 34, 1, 39, 9, 17, 0, 18, 22, 2, 30, 78, 56, 8], 'smote': True}   \n",
              "48  {'stratify': False, 'filter_cols': [49, 64, 65, 48, 33, 32, 16, 34, 1, 39, 9, 17, 0, 18, 22, 2, 30, 78, 56, 8], 'smote': True}   \n",
              "59  {'stratify': False, 'filter_cols': [49, 64, 65, 48, 33, 32, 16, 34, 1, 39, 9, 17, 0, 18, 22, 2, 30, 78, 56, 8], 'smote': True}   \n",
              "42  {'stratify': False, 'filter_cols': [49, 64, 65, 48, 33, 32, 16, 34, 1, 39, 9, 17, 0, 18, 22, 2, 30, 78, 56, 8], 'smote': True}   \n",
              "56  {'stratify': False, 'filter_cols': [49, 64, 65, 48, 33, 32, 16, 34, 1, 39, 9, 17, 0, 18, 22, 2, 30, 78, 56, 8], 'smote': True}   \n",
              "53  {'stratify': False, 'filter_cols': [49, 64, 65, 48, 33, 32, 16, 34, 1, 39, 9, 17, 0, 18, 22, 2, 30, 78, 56, 8], 'smote': True}   \n",
              "52  {'stratify': False, 'filter_cols': [49, 64, 65, 48, 33, 32, 16, 34, 1, 39, 9, 17, 0, 18, 22, 2, 30, 78, 56, 8], 'smote': True}   \n",
              "49  {'stratify': False, 'filter_cols': [49, 64, 65, 48, 33, 32, 16, 34, 1, 39, 9, 17, 0, 18, 22, 2, 30, 78, 56, 8], 'smote': True}   \n",
              "40  {'stratify': False, 'filter_cols': [49, 64, 65, 48, 33, 32, 16, 34, 1, 39, 9, 17, 0, 18, 22, 2, 30, 78, 56, 8], 'smote': True}   \n",
              "43  {'stratify': False, 'filter_cols': [49, 64, 65, 48, 33, 32, 16, 34, 1, 39, 9, 17, 0, 18, 22, 2, 30, 78, 56, 8], 'smote': True}   \n",
              "47  {'stratify': False, 'filter_cols': [49, 64, 65, 48, 33, 32, 16, 34, 1, 39, 9, 17, 0, 18, 22, 2, 30, 78, 56, 8], 'smote': True}   \n",
              "51  {'stratify': False, 'filter_cols': [49, 64, 65, 48, 33, 32, 16, 34, 1, 39, 9, 17, 0, 18, 22, 2, 30, 78, 56, 8], 'smote': True}   \n",
              "19  {'stratify': False, 'filter_cols': [49, 64, 65, 48, 33, 32, 16, 34, 1, 39, 9, 17, 0, 18, 22, 2, 30, 78, 56, 8], 'smote': True}   \n",
              "3                                                                         {'stratify': False, 'filter_cols': None, 'smote': False}   \n",
              "45  {'stratify': False, 'filter_cols': [49, 64, 65, 48, 33, 32, 16, 34, 1, 39, 9, 17, 0, 18, 22, 2, 30, 78, 56, 8], 'smote': True}   \n",
              "15  {'stratify': False, 'filter_cols': [49, 64, 65, 48, 33, 32, 16, 34, 1, 39, 9, 17, 0, 18, 22, 2, 30, 78, 56, 8], 'smote': True}   \n",
              "12  {'stratify': False, 'filter_cols': [49, 64, 65, 48, 33, 32, 16, 34, 1, 39, 9, 17, 0, 18, 22, 2, 30, 78, 56, 8], 'smote': True}   \n",
              "44  {'stratify': False, 'filter_cols': [49, 64, 65, 48, 33, 32, 16, 34, 1, 39, 9, 17, 0, 18, 22, 2, 30, 78, 56, 8], 'smote': True}   \n",
              "7   {'stratify': False, 'filter_cols': [49, 64, 65, 48, 33, 32, 16, 34, 1, 39, 9, 17, 0, 18, 22, 2, 30, 78, 56, 8], 'smote': True}   \n",
              "6   {'stratify': True, 'filter_cols': [49, 64, 65, 48, 33, 32, 16, 34, 1, 39, 9, 17, 0, 18, 22, 2, 30, 78, 56, 8], 'smote': False}   \n",
              "1                                                                         {'stratify': False, 'filter_cols': None, 'smote': False}   \n",
              "\n",
              "                                                                                                                           keyvalues_model  \n",
              "46  {'model_name': 'RandomForestClassifier', 'params': \"{'max_depth': 3, 'min_samples_leaf': 9, 'n_estimators': 190, 'random_state': 42}\"}  \n",
              "41  {'model_name': 'RandomForestClassifier', 'params': \"{'max_depth': 3, 'min_samples_leaf': 9, 'n_estimators': 220, 'random_state': 42}\"}  \n",
              "58  {'model_name': 'RandomForestClassifier', 'params': \"{'max_depth': 3, 'min_samples_leaf': 9, 'n_estimators': 150, 'random_state': 42}\"}  \n",
              "57  {'model_name': 'RandomForestClassifier', 'params': \"{'max_depth': 3, 'min_samples_leaf': 9, 'n_estimators': 140, 'random_state': 42}\"}  \n",
              "55  {'model_name': 'RandomForestClassifier', 'params': \"{'max_depth': 3, 'min_samples_leaf': 9, 'n_estimators': 130, 'random_state': 42}\"}  \n",
              "54  {'model_name': 'RandomForestClassifier', 'params': \"{'max_depth': 3, 'min_samples_leaf': 6, 'n_estimators': 130, 'random_state': 42}\"}  \n",
              "50  {'model_name': 'RandomForestClassifier', 'params': \"{'max_depth': 3, 'min_samples_leaf': 3, 'n_estimators': 120, 'random_state': 42}\"}  \n",
              "48  {'model_name': 'RandomForestClassifier', 'params': \"{'max_depth': 3, 'min_samples_leaf': 3, 'n_estimators': 130, 'random_state': 42}\"}  \n",
              "59  {'model_name': 'RandomForestClassifier', 'params': \"{'max_depth': 3, 'min_samples_leaf': 9, 'n_estimators': 160, 'random_state': 42}\"}  \n",
              "42  {'model_name': 'RandomForestClassifier', 'params': \"{'max_depth': 3, 'min_samples_leaf': 3, 'n_estimators': 200, 'random_state': 42}\"}  \n",
              "56  {'model_name': 'RandomForestClassifier', 'params': \"{'max_depth': 3, 'min_samples_leaf': 6, 'n_estimators': 140, 'random_state': 42}\"}  \n",
              "53  {'model_name': 'RandomForestClassifier', 'params': \"{'max_depth': 3, 'min_samples_leaf': 6, 'n_estimators': 150, 'random_state': 42}\"}  \n",
              "52  {'model_name': 'RandomForestClassifier', 'params': \"{'max_depth': 3, 'min_samples_leaf': 6, 'n_estimators': 160, 'random_state': 42}\"}  \n",
              "49  {'model_name': 'RandomForestClassifier', 'params': \"{'max_depth': 3, 'min_samples_leaf': 12, 'n_estimators': 40, 'random_state': 42}\"}  \n",
              "40  {'model_name': 'RandomForestClassifier', 'params': \"{'max_depth': 3, 'min_samples_leaf': 1, 'n_estimators': 230, 'random_state': 42}\"}  \n",
              "43   {'model_name': 'RandomForestClassifier', 'params': \"{'max_depth': 3, 'min_samples_leaf': 9, 'n_estimators': 40, 'random_state': 42}\"}  \n",
              "47  {'model_name': 'RandomForestClassifier', 'params': \"{'max_depth': 3, 'min_samples_leaf': 1, 'n_estimators': 150, 'random_state': 42}\"}  \n",
              "51   {'model_name': 'RandomForestClassifier', 'params': \"{'max_depth': 3, 'min_samples_leaf': 1, 'n_estimators': 40, 'random_state': 42}\"}  \n",
              "19                                                              {'model_name': 'DecisionTreeClassifier', 'params': \"{'random_state': 42}\"}  \n",
              "3                                                               {'model_name': 'DecisionTreeClassifier', 'params': \"{'random_state': 42}\"}  \n",
              "45                                                              {'model_name': 'DecisionTreeClassifier', 'params': \"{'random_state': 42}\"}  \n",
              "15                                                              {'model_name': 'DecisionTreeClassifier', 'params': \"{'random_state': 42}\"}  \n",
              "12                                                              {'model_name': 'DecisionTreeClassifier', 'params': \"{'random_state': 42}\"}  \n",
              "44                                                              {'model_name': 'DecisionTreeClassifier', 'params': \"{'random_state': 42}\"}  \n",
              "7                                                               {'model_name': 'DecisionTreeClassifier', 'params': \"{'random_state': 42}\"}  \n",
              "6                                                               {'model_name': 'DecisionTreeClassifier', 'params': \"{'random_state': 42}\"}  \n",
              "1                                                               {'model_name': 'DecisionTreeClassifier', 'params': \"{'random_state': 42}\"}  "
            ],
            "text/html": [
              "\n",
              "  <div id=\"df-83ad33cb-aea9-4372-8989-ebee2ee0ffc8\">\n",
              "    <div class=\"colab-df-container\">\n",
              "      <div>\n",
              "<style scoped>\n",
              "    .dataframe tbody tr th:only-of-type {\n",
              "        vertical-align: middle;\n",
              "    }\n",
              "\n",
              "    .dataframe tbody tr th {\n",
              "        vertical-align: top;\n",
              "    }\n",
              "\n",
              "    .dataframe thead th {\n",
              "        text-align: right;\n",
              "    }\n",
              "</style>\n",
              "<table border=\"1\" class=\"dataframe\">\n",
              "  <thead>\n",
              "    <tr style=\"text-align: right;\">\n",
              "      <th></th>\n",
              "      <th>ipfs_pin_hash</th>\n",
              "      <th>keyvalues_UnseenAccuracy</th>\n",
              "      <th>keyvalues_type</th>\n",
              "      <th>keyvalues_ntp_tw</th>\n",
              "      <th>keyvalues_scalerLabelEncoder</th>\n",
              "      <th>keyvalues_datasetTraining</th>\n",
              "      <th>keyvalues_model</th>\n",
              "    </tr>\n",
              "  </thead>\n",
              "  <tbody>\n",
              "    <tr>\n",
              "      <th>46</th>\n",
              "      <td>bafybeieuujacw7ptxq4zjhbinqeekglyahjmauijtqxismmqt7k57z3r6m</td>\n",
              "      <td>0.857143</td>\n",
              "      <td>BorrowPrediction</td>\n",
              "      <td>5_21</td>\n",
              "      <td>{'ss': 'bafkreiezar4apmprshcdmvefrfcfrhxg7scf76nj2kc37amowke7x7rb5y', 'le': 'bafkreibzscgshq42slwii4ney54sqv75mixfzzmq3hyhonqzfzbauwu4hy'}</td>\n",
              "      <td>{'stratify': False, 'filter_cols': [49, 64, 65, 48, 33, 32, 16, 34, 1, 39, 9, 17, 0, 18, 22, 2, 30, 78, 56, 8], 'smote': True}</td>\n",
              "      <td>{'model_name': 'RandomForestClassifier', 'params': \"{'max_depth': 3, 'min_samples_leaf': 9, 'n_estimators': 190, 'random_state': 42}\"}</td>\n",
              "    </tr>\n",
              "    <tr>\n",
              "      <th>41</th>\n",
              "      <td>bafybeiaaox25axn47wd736c22ea52e6apkquhbej4huxjb3yzad2gla7ou</td>\n",
              "      <td>0.857143</td>\n",
              "      <td>BorrowPrediction</td>\n",
              "      <td>5_21</td>\n",
              "      <td>{'ss': 'bafkreiezar4apmprshcdmvefrfcfrhxg7scf76nj2kc37amowke7x7rb5y', 'le': 'bafkreibzscgshq42slwii4ney54sqv75mixfzzmq3hyhonqzfzbauwu4hy'}</td>\n",
              "      <td>{'stratify': False, 'filter_cols': [49, 64, 65, 48, 33, 32, 16, 34, 1, 39, 9, 17, 0, 18, 22, 2, 30, 78, 56, 8], 'smote': True}</td>\n",
              "      <td>{'model_name': 'RandomForestClassifier', 'params': \"{'max_depth': 3, 'min_samples_leaf': 9, 'n_estimators': 220, 'random_state': 42}\"}</td>\n",
              "    </tr>\n",
              "    <tr>\n",
              "      <th>58</th>\n",
              "      <td>bafkreigqyfur44zxcnnrjqcikevs7schagxmnjcopg4zdsq5e6oq2rnxse</td>\n",
              "      <td>0.857143</td>\n",
              "      <td>BorrowPrediction</td>\n",
              "      <td>5_21</td>\n",
              "      <td>{'ss': 'bafkreiezar4apmprshcdmvefrfcfrhxg7scf76nj2kc37amowke7x7rb5y', 'le': 'bafkreibzscgshq42slwii4ney54sqv75mixfzzmq3hyhonqzfzbauwu4hy'}</td>\n",
              "      <td>{'stratify': False, 'filter_cols': [49, 64, 65, 48, 33, 32, 16, 34, 1, 39, 9, 17, 0, 18, 22, 2, 30, 78, 56, 8], 'smote': True}</td>\n",
              "      <td>{'model_name': 'RandomForestClassifier', 'params': \"{'max_depth': 3, 'min_samples_leaf': 9, 'n_estimators': 150, 'random_state': 42}\"}</td>\n",
              "    </tr>\n",
              "    <tr>\n",
              "      <th>57</th>\n",
              "      <td>bafkreiakockm6nh5g24r46ytlbv6z6zwiljwoybdm3h7yfstgqde55nsxq</td>\n",
              "      <td>0.857143</td>\n",
              "      <td>BorrowPrediction</td>\n",
              "      <td>5_21</td>\n",
              "      <td>{'ss': 'bafkreiezar4apmprshcdmvefrfcfrhxg7scf76nj2kc37amowke7x7rb5y', 'le': 'bafkreibzscgshq42slwii4ney54sqv75mixfzzmq3hyhonqzfzbauwu4hy'}</td>\n",
              "      <td>{'stratify': False, 'filter_cols': [49, 64, 65, 48, 33, 32, 16, 34, 1, 39, 9, 17, 0, 18, 22, 2, 30, 78, 56, 8], 'smote': True}</td>\n",
              "      <td>{'model_name': 'RandomForestClassifier', 'params': \"{'max_depth': 3, 'min_samples_leaf': 9, 'n_estimators': 140, 'random_state': 42}\"}</td>\n",
              "    </tr>\n",
              "    <tr>\n",
              "      <th>55</th>\n",
              "      <td>bafkreihmtxs52i3obakaft7xaktu5smsueen4wp3yflefwrlcuruh6sunu</td>\n",
              "      <td>0.857143</td>\n",
              "      <td>BorrowPrediction</td>\n",
              "      <td>5_21</td>\n",
              "      <td>{'ss': 'bafkreiezar4apmprshcdmvefrfcfrhxg7scf76nj2kc37amowke7x7rb5y', 'le': 'bafkreibzscgshq42slwii4ney54sqv75mixfzzmq3hyhonqzfzbauwu4hy'}</td>\n",
              "      <td>{'stratify': False, 'filter_cols': [49, 64, 65, 48, 33, 32, 16, 34, 1, 39, 9, 17, 0, 18, 22, 2, 30, 78, 56, 8], 'smote': True}</td>\n",
              "      <td>{'model_name': 'RandomForestClassifier', 'params': \"{'max_depth': 3, 'min_samples_leaf': 9, 'n_estimators': 130, 'random_state': 42}\"}</td>\n",
              "    </tr>\n",
              "    <tr>\n",
              "      <th>54</th>\n",
              "      <td>bafkreif3ylquaj3b77rfx55a335t654tjgoqbosn2gvymwizkfk5347sby</td>\n",
              "      <td>0.857143</td>\n",
              "      <td>BorrowPrediction</td>\n",
              "      <td>5_21</td>\n",
              "      <td>{'ss': 'bafkreiezar4apmprshcdmvefrfcfrhxg7scf76nj2kc37amowke7x7rb5y', 'le': 'bafkreibzscgshq42slwii4ney54sqv75mixfzzmq3hyhonqzfzbauwu4hy'}</td>\n",
              "      <td>{'stratify': False, 'filter_cols': [49, 64, 65, 48, 33, 32, 16, 34, 1, 39, 9, 17, 0, 18, 22, 2, 30, 78, 56, 8], 'smote': True}</td>\n",
              "      <td>{'model_name': 'RandomForestClassifier', 'params': \"{'max_depth': 3, 'min_samples_leaf': 6, 'n_estimators': 130, 'random_state': 42}\"}</td>\n",
              "    </tr>\n",
              "    <tr>\n",
              "      <th>50</th>\n",
              "      <td>bafkreidzxnyfk3loanbsws5gfte5s32iw4m6qrw5pdx4e2yzjwsbviuv44</td>\n",
              "      <td>0.857143</td>\n",
              "      <td>BorrowPrediction</td>\n",
              "      <td>5_21</td>\n",
              "      <td>{'ss': 'bafkreiezar4apmprshcdmvefrfcfrhxg7scf76nj2kc37amowke7x7rb5y', 'le': 'bafkreibzscgshq42slwii4ney54sqv75mixfzzmq3hyhonqzfzbauwu4hy'}</td>\n",
              "      <td>{'stratify': False, 'filter_cols': [49, 64, 65, 48, 33, 32, 16, 34, 1, 39, 9, 17, 0, 18, 22, 2, 30, 78, 56, 8], 'smote': True}</td>\n",
              "      <td>{'model_name': 'RandomForestClassifier', 'params': \"{'max_depth': 3, 'min_samples_leaf': 3, 'n_estimators': 120, 'random_state': 42}\"}</td>\n",
              "    </tr>\n",
              "    <tr>\n",
              "      <th>48</th>\n",
              "      <td>bafkreiese7ohm5kf622ebjrw2wayva2p2ng5725d5t77otfnyypnpjdkvm</td>\n",
              "      <td>0.857143</td>\n",
              "      <td>BorrowPrediction</td>\n",
              "      <td>5_21</td>\n",
              "      <td>{'ss': 'bafkreiezar4apmprshcdmvefrfcfrhxg7scf76nj2kc37amowke7x7rb5y', 'le': 'bafkreibzscgshq42slwii4ney54sqv75mixfzzmq3hyhonqzfzbauwu4hy'}</td>\n",
              "      <td>{'stratify': False, 'filter_cols': [49, 64, 65, 48, 33, 32, 16, 34, 1, 39, 9, 17, 0, 18, 22, 2, 30, 78, 56, 8], 'smote': True}</td>\n",
              "      <td>{'model_name': 'RandomForestClassifier', 'params': \"{'max_depth': 3, 'min_samples_leaf': 3, 'n_estimators': 130, 'random_state': 42}\"}</td>\n",
              "    </tr>\n",
              "    <tr>\n",
              "      <th>59</th>\n",
              "      <td>bafkreifvlrh4rqjeg5ikkpugfndqfk46vmk2fltzx4etzwnv565mekxpi4</td>\n",
              "      <td>0.857143</td>\n",
              "      <td>BorrowPrediction</td>\n",
              "      <td>5_21</td>\n",
              "      <td>{'ss': 'bafkreiezar4apmprshcdmvefrfcfrhxg7scf76nj2kc37amowke7x7rb5y', 'le': 'bafkreibzscgshq42slwii4ney54sqv75mixfzzmq3hyhonqzfzbauwu4hy'}</td>\n",
              "      <td>{'stratify': False, 'filter_cols': [49, 64, 65, 48, 33, 32, 16, 34, 1, 39, 9, 17, 0, 18, 22, 2, 30, 78, 56, 8], 'smote': True}</td>\n",
              "      <td>{'model_name': 'RandomForestClassifier', 'params': \"{'max_depth': 3, 'min_samples_leaf': 9, 'n_estimators': 160, 'random_state': 42}\"}</td>\n",
              "    </tr>\n",
              "    <tr>\n",
              "      <th>42</th>\n",
              "      <td>bafybeib3hmpjbjmkixfy7qmzm6lj75xim3gmgifyk7uz4law67benfeiky</td>\n",
              "      <td>0.847619</td>\n",
              "      <td>BorrowPrediction</td>\n",
              "      <td>5_21</td>\n",
              "      <td>{'ss': 'bafkreiezar4apmprshcdmvefrfcfrhxg7scf76nj2kc37amowke7x7rb5y', 'le': 'bafkreibzscgshq42slwii4ney54sqv75mixfzzmq3hyhonqzfzbauwu4hy'}</td>\n",
              "      <td>{'stratify': False, 'filter_cols': [49, 64, 65, 48, 33, 32, 16, 34, 1, 39, 9, 17, 0, 18, 22, 2, 30, 78, 56, 8], 'smote': True}</td>\n",
              "      <td>{'model_name': 'RandomForestClassifier', 'params': \"{'max_depth': 3, 'min_samples_leaf': 3, 'n_estimators': 200, 'random_state': 42}\"}</td>\n",
              "    </tr>\n",
              "    <tr>\n",
              "      <th>56</th>\n",
              "      <td>bafkreihanels67am5bohitbqaqysm3xtwjio4xb6fpiozuzdpfnpxgvk5q</td>\n",
              "      <td>0.847619</td>\n",
              "      <td>BorrowPrediction</td>\n",
              "      <td>5_21</td>\n",
              "      <td>{'ss': 'bafkreiezar4apmprshcdmvefrfcfrhxg7scf76nj2kc37amowke7x7rb5y', 'le': 'bafkreibzscgshq42slwii4ney54sqv75mixfzzmq3hyhonqzfzbauwu4hy'}</td>\n",
              "      <td>{'stratify': False, 'filter_cols': [49, 64, 65, 48, 33, 32, 16, 34, 1, 39, 9, 17, 0, 18, 22, 2, 30, 78, 56, 8], 'smote': True}</td>\n",
              "      <td>{'model_name': 'RandomForestClassifier', 'params': \"{'max_depth': 3, 'min_samples_leaf': 6, 'n_estimators': 140, 'random_state': 42}\"}</td>\n",
              "    </tr>\n",
              "    <tr>\n",
              "      <th>53</th>\n",
              "      <td>bafkreidlllm2cogt36hq5koum3zayqjm3luj32hmk2t5jf4lnych2xnkp4</td>\n",
              "      <td>0.847619</td>\n",
              "      <td>BorrowPrediction</td>\n",
              "      <td>5_21</td>\n",
              "      <td>{'ss': 'bafkreiezar4apmprshcdmvefrfcfrhxg7scf76nj2kc37amowke7x7rb5y', 'le': 'bafkreibzscgshq42slwii4ney54sqv75mixfzzmq3hyhonqzfzbauwu4hy'}</td>\n",
              "      <td>{'stratify': False, 'filter_cols': [49, 64, 65, 48, 33, 32, 16, 34, 1, 39, 9, 17, 0, 18, 22, 2, 30, 78, 56, 8], 'smote': True}</td>\n",
              "      <td>{'model_name': 'RandomForestClassifier', 'params': \"{'max_depth': 3, 'min_samples_leaf': 6, 'n_estimators': 150, 'random_state': 42}\"}</td>\n",
              "    </tr>\n",
              "    <tr>\n",
              "      <th>52</th>\n",
              "      <td>bafkreietjqrtqunltdej7kgsj6suompfxs4mks7tf4ta7mrblntgqkisnm</td>\n",
              "      <td>0.847619</td>\n",
              "      <td>BorrowPrediction</td>\n",
              "      <td>5_21</td>\n",
              "      <td>{'ss': 'bafkreiezar4apmprshcdmvefrfcfrhxg7scf76nj2kc37amowke7x7rb5y', 'le': 'bafkreibzscgshq42slwii4ney54sqv75mixfzzmq3hyhonqzfzbauwu4hy'}</td>\n",
              "      <td>{'stratify': False, 'filter_cols': [49, 64, 65, 48, 33, 32, 16, 34, 1, 39, 9, 17, 0, 18, 22, 2, 30, 78, 56, 8], 'smote': True}</td>\n",
              "      <td>{'model_name': 'RandomForestClassifier', 'params': \"{'max_depth': 3, 'min_samples_leaf': 6, 'n_estimators': 160, 'random_state': 42}\"}</td>\n",
              "    </tr>\n",
              "    <tr>\n",
              "      <th>49</th>\n",
              "      <td>bafkreibakxj5q2mdohrk7lgqztylzkmxx2hz3wsjuq4p4un2lasthhpjsq</td>\n",
              "      <td>0.847619</td>\n",
              "      <td>BorrowPrediction</td>\n",
              "      <td>5_21</td>\n",
              "      <td>{'ss': 'bafkreiezar4apmprshcdmvefrfcfrhxg7scf76nj2kc37amowke7x7rb5y', 'le': 'bafkreibzscgshq42slwii4ney54sqv75mixfzzmq3hyhonqzfzbauwu4hy'}</td>\n",
              "      <td>{'stratify': False, 'filter_cols': [49, 64, 65, 48, 33, 32, 16, 34, 1, 39, 9, 17, 0, 18, 22, 2, 30, 78, 56, 8], 'smote': True}</td>\n",
              "      <td>{'model_name': 'RandomForestClassifier', 'params': \"{'max_depth': 3, 'min_samples_leaf': 12, 'n_estimators': 40, 'random_state': 42}\"}</td>\n",
              "    </tr>\n",
              "    <tr>\n",
              "      <th>40</th>\n",
              "      <td>bafybeidqs5ay7o65kv4tubwiagsxveuo2thvnf63wdbvaxehsddtesikju</td>\n",
              "      <td>0.828571</td>\n",
              "      <td>BorrowPrediction</td>\n",
              "      <td>5_21</td>\n",
              "      <td>{'ss': 'bafkreiezar4apmprshcdmvefrfcfrhxg7scf76nj2kc37amowke7x7rb5y', 'le': 'bafkreibzscgshq42slwii4ney54sqv75mixfzzmq3hyhonqzfzbauwu4hy'}</td>\n",
              "      <td>{'stratify': False, 'filter_cols': [49, 64, 65, 48, 33, 32, 16, 34, 1, 39, 9, 17, 0, 18, 22, 2, 30, 78, 56, 8], 'smote': True}</td>\n",
              "      <td>{'model_name': 'RandomForestClassifier', 'params': \"{'max_depth': 3, 'min_samples_leaf': 1, 'n_estimators': 230, 'random_state': 42}\"}</td>\n",
              "    </tr>\n",
              "    <tr>\n",
              "      <th>43</th>\n",
              "      <td>bafkreig4imelb7zvtcxv7o6zgvvuq3nyzkwf6gwjpls65ezqvbgpdppit4</td>\n",
              "      <td>0.819048</td>\n",
              "      <td>BorrowPrediction</td>\n",
              "      <td>5_21</td>\n",
              "      <td>{'ss': 'bafkreiezar4apmprshcdmvefrfcfrhxg7scf76nj2kc37amowke7x7rb5y', 'le': 'bafkreibzscgshq42slwii4ney54sqv75mixfzzmq3hyhonqzfzbauwu4hy'}</td>\n",
              "      <td>{'stratify': False, 'filter_cols': [49, 64, 65, 48, 33, 32, 16, 34, 1, 39, 9, 17, 0, 18, 22, 2, 30, 78, 56, 8], 'smote': True}</td>\n",
              "      <td>{'model_name': 'RandomForestClassifier', 'params': \"{'max_depth': 3, 'min_samples_leaf': 9, 'n_estimators': 40, 'random_state': 42}\"}</td>\n",
              "    </tr>\n",
              "    <tr>\n",
              "      <th>47</th>\n",
              "      <td>bafkreicbt6vjs4qyb5hvclrga4joemdq3jkksuq2k4cno43ijxuu26kqhm</td>\n",
              "      <td>0.800000</td>\n",
              "      <td>BorrowPrediction</td>\n",
              "      <td>5_21</td>\n",
              "      <td>{'ss': 'bafkreiezar4apmprshcdmvefrfcfrhxg7scf76nj2kc37amowke7x7rb5y', 'le': 'bafkreibzscgshq42slwii4ney54sqv75mixfzzmq3hyhonqzfzbauwu4hy'}</td>\n",
              "      <td>{'stratify': False, 'filter_cols': [49, 64, 65, 48, 33, 32, 16, 34, 1, 39, 9, 17, 0, 18, 22, 2, 30, 78, 56, 8], 'smote': True}</td>\n",
              "      <td>{'model_name': 'RandomForestClassifier', 'params': \"{'max_depth': 3, 'min_samples_leaf': 1, 'n_estimators': 150, 'random_state': 42}\"}</td>\n",
              "    </tr>\n",
              "    <tr>\n",
              "      <th>51</th>\n",
              "      <td>bafkreigtjnzjikovjxc25kuv3pcsjmwnemsxrl6kc4esapeccadkqb3ko4</td>\n",
              "      <td>0.666667</td>\n",
              "      <td>BorrowPrediction</td>\n",
              "      <td>5_21</td>\n",
              "      <td>{'ss': 'bafkreiezar4apmprshcdmvefrfcfrhxg7scf76nj2kc37amowke7x7rb5y', 'le': 'bafkreibzscgshq42slwii4ney54sqv75mixfzzmq3hyhonqzfzbauwu4hy'}</td>\n",
              "      <td>{'stratify': False, 'filter_cols': [49, 64, 65, 48, 33, 32, 16, 34, 1, 39, 9, 17, 0, 18, 22, 2, 30, 78, 56, 8], 'smote': True}</td>\n",
              "      <td>{'model_name': 'RandomForestClassifier', 'params': \"{'max_depth': 3, 'min_samples_leaf': 1, 'n_estimators': 40, 'random_state': 42}\"}</td>\n",
              "    </tr>\n",
              "    <tr>\n",
              "      <th>19</th>\n",
              "      <td>bafkreidvfhec2jw26oljeh7dn4le2hcrq3bdzryzu3ijw3qqw4trkxpmt4</td>\n",
              "      <td>0.523810</td>\n",
              "      <td>BorrowPrediction</td>\n",
              "      <td>5_21</td>\n",
              "      <td>{'ss': 'bafkreiezar4apmprshcdmvefrfcfrhxg7scf76nj2kc37amowke7x7rb5y', 'le': 'bafkreibzscgshq42slwii4ney54sqv75mixfzzmq3hyhonqzfzbauwu4hy'}</td>\n",
              "      <td>{'stratify': False, 'filter_cols': [49, 64, 65, 48, 33, 32, 16, 34, 1, 39, 9, 17, 0, 18, 22, 2, 30, 78, 56, 8], 'smote': True}</td>\n",
              "      <td>{'model_name': 'DecisionTreeClassifier', 'params': \"{'random_state': 42}\"}</td>\n",
              "    </tr>\n",
              "    <tr>\n",
              "      <th>3</th>\n",
              "      <td>bafkreidt2ggahtfsv5hppqhp3xz66zr6ss7xxtrg6bmgh3qkdmr5c2us3a</td>\n",
              "      <td>0.523810</td>\n",
              "      <td>BorrowPrediction</td>\n",
              "      <td>5_21</td>\n",
              "      <td>{'ss': 'bafkreicyevoea22ifxgpvdq7rayevzcjsopq5ckwtzuupehlyb75fbx5da', 'le': 'bafkreieuvvvasey2pfie52ot53p2e5ps224skgesi7ronv4g73lbfhf5hm'}</td>\n",
              "      <td>{'stratify': False, 'filter_cols': None, 'smote': False}</td>\n",
              "      <td>{'model_name': 'DecisionTreeClassifier', 'params': \"{'random_state': 42}\"}</td>\n",
              "    </tr>\n",
              "    <tr>\n",
              "      <th>45</th>\n",
              "      <td>bafybeicv5gvfuhlggmctb7zhnzehh3i2hoaz62odfdhxoe3pvoclkonkwu</td>\n",
              "      <td>0.523810</td>\n",
              "      <td>BorrowPrediction</td>\n",
              "      <td>5_21</td>\n",
              "      <td>{'ss': 'bafkreiezar4apmprshcdmvefrfcfrhxg7scf76nj2kc37amowke7x7rb5y', 'le': 'bafkreibzscgshq42slwii4ney54sqv75mixfzzmq3hyhonqzfzbauwu4hy'}</td>\n",
              "      <td>{'stratify': False, 'filter_cols': [49, 64, 65, 48, 33, 32, 16, 34, 1, 39, 9, 17, 0, 18, 22, 2, 30, 78, 56, 8], 'smote': True}</td>\n",
              "      <td>{'model_name': 'DecisionTreeClassifier', 'params': \"{'random_state': 42}\"}</td>\n",
              "    </tr>\n",
              "    <tr>\n",
              "      <th>15</th>\n",
              "      <td>bafkreiapfdinusxz3fqudivf3bxu74zve4b5rqrsa5t3kdbuvbb44jyajq</td>\n",
              "      <td>0.523810</td>\n",
              "      <td>BorrowPrediction</td>\n",
              "      <td>5_21</td>\n",
              "      <td>{'ss': 'bafkreidq7vsjbv5affqeyf3elvnokdefxqzzfvnsrsd4qyfiauwa4askni', 'le': 'bafkreielx2nvilkrixh32a4p4zbpfeyqt7n74zqw4i6t5wcjczc2algiru'}</td>\n",
              "      <td>{'stratify': False, 'filter_cols': [49, 64, 65, 48, 33, 32, 16, 34, 1, 39, 9, 17, 0, 18, 22, 2, 30, 78, 56, 8], 'smote': True}</td>\n",
              "      <td>{'model_name': 'DecisionTreeClassifier', 'params': \"{'random_state': 42}\"}</td>\n",
              "    </tr>\n",
              "    <tr>\n",
              "      <th>12</th>\n",
              "      <td>bafkreicjjddtme2v62fq4kqs6obtqpac56nzfzhsuak5olvnrvtiewsmwy</td>\n",
              "      <td>0.523810</td>\n",
              "      <td>BorrowPrediction</td>\n",
              "      <td>5_21</td>\n",
              "      <td>{'ss': 'bafkreignw4jcp7qjbckd6zwtyspa7jsgjmedjdthsyhcvq4mvok52m44t4', 'le': 'bafkreienikmd42ooxie3a3bl2ajp3fdnighplgopuvln53omdybbxfgrxm'}</td>\n",
              "      <td>{'stratify': False, 'filter_cols': [49, 64, 65, 48, 33, 32, 16, 34, 1, 39, 9, 17, 0, 18, 22, 2, 30, 78, 56, 8], 'smote': True}</td>\n",
              "      <td>{'model_name': 'DecisionTreeClassifier', 'params': \"{'random_state': 42}\"}</td>\n",
              "    </tr>\n",
              "    <tr>\n",
              "      <th>44</th>\n",
              "      <td>bafkreibvawi7fkt35g44zbdyyolzhqfrdb63z2ipmku3bywer3bbsslvlm</td>\n",
              "      <td>0.523810</td>\n",
              "      <td>BorrowPrediction</td>\n",
              "      <td>5_21</td>\n",
              "      <td>{'ss': 'bafkreiezar4apmprshcdmvefrfcfrhxg7scf76nj2kc37amowke7x7rb5y', 'le': 'bafkreibzscgshq42slwii4ney54sqv75mixfzzmq3hyhonqzfzbauwu4hy'}</td>\n",
              "      <td>{'stratify': False, 'filter_cols': [49, 64, 65, 48, 33, 32, 16, 34, 1, 39, 9, 17, 0, 18, 22, 2, 30, 78, 56, 8], 'smote': True}</td>\n",
              "      <td>{'model_name': 'DecisionTreeClassifier', 'params': \"{'random_state': 42}\"}</td>\n",
              "    </tr>\n",
              "    <tr>\n",
              "      <th>7</th>\n",
              "      <td>bafkreihgxuoyqz2a5qhtsy5vxr7th467g47ie34me7dakatqwh4in77qlm</td>\n",
              "      <td>0.523810</td>\n",
              "      <td>BorrowPrediction</td>\n",
              "      <td>5_21</td>\n",
              "      <td>{'ss': 'bafkreia7zazf3kgy4tki4gheeve4b7kfdablkhsxmbvxcpcdo3aeturjzy', 'le': 'bafkreia7cnu4gjorb6pvutiugh33uxw74zoh4wfv7ut7ihyht6upyvfq5a'}</td>\n",
              "      <td>{'stratify': False, 'filter_cols': [49, 64, 65, 48, 33, 32, 16, 34, 1, 39, 9, 17, 0, 18, 22, 2, 30, 78, 56, 8], 'smote': True}</td>\n",
              "      <td>{'model_name': 'DecisionTreeClassifier', 'params': \"{'random_state': 42}\"}</td>\n",
              "    </tr>\n",
              "    <tr>\n",
              "      <th>6</th>\n",
              "      <td>bafkreiesiy4uku6m6fq52bfghpwcvm3spj6difhvt432kreuihage6ek6i</td>\n",
              "      <td>0.523810</td>\n",
              "      <td>BorrowPrediction</td>\n",
              "      <td>5_21</td>\n",
              "      <td>{'ss': 'bafkreibh4otv3mfpicn5kdsqwdlfw7qmr7hqussepchivxeutdmlvskyya', 'le': 'bafkreiagzsunf4l2oy3f7bak3uvn723i7frfpuaqpnce5oxy22n2yjjwny'}</td>\n",
              "      <td>{'stratify': True, 'filter_cols': [49, 64, 65, 48, 33, 32, 16, 34, 1, 39, 9, 17, 0, 18, 22, 2, 30, 78, 56, 8], 'smote': False}</td>\n",
              "      <td>{'model_name': 'DecisionTreeClassifier', 'params': \"{'random_state': 42}\"}</td>\n",
              "    </tr>\n",
              "    <tr>\n",
              "      <th>1</th>\n",
              "      <td>bafkreiamkgjyymw6sksax633rl36t3vayizrabjblr5ich5lnytyvdaz5q</td>\n",
              "      <td>0.523810</td>\n",
              "      <td>BorrowPrediction</td>\n",
              "      <td>5_21</td>\n",
              "      <td>{'ss': 'bafkreigk2wyls7liuicm5ohup67ndij6bvacpx4ms32flnotpat7lo2pgy', 'le': 'bafkreifle6qy2urzzg46hpmdlfdw5p4gjq7hnjfykyl2mfytegczntno4m'}</td>\n",
              "      <td>{'stratify': False, 'filter_cols': None, 'smote': False}</td>\n",
              "      <td>{'model_name': 'DecisionTreeClassifier', 'params': \"{'random_state': 42}\"}</td>\n",
              "    </tr>\n",
              "  </tbody>\n",
              "</table>\n",
              "</div>\n",
              "      <button class=\"colab-df-convert\" onclick=\"convertToInteractive('df-83ad33cb-aea9-4372-8989-ebee2ee0ffc8')\"\n",
              "              title=\"Convert this dataframe to an interactive table.\"\n",
              "              style=\"display:none;\">\n",
              "        \n",
              "  <svg xmlns=\"http://www.w3.org/2000/svg\" height=\"24px\"viewBox=\"0 0 24 24\"\n",
              "       width=\"24px\">\n",
              "    <path d=\"M0 0h24v24H0V0z\" fill=\"none\"/>\n",
              "    <path d=\"M18.56 5.44l.94 2.06.94-2.06 2.06-.94-2.06-.94-.94-2.06-.94 2.06-2.06.94zm-11 1L8.5 8.5l.94-2.06 2.06-.94-2.06-.94L8.5 2.5l-.94 2.06-2.06.94zm10 10l.94 2.06.94-2.06 2.06-.94-2.06-.94-.94-2.06-.94 2.06-2.06.94z\"/><path d=\"M17.41 7.96l-1.37-1.37c-.4-.4-.92-.59-1.43-.59-.52 0-1.04.2-1.43.59L10.3 9.45l-7.72 7.72c-.78.78-.78 2.05 0 2.83L4 21.41c.39.39.9.59 1.41.59.51 0 1.02-.2 1.41-.59l7.78-7.78 2.81-2.81c.8-.78.8-2.07 0-2.86zM5.41 20L4 18.59l7.72-7.72 1.47 1.35L5.41 20z\"/>\n",
              "  </svg>\n",
              "      </button>\n",
              "      \n",
              "  <style>\n",
              "    .colab-df-container {\n",
              "      display:flex;\n",
              "      flex-wrap:wrap;\n",
              "      gap: 12px;\n",
              "    }\n",
              "\n",
              "    .colab-df-convert {\n",
              "      background-color: #E8F0FE;\n",
              "      border: none;\n",
              "      border-radius: 50%;\n",
              "      cursor: pointer;\n",
              "      display: none;\n",
              "      fill: #1967D2;\n",
              "      height: 32px;\n",
              "      padding: 0 0 0 0;\n",
              "      width: 32px;\n",
              "    }\n",
              "\n",
              "    .colab-df-convert:hover {\n",
              "      background-color: #E2EBFA;\n",
              "      box-shadow: 0px 1px 2px rgba(60, 64, 67, 0.3), 0px 1px 3px 1px rgba(60, 64, 67, 0.15);\n",
              "      fill: #174EA6;\n",
              "    }\n",
              "\n",
              "    [theme=dark] .colab-df-convert {\n",
              "      background-color: #3B4455;\n",
              "      fill: #D2E3FC;\n",
              "    }\n",
              "\n",
              "    [theme=dark] .colab-df-convert:hover {\n",
              "      background-color: #434B5C;\n",
              "      box-shadow: 0px 1px 3px 1px rgba(0, 0, 0, 0.15);\n",
              "      filter: drop-shadow(0px 1px 2px rgba(0, 0, 0, 0.3));\n",
              "      fill: #FFFFFF;\n",
              "    }\n",
              "  </style>\n",
              "\n",
              "      <script>\n",
              "        const buttonEl =\n",
              "          document.querySelector('#df-83ad33cb-aea9-4372-8989-ebee2ee0ffc8 button.colab-df-convert');\n",
              "        buttonEl.style.display =\n",
              "          google.colab.kernel.accessAllowed ? 'block' : 'none';\n",
              "\n",
              "        async function convertToInteractive(key) {\n",
              "          const element = document.querySelector('#df-83ad33cb-aea9-4372-8989-ebee2ee0ffc8');\n",
              "          const dataTable =\n",
              "            await google.colab.kernel.invokeFunction('convertToInteractive',\n",
              "                                                     [key], {});\n",
              "          if (!dataTable) return;\n",
              "\n",
              "          const docLinkHtml = 'Like what you see? Visit the ' +\n",
              "            '<a target=\"_blank\" href=https://colab.research.google.com/notebooks/data_table.ipynb>data table notebook</a>'\n",
              "            + ' to learn more about interactive tables.';\n",
              "          element.innerHTML = '';\n",
              "          dataTable['output_type'] = 'display_data';\n",
              "          await google.colab.output.renderOutput(dataTable, element);\n",
              "          const docLink = document.createElement('div');\n",
              "          docLink.innerHTML = docLinkHtml;\n",
              "          element.appendChild(docLink);\n",
              "        }\n",
              "      </script>\n",
              "    </div>\n",
              "  </div>\n",
              "  "
            ]
          },
          "metadata": {},
          "execution_count": 76
        }
      ]
    },
    {
      "cell_type": "code",
      "source": [
        "w = df_pinatastorage[[\"ipfs_pin_hash\",\"keyvalues_scalerLabelEncoder\",\"keyvalues_datasetTraining\"]].to_numpy().tolist()"
      ],
      "metadata": {
        "id": "BEv18rkA1XJc"
      },
      "execution_count": null,
      "outputs": []
    },
    {
      "cell_type": "code",
      "source": [
        "for model, le,dataattr in [tuple(r) for r in w]:\n",
        "\n",
        "    print(model,le,dataattr)"
      ],
      "metadata": {
        "id": "RwlGcKjG1nRf"
      },
      "execution_count": null,
      "outputs": []
    },
    {
      "cell_type": "code",
      "source": [
        "df_pinatastorage.to_csv(\"5_14_models.csv\",index=False)"
      ],
      "metadata": {
        "id": "97Dz3ojM0jQM"
      },
      "execution_count": null,
      "outputs": []
    },
    {
      "cell_type": "markdown",
      "source": [
        "## Trained On Dates"
      ],
      "metadata": {
        "id": "UCTdv5dJJBXb"
      }
    },
    {
      "cell_type": "code",
      "source": [
        "import matplotlib.pyplot as plt\n",
        "import seaborn as sns"
      ],
      "metadata": {
        "id": "x06GrrY0O-z5"
      },
      "execution_count": null,
      "outputs": []
    },
    {
      "cell_type": "code",
      "source": [
        "\n",
        "fig, ax = plt.subplots(nrows=3,ncols=2,constrained_layout = True)\n",
        "plt.rcParams[\"figure.figsize\"] = (10,10)\n",
        "\n",
        "for i,tw in enumerate([7,14,21]):\n",
        "\n",
        "\n",
        "    X,y = get_tabpandas_multi(df_train, 5, tw, inference=True)\n",
        "\n",
        "    classes,count = np.unique(y,return_counts=True)\n",
        "\n",
        "    _ = ax[i][0].bar(x=classes,height=count)\n",
        "\n",
        "    ax[i][0].title.set_text(f\"Train Classification 5-{tw}\")\n",
        "\n",
        "    X,y = get_tabpandas_multi(df_predict, 5, tw, inference=True)\n",
        "\n",
        "    classes,count = np.unique(y,return_counts=True)\n",
        "\n",
        "    _ = ax[i][1].bar(x=classes,height=count)\n",
        "\n",
        "    ax[i][1].title.set_text(f\"Unseen Classification 5-{tw}\")\n",
        "\n",
        "    \n",
        "    \n"
      ],
      "metadata": {
        "id": "e-_l3nGBYMvJ"
      },
      "execution_count": null,
      "outputs": []
    },
    {
      "cell_type": "markdown",
      "metadata": {
        "id": "aDM3KlJgH8Fm"
      },
      "source": [
        "## Save Models"
      ]
    }
  ],
  "metadata": {
    "colab": {
      "background_execution": "on",
      "collapsed_sections": [],
      "machine_shape": "hm",
      "name": "Refactored_arshy_compoundV2_data_daily_v2_VGStrategy_Modeling_Analysis.ipynb",
      "provenance": [],
      "toc_visible": true
    },
    "kernelspec": {
      "display_name": "Python 3",
      "name": "python3"
    },
    "language_info": {
      "name": "python"
    }
  },
  "nbformat": 4,
  "nbformat_minor": 0
}