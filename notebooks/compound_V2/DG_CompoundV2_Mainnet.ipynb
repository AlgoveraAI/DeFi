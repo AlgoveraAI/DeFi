{
  "nbformat": 4,
  "nbformat_minor": 0,
  "metadata": {
    "colab": {
      "name": "DG_CompoundV2_Mainnet.ipynb",
      "provenance": [],
      "collapsed_sections": [],
      "machine_shape": "hm",
      "background_execution": "on"
    },
    "kernelspec": {
      "name": "python3",
      "display_name": "Python 3"
    },
    "language_info": {
      "name": "python"
    }
  },
  "cells": [
    {
      "cell_type": "markdown",
      "source": [
        "# Compound Subgraphs\n",
        "https://github.com/graphprotocol/compound-V2-subgraph"
      ],
      "metadata": {
        "id": "FkXIgogoFLUV"
      }
    },
    {
      "cell_type": "markdown",
      "source": [
        "# Imports"
      ],
      "metadata": {
        "id": "ZKAwY38TFcZ7"
      }
    },
    {
      "cell_type": "code",
      "execution_count": 1,
      "metadata": {
        "colab": {
          "base_uri": "https://localhost:8080/"
        },
        "id": "vwp81UQ9YKS6",
        "outputId": "3e864c2c-e67d-4a9c-f272-e431f854a2bb"
      },
      "outputs": [
        {
          "output_type": "stream",
          "name": "stdout",
          "text": [
            "Mounted at /content/drive\n"
          ]
        }
      ],
      "source": [
        "from google.colab import drive\n",
        "drive.mount('/content/drive')"
      ]
    },
    {
      "cell_type": "code",
      "source": [
        "from pathlib import Path\n",
        "\n",
        "path = Path('/content/drive/MyDrive/colab_notebooks/algovera/defi')"
      ],
      "metadata": {
        "id": "FzWyM0uvYWBq"
      },
      "execution_count": 2,
      "outputs": []
    },
    {
      "cell_type": "code",
      "source": [
        "import json\n",
        "\n",
        "with open(path/\"DataGathering/creds.json\") as f:\n",
        "\n",
        "\n",
        "    creds = json.loads(f.read())[\"ethkey\"]"
      ],
      "metadata": {
        "id": "UlEH62oCYZfd"
      },
      "execution_count": 3,
      "outputs": []
    },
    {
      "cell_type": "markdown",
      "source": [
        "# API Calls"
      ],
      "metadata": {
        "id": "elyfsk03FR3g"
      }
    },
    {
      "cell_type": "code",
      "source": [
        "import json\n",
        "from datetime import datetime, timedelta, timezone\n",
        "from tqdm import tqdm\n",
        "import pandas as pd\n",
        "import requests\n",
        "from requests.adapters import HTTPAdapter\n",
        "from urllib3.util.retry import Retry\n",
        "\n",
        "\n",
        "# Turn timestamp into block number\n",
        "def get_block(s: requests.Session, timestamp: int) -> str:\n",
        "    ETHERSCAN_KEY = ''\n",
        "    ETHERSCAN_KEY_API_URL = f'https://api.etherscan.io/api?module=block&action=getblocknobytime&timestamp={timestamp}&closest=before&apikey={creds}'\n",
        "\n",
        "    block_response = s.request('GET', ETHERSCAN_KEY_API_URL)\n",
        "    block = block_response.json()['result']\n",
        "\n",
        "    return block\n",
        "\n",
        "#https://api.thegraph.com/subgraphs/name/graphprotocol/compound-v2\n",
        "\n",
        "def query_compound_subgraph(dt):\n",
        "\n",
        "    compoundV2_api_url = 'https://api.thegraph.com/subgraphs/name/graphprotocol/compound-v2'\n",
        "\n",
        "    retries = Retry(total=5, backoff_factor=2, status_forcelist=[429, 502, 503, 504])\n",
        "    s = requests.Session()\n",
        "    s.mount('https://', HTTPAdapter(max_retries=retries))\n",
        "    headers = {'Content-Type': 'application/json', 'Accept': 'application/json'}\n",
        "\n",
        "\n",
        "    block = get_block(s, int(dt))\n",
        "    body_Compound = {\n",
        "        \"query\": \"{ markets (first: 100,block: {number: %s})  { id borrowRate cash collateralFactor exchangeRate interestRateModelAddress name\"\\\n",
        "                    \" reserves supplyRate  symbol totalBorrows totalSupply underlyingAddress underlyingName underlyingPrice underlyingSymbol reserveFactor  underlyingPriceUSD}}\" % block}\n",
        "    \n",
        "    \n",
        "    \n",
        "    compound_json_file = json.dumps(body_Compound)\n",
        "    response = s.request('POST', compoundV2_api_url, headers=headers, data=compound_json_file)\n",
        "\n",
        "    return response\n"
      ],
      "metadata": {
        "id": "H6f_4NkYZLfT"
      },
      "execution_count": 4,
      "outputs": []
    },
    {
      "cell_type": "markdown",
      "source": [
        "# Time Range"
      ],
      "metadata": {
        "id": "sm0PMQalFUYD"
      }
    },
    {
      "cell_type": "code",
      "source": [
        "t = int(datetime.timestamp(datetime.now()));t"
      ],
      "metadata": {
        "id": "UKNyXdGm7o-_",
        "colab": {
          "base_uri": "https://localhost:8080/"
        },
        "outputId": "4b3256a3-b740-4c79-ae1c-d6d15fc2c17e"
      },
      "execution_count": 43,
      "outputs": [
        {
          "output_type": "execute_result",
          "data": {
            "text/plain": [
              "1655885321"
            ]
          },
          "metadata": {},
          "execution_count": 43
        }
      ]
    },
    {
      "cell_type": "code",
      "source": [
        "date = datetime.fromtimestamp(1652208200, tz=timezone.utc)\n",
        "end_date = datetime.fromtimestamp(t, tz=timezone.utc)\n",
        "\n",
        "dates = pd.date_range(date,end_date,freq=\"30T\")\n",
        "\n",
        "timestamps = [pd.Timestamp(d).timestamp() for d in dates]"
      ],
      "metadata": {
        "id": "xhH_1e71buYL"
      },
      "execution_count": 18,
      "outputs": []
    },
    {
      "cell_type": "code",
      "source": [
        "len(timestamps)"
      ],
      "metadata": {
        "colab": {
          "base_uri": "https://localhost:8080/"
        },
        "id": "Q3l5GPFVJcPb",
        "outputId": "edab7450-37ba-4b7c-ee0d-bd31250a2f1f"
      },
      "execution_count": 19,
      "outputs": [
        {
          "output_type": "execute_result",
          "data": {
            "text/plain": [
              "2041"
            ]
          },
          "metadata": {},
          "execution_count": 19
        }
      ]
    },
    {
      "cell_type": "code",
      "source": [
        "1652208200 - 1655885321"
      ],
      "metadata": {
        "colab": {
          "base_uri": "https://localhost:8080/"
        },
        "id": "RY4p4pgVXnFr",
        "outputId": "8b262fab-f1b3-4888-ded0-5cc969910ebd"
      },
      "execution_count": 44,
      "outputs": [
        {
          "output_type": "execute_result",
          "data": {
            "text/plain": [
              "-3677121"
            ]
          },
          "metadata": {},
          "execution_count": 44
        }
      ]
    },
    {
      "cell_type": "markdown",
      "source": [
        "# Main Loop"
      ],
      "metadata": {
        "id": "COpxjQztFXwq"
      }
    },
    {
      "cell_type": "code",
      "source": [
        "def fetch_data(timestamps):\n",
        "\n",
        "    for dt in tqdm(timestamps):\n",
        "\n",
        "        data = list()\n",
        "        kickout = list()\n",
        "\n",
        "        response = query_compound_subgraph(dt)\n",
        "\n",
        "        try:\n",
        "\n",
        "            for token in response.json()['data']['markets']:\n",
        "\n",
        "                    data.append(token)\n",
        "\n",
        "            df = pd.DataFrame(data)\n",
        "\n",
        "            df[\"timestamp\"] = dt\n",
        "            \n",
        "            df.to_csv(path/f\"DataGathering/compoundV2/compound_mainnet_30_May-Current/{int(dt)}_compound.csv\",index=False)\n",
        "\n",
        "        except KeyError:\n",
        "            kickout.append(dt)\n",
        "    \n",
        "    return kickout\n"
      ],
      "metadata": {
        "id": "zkw3l8h0ZoX3"
      },
      "execution_count": 28,
      "outputs": []
    },
    {
      "cell_type": "code",
      "source": [
        "kickout = [True]\n",
        "i = 0\n",
        "while kickout:\n",
        "\n",
        "    if not kickout:\n",
        "        kickout = fetch_data(kickout)\n",
        "    else:\n",
        "        kickout = fetch_data(timestamps)\n",
        "\n",
        "    print(len(kickout))\n",
        "    i+=1"
      ],
      "metadata": {
        "colab": {
          "base_uri": "https://localhost:8080/"
        },
        "id": "ftBUkGyePhX1",
        "outputId": "514b3a5e-8956-488c-b8c6-ca834bedf7b3"
      },
      "execution_count": 41,
      "outputs": [
        {
          "output_type": "stream",
          "name": "stderr",
          "text": [
            "100%|██████████| 2041/2041 [13:15<00:00,  2.56it/s]"
          ]
        },
        {
          "output_type": "stream",
          "name": "stdout",
          "text": [
            "0\n"
          ]
        },
        {
          "output_type": "stream",
          "name": "stderr",
          "text": [
            "\n"
          ]
        }
      ]
    },
    {
      "cell_type": "code",
      "source": [
        "\n",
        "if not kickout:\n",
        "    kickout = fetch_data(timestamps)\n",
        "else:\n",
        "    kickout = fetch_data(kickout)"
      ],
      "metadata": {
        "colab": {
          "base_uri": "https://localhost:8080/"
        },
        "id": "T9zDtwbNRpyc",
        "outputId": "daa1f899-ffe1-4a3e-e29d-531542009580"
      },
      "execution_count": 36,
      "outputs": [
        {
          "output_type": "stream",
          "name": "stderr",
          "text": [
            "100%|██████████| 1/1 [00:00<00:00,  2.84it/s]\n"
          ]
        }
      ]
    },
    {
      "cell_type": "code",
      "source": [
        "df.query('''\n",
        "underlyingAddress == \"0xa0b86991c6218b36c1d19d4a2e9eb0ce3606eb48\" | \\\n",
        "underlyingAddress == \"0x0000000000000000000000000000000000000000\" | underlyingAddress == \"0x6b175474e89094c44da98b954eedeac495271d0f\" | \\\n",
        "underlyingAddress == \"0xdac17f958d2ee523a2206206994597c13d831ec7\"\n",
        "                        '''\n",
        "                        ).reset_index(drop=True).sort_values(\"timestamp\",ascending=True)[[\"underlyingSymbol\",\"totalBorrows\",\"totalSupply\",\"borrowRate\",\"supplyRate\",\"exchangeRate\",\"underlyingPrice\"]]"
      ],
      "metadata": {
        "id": "inJrNAMMQkyh",
        "colab": {
          "base_uri": "https://localhost:8080/",
          "height": 175
        },
        "outputId": "3a688ae7-300b-499e-d302-d6ed7f132f53"
      },
      "execution_count": null,
      "outputs": [
        {
          "output_type": "execute_result",
          "data": {
            "text/plain": [
              "  underlyingSymbol                  totalBorrows           totalSupply  \\\n",
              "0             USDC              426079949.147381  47703642858.55778568   \n",
              "1              ETH       57572.93997566797470515     40124677.54166306   \n",
              "2              DAI  488821681.632796978277185064  38183854787.55375299   \n",
              "3             USDT              364904972.850082  25989755475.98693577   \n",
              "\n",
              "           borrowRate          supplyRate          exchangeRate  \\\n",
              "0  0.0197582075505504  0.0072221551642656     0.022602788095407   \n",
              "1  0.0271453656389184  0.0015530502636288  0.020063515115755748   \n",
              "2   0.029094926128992  0.0143907503493024  0.022000038277155387   \n",
              "3   0.032148406025136  0.0191201201838144    0.0218367573383649   \n",
              "\n",
              "        underlyingPrice  \n",
              "0              0.000485  \n",
              "1                     1  \n",
              "2  0.000486317635483215  \n",
              "3              0.000489  "
            ],
            "text/html": [
              "\n",
              "  <div id=\"df-d69942e2-0fb6-4870-8cf1-ae0dd446a11e\">\n",
              "    <div class=\"colab-df-container\">\n",
              "      <div>\n",
              "<style scoped>\n",
              "    .dataframe tbody tr th:only-of-type {\n",
              "        vertical-align: middle;\n",
              "    }\n",
              "\n",
              "    .dataframe tbody tr th {\n",
              "        vertical-align: top;\n",
              "    }\n",
              "\n",
              "    .dataframe thead th {\n",
              "        text-align: right;\n",
              "    }\n",
              "</style>\n",
              "<table border=\"1\" class=\"dataframe\">\n",
              "  <thead>\n",
              "    <tr style=\"text-align: right;\">\n",
              "      <th></th>\n",
              "      <th>underlyingSymbol</th>\n",
              "      <th>totalBorrows</th>\n",
              "      <th>totalSupply</th>\n",
              "      <th>borrowRate</th>\n",
              "      <th>supplyRate</th>\n",
              "      <th>exchangeRate</th>\n",
              "      <th>underlyingPrice</th>\n",
              "    </tr>\n",
              "  </thead>\n",
              "  <tbody>\n",
              "    <tr>\n",
              "      <th>0</th>\n",
              "      <td>USDC</td>\n",
              "      <td>426079949.147381</td>\n",
              "      <td>47703642858.55778568</td>\n",
              "      <td>0.0197582075505504</td>\n",
              "      <td>0.0072221551642656</td>\n",
              "      <td>0.022602788095407</td>\n",
              "      <td>0.000485</td>\n",
              "    </tr>\n",
              "    <tr>\n",
              "      <th>1</th>\n",
              "      <td>ETH</td>\n",
              "      <td>57572.93997566797470515</td>\n",
              "      <td>40124677.54166306</td>\n",
              "      <td>0.0271453656389184</td>\n",
              "      <td>0.0015530502636288</td>\n",
              "      <td>0.020063515115755748</td>\n",
              "      <td>1</td>\n",
              "    </tr>\n",
              "    <tr>\n",
              "      <th>2</th>\n",
              "      <td>DAI</td>\n",
              "      <td>488821681.632796978277185064</td>\n",
              "      <td>38183854787.55375299</td>\n",
              "      <td>0.029094926128992</td>\n",
              "      <td>0.0143907503493024</td>\n",
              "      <td>0.022000038277155387</td>\n",
              "      <td>0.000486317635483215</td>\n",
              "    </tr>\n",
              "    <tr>\n",
              "      <th>3</th>\n",
              "      <td>USDT</td>\n",
              "      <td>364904972.850082</td>\n",
              "      <td>25989755475.98693577</td>\n",
              "      <td>0.032148406025136</td>\n",
              "      <td>0.0191201201838144</td>\n",
              "      <td>0.0218367573383649</td>\n",
              "      <td>0.000489</td>\n",
              "    </tr>\n",
              "  </tbody>\n",
              "</table>\n",
              "</div>\n",
              "      <button class=\"colab-df-convert\" onclick=\"convertToInteractive('df-d69942e2-0fb6-4870-8cf1-ae0dd446a11e')\"\n",
              "              title=\"Convert this dataframe to an interactive table.\"\n",
              "              style=\"display:none;\">\n",
              "        \n",
              "  <svg xmlns=\"http://www.w3.org/2000/svg\" height=\"24px\"viewBox=\"0 0 24 24\"\n",
              "       width=\"24px\">\n",
              "    <path d=\"M0 0h24v24H0V0z\" fill=\"none\"/>\n",
              "    <path d=\"M18.56 5.44l.94 2.06.94-2.06 2.06-.94-2.06-.94-.94-2.06-.94 2.06-2.06.94zm-11 1L8.5 8.5l.94-2.06 2.06-.94-2.06-.94L8.5 2.5l-.94 2.06-2.06.94zm10 10l.94 2.06.94-2.06 2.06-.94-2.06-.94-.94-2.06-.94 2.06-2.06.94z\"/><path d=\"M17.41 7.96l-1.37-1.37c-.4-.4-.92-.59-1.43-.59-.52 0-1.04.2-1.43.59L10.3 9.45l-7.72 7.72c-.78.78-.78 2.05 0 2.83L4 21.41c.39.39.9.59 1.41.59.51 0 1.02-.2 1.41-.59l7.78-7.78 2.81-2.81c.8-.78.8-2.07 0-2.86zM5.41 20L4 18.59l7.72-7.72 1.47 1.35L5.41 20z\"/>\n",
              "  </svg>\n",
              "      </button>\n",
              "      \n",
              "  <style>\n",
              "    .colab-df-container {\n",
              "      display:flex;\n",
              "      flex-wrap:wrap;\n",
              "      gap: 12px;\n",
              "    }\n",
              "\n",
              "    .colab-df-convert {\n",
              "      background-color: #E8F0FE;\n",
              "      border: none;\n",
              "      border-radius: 50%;\n",
              "      cursor: pointer;\n",
              "      display: none;\n",
              "      fill: #1967D2;\n",
              "      height: 32px;\n",
              "      padding: 0 0 0 0;\n",
              "      width: 32px;\n",
              "    }\n",
              "\n",
              "    .colab-df-convert:hover {\n",
              "      background-color: #E2EBFA;\n",
              "      box-shadow: 0px 1px 2px rgba(60, 64, 67, 0.3), 0px 1px 3px 1px rgba(60, 64, 67, 0.15);\n",
              "      fill: #174EA6;\n",
              "    }\n",
              "\n",
              "    [theme=dark] .colab-df-convert {\n",
              "      background-color: #3B4455;\n",
              "      fill: #D2E3FC;\n",
              "    }\n",
              "\n",
              "    [theme=dark] .colab-df-convert:hover {\n",
              "      background-color: #434B5C;\n",
              "      box-shadow: 0px 1px 3px 1px rgba(0, 0, 0, 0.15);\n",
              "      filter: drop-shadow(0px 1px 2px rgba(0, 0, 0, 0.3));\n",
              "      fill: #FFFFFF;\n",
              "    }\n",
              "  </style>\n",
              "\n",
              "      <script>\n",
              "        const buttonEl =\n",
              "          document.querySelector('#df-d69942e2-0fb6-4870-8cf1-ae0dd446a11e button.colab-df-convert');\n",
              "        buttonEl.style.display =\n",
              "          google.colab.kernel.accessAllowed ? 'block' : 'none';\n",
              "\n",
              "        async function convertToInteractive(key) {\n",
              "          const element = document.querySelector('#df-d69942e2-0fb6-4870-8cf1-ae0dd446a11e');\n",
              "          const dataTable =\n",
              "            await google.colab.kernel.invokeFunction('convertToInteractive',\n",
              "                                                     [key], {});\n",
              "          if (!dataTable) return;\n",
              "\n",
              "          const docLinkHtml = 'Like what you see? Visit the ' +\n",
              "            '<a target=\"_blank\" href=https://colab.research.google.com/notebooks/data_table.ipynb>data table notebook</a>'\n",
              "            + ' to learn more about interactive tables.';\n",
              "          element.innerHTML = '';\n",
              "          dataTable['output_type'] = 'display_data';\n",
              "          await google.colab.output.renderOutput(dataTable, element);\n",
              "          const docLink = document.createElement('div');\n",
              "          docLink.innerHTML = docLinkHtml;\n",
              "          element.appendChild(docLink);\n",
              "        }\n",
              "      </script>\n",
              "    </div>\n",
              "  </div>\n",
              "  "
            ]
          },
          "metadata": {},
          "execution_count": 45
        }
      ]
    },
    {
      "cell_type": "code",
      "source": [
        "f\"{(57572.93997566797470515 * 2068.25):,}\""
      ],
      "metadata": {
        "colab": {
          "base_uri": "https://localhost:8080/",
          "height": 35
        },
        "id": "je6x6Gt08FWf",
        "outputId": "01c68ce3-0b9f-4b11-dcb9-d0a63352c782"
      },
      "execution_count": null,
      "outputs": [
        {
          "output_type": "execute_result",
          "data": {
            "text/plain": [
              "'119,075,233.1046753'"
            ],
            "application/vnd.google.colaboratory.intrinsic+json": {
              "type": "string"
            }
          },
          "metadata": {},
          "execution_count": 55
        }
      ]
    },
    {
      "cell_type": "code",
      "source": [
        ""
      ],
      "metadata": {
        "id": "VO1UZeeI_Ykk"
      },
      "execution_count": null,
      "outputs": []
    }
  ]
}